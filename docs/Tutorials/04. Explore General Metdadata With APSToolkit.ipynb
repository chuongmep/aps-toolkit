{
 "cells": [
  {
   "cell_type": "code",
   "execution_count": 1,
   "metadata": {
    "dotnet_interactive": {
     "language": "csharp"
    },
    "polyglot_notebook": {
     "kernelName": "csharp"
    },
    "vscode": {
     "languageId": "polyglot-notebook"
    }
   },
   "outputs": [
    {
     "data": {
      "text/html": [
       "<div><div></div><div></div><div><strong>Installed Packages</strong><ul><li><span>APSToolkit, 1.0.5</span></li></ul></div></div>"
      ]
     },
     "metadata": {},
     "output_type": "display_data"
    },
    {
     "data": {
      "text/plain": [
       "Loading extensions from `C:\\Users\\vho2\\.nuget\\packages\\microsoft.data.analysis\\0.21.1\\interactive-extensions\\dotnet\\Microsoft.Data.Analysis.Interactive.dll`"
      ]
     },
     "metadata": {},
     "output_type": "display_data"
    }
   ],
   "source": [
    "#r \"nuget:APSToolkit\""
   ]
  },
  {
   "cell_type": "code",
   "execution_count": 2,
   "metadata": {
    "dotnet_interactive": {
     "language": "csharp"
    },
    "polyglot_notebook": {
     "kernelName": "csharp"
    },
    "vscode": {
     "languageId": "polyglot-notebook"
    }
   },
   "outputs": [],
   "source": [
    "using APSToolkit;"
   ]
  },
  {
   "cell_type": "markdown",
   "metadata": {},
   "source": [
    "## Auth"
   ]
  },
  {
   "cell_type": "code",
   "execution_count": 3,
   "metadata": {
    "dotnet_interactive": {
     "language": "csharp"
    },
    "polyglot_notebook": {
     "kernelName": "csharp"
    },
    "vscode": {
     "languageId": "polyglot-notebook"
    }
   },
   "outputs": [],
   "source": [
    "using APSToolkit.Auth;\n",
    "var token = Authentication.Get2LeggedToken().Result;"
   ]
  },
  {
   "cell_type": "markdown",
   "metadata": {},
   "source": [
    "### URN"
   ]
  },
  {
   "cell_type": "markdown",
   "metadata": {},
   "source": [
    "Please see how to get URN at:\n",
    "\n",
    "- [03. Explore Versions Item and Derivative URN.ipynb](./03.%20Explore%20Versions%20Item%20and%20Derivative%20Urn.ipynb)"
   ]
  },
  {
   "cell_type": "code",
   "execution_count": 22,
   "metadata": {
    "dotnet_interactive": {
     "language": "csharp"
    },
    "polyglot_notebook": {
     "kernelName": "csharp"
    },
    "vscode": {
     "languageId": "polyglot-notebook"
    }
   },
   "outputs": [],
   "source": [
    "string urn = \"dXJuOmFkc2sud2lwcHJvZDpmcy5maWxlOnZmLk9kOHR4RGJLU1NlbFRvVmcxb2MxVkE_dmVyc2lvbj0z\";"
   ]
  },
  {
   "cell_type": "markdown",
   "metadata": {},
   "source": [
    "## Metadata"
   ]
  },
  {
   "cell_type": "markdown",
   "metadata": {},
   "source": [
    "In this notebook, we able to get all metadata from the item in ACC ot bucket storage"
   ]
  },
  {
   "cell_type": "code",
   "execution_count": 4,
   "metadata": {
    "dotnet_interactive": {
     "language": "csharp"
    },
    "polyglot_notebook": {
     "kernelName": "csharp"
    },
    "vscode": {
     "languageId": "polyglot-notebook"
    }
   },
   "outputs": [],
   "source": [
    "using APSToolkit.Database;\n",
    "var PropDbReader = new PropDbReader(urn, token);"
   ]
  },
  {
   "cell_type": "markdown",
   "metadata": {},
   "source": [
    "#### Get Properties from DbId"
   ]
  },
  {
   "cell_type": "markdown",
   "metadata": {},
   "source": [
    "DBID in Autodesk Forge refers to the Database ID. It's a unique identifier assigned to each object (like components or elements) in a model when it's translated into the viewer format by the Autodesk Forge Model Derivative service.\n",
    "\n",
    "When you load a model into the Forge Viewer, you can use these DBIDs to interact with specific objects in the model. For example, you can select, isolate, hide objects, or get properties of an object using its DBID. \n",
    "\n",
    "It's important to note that DBIDs are not persistent across different versions of the same model. If the model is updated and re-translated, the DBIDs may change."
   ]
  },
  {
   "cell_type": "code",
   "execution_count": 5,
   "metadata": {
    "dotnet_interactive": {
     "language": "csharp"
    },
    "polyglot_notebook": {
     "kernelName": "csharp"
    },
    "vscode": {
     "languageId": "polyglot-notebook"
    }
   },
   "outputs": [
    {
     "data": {
      "text/html": [
       "<table><thead><tr><th><i>key</i></th><th>value</th></tr></thead><tbody><tr><td><div class=\"dni-plaintext\"><pre>name</pre></div></td><td><div class=\"dni-plaintext\"><pre>Model</pre></div></td></tr><tr><td><div class=\"dni-plaintext\"><pre>schema_name</pre></div></td><td><div class=\"dni-plaintext\"><pre>rvt</pre></div></td></tr><tr><td><div class=\"dni-plaintext\"><pre>schema_version</pre></div></td><td><div class=\"dni-plaintext\"><pre>1.0</pre></div></td></tr><tr><td><div class=\"dni-plaintext\"><pre>is_doc_property</pre></div></td><td><div class=\"dni-plaintext\"><pre>1</pre></div></td></tr><tr><td><div class=\"dni-plaintext\"><pre>Category</pre></div></td><td><div class=\"dni-plaintext\"><pre>Revit Document</pre></div></td></tr><tr><td><div class=\"dni-plaintext\"><pre>Organization Name</pre></div></td><td><div class=\"dni-plaintext\"><pre></pre></div></td></tr><tr><td><div class=\"dni-plaintext\"><pre>Organization Description</pre></div></td><td><div class=\"dni-plaintext\"><pre></pre></div></td></tr><tr><td><div class=\"dni-plaintext\"><pre>Building Name</pre></div></td><td><div class=\"dni-plaintext\"><pre></pre></div></td></tr><tr><td><div class=\"dni-plaintext\"><pre>Author</pre></div></td><td><div class=\"dni-plaintext\"><pre></pre></div></td></tr><tr><td><div class=\"dni-plaintext\"><pre>IfcSite GUID</pre></div></td><td><div class=\"dni-plaintext\"><pre></pre></div></td></tr><tr><td><div class=\"dni-plaintext\"><pre>IfcBuilding GUID</pre></div></td><td><div class=\"dni-plaintext\"><pre></pre></div></td></tr><tr><td><div class=\"dni-plaintext\"><pre>IfcProject GUID</pre></div></td><td><div class=\"dni-plaintext\"><pre></pre></div></td></tr><tr><td><div class=\"dni-plaintext\"><pre>Project Issue Date</pre></div></td><td><div class=\"dni-plaintext\"><pre>Issue Date</pre></div></td></tr><tr><td><div class=\"dni-plaintext\"><pre>Project Status</pre></div></td><td><div class=\"dni-plaintext\"><pre>Project Status</pre></div></td></tr><tr><td><div class=\"dni-plaintext\"><pre>Client Name</pre></div></td><td><div class=\"dni-plaintext\"><pre>Owner</pre></div></td></tr><tr><td><div class=\"dni-plaintext\"><pre>Project Address</pre></div></td><td><div class=\"dni-plaintext\"><pre>Enter address here</pre></div></td></tr><tr><td><div class=\"dni-plaintext\"><pre>Project Name</pre></div></td><td><div class=\"dni-plaintext\"><pre>Project Name</pre></div></td></tr><tr><td><div class=\"dni-plaintext\"><pre>Project Number</pre></div></td><td><div class=\"dni-plaintext\"><pre>Project Number</pre></div></td></tr><tr><td><div class=\"dni-plaintext\"><pre>Workset</pre></div></td><td><div class=\"dni-plaintext\"><pre>Project Info</pre></div></td></tr><tr><td><div class=\"dni-plaintext\"><pre>Edited by</pre></div></td><td><div class=\"dni-plaintext\"><pre></pre></div></td></tr><tr><td colspan=\"2\"><i>(5 more)</i></td></tr></tbody></table><style>\r\n",
       ".dni-code-hint {\r\n",
       "    font-style: italic;\r\n",
       "    overflow: hidden;\r\n",
       "    white-space: nowrap;\r\n",
       "}\r\n",
       ".dni-treeview {\r\n",
       "    white-space: nowrap;\r\n",
       "}\r\n",
       ".dni-treeview td {\r\n",
       "    vertical-align: top;\r\n",
       "    text-align: start;\r\n",
       "}\r\n",
       "details.dni-treeview {\r\n",
       "    padding-left: 1em;\r\n",
       "}\r\n",
       "table td {\r\n",
       "    text-align: start;\r\n",
       "}\r\n",
       "table tr { \r\n",
       "    vertical-align: top; \r\n",
       "    margin: 0em 0px;\r\n",
       "}\r\n",
       "table tr td pre \r\n",
       "{ \r\n",
       "    vertical-align: top !important; \r\n",
       "    margin: 0em 0px !important;\r\n",
       "} \r\n",
       "table th {\r\n",
       "    text-align: start;\r\n",
       "}\r\n",
       "</style>"
      ]
     },
     "metadata": {},
     "output_type": "display_data"
    }
   ],
   "source": [
    "var props = PropDbReader.GetProperties(1);\n",
    "props"
   ]
  },
  {
   "cell_type": "code",
   "execution_count": 6,
   "metadata": {
    "dotnet_interactive": {
     "language": "csharp"
    },
    "polyglot_notebook": {
     "kernelName": "csharp"
    },
    "vscode": {
     "languageId": "polyglot-notebook"
    }
   },
   "outputs": [
    {
     "data": {
      "text/plain": [
       "doc_dfd0e74a-63e9-4c13-86dd-538ce5eb6349"
      ]
     },
     "metadata": {},
     "output_type": "display_data"
    }
   ],
   "source": [
    "var externalId = PropDbReader.GetExternalId(1);\n",
    "externalId"
   ]
  },
  {
   "cell_type": "code",
   "execution_count": 7,
   "metadata": {
    "dotnet_interactive": {
     "language": "csharp"
    },
    "polyglot_notebook": {
     "kernelName": "csharp"
    },
    "vscode": {
     "languageId": "polyglot-notebook"
    }
   },
   "outputs": [
    {
     "data": {
      "text/html": [
       "<div class=\"dni-plaintext\"><pre>[ 2, 3, 4, 5, 6, 7, 8, 9, 10, 11, 12, 13, 14, 15, 16, 17, 18, 19, 20, 21 ... (71 more) ]</pre></div><style>\r\n",
       ".dni-code-hint {\r\n",
       "    font-style: italic;\r\n",
       "    overflow: hidden;\r\n",
       "    white-space: nowrap;\r\n",
       "}\r\n",
       ".dni-treeview {\r\n",
       "    white-space: nowrap;\r\n",
       "}\r\n",
       ".dni-treeview td {\r\n",
       "    vertical-align: top;\r\n",
       "    text-align: start;\r\n",
       "}\r\n",
       "details.dni-treeview {\r\n",
       "    padding-left: 1em;\r\n",
       "}\r\n",
       "table td {\r\n",
       "    text-align: start;\r\n",
       "}\r\n",
       "table tr { \r\n",
       "    vertical-align: top; \r\n",
       "    margin: 0em 0px;\r\n",
       "}\r\n",
       "table tr td pre \r\n",
       "{ \r\n",
       "    vertical-align: top !important; \r\n",
       "    margin: 0em 0px !important;\r\n",
       "} \r\n",
       "table th {\r\n",
       "    text-align: start;\r\n",
       "}\r\n",
       "</style>"
      ]
     },
     "metadata": {},
     "output_type": "display_data"
    }
   ],
   "source": [
    "var child = PropDbReader.GetChildren(1);\n",
    "child"
   ]
  },
  {
   "cell_type": "code",
   "execution_count": 20,
   "metadata": {
    "dotnet_interactive": {
     "language": "csharp"
    },
    "polyglot_notebook": {
     "kernelName": "csharp"
    },
    "vscode": {
     "languageId": "polyglot-notebook"
    }
   },
   "outputs": [
    {
     "data": {
      "text/html": [
       "<div class=\"dni-plaintext\"><pre>[ 3526 ]</pre></div><style>\r\n",
       ".dni-code-hint {\r\n",
       "    font-style: italic;\r\n",
       "    overflow: hidden;\r\n",
       "    white-space: nowrap;\r\n",
       "}\r\n",
       ".dni-treeview {\r\n",
       "    white-space: nowrap;\r\n",
       "}\r\n",
       ".dni-treeview td {\r\n",
       "    vertical-align: top;\r\n",
       "    text-align: start;\r\n",
       "}\r\n",
       "details.dni-treeview {\r\n",
       "    padding-left: 1em;\r\n",
       "}\r\n",
       "table td {\r\n",
       "    text-align: start;\r\n",
       "}\r\n",
       "table tr { \r\n",
       "    vertical-align: top; \r\n",
       "    margin: 0em 0px;\r\n",
       "}\r\n",
       "table tr td pre \r\n",
       "{ \r\n",
       "    vertical-align: top !important; \r\n",
       "    margin: 0em 0px !important;\r\n",
       "} \r\n",
       "table th {\r\n",
       "    text-align: start;\r\n",
       "}\r\n",
       "</style>"
      ]
     },
     "metadata": {},
     "output_type": "display_data"
    }
   ],
   "source": [
    "var instance = PropDbReader.GetInstanceOf(3528);\n",
    "instance"
   ]
  },
  {
   "cell_type": "code",
   "execution_count": 21,
   "metadata": {
    "dotnet_interactive": {
     "language": "csharp"
    },
    "polyglot_notebook": {
     "kernelName": "csharp"
    },
    "vscode": {
     "languageId": "polyglot-notebook"
    }
   },
   "outputs": [
    {
     "data": {
      "text/html": [
       "<div class=\"dni-plaintext\"><pre>[ 1 ]</pre></div><style>\r\n",
       ".dni-code-hint {\r\n",
       "    font-style: italic;\r\n",
       "    overflow: hidden;\r\n",
       "    white-space: nowrap;\r\n",
       "}\r\n",
       ".dni-treeview {\r\n",
       "    white-space: nowrap;\r\n",
       "}\r\n",
       ".dni-treeview td {\r\n",
       "    vertical-align: top;\r\n",
       "    text-align: start;\r\n",
       "}\r\n",
       "details.dni-treeview {\r\n",
       "    padding-left: 1em;\r\n",
       "}\r\n",
       "table td {\r\n",
       "    text-align: start;\r\n",
       "}\r\n",
       "table tr { \r\n",
       "    vertical-align: top; \r\n",
       "    margin: 0em 0px;\r\n",
       "}\r\n",
       "table tr td pre \r\n",
       "{ \r\n",
       "    vertical-align: top !important; \r\n",
       "    margin: 0em 0px !important;\r\n",
       "} \r\n",
       "table th {\r\n",
       "    text-align: start;\r\n",
       "}\r\n",
       "</style>"
      ]
     },
     "metadata": {},
     "output_type": "display_data"
    }
   ],
   "source": [
    "var parrent = PropDbReader.GetParent(10);\n",
    "parrent"
   ]
  },
  {
   "cell_type": "code",
   "execution_count": 9,
   "metadata": {
    "dotnet_interactive": {
     "language": "csharp"
    },
    "polyglot_notebook": {
     "kernelName": "csharp"
    },
    "vscode": {
     "languageId": "polyglot-notebook"
    }
   },
   "outputs": [],
   "source": [
    "using System.Data;\n",
    "using APSToolkit.Utils;\n",
    "var dbId = 1;\n",
    "DataTable dataTable = PropDbReader.GetDataByDbId(dbId);"
   ]
  },
  {
   "cell_type": "code",
   "execution_count": 12,
   "metadata": {
    "dotnet_interactive": {
     "language": "csharp"
    },
    "polyglot_notebook": {
     "kernelName": "csharp"
    },
    "vscode": {
     "languageId": "polyglot-notebook"
    }
   },
   "outputs": [],
   "source": [
    "dataTable.ExportToCsv(\"result.csv\")"
   ]
  }
 ],
 "metadata": {
  "language_info": {
   "name": "python"
  }
 },
 "nbformat": 4,
 "nbformat_minor": 2
}
