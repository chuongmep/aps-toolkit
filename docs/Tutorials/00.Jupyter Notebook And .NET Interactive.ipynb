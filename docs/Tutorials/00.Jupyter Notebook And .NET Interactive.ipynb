{
 "cells": [
  {
   "cell_type": "markdown",
   "metadata": {},
   "source": [
    "## Tutorial \n",
    "- [.NET Interactive is here! | .NET Notebooks Preview 2](https://devblogs.microsoft.com/dotnet/net-interactive-is-here-net-notebooks-preview-2/)\n",
    "- [Using .NET Interactive as a Jupyter kernel](https://github.com/dotnet/interactive/blob/main/docs/NotebookswithJupyter.md)"
   ]
  },
  {
   "cell_type": "markdown",
   "metadata": {},
   "source": [
    "## Introduction"
   ]
  },
  {
   "cell_type": "markdown",
   "metadata": {},
   "source": [
    ".NET Interactive is a group of CLI tools and APIs that enable users to create interactive experiences across the web, markdown, and notebooks such as Jupyter.\n",
    "\n",
    "In the context of Jupyter notebooks, .NET Interactive allows you to use .NET languages like C# and F# for data exploration and interactive scripting. You can write code in cells and execute them in order, and the output is displayed beneath each cell. This is particularly useful for data analysis, machine learning, scientific computing, and tutorial / teaching purposes.\n",
    "\n",
    "To use .NET Interactive with Jupyter notebooks, you need to install the .NET Interactive global tool and then install the .NET kernel for Jupyter. Once installed, you can select the .NET kernel in your Jupyter notebook and start writing .NET code.\n",
    "\n",
    "Here's an example of a simple C# code in a Jupyter notebook cell:\n",
    "\n"
   ]
  },
  {
   "cell_type": "code",
   "execution_count": 3,
   "metadata": {
    "vscode": {
     "languageId": "polyglot-notebook"
    }
   },
   "outputs": [
    {
     "name": "stdout",
     "output_type": "stream",
     "text": [
      "Hello, .NET Interactive!\r\n"
     ]
    }
   ],
   "source": [
    "var helloMessage = \"Hello, .NET Interactive!\";\n",
    "Console.WriteLine(helloMessage);"
   ]
  },
  {
   "cell_type": "markdown",
   "metadata": {},
   "source": [
    "\n",
    "\n",
    "When you run this cell, it will display the message \"Hello, .NET Interactive!\" beneath it."
   ]
  },
  {
   "cell_type": "markdown",
   "metadata": {},
   "source": [
    "## Let's try install nuget APSToolkit"
   ]
  },
  {
   "cell_type": "code",
   "execution_count": 2,
   "metadata": {
    "dotnet_interactive": {
     "language": "csharp"
    },
    "polyglot_notebook": {
     "kernelName": "csharp"
    },
    "vscode": {
     "languageId": "polyglot-notebook"
    }
   },
   "outputs": [
    {
     "data": {
      "text/html": [
       "<div><div></div><div></div><div><strong>Installed Packages</strong><ul><li><span>APSToolkit, 1.0.4</span></li></ul></div></div>"
      ]
     },
     "metadata": {},
     "output_type": "display_data"
    }
   ],
   "source": [
    "#r \"nuget:APSToolkit\""
   ]
  }
 ],
 "metadata": {
  "language_info": {
   "name": "python"
  }
 },
 "nbformat": 4,
 "nbformat_minor": 2
}
