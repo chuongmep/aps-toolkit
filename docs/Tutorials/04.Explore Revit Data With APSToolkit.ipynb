{
 "cells": [
  {
   "cell_type": "code",
   "execution_count": 2,
   "metadata": {
    "dotnet_interactive": {
     "language": "csharp"
    },
    "polyglot_notebook": {
     "kernelName": "csharp"
    }
   },
   "outputs": [
    {
     "data": {
      "text/html": [
       "<div><div></div><div></div><div><strong>Installed Packages</strong><ul><li><span>APSToolkit, 1.0.4</span></li></ul></div></div>"
      ]
     },
     "metadata": {},
     "output_type": "display_data"
    }
   ],
   "source": [
    "#r \"nuget:APSToolkit\""
   ]
  },
  {
   "cell_type": "code",
   "execution_count": 3,
   "metadata": {
    "dotnet_interactive": {
     "language": "csharp"
    },
    "polyglot_notebook": {
     "kernelName": "csharp"
    }
   },
   "outputs": [],
   "source": [
    "using APSToolkit;\n",
    "using Autodesk.Forge;\n",
    "using APSToolkit.Database;"
   ]
  },
  {
   "cell_type": "markdown",
   "metadata": {},
   "source": [
    "## Auth"
   ]
  },
  {
   "cell_type": "code",
   "execution_count": 6,
   "metadata": {
    "dotnet_interactive": {
     "language": "csharp"
    },
    "polyglot_notebook": {
     "kernelName": "csharp"
    }
   },
   "outputs": [],
   "source": [
    "using APSToolkit.Auth;\n",
    "var access_token = Authentication.Get2LeggedToken().Result;"
   ]
  },
  {
   "cell_type": "markdown",
   "metadata": {},
   "source": [
    "## Revit Data "
   ]
  },
  {
   "cell_type": "markdown",
   "metadata": {},
   "source": [
    "#### How to get all categories of Revit Model In ACC ?"
   ]
  },
  {
   "cell_type": "code",
   "execution_count": 8,
   "metadata": {
    "dotnet_interactive": {
     "language": "csharp"
    },
    "polyglot_notebook": {
     "kernelName": "csharp"
    }
   },
   "outputs": [
    {
     "data": {
      "text/html": [
       "<table><thead><tr><th><i>key</i></th><th>value</th></tr></thead><tbody><tr><td><div class=\"dni-plaintext\"><pre>39</pre></div></td><td><div class=\"dni-plaintext\"><pre>Phases</pre></div></td></tr><tr><td><div class=\"dni-plaintext\"><pre>65</pre></div></td><td><div class=\"dni-plaintext\"><pre>Materials</pre></div></td></tr><tr><td><div class=\"dni-plaintext\"><pre>405</pre></div></td><td><div class=\"dni-plaintext\"><pre>Primary Contours</pre></div></td></tr><tr><td><div class=\"dni-plaintext\"><pre>407</pre></div></td><td><div class=\"dni-plaintext\"><pre>Area Schemes</pre></div></td></tr><tr><td><div class=\"dni-plaintext\"><pre>728</pre></div></td><td><div class=\"dni-plaintext\"><pre>Elevations</pre></div></td></tr><tr><td><div class=\"dni-plaintext\"><pre>735</pre></div></td><td><div class=\"dni-plaintext\"><pre>Views</pre></div></td></tr><tr><td><div class=\"dni-plaintext\"><pre>800</pre></div></td><td><div class=\"dni-plaintext\"><pre>Viewports</pre></div></td></tr><tr><td><div class=\"dni-plaintext\"><pre>832</pre></div></td><td><div class=\"dni-plaintext\"><pre>Shared Site</pre></div></td></tr><tr><td><div class=\"dni-plaintext\"><pre>878</pre></div></td><td><div class=\"dni-plaintext\"><pre>Work Plane Grid</pre></div></td></tr><tr><td><div class=\"dni-plaintext\"><pre>976</pre></div></td><td><div class=\"dni-plaintext\"><pre>Revision</pre></div></td></tr><tr><td><div class=\"dni-plaintext\"><pre>987</pre></div></td><td><div class=\"dni-plaintext\"><pre>Project Information</pre></div></td></tr><tr><td><div class=\"dni-plaintext\"><pre>1015</pre></div></td><td><div class=\"dni-plaintext\"><pre>Structural Load Cases</pre></div></td></tr><tr><td><div class=\"dni-plaintext\"><pre>1035</pre></div></td><td><div class=\"dni-plaintext\"><pre>Title Blocks</pre></div></td></tr><tr><td><div class=\"dni-plaintext\"><pre>1066</pre></div></td><td><div class=\"dni-plaintext\"><pre>Sun Path</pre></div></td></tr><tr><td><div class=\"dni-plaintext\"><pre>1254</pre></div></td><td><div class=\"dni-plaintext\"><pre>&lt;Area Boundary&gt;</pre></div></td></tr><tr><td><div class=\"dni-plaintext\"><pre>1263</pre></div></td><td><div class=\"dni-plaintext\"><pre>Text Notes</pre></div></td></tr><tr><td><div class=\"dni-plaintext\"><pre>1306</pre></div></td><td><div class=\"dni-plaintext\"><pre>Internal Origin</pre></div></td></tr><tr><td><div class=\"dni-plaintext\"><pre>1568</pre></div></td><td><div class=\"dni-plaintext\"><pre>Color Fill Schema</pre></div></td></tr><tr><td><div class=\"dni-plaintext\"><pre>1746</pre></div></td><td><div class=\"dni-plaintext\"><pre>HVAC Zones</pre></div></td></tr><tr><td><div class=\"dni-plaintext\"><pre>1864</pre></div></td><td><div class=\"dni-plaintext\"><pre>HVAC Load Schedules</pre></div></td></tr><tr><td colspan=\"2\"><i>(33 more)</i></td></tr></tbody></table><style>\r\n",
       ".dni-code-hint {\r\n",
       "    font-style: italic;\r\n",
       "    overflow: hidden;\r\n",
       "    white-space: nowrap;\r\n",
       "}\r\n",
       ".dni-treeview {\r\n",
       "    white-space: nowrap;\r\n",
       "}\r\n",
       ".dni-treeview td {\r\n",
       "    vertical-align: top;\r\n",
       "    text-align: start;\r\n",
       "}\r\n",
       "details.dni-treeview {\r\n",
       "    padding-left: 1em;\r\n",
       "}\r\n",
       "table td {\r\n",
       "    text-align: start;\r\n",
       "}\r\n",
       "table tr { \r\n",
       "    vertical-align: top; \r\n",
       "    margin: 0em 0px;\r\n",
       "}\r\n",
       "table tr td pre \r\n",
       "{ \r\n",
       "    vertical-align: top !important; \r\n",
       "    margin: 0em 0px !important;\r\n",
       "} \r\n",
       "table th {\r\n",
       "    text-align: start;\r\n",
       "}\r\n",
       "</style>"
      ]
     },
     "metadata": {},
     "output_type": "display_data"
    }
   ],
   "source": [
    "using APSToolkit.Utils;\n",
    "string urn = \"dXJuOmFkc2sud2lwcHJvZDpmcy5maWxlOnZmLk9kOHR4RGJLU1NlbFRvVmcxb2MxVkE_dmVyc2lvbj0z\";\n",
    "var RevitPropDbReader = new PropDbReaderRevit(urn, access_token);\n",
    "var categories = RevitPropDbReader.GetAllCategories();\n",
    "// return key is dbid, value is category name\n",
    "display(categories);"
   ]
  },
  {
   "cell_type": "markdown",
   "metadata": {},
   "source": [
    "#### How to export all catefories to csv file ? "
   ]
  },
  {
   "cell_type": "code",
   "execution_count": 21,
   "metadata": {
    "dotnet_interactive": {
     "language": "csharp"
    },
    "polyglot_notebook": {
     "kernelName": "csharp"
    }
   },
   "outputs": [
    {
     "data": {
      "text/html": [
       "<div class=\"dni-plaintext\"><pre>[ Key\tValue\r, 39\tPhases\r, 65\tMaterials\r, 405\tPrimary Contours\r, 407\tArea Schemes\r ... (5 more) ]</pre></div><style>\r\n",
       ".dni-code-hint {\r\n",
       "    font-style: italic;\r\n",
       "    overflow: hidden;\r\n",
       "    white-space: nowrap;\r\n",
       "}\r\n",
       ".dni-treeview {\r\n",
       "    white-space: nowrap;\r\n",
       "}\r\n",
       ".dni-treeview td {\r\n",
       "    vertical-align: top;\r\n",
       "    text-align: start;\r\n",
       "}\r\n",
       "details.dni-treeview {\r\n",
       "    padding-left: 1em;\r\n",
       "}\r\n",
       "table td {\r\n",
       "    text-align: start;\r\n",
       "}\r\n",
       "table tr { \r\n",
       "    vertical-align: top; \r\n",
       "    margin: 0em 0px;\r\n",
       "}\r\n",
       "table tr td pre \r\n",
       "{ \r\n",
       "    vertical-align: top !important; \r\n",
       "    margin: 0em 0px !important;\r\n",
       "} \r\n",
       "table th {\r\n",
       "    text-align: start;\r\n",
       "}\r\n",
       "</style>"
      ]
     },
     "metadata": {},
     "output_type": "display_data"
    }
   ],
   "source": [
    "categories.ExportToCsv(\"result.csv\");\n",
    "// read the csv file\n",
    "var csv = System.IO.File.ReadAllText(\"result.csv\");\n",
    "// just show 10 lines\n",
    "csv.Split(\"\\n\").Take(10)\n"
   ]
  },
  {
   "cell_type": "markdown",
   "metadata": {},
   "source": [
    "#### How to export all data to excel ? "
   ]
  },
  {
   "cell_type": "code",
   "execution_count": 26,
   "metadata": {
    "dotnet_interactive": {
     "language": "csharp"
    },
    "polyglot_notebook": {
     "kernelName": "csharp"
    }
   },
   "outputs": [],
   "source": [
    "RevitPropDbReader.ExportAllDataToExcel(\"result.xlsx\");"
   ]
  },
  {
   "cell_type": "code",
   "execution_count": 29,
   "metadata": {
    "dotnet_interactive": {
     "language": "csharp"
    },
    "polyglot_notebook": {
     "kernelName": "csharp"
    }
   },
   "outputs": [
    {
     "data": {
      "text/plain": [
       "759"
      ]
     },
     "metadata": {},
     "output_type": "display_data"
    }
   ],
   "source": [
    "// read excel file \n",
    "var excel = ExcelUtils.ReadDataFromExcel(\"result.xlsx\",\"Views\");\n",
    "excel[0][0]"
   ]
  },
  {
   "cell_type": "markdown",
   "metadata": {},
   "source": [
    "#### How to export data by category to excel ?"
   ]
  },
  {
   "cell_type": "code",
   "execution_count": 30,
   "metadata": {
    "dotnet_interactive": {
     "language": "csharp"
    },
    "polyglot_notebook": {
     "kernelName": "csharp"
    }
   },
   "outputs": [],
   "source": [
    "RevitPropDbReader.ExportAllDataToExcelByCategory(\"resut.xlsx\", \"Walls\",\"Walls\");"
   ]
  },
  {
   "cell_type": "markdown",
   "metadata": {},
   "source": [
    "#### How to export data to big data format like parquet ? "
   ]
  },
  {
   "cell_type": "code",
   "execution_count": 31,
   "metadata": {
    "dotnet_interactive": {
     "language": "csharp"
    },
    "polyglot_notebook": {
     "kernelName": "csharp"
    }
   },
   "outputs": [],
   "source": [
    "string dir = \"./parquet\";\n",
    "if (!System.IO.Directory.Exists(dir))\n",
    "{\n",
    "    System.IO.Directory.CreateDirectory(dir);\n",
    "}\n",
    "RevitPropDbReader.ExportAllDataToParquet(dir);"
   ]
  },
  {
   "cell_type": "markdown",
   "metadata": {},
   "source": [
    "#### How to get all data from Revit Model filter by parameters ? "
   ]
  },
  {
   "cell_type": "code",
   "execution_count": 32,
   "metadata": {
    "dotnet_interactive": {
     "language": "csharp"
    },
    "polyglot_notebook": {
     "kernelName": "csharp"
    }
   },
   "outputs": [],
   "source": [
    "using System.Data;\n",
    "List<string> parameters = new List<string>()\n",
    "{\n",
    "    \"Category\",\n",
    "    \"ElementId\",\n",
    "    \"name\",\n",
    "    \"Level\",\n",
    "};\n",
    "DataTable dataTable = RevitPropDbReader.GetAllDataByParameter(parameters);\n",
    "dataTable.ExportDataToExcel(\"result.xlsx\");"
   ]
  },
  {
   "cell_type": "markdown",
   "metadata": {},
   "source": [
    "#### How to get all families from Revit Model ?"
   ]
  },
  {
   "cell_type": "code",
   "execution_count": 16,
   "metadata": {
    "dotnet_interactive": {
     "language": "csharp"
    },
    "polyglot_notebook": {
     "kernelName": "csharp"
    }
   },
   "outputs": [
    {
     "data": {
      "text/html": [
       "<table><thead><tr><th><i>key</i></th><th>value</th></tr></thead><tbody><tr><td><div class=\"dni-plaintext\"><pre>355</pre></div></td><td><div class=\"dni-plaintext\"><pre>Floor Plan</pre></div></td></tr><tr><td><div class=\"dni-plaintext\"><pre>361</pre></div></td><td><div class=\"dni-plaintext\"><pre>Ceiling Plan</pre></div></td></tr><tr><td><div class=\"dni-plaintext\"><pre>795</pre></div></td><td><div class=\"dni-plaintext\"><pre>Sheet</pre></div></td></tr><tr><td><div class=\"dni-plaintext\"><pre>3481</pre></div></td><td><div class=\"dni-plaintext\"><pre>Schedule</pre></div></td></tr><tr><td><div class=\"dni-plaintext\"><pre>729</pre></div></td><td><div class=\"dni-plaintext\"><pre>Elevation</pre></div></td></tr><tr><td><div class=\"dni-plaintext\"><pre>736</pre></div></td><td><div class=\"dni-plaintext\"><pre>Elevation</pre></div></td></tr><tr><td><div class=\"dni-plaintext\"><pre>801</pre></div></td><td><div class=\"dni-plaintext\"><pre>Viewport</pre></div></td></tr><tr><td><div class=\"dni-plaintext\"><pre>834</pre></div></td><td><div class=\"dni-plaintext\"><pre>Default Site</pre></div></td></tr><tr><td><div class=\"dni-plaintext\"><pre>2098</pre></div></td><td><div class=\"dni-plaintext\"><pre>Project</pre></div></td></tr><tr><td><div class=\"dni-plaintext\"><pre>1036</pre></div></td><td><div class=\"dni-plaintext\"><pre>E1 30 x 42 Horizontal</pre></div></td></tr><tr><td><div class=\"dni-plaintext\"><pre>1264</pre></div></td><td><div class=\"dni-plaintext\"><pre>Text</pre></div></td></tr><tr><td><div class=\"dni-plaintext\"><pre>2311</pre></div></td><td><div class=\"dni-plaintext\"><pre>3D View</pre></div></td></tr><tr><td><div class=\"dni-plaintext\"><pre>3477</pre></div></td><td><div class=\"dni-plaintext\"><pre>Schedule</pre></div></td></tr><tr><td><div class=\"dni-plaintext\"><pre>3501</pre></div></td><td><div class=\"dni-plaintext\"><pre>Point Cloud</pre></div></td></tr><tr><td><div class=\"dni-plaintext\"><pre>3525</pre></div></td><td><div class=\"dni-plaintext\"><pre>Seating-LAMMHULTS-PENNE-Chair</pre></div></td></tr><tr><td><div class=\"dni-plaintext\"><pre>3555</pre></div></td><td><div class=\"dni-plaintext\"><pre>Krevet-002-2</pre></div></td></tr><tr><td><div class=\"dni-plaintext\"><pre>3859</pre></div></td><td><div class=\"dni-plaintext\"><pre>Table</pre></div></td></tr><tr><td><div class=\"dni-plaintext\"><pre>3560</pre></div></td><td><div class=\"dni-plaintext\"><pre>Basic Wall</pre></div></td></tr><tr><td><div class=\"dni-plaintext\"><pre>3570</pre></div></td><td><div class=\"dni-plaintext\"><pre>Single-Flush</pre></div></td></tr><tr><td><div class=\"dni-plaintext\"><pre>3692</pre></div></td><td><div class=\"dni-plaintext\"><pre>F0560 - Wardrobe, Television</pre></div></td></tr><tr><td colspan=\"2\"><i>(12 more)</i></td></tr></tbody></table><style>\r\n",
       ".dni-code-hint {\r\n",
       "    font-style: italic;\r\n",
       "    overflow: hidden;\r\n",
       "    white-space: nowrap;\r\n",
       "}\r\n",
       ".dni-treeview {\r\n",
       "    white-space: nowrap;\r\n",
       "}\r\n",
       ".dni-treeview td {\r\n",
       "    vertical-align: top;\r\n",
       "    text-align: start;\r\n",
       "}\r\n",
       "details.dni-treeview {\r\n",
       "    padding-left: 1em;\r\n",
       "}\r\n",
       "table td {\r\n",
       "    text-align: start;\r\n",
       "}\r\n",
       "table tr { \r\n",
       "    vertical-align: top; \r\n",
       "    margin: 0em 0px;\r\n",
       "}\r\n",
       "table tr td pre \r\n",
       "{ \r\n",
       "    vertical-align: top !important; \r\n",
       "    margin: 0em 0px !important;\r\n",
       "} \r\n",
       "table th {\r\n",
       "    text-align: start;\r\n",
       "}\r\n",
       "</style>"
      ]
     },
     "metadata": {},
     "output_type": "display_data"
    }
   ],
   "source": [
    "var families = RevitPropDbReader.GetAllFamilies();\n",
    "display(families);"
   ]
  },
  {
   "cell_type": "markdown",
   "metadata": {},
   "source": [
    "#### How to get all family type from Revit Model ?"
   ]
  },
  {
   "cell_type": "code",
   "execution_count": 17,
   "metadata": {
    "dotnet_interactive": {
     "language": "csharp"
    },
    "polyglot_notebook": {
     "kernelName": "csharp"
    }
   },
   "outputs": [
    {
     "data": {
      "text/html": [
       "<table><thead><tr><th><i>key</i></th><th>value</th></tr></thead><tbody><tr><td><div class=\"dni-plaintext\"><pre>357</pre></div></td><td><div class=\"dni-plaintext\"><pre>Floor Plan</pre></div></td></tr><tr><td><div class=\"dni-plaintext\"><pre>363</pre></div></td><td><div class=\"dni-plaintext\"><pre>Ceiling Plan</pre></div></td></tr><tr><td><div class=\"dni-plaintext\"><pre>797</pre></div></td><td><div class=\"dni-plaintext\"><pre>Sheet</pre></div></td></tr><tr><td><div class=\"dni-plaintext\"><pre>731</pre></div></td><td><div class=\"dni-plaintext\"><pre>Building Elevation</pre></div></td></tr><tr><td><div class=\"dni-plaintext\"><pre>803</pre></div></td><td><div class=\"dni-plaintext\"><pre>Title w Line</pre></div></td></tr><tr><td><div class=\"dni-plaintext\"><pre>834</pre></div></td><td><div class=\"dni-plaintext\"><pre>Location Data</pre></div></td></tr><tr><td><div class=\"dni-plaintext\"><pre>2098</pre></div></td><td><div class=\"dni-plaintext\"><pre>Location Data</pre></div></td></tr><tr><td><div class=\"dni-plaintext\"><pre>1038</pre></div></td><td><div class=\"dni-plaintext\"><pre>E1 30x42 Horizontal</pre></div></td></tr><tr><td><div class=\"dni-plaintext\"><pre>1266</pre></div></td><td><div class=\"dni-plaintext\"><pre>Temporary Notes</pre></div></td></tr><tr><td><div class=\"dni-plaintext\"><pre>2313</pre></div></td><td><div class=\"dni-plaintext\"><pre>3D View</pre></div></td></tr><tr><td><div class=\"dni-plaintext\"><pre>3479</pre></div></td><td><div class=\"dni-plaintext\"><pre>Schedule</pre></div></td></tr><tr><td><div class=\"dni-plaintext\"><pre>3503</pre></div></td><td><div class=\"dni-plaintext\"><pre>HouseComparee57.rcp</pre></div></td></tr><tr><td><div class=\"dni-plaintext\"><pre>3527</pre></div></td><td><div class=\"dni-plaintext\"><pre>Plastic-Seat</pre></div></td></tr><tr><td><div class=\"dni-plaintext\"><pre>3557</pre></div></td><td><div class=\"dni-plaintext\"><pre>190x140 (202,5x150)</pre></div></td></tr><tr><td><div class=\"dni-plaintext\"><pre>3861</pre></div></td><td><div class=\"dni-plaintext\"><pre>Table</pre></div></td></tr><tr><td><div class=\"dni-plaintext\"><pre>3562</pre></div></td><td><div class=\"dni-plaintext\"><pre>Generic - 6&quot;</pre></div></td></tr><tr><td><div class=\"dni-plaintext\"><pre>3572</pre></div></td><td><div class=\"dni-plaintext\"><pre>36&quot; x 84&quot;</pre></div></td></tr><tr><td><div class=\"dni-plaintext\"><pre>3694</pre></div></td><td><div class=\"dni-plaintext\"><pre>F0560 - Wardrobe, Television</pre></div></td></tr><tr><td><div class=\"dni-plaintext\"><pre>3839</pre></div></td><td><div class=\"dni-plaintext\"><pre>ASYG18LFCA</pre></div></td></tr><tr><td><div class=\"dni-plaintext\"><pre>3847</pre></div></td><td><div class=\"dni-plaintext\"><pre>Concrete Slab - 6&quot;</pre></div></td></tr><tr><td colspan=\"2\"><i>(10 more)</i></td></tr></tbody></table><style>\r\n",
       ".dni-code-hint {\r\n",
       "    font-style: italic;\r\n",
       "    overflow: hidden;\r\n",
       "    white-space: nowrap;\r\n",
       "}\r\n",
       ".dni-treeview {\r\n",
       "    white-space: nowrap;\r\n",
       "}\r\n",
       ".dni-treeview td {\r\n",
       "    vertical-align: top;\r\n",
       "    text-align: start;\r\n",
       "}\r\n",
       "details.dni-treeview {\r\n",
       "    padding-left: 1em;\r\n",
       "}\r\n",
       "table td {\r\n",
       "    text-align: start;\r\n",
       "}\r\n",
       "table tr { \r\n",
       "    vertical-align: top; \r\n",
       "    margin: 0em 0px;\r\n",
       "}\r\n",
       "table tr td pre \r\n",
       "{ \r\n",
       "    vertical-align: top !important; \r\n",
       "    margin: 0em 0px !important;\r\n",
       "} \r\n",
       "table th {\r\n",
       "    text-align: start;\r\n",
       "}\r\n",
       "</style>"
      ]
     },
     "metadata": {},
     "output_type": "display_data"
    }
   ],
   "source": [
    "var familiesTypes = RevitPropDbReader.GetAllFamilyTypes();\n",
    "display(familiesTypes)"
   ]
  },
  {
   "cell_type": "markdown",
   "metadata": {},
   "source": [
    "#### How to get all data by catgories and parameters ?"
   ]
  },
  {
   "cell_type": "code",
   "execution_count": 33,
   "metadata": {
    "dotnet_interactive": {
     "language": "csharp"
    },
    "polyglot_notebook": {
     "kernelName": "csharp"
    }
   },
   "outputs": [],
   "source": [
    "categories = RevitPropDbReader.GetAllCategories();\n",
    "string category = \"Rooms\";\n",
    "var parameterNames = new string[]{\"Name\",\"Number\",\"Area\",\"Volume\",\"Workset\",\"Level\",\"Comments\"};\n",
    "DataTable dataTable = RevitPropDbReader.GetDataByCategoryAndParameters(category,parameterNames.ToList());\n",
    "dataTable.ExportToCsv(\"result.csv\");"
   ]
  }
 ],
 "metadata": {
  "kernelspec": {
   "display_name": ".NET (C#)",
   "language": "C#",
   "name": ".net-csharp"
  },
  "language_info": {
   "name": "polyglot-notebook"
  },
  "polyglot_notebook": {
   "kernelInfo": {
    "defaultKernelName": "csharp",
    "items": [
     {
      "aliases": [],
      "name": "csharp"
     }
    ]
   }
  }
 },
 "nbformat": 4,
 "nbformat_minor": 2
}
