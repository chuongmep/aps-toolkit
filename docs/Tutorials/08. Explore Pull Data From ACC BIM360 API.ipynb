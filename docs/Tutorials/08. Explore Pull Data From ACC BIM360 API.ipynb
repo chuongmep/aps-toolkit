{
 "cells": [
  {
   "cell_type": "code",
   "execution_count": 3,
   "metadata": {
    "dotnet_interactive": {
     "language": "csharp"
    },
    "polyglot_notebook": {
     "kernelName": "csharp"
    },
    "vscode": {
     "languageId": "polyglot-notebook"
    }
   },
   "outputs": [
    {
     "data": {
      "text/html": [
       "<div><div></div><div></div><div><strong>Installed Packages</strong><ul><li><span>APSToolkit, 1.0.8-beta</span></li></ul></div></div>"
      ]
     },
     "metadata": {},
     "output_type": "display_data"
    }
   ],
   "source": [
    "#r \"nuget:APSToolkit , 1.0.8-beta\""
   ]
  },
  {
   "cell_type": "code",
   "execution_count": 4,
   "metadata": {
    "dotnet_interactive": {
     "language": "csharp"
    },
    "polyglot_notebook": {
     "kernelName": "csharp"
    },
    "vscode": {
     "languageId": "polyglot-notebook"
    }
   },
   "outputs": [],
   "source": [
    "using APSToolkit;"
   ]
  },
  {
   "cell_type": "markdown",
   "metadata": {},
   "source": [
    "## Auth"
   ]
  },
  {
   "cell_type": "markdown",
   "metadata": {},
   "source": [
    "Please check tutorial and code in the following notebook:\n",
    "\n",
    "- [01. Setup And Authentication](./01.%20Setup%20And%20Authentication.ipynb)"
   ]
  },
  {
   "cell_type": "code",
   "execution_count": 5,
   "metadata": {
    "dotnet_interactive": {
     "language": "csharp"
    },
    "polyglot_notebook": {
     "kernelName": "csharp"
    },
    "vscode": {
     "languageId": "polyglot-notebook"
    }
   },
   "outputs": [],
   "source": [
    "using APSToolkit.Auth;\n",
    "// please visit tutorial : 01.Setup And Authentication.ipynb for more details\n",
    "var token = Authentication.Get2LeggedToken().Result;"
   ]
  },
  {
   "cell_type": "code",
   "execution_count": 11,
   "metadata": {
    "dotnet_interactive": {
     "language": "csharp"
    },
    "polyglot_notebook": {
     "kernelName": "csharp"
    },
    "vscode": {
     "languageId": "polyglot-notebook"
    }
   },
   "outputs": [],
   "source": [
    "using Autodesk.Forge;\n",
    "Scope[] scope = new Scope[]\n",
    "    { Scope.DataRead, Scope.DataWrite, Scope.DataCreate, Scope.BucketRead, Scope.BucketCreate, Scope.CodeAll };\n",
    "var token3Leg = Authentication.Refresh3LeggedToken(scope).Result;"
   ]
  },
  {
   "cell_type": "markdown",
   "metadata": {},
   "source": [
    "## ACC - BIM360"
   ]
  },
  {
   "cell_type": "markdown",
   "metadata": {},
   "source": [
    "Please check tutorial and code in the following notebook:\n",
    "\n",
    "[02. Explore Hubs - Projects - Items - URN](./02.%20Explore%20Hubs%20-%20Projects%20-%20Items%20-%20URN.ipynb)\n",
    "\n",
    "[03. Explore Versions Item and Derivative Urn](./03.%20Explore%20Versions%20Item%20and%20Derivative%20Urn.ipynb)"
   ]
  },
  {
   "cell_type": "code",
   "execution_count": 17,
   "metadata": {
    "dotnet_interactive": {
     "language": "csharp"
    },
    "polyglot_notebook": {
     "kernelName": "csharp"
    },
    "vscode": {
     "languageId": "polyglot-notebook"
    }
   },
   "outputs": [],
   "source": [
    "string projectId = \"b.ca790fb5-141d-4ad5-b411-0461af2e9748\";\n",
    "string versionId = \"urn:adsk.wipprod:fs.file:vf.Od8txDbKSSelToVg1oc1VA?version=28\";"
   ]
  },
  {
   "cell_type": "markdown",
   "metadata": {},
   "source": [
    "### Get All Data By Version Id"
   ]
  },
  {
   "cell_type": "code",
   "execution_count": null,
   "metadata": {
    "dotnet_interactive": {
     "language": "csharp"
    },
    "polyglot_notebook": {
     "kernelName": "csharp"
    },
    "vscode": {
     "languageId": "polyglot-notebook"
    }
   },
   "outputs": [],
   "source": [
    "using APSToolkit.BIM360;\n",
    "using Autodesk.Forge;\n",
    "BIM360 bim360 = new BIM360(token3Leg);\n",
    "\n",
    "BIMData[] bimDatas = bim360.GetAllDataByVersionId(projectId,versionId);\n",
    "BIMData bimData = bimDatas.FirstOrDefault(x => x.externalId == \"5bb069ca-e4fe-4e63-be31-f8ac44e80d30-000471ee\");"
   ]
  },
  {
   "cell_type": "code",
   "execution_count": 9,
   "metadata": {
    "dotnet_interactive": {
     "language": "csharp"
    },
    "polyglot_notebook": {
     "kernelName": "csharp"
    },
    "vscode": {
     "languageId": "polyglot-notebook"
    }
   },
   "outputs": [
    {
     "ename": "Error",
     "evalue": "(1,39): error CS0103: The name 'bimData' does not exist in the current context\r\n(2,45): error CS0103: The name 'bimData' does not exist in the current context\r\n(3,42): error CS0103: The name 'bimData' does not exist in the current context\r\n(4,42): error CS0103: The name 'bimData' does not exist in the current context\r\n(7,1): error CS0103: The name 'bimData' does not exist in the current context",
     "output_type": "error",
     "traceback": [
      "(1,39): error CS0103: The name 'bimData' does not exist in the current context\r\n",
      "(2,45): error CS0103: The name 'bimData' does not exist in the current context\r\n",
      "(3,42): error CS0103: The name 'bimData' does not exist in the current context\r\n",
      "(4,42): error CS0103: The name 'bimData' does not exist in the current context\r\n",
      "(7,1): error CS0103: The name 'bimData' does not exist in the current context"
     ]
    }
   ],
   "source": [
    "Console.WriteLine(\"BIMData DbId : \" + bimData.DbId);\n",
    "Console.WriteLine(\"BIMData ExternalId : \" + bimData.externalId);\n",
    "Console.WriteLine(\"BIMData bboxMin : \" + bimData.bboxMin);\n",
    "Console.WriteLine(\"BIMData bboxMax : \" + bimData.bboxMax);\n",
    "// properties\n",
    "Console.WriteLine(\"BIMData Properties : \");\n",
    "bimData.properties[0]"
   ]
  }
 ],
 "metadata": {
  "language_info": {
   "name": "python"
  }
 },
 "nbformat": 4,
 "nbformat_minor": 2
}
