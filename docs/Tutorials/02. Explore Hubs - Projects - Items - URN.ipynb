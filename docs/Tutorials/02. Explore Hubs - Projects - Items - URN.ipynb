{
 "cells": [
  {
   "cell_type": "code",
   "execution_count": 1,
   "metadata": {
    "dotnet_interactive": {
     "language": "csharp"
    },
    "polyglot_notebook": {
     "kernelName": "csharp"
    },
    "vscode": {
     "languageId": "polyglot-notebook"
    }
   },
   "outputs": [
    {
     "data": {
      "text/html": [
       "<div><div></div><div></div><div><strong>Installed Packages</strong><ul><li><span>APSToolkit, 1.0.8-beta</span></li></ul></div></div>"
      ]
     },
     "metadata": {},
     "output_type": "display_data"
    },
    {
     "data": {
      "text/plain": [
       "Loading extensions from `C:\\Users\\chuongho\\.nuget\\packages\\microsoft.data.analysis\\0.21.1\\interactive-extensions\\dotnet\\Microsoft.Data.Analysis.Interactive.dll`"
      ]
     },
     "metadata": {},
     "output_type": "display_data"
    }
   ],
   "source": [
    "#r \"nuget:APSToolkit , 1.0.8-beta\""
   ]
  },
  {
   "cell_type": "code",
   "execution_count": 2,
   "metadata": {
    "dotnet_interactive": {
     "language": "csharp"
    },
    "polyglot_notebook": {
     "kernelName": "csharp"
    },
    "vscode": {
     "languageId": "polyglot-notebook"
    }
   },
   "outputs": [],
   "source": [
    "using APSToolkit;"
   ]
  },
  {
   "cell_type": "markdown",
   "metadata": {},
   "source": [
    "### Auth"
   ]
  },
  {
   "cell_type": "code",
   "execution_count": 3,
   "metadata": {
    "dotnet_interactive": {
     "language": "csharp"
    },
    "polyglot_notebook": {
     "kernelName": "csharp"
    },
    "vscode": {
     "languageId": "polyglot-notebook"
    }
   },
   "outputs": [],
   "source": [
    "using APSToolkit.Auth;\n",
    "var token = Authentication.Get2LeggedToken().Result;"
   ]
  },
  {
   "cell_type": "markdown",
   "metadata": {},
   "source": [
    "### Hubs\n"
   ]
  },
  {
   "cell_type": "markdown",
   "metadata": {},
   "source": [
    "A Hub in Autodesk Forge is a container for projects. It represents a workspace for a team where they can collaborate on design and construction efforts. Hubs can be associated with BIM 360 Team, BIM 360 Docs, or A360. Each hub contains projects, and each project contains folders, items, and versions, which are used to manage and store design data."
   ]
  },
  {
   "cell_type": "code",
   "execution_count": 5,
   "metadata": {
    "dotnet_interactive": {
     "language": "csharp"
    },
    "polyglot_notebook": {
     "kernelName": "csharp"
    },
    "vscode": {
     "languageId": "polyglot-notebook"
    }
   },
   "outputs": [
    {
     "name": "stdout",
     "output_type": "stream",
     "text": [
      "HubId: b.1715cf2b-cc12-46fd-9279-11bbc47e72f6\r\n"
     ]
    }
   ],
   "source": [
    "using APSToolkit.BIM360;\n",
    "var bim360 = new BIM360(token);\n",
    "var hubs  = bim360.GetHubs();\n",
    "string hubId = string.Empty;\n",
    "// console all hubid from dictionary\n",
    "foreach (var hub in hubs)\n",
    "{\n",
    "    dynamic hubw = hub.Value;\n",
    "    hubId = hubw.id;\n",
    "    Console.WriteLine(\"HubId: \" + hubId);\n",
    "}\n"
   ]
  },
  {
   "cell_type": "markdown",
   "metadata": {},
   "source": [
    "## Projects"
   ]
  },
  {
   "cell_type": "markdown",
   "metadata": {},
   "source": [
    "A Project in Autodesk Forge is a specific workspace within a Hub. It's where the actual design and construction data is stored. Each project contains folders, items, and versions. \n",
    "\n",
    "Folders are the organizational structure for the project. Items are specific design files, documents, or other types of data. Versions represent the different iterations of an item as it goes through the design and construction process. \n",
    "\n",
    "In summary, a project is a specific workspace for a team to collaborate on within a Hub in Autodesk Forge."
   ]
  },
  {
   "cell_type": "code",
   "execution_count": 6,
   "metadata": {
    "dotnet_interactive": {
     "language": "csharp"
    },
    "polyglot_notebook": {
     "kernelName": "csharp"
    },
    "vscode": {
     "languageId": "polyglot-notebook"
    }
   },
   "outputs": [
    {
     "name": "stdout",
     "output_type": "stream",
     "text": [
      "ProjectId: b.b0be7aa3-70b9-4bd1-96a2-41029ae438ce\r\n"
     ]
    }
   ],
   "source": [
    "var projects = bim360.GetProjects(hubId);\n",
    "string projectId = string.Empty;\n",
    "// console all projectid from dictionary\n",
    "foreach (var project in projects)\n",
    "{\n",
    "    dynamic projectw = project.Value;\n",
    "    projectId = projectw.id;\n",
    "    Console.WriteLine(\"ProjectId: \" + projectId);\n",
    "    break;\n",
    "}"
   ]
  },
  {
   "cell_type": "markdown",
   "metadata": {},
   "source": [
    "## Folders\n"
   ]
  },
  {
   "cell_type": "markdown",
   "metadata": {},
   "source": [
    "A Folder in Autodesk Platform Services(Former is Autodesk Forge) is part of the organizational structure within a Project. It's used to group and manage related Items, which can be design files, documents, or other types of data.\n",
    "\n",
    "Folders can contain sub-folders, creating a hierarchical structure that helps teams organize their work effectively. This structure can mirror the way teams organize their files on their local systems, making it easier to navigate and find specific items within a Project."
   ]
  },
  {
   "cell_type": "markdown",
   "metadata": {},
   "source": [
    "### Get Top Folders"
   ]
  },
  {
   "cell_type": "code",
   "execution_count": 7,
   "metadata": {
    "dotnet_interactive": {
     "language": "csharp"
    },
    "polyglot_notebook": {
     "kernelName": "csharp"
    },
    "vscode": {
     "languageId": "polyglot-notebook"
    }
   },
   "outputs": [
    {
     "data": {
      "text/html": [
       "<table><thead><tr><th><i>key</i></th><th>value</th></tr></thead><tbody><tr><td><div class=\"dni-plaintext\"><pre>urn:adsk.wipprod:fs.folder:co.z6qm45EyQfykBUrk1NuT7A</pre></div></td><td><div class=\"dni-plaintext\"><pre>09050197-f746-49fd-be01-cb967c3a676f</pre></div></td></tr><tr><td><div class=\"dni-plaintext\"><pre>urn:adsk.wipprod:fs.folder:co.5AOXYBOSQaqPnOn2Mn71wg</pre></div></td><td><div class=\"dni-plaintext\"><pre>quantification_b0be7aa3-70b9-4bd1-96a2-41029ae438ce</pre></div></td></tr><tr><td><div class=\"dni-plaintext\"><pre>urn:adsk.wipprod:fs.folder:co.rD6CCaHpSlOJL6TAiCwy9Q</pre></div></td><td><div class=\"dni-plaintext\"><pre>a79e22c2-b392-4000-b335-6f40e310ca63</pre></div></td></tr><tr><td><div class=\"dni-plaintext\"><pre>urn:adsk.wipprod:fs.folder:co.-0_oKv1hRPysirszGpDJkg</pre></div></td><td><div class=\"dni-plaintext\"><pre>aa5cedfe-c84a-417d-b14e-62e2b9dd1005</pre></div></td></tr><tr><td><div class=\"dni-plaintext\"><pre>urn:adsk.wipprod:fs.folder:co.nYDnes2MTG-ShxQ0uav0ZQ</pre></div></td><td><div class=\"dni-plaintext\"><pre>checklist_b0be7aa3-70b9-4bd1-96a2-41029ae438ce</pre></div></td></tr><tr><td><div class=\"dni-plaintext\"><pre>urn:adsk.wipprod:fs.folder:co.l6NTc66oRY6OU6ApNPUKCQ</pre></div></td><td><div class=\"dni-plaintext\"><pre>4588b740-45f6-4781-8687-2856f1d463df</pre></div></td></tr><tr><td><div class=\"dni-plaintext\"><pre>urn:adsk.wipprod:fs.folder:co.txjuLrvHTQ2VPU12XvKVoQ</pre></div></td><td><div class=\"dni-plaintext\"><pre>issue_b0be7aa3-70b9-4bd1-96a2-41029ae438ce</pre></div></td></tr><tr><td><div class=\"dni-plaintext\"><pre>urn:adsk.wipprod:fs.folder:co.MUUuh21tRwSAPMXro533gA</pre></div></td><td><div class=\"dni-plaintext\"><pre>d2a67b4a-4d8e-412c-9bb5-34c49b052e7c</pre></div></td></tr><tr><td><div class=\"dni-plaintext\"><pre>urn:adsk.wipprod:fs.folder:co.OFY-e7ZqSEOC23qN3q5xsA</pre></div></td><td><div class=\"dni-plaintext\"><pre>dailylog_b0be7aa3-70b9-4bd1-96a2-41029ae438ce</pre></div></td></tr><tr><td><div class=\"dni-plaintext\"><pre>urn:adsk.wipprod:fs.folder:co.bMTNAQ9nTUu6-Ddpe0pl7g</pre></div></td><td><div class=\"dni-plaintext\"><pre>ebb89199-4b87-4480-8b89-8d6f73a29c09</pre></div></td></tr><tr><td><div class=\"dni-plaintext\"><pre>urn:adsk.wipprod:fs.folder:co.wimBFDC7ThSwjYLc3oehRw</pre></div></td><td><div class=\"dni-plaintext\"><pre>Project Files</pre></div></td></tr><tr><td><div class=\"dni-plaintext\"><pre>urn:adsk.wipprod:fs.folder:co._aJ1tnD2TUSjvlBRyKvruw</pre></div></td><td><div class=\"dni-plaintext\"><pre>submittals-attachments</pre></div></td></tr><tr><td><div class=\"dni-plaintext\"><pre>urn:adsk.wipprod:fs.folder:co.GrKNs3nMQr6GSBZis2NbNw</pre></div></td><td><div class=\"dni-plaintext\"><pre>correspondence-project-b0be7aa3-70b9-4bd1-96a2-41029ae438ce</pre></div></td></tr><tr><td><div class=\"dni-plaintext\"><pre>urn:adsk.wipprod:fs.folder:co.hizocl3oSWezdibKgQg4cw</pre></div></td><td><div class=\"dni-plaintext\"><pre>meetings-project-b0be7aa3-70b9-4bd1-96a2-41029ae438ce</pre></div></td></tr><tr><td><div class=\"dni-plaintext\"><pre>urn:adsk.wipprod:fs.folder:co.lkaSLi_DRq-2l6Nx_UuZVw</pre></div></td><td><div class=\"dni-plaintext\"><pre>Photos</pre></div></td></tr><tr><td><div class=\"dni-plaintext\"><pre>urn:adsk.wipprod:fs.folder:co.O69luDPyQTS14f_TeG5grQ</pre></div></td><td><div class=\"dni-plaintext\"><pre>ProjectTb</pre></div></td></tr><tr><td><div class=\"dni-plaintext\"><pre>urn:adsk.wipprod:fs.folder:co.rjNXXPp9SeCtAqI7Ngd_eA</pre></div></td><td><div class=\"dni-plaintext\"><pre>57f679b8-30e0-487b-805b-bb69acf9db3f</pre></div></td></tr></tbody></table><style>\r\n",
       ".dni-code-hint {\r\n",
       "    font-style: italic;\r\n",
       "    overflow: hidden;\r\n",
       "    white-space: nowrap;\r\n",
       "}\r\n",
       ".dni-treeview {\r\n",
       "    white-space: nowrap;\r\n",
       "}\r\n",
       ".dni-treeview td {\r\n",
       "    vertical-align: top;\r\n",
       "    text-align: start;\r\n",
       "}\r\n",
       "details.dni-treeview {\r\n",
       "    padding-left: 1em;\r\n",
       "}\r\n",
       "table td {\r\n",
       "    text-align: start;\r\n",
       "}\r\n",
       "table tr { \r\n",
       "    vertical-align: top; \r\n",
       "    margin: 0em 0px;\r\n",
       "}\r\n",
       "table tr td pre \r\n",
       "{ \r\n",
       "    vertical-align: top !important; \r\n",
       "    margin: 0em 0px !important;\r\n",
       "} \r\n",
       "table th {\r\n",
       "    text-align: start;\r\n",
       "}\r\n",
       "</style>"
      ]
     },
     "metadata": {},
     "output_type": "display_data"
    }
   ],
   "source": [
    "var topFolders = bim360.GetTopFolders(hubId, projectId);\n",
    "display(topFolders);\n"
   ]
  },
  {
   "cell_type": "markdown",
   "metadata": {},
   "source": [
    "### GetTopProjectFilesFolder"
   ]
  },
  {
   "cell_type": "markdown",
   "metadata": {},
   "source": [
    "Retrieving project files in Autodesk Forge is crucial for several reasons:\n",
    "\n",
    "1. **Access to Design Data**: Project files contain the actual design data. This can include 3D models, 2D drawings, specifications, and other related documents. Accessing these files allows you to view, analyze, and manipulate the design data.\n",
    "\n",
    "2. **Collaboration**: Autodesk Forge is built for collaboration. By retrieving project files, team members can work together on the same designs, even from different locations. They can view each other's work, make changes, and see those changes in real time.\n",
    "\n",
    "3. **Version Control**: Each file in a project can have multiple versions. By retrieving these files, you can access the version history, compare different versions, and revert to a previous version if necessary.\n",
    "\n",
    "4. **Integration with Other Systems**: Autodesk Forge APIs allow you to integrate with other systems. By retrieving project files, you can use the design data in other applications, such as project management tools, cost estimation software, or custom applications built specifically for your needs."
   ]
  },
  {
   "cell_type": "code",
   "execution_count": 8,
   "metadata": {
    "dotnet_interactive": {
     "language": "csharp"
    },
    "polyglot_notebook": {
     "kernelName": "csharp"
    },
    "vscode": {
     "languageId": "polyglot-notebook"
    }
   },
   "outputs": [
    {
     "name": "stdout",
     "output_type": "stream",
     "text": [
      "Folder Urn: urn:adsk.wipprod:fs.folder:co.9yz45HsdRf2cgATDS620zw\r\n"
     ]
    },
    {
     "data": {
      "text/html": [
       "<details open=\"open\" class=\"dni-treeview\"><summary><span class=\"dni-code-hint\"><code>(urn:adsk.wipprod:fs.folder:co.9yz45HsdRf2cgATDS620zw, Project Files)</code></span></summary><div><table><thead><tr></tr></thead><tbody><tr><td>Item1</td><td><div class=\"dni-plaintext\"><pre>urn:adsk.wipprod:fs.folder:co.9yz45HsdRf2cgATDS620zw</pre></div></td></tr><tr><td>Item2</td><td><div class=\"dni-plaintext\"><pre>Project Files</pre></div></td></tr></tbody></table></div></details><style>\r\n",
       ".dni-code-hint {\r\n",
       "    font-style: italic;\r\n",
       "    overflow: hidden;\r\n",
       "    white-space: nowrap;\r\n",
       "}\r\n",
       ".dni-treeview {\r\n",
       "    white-space: nowrap;\r\n",
       "}\r\n",
       ".dni-treeview td {\r\n",
       "    vertical-align: top;\r\n",
       "    text-align: start;\r\n",
       "}\r\n",
       "details.dni-treeview {\r\n",
       "    padding-left: 1em;\r\n",
       "}\r\n",
       "table td {\r\n",
       "    text-align: start;\r\n",
       "}\r\n",
       "table tr { \r\n",
       "    vertical-align: top; \r\n",
       "    margin: 0em 0px;\r\n",
       "}\r\n",
       "table tr td pre \r\n",
       "{ \r\n",
       "    vertical-align: top !important; \r\n",
       "    margin: 0em 0px !important;\r\n",
       "} \r\n",
       "table th {\r\n",
       "    text-align: start;\r\n",
       "}\r\n",
       "</style>"
      ]
     },
     "metadata": {},
     "output_type": "display_data"
    }
   ],
   "source": [
    "string projectId = \"b.ca790fb5-141d-4ad5-b411-0461af2e9748\";\n",
    "var projectFiles = bim360.GetTopProjectFilesFolder(hubId, projectId);\n",
    "var folderUrn = projectFiles.Item1;\n",
    "Console.WriteLine(\"Folder Urn: \" + folderUrn);\n",
    "display(projectFiles);"
   ]
  },
  {
   "cell_type": "markdown",
   "metadata": {},
   "source": [
    "## Items"
   ]
  },
  {
   "cell_type": "markdown",
   "metadata": {},
   "source": [
    "An Item in Autodesk Forge represents a specific piece of data within a Project Folder. This could be a design file, a document, or any other type of data that is relevant to the project.\n",
    "\n",
    "Each item can have multiple versions, representing the different iterations of that item as it goes through the design and construction process. This allows for effective version control and tracking of changes over time.\n",
    "\n",
    "Items are the core unit of design data in Autodesk Forge. By accessing and manipulating items, users can work with the actual design data, view it in different ways, make changes, and collaborate with others."
   ]
  },
  {
   "cell_type": "markdown",
   "metadata": {},
   "source": [
    "### GetItemsByFolder"
   ]
  },
  {
   "cell_type": "code",
   "execution_count": 9,
   "metadata": {
    "dotnet_interactive": {
     "language": "csharp"
    },
    "polyglot_notebook": {
     "kernelName": "csharp"
    },
    "vscode": {
     "languageId": "polyglot-notebook"
    }
   },
   "outputs": [
    {
     "name": "stdout",
     "output_type": "stream",
     "text": [
      "Item: urn:adsk.wipprod:fs.folder:co.EZ2aX2o-Q9i_iDSXxKoWzw\n",
      "Item: urn:adsk.wipprod:fs.folder:co.6wGhX_CDSgiEZ2UPAVYzsg\n",
      "Item: urn:adsk.wipprod:fs.folder:co.kKu4M1wKRCq52pXa-7kSvA\n",
      "Item: urn:adsk.wipprod:fs.folder:co.nPyh-phdSHGJ0AabvA3d1A\n",
      "Item: urn:adsk.wipprod:fs.folder:co.2yCTHGmWSvSCzlaIzdrFKA\n",
      "Item: urn:adsk.wipprod:fs.folder:co.09f54c5-SnC1nUu-32tJOg\n"
     ]
    }
   ],
   "source": [
    "string folderId = \"urn:adsk.wipprod:fs.folder:co.OyLhAc9PSoymP-_yAb3YoQ\";\n",
    "string projectId = \"b.ec0f8261-aeca-4ab9-a1a5-5845f952b17d\";\n",
    "var items = bim360.GetItemsByFolder(projectId,folderId);\n",
    "foreach (var item in items)\n",
    "{\n",
    "    dynamic itemw = item.Value;\n",
    "    Console.WriteLine(\"Item: \" + itemw.id);\n",
    "}"
   ]
  },
  {
   "cell_type": "code",
   "execution_count": 10,
   "metadata": {
    "dotnet_interactive": {
     "language": "csharp"
    },
    "polyglot_notebook": {
     "kernelName": "csharp"
    },
    "vscode": {
     "languageId": "polyglot-notebook"
    }
   },
   "outputs": [
    {
     "name": "stdout",
     "output_type": "stream",
     "text": [
      "Item Version: urn:adsk.wipprod:fs.file:vf.Od8txDbKSSelToVg1oc1VA?version=28\n",
      "Item Version: urn:adsk.wipprod:fs.file:vf.Od8txDbKSSelToVg1oc1VA?version=27\n",
      "Item Version: urn:adsk.wipprod:fs.file:vf.Od8txDbKSSelToVg1oc1VA?version=26\n",
      "Item Version: urn:adsk.wipprod:fs.file:vf.Od8txDbKSSelToVg1oc1VA?version=25\n",
      "Item Version: urn:adsk.wipprod:fs.file:vf.Od8txDbKSSelToVg1oc1VA?version=24\n",
      "Item Version: urn:adsk.wipprod:fs.file:vf.Od8txDbKSSelToVg1oc1VA?version=23\n",
      "Item Version: urn:adsk.wipprod:fs.file:vf.Od8txDbKSSelToVg1oc1VA?version=22\n",
      "Item Version: urn:adsk.wipprod:fs.file:vf.Od8txDbKSSelToVg1oc1VA?version=21\n",
      "Item Version: urn:adsk.wipprod:fs.file:vf.Od8txDbKSSelToVg1oc1VA?version=20\n",
      "Item Version: urn:adsk.wipprod:fs.file:vf.Od8txDbKSSelToVg1oc1VA?version=19\n",
      "Item Version: urn:adsk.wipprod:fs.file:vf.Od8txDbKSSelToVg1oc1VA?version=18\n",
      "Item Version: urn:adsk.wipprod:fs.file:vf.Od8txDbKSSelToVg1oc1VA?version=17\n",
      "Item Version: urn:adsk.wipprod:fs.file:vf.Od8txDbKSSelToVg1oc1VA?version=16\n",
      "Item Version: urn:adsk.wipprod:fs.file:vf.Od8txDbKSSelToVg1oc1VA?version=15\n",
      "Item Version: urn:adsk.wipprod:fs.file:vf.Od8txDbKSSelToVg1oc1VA?version=14\n",
      "Item Version: urn:adsk.wipprod:fs.file:vf.Od8txDbKSSelToVg1oc1VA?version=13\n",
      "Item Version: urn:adsk.wipprod:fs.file:vf.Od8txDbKSSelToVg1oc1VA?version=12\n",
      "Item Version: urn:adsk.wipprod:fs.file:vf.Od8txDbKSSelToVg1oc1VA?version=11\n",
      "Item Version: urn:adsk.wipprod:fs.file:vf.Od8txDbKSSelToVg1oc1VA?version=10\n",
      "Item Version: urn:adsk.wipprod:fs.file:vf.Od8txDbKSSelToVg1oc1VA?version=9\n",
      "Item Version: urn:adsk.wipprod:fs.file:vf.Od8txDbKSSelToVg1oc1VA?version=8\n",
      "Item Version: urn:adsk.wipprod:fs.file:vf.Od8txDbKSSelToVg1oc1VA?version=7\n",
      "Item Version: urn:adsk.wipprod:fs.file:vf.Od8txDbKSSelToVg1oc1VA?version=6\n",
      "Item Version: urn:adsk.wipprod:fs.file:vf.Od8txDbKSSelToVg1oc1VA?version=5\n",
      "Item Version: urn:adsk.wipprod:fs.file:vf.Od8txDbKSSelToVg1oc1VA?version=4\n",
      "Item Version: urn:adsk.wipprod:fs.file:vf.Od8txDbKSSelToVg1oc1VA?version=3\n",
      "Item Version: urn:adsk.wipprod:fs.file:vf.Od8txDbKSSelToVg1oc1VA?version=2\n",
      "Item Version: urn:adsk.wipprod:fs.file:vf.Od8txDbKSSelToVg1oc1VA?version=1\n"
     ]
    }
   ],
   "source": [
    "string itemId = \"urn:adsk.wipprod:dm.lineage:Od8txDbKSSelToVg1oc1VA\";\n",
    "var itemVersions = bim360.GetItemVersions(projectId, itemId);\n",
    "foreach (var itemVersion in itemVersions)\n",
    "{\n",
    "    dynamic itemVersionw = itemVersion.Value;\n",
    "    Console.WriteLine(\"Item Version: \" + itemVersionw.id);\n",
    "}"
   ]
  },
  {
   "cell_type": "code",
   "execution_count": 11,
   "metadata": {
    "dotnet_interactive": {
     "language": "csharp"
    },
    "polyglot_notebook": {
     "kernelName": "csharp"
    },
    "vscode": {
     "languageId": "polyglot-notebook"
    }
   },
   "outputs": [
    {
     "name": "stdout",
     "output_type": "stream",
     "text": [
      "Latest Item Version Id: urn:adsk.wipprod:fs.file:vf.Od8txDbKSSelToVg1oc1VA?version=28\r\n"
     ]
    }
   ],
   "source": [
    "var latestItem = bim360.GetLatestVersionItem(projectId, itemId);\n",
    "Console.WriteLine(\"Latest Item Version Id: \" + latestItem.id);"
   ]
  },
  {
   "cell_type": "markdown",
   "metadata": {},
   "source": [
    "## URN"
   ]
  },
  {
   "cell_type": "markdown",
   "metadata": {},
   "source": [
    "In Autodesk Forge, a URN (Uniform Resource Name) is a unique identifier for a specific resource, such as a design file or version of a file. \n",
    "\n",
    "A derivative, on the other hand, is a representation of a design file in a different format. For example, a 3D model might have derivatives that are 2D drawings, thumbnail images, or files in different 3D formats. \n",
    "\n",
    "When you upload a design file to Autodesk Forge, it creates a URN for that file and generates derivatives. These derivatives are also associated with their own unique URNs. \n",
    "\n",
    "You can use these URNs to retrieve specific resources through the Forge APIs. For example, you might retrieve a derivative to display a 3D model in a web browser, or to download a 2D drawing. \n",
    "\n",
    "In summary, a URN derivative in Autodesk Forge is a unique identifier for a specific representation of a design file."
   ]
  },
  {
   "cell_type": "code",
   "execution_count": 12,
   "metadata": {
    "dotnet_interactive": {
     "language": "csharp"
    },
    "polyglot_notebook": {
     "kernelName": "csharp"
    },
    "vscode": {
     "languageId": "polyglot-notebook"
    }
   },
   "outputs": [
    {
     "name": "stdout",
     "output_type": "stream",
     "text": [
      "Derivative Urn: dXJuOmFkc2sud2lwcHJvZDpmcy5maWxlOnZmLk9kOHR4RGJLU1NlbFRvVmcxb2MxVkE_dmVyc2lvbj0yOA\r\n"
     ]
    }
   ],
   "source": [
    "string itemId = \"urn:adsk.wipprod:dm.lineage:Od8txDbKSSelToVg1oc1VA\";\n",
    "var derivativeUrn = bim360.GetDerivativesUrn(projectId, itemId, 28);\n",
    "Console.WriteLine(\"Derivative Urn: \" + derivativeUrn);"
   ]
  },
  {
   "cell_type": "markdown",
   "metadata": {},
   "source": [
    "Congratulations! You've learned about the key concepts in Autodesk Forge, including Hubs, Projects, Folders, Items, and URNs. These concepts are the building blocks of the Autodesk Forge platform, and understanding them is crucial for working effectively with design data and collaborating with others."
   ]
  }
 ],
 "metadata": {
  "language_info": {
   "name": "python"
  }
 },
 "nbformat": 4,
 "nbformat_minor": 2
}
