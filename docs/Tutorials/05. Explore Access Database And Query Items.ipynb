{
 "cells": [
  {
   "cell_type": "code",
   "execution_count": 2,
   "metadata": {
    "dotnet_interactive": {
     "language": "csharp"
    },
    "polyglot_notebook": {
     "kernelName": "csharp"
    },
    "vscode": {
     "languageId": "polyglot-notebook"
    }
   },
   "outputs": [
    {
     "data": {
      "text/html": [
       "<div><div></div><div></div><div><strong>Installed Packages</strong><ul><li><span>APSToolkit, 1.0.4</span></li></ul></div></div>"
      ]
     },
     "metadata": {},
     "output_type": "display_data"
    }
   ],
   "source": [
    "#r \"nuget:APSToolkit\""
   ]
  },
  {
   "cell_type": "code",
   "execution_count": 3,
   "metadata": {
    "dotnet_interactive": {
     "language": "csharp"
    },
    "polyglot_notebook": {
     "kernelName": "csharp"
    },
    "vscode": {
     "languageId": "polyglot-notebook"
    }
   },
   "outputs": [],
   "source": [
    "using APSToolkit;\n",
    "using Autodesk.Forge;\n",
    "using APSToolkit.Database;"
   ]
  },
  {
   "cell_type": "markdown",
   "metadata": {},
   "source": [
    "## Auth"
   ]
  },
  {
   "cell_type": "code",
   "execution_count": 7,
   "metadata": {
    "dotnet_interactive": {
     "language": "csharp"
    },
    "polyglot_notebook": {
     "kernelName": "csharp"
    },
    "vscode": {
     "languageId": "polyglot-notebook"
    }
   },
   "outputs": [],
   "source": [
    "using APSToolkit.Auth;\n",
    "var token = Authentication.Get2LeggedToken().Result;"
   ]
  },
  {
   "cell_type": "code",
   "execution_count": 14,
   "metadata": {
    "dotnet_interactive": {
     "language": "csharp"
    },
    "polyglot_notebook": {
     "kernelName": "csharp"
    },
    "vscode": {
     "languageId": "polyglot-notebook"
    }
   },
   "outputs": [],
   "source": [
    "// please visit tutorial : 03.Explore Versions Item and Derivative Urn to get the urn\n",
    "string urn = \"dXJuOmFkc2sud2lwcHJvZDpmcy5maWxlOnZmLk9kOHR4RGJLU1NlbFRvVmcxb2MxVkE_dmVyc2lvbj0z\";"
   ]
  },
  {
   "cell_type": "markdown",
   "metadata": {},
   "source": [
    "## Database Reader"
   ]
  },
  {
   "cell_type": "code",
   "execution_count": 8,
   "metadata": {
    "dotnet_interactive": {
     "language": "csharp"
    },
    "polyglot_notebook": {
     "kernelName": "csharp"
    },
    "vscode": {
     "languageId": "polyglot-notebook"
    }
   },
   "outputs": [],
   "source": [
    "var DbReader = new DbReader(urn, token);"
   ]
  },
  {
   "cell_type": "markdown",
   "metadata": {},
   "source": [
    "#### Read Query Database ElementId"
   ]
  },
  {
   "cell_type": "code",
   "execution_count": 13,
   "metadata": {
    "dotnet_interactive": {
     "language": "csharp"
    },
    "polyglot_notebook": {
     "kernelName": "csharp"
    },
    "vscode": {
     "languageId": "polyglot-notebook"
    }
   },
   "outputs": [
    {
     "name": "stdout",
     "output_type": "stream",
     "text": [
      "4017\n",
      "5\n"
     ]
    }
   ],
   "source": [
    "using System.Data;\n",
    "string sqlQuery = @\"\n",
    "            SELECT _objects_id.id AS dbId, _objects_id.external_id AS externalId, \n",
    "                   _objects_attr.name AS name,_objects_attr.display_name AS propName , \n",
    "                   _objects_val.value AS propValue\n",
    "            FROM _objects_eav\n",
    "                INNER JOIN _objects_id ON _objects_eav.entity_id = _objects_id.id\n",
    "                INNER JOIN _objects_attr ON _objects_eav.attribute_id = _objects_attr.id\n",
    "                INNER JOIN _objects_val ON _objects_eav.value_id = _objects_val.id\n",
    "            WHERE name = 'ElementId'\n",
    "            \";\n",
    "// update for get\n",
    "DataTable dataTable = DbReader.ExecuteQuery(sqlQuery);\n",
    "// see how many column and row in the table\n",
    "Console.WriteLine(dataTable.Rows.Count);\n",
    "Console.WriteLine(dataTable.Columns.Count);"
   ]
  },
  {
   "cell_type": "code",
   "execution_count": 15,
   "metadata": {
    "dotnet_interactive": {
     "language": "csharp"
    },
    "polyglot_notebook": {
     "kernelName": "csharp"
    },
    "vscode": {
     "languageId": "polyglot-notebook"
    }
   },
   "outputs": [
    {
     "data": {
      "text/html": [
       "<div><div></div><div></div><div><strong>Installed Packages</strong><ul><li><span>microsoft.data.analysis, 0.20.1</span></li></ul></div></div>"
      ]
     },
     "metadata": {},
     "output_type": "display_data"
    }
   ],
   "source": [
    "#r \"nuget:Microsoft.Data.Analysis\""
   ]
  },
  {
   "cell_type": "code",
   "execution_count": 30,
   "metadata": {
    "dotnet_interactive": {
     "language": "csharp"
    },
    "polyglot_notebook": {
     "kernelName": "csharp"
    },
    "vscode": {
     "languageId": "polyglot-notebook"
    }
   },
   "outputs": [
    {
     "data": {
      "text/html": [
       "<table id=\"table_638446382092467731\"><thead><tr><th><i>index</i></th><th>dbId</th><th>externalId</th><th>name</th><th>propName</th><th>propValue</th></tr></thead><tbody><tr><td><i><div class=\"dni-plaintext\"><pre>0</pre></div></i></td><td>40</td><td>9693c920-050e-4443-9b38-2491295576d1-00000000</td><td>ElementId</td><td><div class=\"dni-plaintext\"><pre>&lt;null&gt;</pre></div></td><td>0</td></tr><tr><td><i><div class=\"dni-plaintext\"><pre>1</pre></div></i></td><td>42</td><td>9693c920-050e-4443-9b38-2491295576d1-00000001</td><td>ElementId</td><td><div class=\"dni-plaintext\"><pre>&lt;null&gt;</pre></div></td><td>1</td></tr><tr><td><i><div class=\"dni-plaintext\"><pre>2</pre></div></i></td><td>43</td><td>9693c920-050e-4443-9b38-2491295576d1-00000002</td><td>ElementId</td><td><div class=\"dni-plaintext\"><pre>&lt;null&gt;</pre></div></td><td>2</td></tr><tr><td><i><div class=\"dni-plaintext\"><pre>3</pre></div></i></td><td>44</td><td>9693c920-050e-4443-9b38-2491295576d1-00000003</td><td>ElementId</td><td><div class=\"dni-plaintext\"><pre>&lt;null&gt;</pre></div></td><td>3</td></tr><tr><td><i><div class=\"dni-plaintext\"><pre>4</pre></div></i></td><td>45</td><td>9693c920-050e-4443-9b38-2491295576d1-00000004</td><td>ElementId</td><td><div class=\"dni-plaintext\"><pre>&lt;null&gt;</pre></div></td><td>4</td></tr></tbody></table><style>\r\n",
       ".dni-code-hint {\r\n",
       "    font-style: italic;\r\n",
       "    overflow: hidden;\r\n",
       "    white-space: nowrap;\r\n",
       "}\r\n",
       ".dni-treeview {\r\n",
       "    white-space: nowrap;\r\n",
       "}\r\n",
       ".dni-treeview td {\r\n",
       "    vertical-align: top;\r\n",
       "    text-align: start;\r\n",
       "}\r\n",
       "details.dni-treeview {\r\n",
       "    padding-left: 1em;\r\n",
       "}\r\n",
       "table td {\r\n",
       "    text-align: start;\r\n",
       "}\r\n",
       "table tr { \r\n",
       "    vertical-align: top; \r\n",
       "    margin: 0em 0px;\r\n",
       "}\r\n",
       "table tr td pre \r\n",
       "{ \r\n",
       "    vertical-align: top !important; \r\n",
       "    margin: 0em 0px !important;\r\n",
       "} \r\n",
       "table th {\r\n",
       "    text-align: start;\r\n",
       "}\r\n",
       "</style>"
      ]
     },
     "metadata": {},
     "output_type": "display_data"
    }
   ],
   "source": [
    "using Microsoft.Data.Analysis;\n",
    "public DataFrame ToDataFrame(DataTable dataTable)\n",
    "    {\n",
    "        DataFrame dataFrame = new DataFrame();\n",
    "        \n",
    "        foreach (DataColumn column in dataTable.Columns)\n",
    "        {\n",
    "            // get values from column cast as string\n",
    "            string[] values = dataTable.AsEnumerable().Select(r => r.Field<object>(column.ColumnName)?.ToString()).ToArray();\n",
    "            DataFrameColumn dataFrameColumn = DataFrameColumn.Create(column.ColumnName, values);\n",
    "            dataFrame.Columns.Add(dataFrameColumn);\n",
    "        }\n",
    "        return dataFrame;\n",
    "        return dataFrame;\n",
    "    }\n",
    "var df = ToDataFrame(dataTable);\n",
    "df = df.Head(5);\n",
    "df"
   ]
  }
 ],
 "metadata": {
  "language_info": {
   "name": "python"
  }
 },
 "nbformat": 4,
 "nbformat_minor": 2
}
