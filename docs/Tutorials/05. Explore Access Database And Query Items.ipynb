{
 "cells": [
  {
   "cell_type": "code",
   "execution_count": 1,
   "metadata": {
    "dotnet_interactive": {
     "language": "csharp"
    },
    "polyglot_notebook": {
     "kernelName": "csharp"
    },
    "vscode": {
     "languageId": "polyglot-notebook"
    }
   },
   "outputs": [
    {
     "data": {
      "text/html": [
       "<div><div></div><div></div><div><strong>Installed Packages</strong><ul><li><span>APSToolkit, 1.0.5</span></li></ul></div></div>"
      ]
     },
     "metadata": {},
     "output_type": "display_data"
    },
    {
     "data": {
      "text/plain": [
       "Loading extensions from `C:\\Users\\vho2\\.nuget\\packages\\microsoft.data.analysis\\0.21.1\\interactive-extensions\\dotnet\\Microsoft.Data.Analysis.Interactive.dll`"
      ]
     },
     "metadata": {},
     "output_type": "display_data"
    }
   ],
   "source": [
    "#r \"nuget: APSToolkit, 1.0.5\""
   ]
  },
  {
   "cell_type": "code",
   "execution_count": 2,
   "metadata": {
    "dotnet_interactive": {
     "language": "csharp"
    },
    "polyglot_notebook": {
     "kernelName": "csharp"
    },
    "vscode": {
     "languageId": "polyglot-notebook"
    }
   },
   "outputs": [],
   "source": [
    "using APSToolkit;\n",
    "using Autodesk.Forge;\n",
    "using APSToolkit.Database;"
   ]
  },
  {
   "cell_type": "markdown",
   "metadata": {},
   "source": [
    "## Auth"
   ]
  },
  {
   "cell_type": "code",
   "execution_count": 3,
   "metadata": {
    "dotnet_interactive": {
     "language": "csharp"
    },
    "polyglot_notebook": {
     "kernelName": "csharp"
    },
    "vscode": {
     "languageId": "polyglot-notebook"
    }
   },
   "outputs": [],
   "source": [
    "using APSToolkit.Auth;\n",
    "var token = Authentication.Get2LeggedToken().Result;"
   ]
  },
  {
   "cell_type": "code",
   "execution_count": 4,
   "metadata": {
    "dotnet_interactive": {
     "language": "csharp"
    },
    "polyglot_notebook": {
     "kernelName": "csharp"
    },
    "vscode": {
     "languageId": "polyglot-notebook"
    }
   },
   "outputs": [],
   "source": [
    "// please visit tutorial : 03.Explore Versions Item and Derivative Urn to get the urn\n",
    "string urn = \"dXJuOmFkc2sud2lwcHJvZDpmcy5maWxlOnZmLk9kOHR4RGJLU1NlbFRvVmcxb2MxVkE_dmVyc2lvbj0z\";"
   ]
  },
  {
   "cell_type": "markdown",
   "metadata": {},
   "source": [
    "## Database Reader"
   ]
  },
  {
   "cell_type": "code",
   "execution_count": 5,
   "metadata": {
    "dotnet_interactive": {
     "language": "csharp"
    },
    "polyglot_notebook": {
     "kernelName": "csharp"
    },
    "vscode": {
     "languageId": "polyglot-notebook"
    }
   },
   "outputs": [],
   "source": [
    "var DbReader = new DbReader(urn, token);"
   ]
  },
  {
   "cell_type": "markdown",
   "metadata": {},
   "source": [
    "#### Read Query Database ElementId"
   ]
  },
  {
   "cell_type": "code",
   "execution_count": 6,
   "metadata": {
    "dotnet_interactive": {
     "language": "csharp"
    },
    "polyglot_notebook": {
     "kernelName": "csharp"
    },
    "vscode": {
     "languageId": "polyglot-notebook"
    }
   },
   "outputs": [],
   "source": [
    "using System.Data;\n",
    "using APSToolkit.Utils;\n",
    "string sqlQuery = @\"\n",
    "            SELECT _objects_id.id AS dbId, _objects_id.external_id AS externalId, \n",
    "                   _objects_attr.name AS name,_objects_attr.display_name AS propName , \n",
    "                   _objects_val.value AS propValue\n",
    "            FROM _objects_eav\n",
    "                INNER JOIN _objects_id ON _objects_eav.entity_id = _objects_id.id\n",
    "                INNER JOIN _objects_attr ON _objects_eav.attribute_id = _objects_attr.id\n",
    "                INNER JOIN _objects_val ON _objects_eav.value_id = _objects_val.id\n",
    "            WHERE name = 'ElementId'\n",
    "            \";\n",
    "// update for get\n",
    "DataTable dataTable = DbReader.ExecuteQuery(sqlQuery);\n"
   ]
  },
  {
   "cell_type": "code",
   "execution_count": 13,
   "metadata": {
    "dotnet_interactive": {
     "language": "csharp"
    },
    "polyglot_notebook": {
     "kernelName": "csharp"
    },
    "vscode": {
     "languageId": "polyglot-notebook"
    }
   },
   "outputs": [
    {
     "data": {
      "text/html": [
       "<table id=\"table_638446431963800952\"><thead><tr><th><i>index</i></th><th>dbId</th><th>externalId</th><th>name</th><th>propName</th><th>propValue</th></tr></thead><tbody><tr><td><i><div class=\"dni-plaintext\"><pre>0</pre></div></i></td><td>40</td><td>9693c920-050e-4443-9b38-2491295576d1-00000000</td><td>ElementId</td><td><div class=\"dni-plaintext\"><pre>&lt;null&gt;</pre></div></td><td>0</td></tr><tr><td><i><div class=\"dni-plaintext\"><pre>1</pre></div></i></td><td>42</td><td>9693c920-050e-4443-9b38-2491295576d1-00000001</td><td>ElementId</td><td><div class=\"dni-plaintext\"><pre>&lt;null&gt;</pre></div></td><td>1</td></tr><tr><td><i><div class=\"dni-plaintext\"><pre>2</pre></div></i></td><td>43</td><td>9693c920-050e-4443-9b38-2491295576d1-00000002</td><td>ElementId</td><td><div class=\"dni-plaintext\"><pre>&lt;null&gt;</pre></div></td><td>2</td></tr><tr><td><i><div class=\"dni-plaintext\"><pre>3</pre></div></i></td><td>44</td><td>9693c920-050e-4443-9b38-2491295576d1-00000003</td><td>ElementId</td><td><div class=\"dni-plaintext\"><pre>&lt;null&gt;</pre></div></td><td>3</td></tr><tr><td><i><div class=\"dni-plaintext\"><pre>4</pre></div></i></td><td>45</td><td>9693c920-050e-4443-9b38-2491295576d1-00000004</td><td>ElementId</td><td><div class=\"dni-plaintext\"><pre>&lt;null&gt;</pre></div></td><td>4</td></tr></tbody></table><style>\r\n",
       ".dni-code-hint {\r\n",
       "    font-style: italic;\r\n",
       "    overflow: hidden;\r\n",
       "    white-space: nowrap;\r\n",
       "}\r\n",
       ".dni-treeview {\r\n",
       "    white-space: nowrap;\r\n",
       "}\r\n",
       ".dni-treeview td {\r\n",
       "    vertical-align: top;\r\n",
       "    text-align: start;\r\n",
       "}\r\n",
       "details.dni-treeview {\r\n",
       "    padding-left: 1em;\r\n",
       "}\r\n",
       "table td {\r\n",
       "    text-align: start;\r\n",
       "}\r\n",
       "table tr { \r\n",
       "    vertical-align: top; \r\n",
       "    margin: 0em 0px;\r\n",
       "}\r\n",
       "table tr td pre \r\n",
       "{ \r\n",
       "    vertical-align: top !important; \r\n",
       "    margin: 0em 0px !important;\r\n",
       "} \r\n",
       "table th {\r\n",
       "    text-align: start;\r\n",
       "}\r\n",
       "</style>"
      ]
     },
     "metadata": {},
     "output_type": "display_data"
    }
   ],
   "source": [
    "var df = dataTable.ToDataFrame();\n",
    "df.Head(5)"
   ]
  },
  {
   "cell_type": "markdown",
   "metadata": {},
   "source": [
    "#### Read Query Database By ExternalId"
   ]
  },
  {
   "cell_type": "code",
   "execution_count": 17,
   "metadata": {
    "dotnet_interactive": {
     "language": "csharp"
    },
    "polyglot_notebook": {
     "kernelName": "csharp"
    },
    "vscode": {
     "languageId": "polyglot-notebook"
    }
   },
   "outputs": [
    {
     "data": {
      "text/html": [
       "<table id=\"table_638446432578317426\"><thead><tr><th><i>index</i></th><th>dbId</th><th>externalId</th><th>name</th><th>propName</th><th>propValue</th></tr></thead><tbody><tr><td><i><div class=\"dni-plaintext\"><pre>0</pre></div></i></td><td>3528</td><td>5bb069ca-e4fe-4e63-be31-f8ac44e80d30-00046bfe</td><td>ElementId</td><td><div class=\"dni-plaintext\"><pre>&lt;null&gt;</pre></div></td><td>289790</td></tr><tr><td><i><div class=\"dni-plaintext\"><pre>1</pre></div></i></td><td>3528</td><td>5bb069ca-e4fe-4e63-be31-f8ac44e80d30-00046bfe</td><td>name</td><td><div class=\"dni-plaintext\"><pre>&lt;null&gt;</pre></div></td><td>Seating-LAMMHULTS-PENNE-Chair [289790]</td></tr><tr><td><i><div class=\"dni-plaintext\"><pre>2</pre></div></i></td><td>3528</td><td>5bb069ca-e4fe-4e63-be31-f8ac44e80d30-00046bfe</td><td>Category</td><td><div class=\"dni-plaintext\"><pre>&lt;null&gt;</pre></div></td><td>Revit Furniture</td></tr><tr><td><i><div class=\"dni-plaintext\"><pre>3</pre></div></i></td><td>3528</td><td>5bb069ca-e4fe-4e63-be31-f8ac44e80d30-00046bfe</td><td>CategoryId</td><td><div class=\"dni-plaintext\"><pre>&lt;null&gt;</pre></div></td><td>-2000080</td></tr><tr><td><i><div class=\"dni-plaintext\"><pre>4</pre></div></i></td><td>3528</td><td>5bb069ca-e4fe-4e63-be31-f8ac44e80d30-00046bfe</td><td>parent</td><td><div class=\"dni-plaintext\"><pre>&lt;null&gt;</pre></div></td><td>3527</td></tr><tr><td><i><div class=\"dni-plaintext\"><pre>5</pre></div></i></td><td>3528</td><td>5bb069ca-e4fe-4e63-be31-f8ac44e80d30-00046bfe</td><td>instanceof_objid</td><td><div class=\"dni-plaintext\"><pre>&lt;null&gt;</pre></div></td><td>3526</td></tr><tr><td><i><div class=\"dni-plaintext\"><pre>6</pre></div></i></td><td>3528</td><td>5bb069ca-e4fe-4e63-be31-f8ac44e80d30-00046bfe</td><td>Level</td><td><div class=\"dni-plaintext\"><pre>&lt;null&gt;</pre></div></td><td>2</td></tr><tr><td><i><div class=\"dni-plaintext\"><pre>7</pre></div></i></td><td>3528</td><td>5bb069ca-e4fe-4e63-be31-f8ac44e80d30-00046bfe</td><td>IFC Predefined Type</td><td>IFC Predefined Type</td><td></td></tr><tr><td><i><div class=\"dni-plaintext\"><pre>8</pre></div></i></td><td>3528</td><td>5bb069ca-e4fe-4e63-be31-f8ac44e80d30-00046bfe</td><td>Export to IFC As</td><td>Export to IFC As</td><td></td></tr><tr><td><i><div class=\"dni-plaintext\"><pre>9</pre></div></i></td><td>3528</td><td>5bb069ca-e4fe-4e63-be31-f8ac44e80d30-00046bfe</td><td>Export to IFC</td><td>Export to IFC</td><td>By Type</td></tr></tbody></table><style>\r\n",
       ".dni-code-hint {\r\n",
       "    font-style: italic;\r\n",
       "    overflow: hidden;\r\n",
       "    white-space: nowrap;\r\n",
       "}\r\n",
       ".dni-treeview {\r\n",
       "    white-space: nowrap;\r\n",
       "}\r\n",
       ".dni-treeview td {\r\n",
       "    vertical-align: top;\r\n",
       "    text-align: start;\r\n",
       "}\r\n",
       "details.dni-treeview {\r\n",
       "    padding-left: 1em;\r\n",
       "}\r\n",
       "table td {\r\n",
       "    text-align: start;\r\n",
       "}\r\n",
       "table tr { \r\n",
       "    vertical-align: top; \r\n",
       "    margin: 0em 0px;\r\n",
       "}\r\n",
       "table tr td pre \r\n",
       "{ \r\n",
       "    vertical-align: top !important; \r\n",
       "    margin: 0em 0px !important;\r\n",
       "} \r\n",
       "table th {\r\n",
       "    text-align: start;\r\n",
       "}\r\n",
       "</style>"
      ]
     },
     "metadata": {},
     "output_type": "display_data"
    }
   ],
   "source": [
    "string sqlQuery = $@\"\n",
    "        SELECT _objects_id.id AS dbId, _objects_id.external_id AS externalId, \n",
    "                _objects_attr.name AS name,_objects_attr.display_name AS propName , \n",
    "                _objects_val.value AS propValue\n",
    "        FROM _objects_eav\n",
    "            INNER JOIN _objects_id ON _objects_eav.entity_id = _objects_id.id\n",
    "            INNER JOIN _objects_attr ON _objects_eav.attribute_id = _objects_attr.id\n",
    "            INNER JOIN _objects_val ON _objects_eav.value_id = _objects_val.id\n",
    "        WHERE externalId = '5bb069ca-e4fe-4e63-be31-f8ac44e80d30-00046bfe'\n",
    "        \";\n",
    "    // update for get\n",
    "DataTable dataTable = DbReader.ExecuteQuery(sqlQuery);\n",
    "var df = dataTable.ToDataFrame();\n",
    "df.Head(10)"
   ]
  },
  {
   "cell_type": "markdown",
   "metadata": {},
   "source": [
    "#### Get All Public Property"
   ]
  },
  {
   "cell_type": "code",
   "execution_count": 18,
   "metadata": {
    "dotnet_interactive": {
     "language": "csharp"
    },
    "polyglot_notebook": {
     "kernelName": "csharp"
    },
    "vscode": {
     "languageId": "polyglot-notebook"
    }
   },
   "outputs": [
    {
     "data": {
      "text/html": [
       "<table id=\"table_638446433025118651\"><thead><tr><th><i>index</i></th><th>dbid</th><th>category</th><th>name</th><th>value</th></tr></thead><tbody><tr><td><i><div class=\"dni-plaintext\"><pre>0</pre></div></i></td><td>1</td><td>Identity Data</td><td>Organization Name</td><td></td></tr><tr><td><i><div class=\"dni-plaintext\"><pre>1</pre></div></i></td><td>1</td><td>Identity Data</td><td>Organization Description</td><td></td></tr><tr><td><i><div class=\"dni-plaintext\"><pre>2</pre></div></i></td><td>1</td><td>Identity Data</td><td>Building Name</td><td></td></tr><tr><td><i><div class=\"dni-plaintext\"><pre>3</pre></div></i></td><td>1</td><td>Identity Data</td><td>Author</td><td></td></tr><tr><td><i><div class=\"dni-plaintext\"><pre>4</pre></div></i></td><td>1</td><td>IFC Parameters</td><td>IfcSite GUID</td><td></td></tr><tr><td><i><div class=\"dni-plaintext\"><pre>5</pre></div></i></td><td>1</td><td>IFC Parameters</td><td>IfcBuilding GUID</td><td></td></tr><tr><td><i><div class=\"dni-plaintext\"><pre>6</pre></div></i></td><td>1</td><td>IFC Parameters</td><td>IfcProject GUID</td><td></td></tr><tr><td><i><div class=\"dni-plaintext\"><pre>7</pre></div></i></td><td>1</td><td>Other</td><td>Project Issue Date</td><td>Issue Date</td></tr><tr><td><i><div class=\"dni-plaintext\"><pre>8</pre></div></i></td><td>1</td><td>Other</td><td>Project Status</td><td>Project Status</td></tr><tr><td><i><div class=\"dni-plaintext\"><pre>9</pre></div></i></td><td>1</td><td>Other</td><td>Client Name</td><td>Owner</td></tr></tbody></table><style>\r\n",
       ".dni-code-hint {\r\n",
       "    font-style: italic;\r\n",
       "    overflow: hidden;\r\n",
       "    white-space: nowrap;\r\n",
       "}\r\n",
       ".dni-treeview {\r\n",
       "    white-space: nowrap;\r\n",
       "}\r\n",
       ".dni-treeview td {\r\n",
       "    vertical-align: top;\r\n",
       "    text-align: start;\r\n",
       "}\r\n",
       "details.dni-treeview {\r\n",
       "    padding-left: 1em;\r\n",
       "}\r\n",
       "table td {\r\n",
       "    text-align: start;\r\n",
       "}\r\n",
       "table tr { \r\n",
       "    vertical-align: top; \r\n",
       "    margin: 0em 0px;\r\n",
       "}\r\n",
       "table tr td pre \r\n",
       "{ \r\n",
       "    vertical-align: top !important; \r\n",
       "    margin: 0em 0px !important;\r\n",
       "} \r\n",
       "table th {\r\n",
       "    text-align: start;\r\n",
       "}\r\n",
       "</style>"
      ]
     },
     "metadata": {},
     "output_type": "display_data"
    }
   ],
   "source": [
    "string sqlQuery = $@\"\n",
    "      SELECT ids.id AS dbid, attrs.category AS category, COALESCE(NULLIF(attrs.display_name, ''), \n",
    "      attrs.name) AS name, vals.value AS value\n",
    "   FROM _objects_eav eav\n",
    "   LEFT JOIN _objects_id ids ON ids.id = eav.entity_id\n",
    "   LEFT JOIN _objects_attr attrs ON attrs.id = eav.attribute_id\n",
    "   LEFT JOIN _objects_val vals on vals.id = eav.value_id\n",
    "   WHERE category NOT LIKE '\\_\\_%\\_\\_' ESCAPE '\\' /* skip internal properties */\n",
    "   ORDER BY dbid\n",
    "   \";\n",
    "// update for get\n",
    "DataTable dataTable = DbReader.ExecuteQuery(sqlQuery);\n",
    "var df = dataTable.ToDataFrame();\n",
    "df.Head(10)"
   ]
  },
  {
   "cell_type": "markdown",
   "metadata": {},
   "source": [
    "#### Read Query Database By Revit Category"
   ]
  },
  {
   "cell_type": "code",
   "execution_count": 19,
   "metadata": {
    "dotnet_interactive": {
     "language": "csharp"
    },
    "polyglot_notebook": {
     "kernelName": "csharp"
    },
    "vscode": {
     "languageId": "polyglot-notebook"
    }
   },
   "outputs": [
    {
     "data": {
      "text/html": [
       "<table id=\"table_638446433406698966\"><thead><tr><th><i>index</i></th><th>dbId</th><th>externalId</th><th>name</th><th>propName</th><th>propValue</th></tr></thead><tbody><tr><td><i><div class=\"dni-plaintext\"><pre>0</pre></div></i></td><td>39</td><td>d8cf3969-91e1-4648-a9c0-45deeef5dff9</td><td>_RC</td><td><div class=\"dni-plaintext\"><pre>&lt;null&gt;</pre></div></td><td>Phases</td></tr><tr><td><i><div class=\"dni-plaintext\"><pre>1</pre></div></i></td><td>41</td><td>0d061783-df47-49d5-8ccd-a463a00d457c</td><td>_RC</td><td><div class=\"dni-plaintext\"><pre>&lt;null&gt;</pre></div></td><td></td></tr><tr><td><i><div class=\"dni-plaintext\"><pre>2</pre></div></i></td><td>65</td><td>82a5a7ff-fc3b-42ab-8d94-5372b6a7b9d4</td><td>_RC</td><td><div class=\"dni-plaintext\"><pre>&lt;null&gt;</pre></div></td><td>Materials</td></tr><tr><td><i><div class=\"dni-plaintext\"><pre>3</pre></div></i></td><td>355</td><td>50a85c90-2825-431d-bc64-44a48a595e72</td><td>_RC</td><td><div class=\"dni-plaintext\"><pre>&lt;null&gt;</pre></div></td><td></td></tr><tr><td><i><div class=\"dni-plaintext\"><pre>4</pre></div></i></td><td>357</td><td>651f74a4-dabf-4e7b-b098-519982136a2b-00008c1e</td><td>_RC</td><td><div class=\"dni-plaintext\"><pre>&lt;null&gt;</pre></div></td><td></td></tr><tr><td><i><div class=\"dni-plaintext\"><pre>5</pre></div></i></td><td>361</td><td>1a14422c-d19b-49aa-9ce4-9d9f9d12d0c6</td><td>_RC</td><td><div class=\"dni-plaintext\"><pre>&lt;null&gt;</pre></div></td><td></td></tr><tr><td><i><div class=\"dni-plaintext\"><pre>6</pre></div></i></td><td>363</td><td>651f74a4-dabf-4e7b-b098-519982136a2b-00008c1f</td><td>_RC</td><td><div class=\"dni-plaintext\"><pre>&lt;null&gt;</pre></div></td><td></td></tr><tr><td><i><div class=\"dni-plaintext\"><pre>7</pre></div></i></td><td>405</td><td>76e4bf7a-8b75-4c4a-9a57-2e8ae3e577da</td><td>_RC</td><td><div class=\"dni-plaintext\"><pre>&lt;null&gt;</pre></div></td><td>Primary Contours</td></tr><tr><td><i><div class=\"dni-plaintext\"><pre>8</pre></div></i></td><td>407</td><td>563ec2ae-937d-4783-94f3-fe857edaa1a9</td><td>_RC</td><td><div class=\"dni-plaintext\"><pre>&lt;null&gt;</pre></div></td><td>Area Schemes</td></tr><tr><td><i><div class=\"dni-plaintext\"><pre>9</pre></div></i></td><td>728</td><td>d81bf99e-7704-4219-8758-5d8dec291840</td><td>_RC</td><td><div class=\"dni-plaintext\"><pre>&lt;null&gt;</pre></div></td><td>Elevations</td></tr></tbody></table><style>\r\n",
       ".dni-code-hint {\r\n",
       "    font-style: italic;\r\n",
       "    overflow: hidden;\r\n",
       "    white-space: nowrap;\r\n",
       "}\r\n",
       ".dni-treeview {\r\n",
       "    white-space: nowrap;\r\n",
       "}\r\n",
       ".dni-treeview td {\r\n",
       "    vertical-align: top;\r\n",
       "    text-align: start;\r\n",
       "}\r\n",
       "details.dni-treeview {\r\n",
       "    padding-left: 1em;\r\n",
       "}\r\n",
       "table td {\r\n",
       "    text-align: start;\r\n",
       "}\r\n",
       "table tr { \r\n",
       "    vertical-align: top; \r\n",
       "    margin: 0em 0px;\r\n",
       "}\r\n",
       "table tr td pre \r\n",
       "{ \r\n",
       "    vertical-align: top !important; \r\n",
       "    margin: 0em 0px !important;\r\n",
       "} \r\n",
       "table th {\r\n",
       "    text-align: start;\r\n",
       "}\r\n",
       "</style>"
      ]
     },
     "metadata": {},
     "output_type": "display_data"
    }
   ],
   "source": [
    "string sqlQuery = @\"\n",
    "    SELECT _objects_id.id AS dbId, _objects_id.external_id AS externalId,\n",
    "            _objects_attr.name AS name,_objects_attr.display_name AS propName , \n",
    "            _objects_val.value AS propValue\n",
    "    FROM _objects_eav\n",
    "        INNER JOIN _objects_id ON _objects_eav.entity_id = _objects_id.id\n",
    "        INNER JOIN _objects_attr ON _objects_eav.attribute_id = _objects_attr.id\n",
    "        INNER JOIN _objects_val ON _objects_eav.value_id = _objects_val.id\n",
    "    WHERE name LIKE '_RC' ESCAPE '\\'\n",
    "    \";\n",
    "// update for get\n",
    "DataTable dataTable = DbReader.ExecuteQuery(sqlQuery);\n",
    "var df = dataTable.ToDataFrame();\n",
    "df.Head(10)"
   ]
  },
  {
   "cell_type": "code",
   "execution_count": 22,
   "metadata": {
    "dotnet_interactive": {
     "language": "csharp"
    },
    "polyglot_notebook": {
     "kernelName": "csharp"
    },
    "vscode": {
     "languageId": "polyglot-notebook"
    }
   },
   "outputs": [
    {
     "data": {
      "text/html": [
       "<table id=\"table_638446433822938934\"><thead><tr><th><i>index</i></th><th>externalId</th><th>propValue</th></tr></thead><tbody><tr><td><i><div class=\"dni-plaintext\"><pre>0</pre></div></i></td><td>d8cf3969-91e1-4648-a9c0-45deeef5dff9</td><td>Phases</td></tr><tr><td><i><div class=\"dni-plaintext\"><pre>1</pre></div></i></td><td>82a5a7ff-fc3b-42ab-8d94-5372b6a7b9d4</td><td>Materials</td></tr><tr><td><i><div class=\"dni-plaintext\"><pre>2</pre></div></i></td><td>76e4bf7a-8b75-4c4a-9a57-2e8ae3e577da</td><td>Primary Contours</td></tr><tr><td><i><div class=\"dni-plaintext\"><pre>3</pre></div></i></td><td>563ec2ae-937d-4783-94f3-fe857edaa1a9</td><td>Area Schemes</td></tr><tr><td><i><div class=\"dni-plaintext\"><pre>4</pre></div></i></td><td>d81bf99e-7704-4219-8758-5d8dec291840</td><td>Elevations</td></tr><tr><td><i><div class=\"dni-plaintext\"><pre>5</pre></div></i></td><td>9aa5275e-e66c-4a57-a633-0460f43ca58f</td><td>Elevations</td></tr><tr><td><i><div class=\"dni-plaintext\"><pre>6</pre></div></i></td><td>651f74a4-dabf-4e7b-b098-519982136a2b-00008c23</td><td>Elevations</td></tr><tr><td><i><div class=\"dni-plaintext\"><pre>7</pre></div></i></td><td>3abf6d57-de4f-42a0-832f-cddd7019ae91</td><td>Views</td></tr><tr><td><i><div class=\"dni-plaintext\"><pre>8</pre></div></i></td><td>c0294453-f1dd-45c8-a6d9-04ebd412c4af</td><td>Views</td></tr><tr><td><i><div class=\"dni-plaintext\"><pre>9</pre></div></i></td><td>6c7647e8-16aa-4ce2-86cd-6bdfba4251a8</td><td>Viewports</td></tr></tbody></table><style>\r\n",
       ".dni-code-hint {\r\n",
       "    font-style: italic;\r\n",
       "    overflow: hidden;\r\n",
       "    white-space: nowrap;\r\n",
       "}\r\n",
       ".dni-treeview {\r\n",
       "    white-space: nowrap;\r\n",
       "}\r\n",
       ".dni-treeview td {\r\n",
       "    vertical-align: top;\r\n",
       "    text-align: start;\r\n",
       "}\r\n",
       "details.dni-treeview {\r\n",
       "    padding-left: 1em;\r\n",
       "}\r\n",
       "table td {\r\n",
       "    text-align: start;\r\n",
       "}\r\n",
       "table tr { \r\n",
       "    vertical-align: top; \r\n",
       "    margin: 0em 0px;\r\n",
       "}\r\n",
       "table tr td pre \r\n",
       "{ \r\n",
       "    vertical-align: top !important; \r\n",
       "    margin: 0em 0px !important;\r\n",
       "} \r\n",
       "table th {\r\n",
       "    text-align: start;\r\n",
       "}\r\n",
       "</style>"
      ]
     },
     "metadata": {},
     "output_type": "display_data"
    }
   ],
   "source": [
    "string sqlQuery = @\"\n",
    "SELECT DISTINCT _objects_id.external_id AS externalId,\n",
    "            _objects_val.value AS propValue\n",
    "FROM _objects_eav\n",
    "INNER JOIN _objects_id ON _objects_eav.entity_id = _objects_id.id\n",
    "INNER JOIN _objects_attr ON _objects_eav.attribute_id = _objects_attr.id\n",
    "INNER JOIN _objects_val ON _objects_eav.value_id = _objects_val.id\n",
    "WHERE _objects_attr.name LIKE '_RC' AND _objects_val.value IS NOT NULL AND _objects_val.value <> ''\n",
    "\";\n",
    "// update for get\n",
    "DataTable dataTable = DbReader.ExecuteQuery(sqlQuery);\n",
    "var df = dataTable.ToDataFrame();\n",
    "df.Head(10)"
   ]
  },
  {
   "cell_type": "markdown",
   "metadata": {},
   "source": [
    "Congratulations! You have been done with challenge access to the database APS and make a query to get the element by its Id, ExternalId, and Revit Category. Now, let's explore next challenge."
   ]
  }
 ],
 "metadata": {
  "language_info": {
   "name": "python"
  }
 },
 "nbformat": 4,
 "nbformat_minor": 2
}
