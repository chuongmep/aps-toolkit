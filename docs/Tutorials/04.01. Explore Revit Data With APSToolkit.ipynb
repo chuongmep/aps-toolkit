{
 "cells": [
  {
   "cell_type": "code",
   "execution_count": 1,
   "metadata": {
    "dotnet_interactive": {
     "language": "csharp"
    },
    "polyglot_notebook": {
     "kernelName": "csharp"
    }
   },
   "outputs": [
    {
     "data": {
      "text/html": [
       "<div><div></div><div></div><div><strong>Installed Packages</strong><ul><li><span>APSToolkit, 1.0.5</span></li></ul></div></div>"
      ]
     },
     "metadata": {},
     "output_type": "display_data"
    },
    {
     "data": {
      "text/plain": [
       "Loading extensions from `C:\\Users\\vho2\\.nuget\\packages\\microsoft.data.analysis\\0.21.1\\interactive-extensions\\dotnet\\Microsoft.Data.Analysis.Interactive.dll`"
      ]
     },
     "metadata": {},
     "output_type": "display_data"
    }
   ],
   "source": [
    "#r \"nuget:APSToolkit\""
   ]
  },
  {
   "cell_type": "code",
   "execution_count": 2,
   "metadata": {
    "dotnet_interactive": {
     "language": "csharp"
    },
    "polyglot_notebook": {
     "kernelName": "csharp"
    }
   },
   "outputs": [],
   "source": [
    "using APSToolkit;\n",
    "using Autodesk.Forge;\n",
    "using APSToolkit.Database;"
   ]
  },
  {
   "cell_type": "markdown",
   "metadata": {},
   "source": [
    "## Auth"
   ]
  },
  {
   "cell_type": "code",
   "execution_count": 3,
   "metadata": {
    "dotnet_interactive": {
     "language": "csharp"
    },
    "polyglot_notebook": {
     "kernelName": "csharp"
    }
   },
   "outputs": [],
   "source": [
    "using APSToolkit.Auth;\n",
    "var access_token = Authentication.Get2LeggedToken().Result;"
   ]
  },
  {
   "cell_type": "markdown",
   "metadata": {},
   "source": [
    "## URN (Uniform Resource Name)"
   ]
  },
  {
   "cell_type": "markdown",
   "metadata": {},
   "source": [
    "Please see how to get URN at:\n",
    "\n",
    "- [03. Explore Versions Item and Derivative URN.ipynb](./03.%20Explore%20Versions%20Item%20and%20Derivative%20Urn.ipynb)"
   ]
  },
  {
   "cell_type": "code",
   "execution_count": 4,
   "metadata": {
    "dotnet_interactive": {
     "language": "csharp"
    },
    "polyglot_notebook": {
     "kernelName": "csharp"
    }
   },
   "outputs": [],
   "source": [
    "string urn = \"dXJuOmFkc2sud2lwcHJvZDpmcy5maWxlOnZmLk9kOHR4RGJLU1NlbFRvVmcxb2MxVkE_dmVyc2lvbj0z\";"
   ]
  },
  {
   "cell_type": "markdown",
   "metadata": {},
   "source": [
    "## Revit Data "
   ]
  },
  {
   "cell_type": "markdown",
   "metadata": {},
   "source": [
    "#### How to get all categories of Revit Model In ACC ?"
   ]
  },
  {
   "cell_type": "code",
   "execution_count": null,
   "metadata": {
    "dotnet_interactive": {
     "language": "csharp"
    },
    "polyglot_notebook": {
     "kernelName": "csharp"
    }
   },
   "outputs": [],
   "source": [
    "using APSToolkit.Utils;\n",
    "var RevitPropDbReader = new PropDbReaderRevit(urn, access_token);\n",
    "var categories = RevitPropDbReader.GetAllCategories();\n",
    "// return key is dbid, value is category name\n",
    "display(categories);"
   ]
  },
  {
   "cell_type": "markdown",
   "metadata": {},
   "source": [
    "#### How to export all catefories to csv file ? "
   ]
  },
  {
   "cell_type": "code",
   "execution_count": null,
   "metadata": {
    "dotnet_interactive": {
     "language": "csharp"
    },
    "polyglot_notebook": {
     "kernelName": "csharp"
    }
   },
   "outputs": [
    {
     "data": {
      "text/html": [
       "<div class=\"dni-plaintext\"><pre>[ Key\tValue\r, 39\tPhases\r, 65\tMaterials\r, 405\tPrimary Contours\r, 407\tArea Schemes\r, 728\tElevations\r, 735\tViews\r, 800\tViewports\r, 832\tShared Site\r, 878\tWork Plane Grid\r ]</pre></div><style>\r\n",
       ".dni-code-hint {\r\n",
       "    font-style: italic;\r\n",
       "    overflow: hidden;\r\n",
       "    white-space: nowrap;\r\n",
       "}\r\n",
       ".dni-treeview {\r\n",
       "    white-space: nowrap;\r\n",
       "}\r\n",
       ".dni-treeview td {\r\n",
       "    vertical-align: top;\r\n",
       "    text-align: start;\r\n",
       "}\r\n",
       "details.dni-treeview {\r\n",
       "    padding-left: 1em;\r\n",
       "}\r\n",
       "table td {\r\n",
       "    text-align: start;\r\n",
       "}\r\n",
       "table tr { \r\n",
       "    vertical-align: top; \r\n",
       "    margin: 0em 0px;\r\n",
       "}\r\n",
       "table tr td pre \r\n",
       "{ \r\n",
       "    vertical-align: top !important; \r\n",
       "    margin: 0em 0px !important;\r\n",
       "} \r\n",
       "table th {\r\n",
       "    text-align: start;\r\n",
       "}\r\n",
       "</style>"
      ]
     },
     "metadata": {},
     "output_type": "display_data"
    }
   ],
   "source": [
    "categories.ExportToCsv(\"result.csv\");\n",
    "// read the csv file\n",
    "var csv = System.IO.File.ReadAllText(\"result.csv\");\n",
    "// just show 10 lines\n",
    "csv.Split(\"\\n\").Take(10)\n"
   ]
  },
  {
   "cell_type": "markdown",
   "metadata": {},
   "source": [
    "#### How to export all data to excel ? "
   ]
  },
  {
   "cell_type": "code",
   "execution_count": null,
   "metadata": {
    "dotnet_interactive": {
     "language": "csharp"
    },
    "polyglot_notebook": {
     "kernelName": "csharp"
    }
   },
   "outputs": [],
   "source": [
    "RevitPropDbReader.ExportAllDataToExcel(\"result.xlsx\");"
   ]
  },
  {
   "cell_type": "code",
   "execution_count": null,
   "metadata": {
    "dotnet_interactive": {
     "language": "csharp"
    },
    "polyglot_notebook": {
     "kernelName": "csharp"
    }
   },
   "outputs": [
    {
     "data": {
      "text/html": [
       "<table id=\"table_638446460577224599\"><thead><tr><th><i>index</i></th><th>DbId</th><th>ExternalId</th><th>ElementId</th><th>name</th><th>Category</th><th>CategoryId</th><th>View Scale</th><th>Scale Value    1:</th><th>Display Model</th><th>Detail Level</th><th>Parts Visibility</th><th>V/G Overrides Model</th><th>V/G Overrides Annotation</th><th>V/G Overrides Analytical Model</th><th>V/G Overrides Import</th><th>V/G Overrides Filters</th><th>V/G Overrides Worksets</th><th>V/G Overrides Point Clouds</th><th>Model Display</th><th>Shadows</th><th>Sketchy Lines</th><th>Lighting</th><th>Photographic Exposure</th><th>Underlay Orientation</th><th>View Range</th><th>Orientation</th><th>Phase Filter</th><th>Discipline</th><th>Show Hidden Lines</th><th>Color Scheme Location</th><th>Color Scheme</th><th>System Color Schemes</th><th>Depth Clipping</th><th>Workset</th><th>Edited by</th><th>Sun Path</th><th>Depth Cueing</th><th>Background</th><th>Far Clipping</th><th>Rendering Settings</th></tr></thead><tbody><tr><td><i><div class=\"dni-plaintext\"><pre>0</pre></div></i></td><td>759</td><td>8ba265ee-debf-4b65-a77a-52060c81238b-00001097</td><td>4247</td><td>Architectural Plan [4247]</td><td>Revit Views</td><td>-2000279</td><td>Custom</td><td>96</td><td>Normal</td><td>Coarse</td><td>Show Original</td><td></td><td></td><td></td><td></td><td></td><td></td><td></td><td></td><td></td><td></td><td></td><td></td><td>Look down</td><td></td><td>Project North</td><td>Show All</td><td>Architectural</td><td>By Discipline</td><td>Background</td><td></td><td></td><td>0</td><td>View Template &quot;Architectural Plan&quot;</td><td></td><td>0</td><td><div class=\"dni-plaintext\"><pre>&lt;null&gt;</pre></div></td><td><div class=\"dni-plaintext\"><pre>&lt;null&gt;</pre></div></td><td><div class=\"dni-plaintext\"><pre>&lt;null&gt;</pre></div></td><td><div class=\"dni-plaintext\"><pre>&lt;null&gt;</pre></div></td></tr><tr><td><i><div class=\"dni-plaintext\"><pre>1</pre></div></i></td><td>760</td><td>9a0580b5-ea0d-40f1-a077-044e8f89a210-00001098</td><td>4248</td><td>Architectural Elevation [4248]</td><td>Revit Views</td><td>-2000279</td><td>Custom</td><td>96</td><td>Normal</td><td>Medium</td><td>Show Original</td><td></td><td></td><td></td><td></td><td></td><td></td><td></td><td></td><td></td><td></td><td></td><td></td><td><div class=\"dni-plaintext\"><pre>&lt;null&gt;</pre></div></td><td><div class=\"dni-plaintext\"><pre>&lt;null&gt;</pre></div></td><td><div class=\"dni-plaintext\"><pre>&lt;null&gt;</pre></div></td><td>Show All</td><td>Architectural</td><td>By Discipline</td><td>Background</td><td></td><td><div class=\"dni-plaintext\"><pre>&lt;null&gt;</pre></div></td><td><div class=\"dni-plaintext\"><pre>&lt;null&gt;</pre></div></td><td>View Template &quot;Architectural Elevation&quot;</td><td></td><td>0</td><td></td><td></td><td>0</td><td><div class=\"dni-plaintext\"><pre>&lt;null&gt;</pre></div></td></tr></tbody></table><style>\r\n",
       ".dni-code-hint {\r\n",
       "    font-style: italic;\r\n",
       "    overflow: hidden;\r\n",
       "    white-space: nowrap;\r\n",
       "}\r\n",
       ".dni-treeview {\r\n",
       "    white-space: nowrap;\r\n",
       "}\r\n",
       ".dni-treeview td {\r\n",
       "    vertical-align: top;\r\n",
       "    text-align: start;\r\n",
       "}\r\n",
       "details.dni-treeview {\r\n",
       "    padding-left: 1em;\r\n",
       "}\r\n",
       "table td {\r\n",
       "    text-align: start;\r\n",
       "}\r\n",
       "table tr { \r\n",
       "    vertical-align: top; \r\n",
       "    margin: 0em 0px;\r\n",
       "}\r\n",
       "table tr td pre \r\n",
       "{ \r\n",
       "    vertical-align: top !important; \r\n",
       "    margin: 0em 0px !important;\r\n",
       "} \r\n",
       "table th {\r\n",
       "    text-align: start;\r\n",
       "}\r\n",
       "</style>"
      ]
     },
     "metadata": {},
     "output_type": "display_data"
    }
   ],
   "source": [
    "using APSToolkit.Utils;\n",
    "// read excel file\n",
    "var df = DataFrame.LoadFromExcel(\"result.xlsx\",\"Views\");\n",
    "df.Head(2)"
   ]
  },
  {
   "cell_type": "markdown",
   "metadata": {},
   "source": [
    "#### How to export data by category to excel ?"
   ]
  },
  {
   "cell_type": "code",
   "execution_count": null,
   "metadata": {
    "dotnet_interactive": {
     "language": "csharp"
    },
    "polyglot_notebook": {
     "kernelName": "csharp"
    }
   },
   "outputs": [],
   "source": [
    "RevitPropDbReader.ExportAllDataToExcelByCategory(\"resut.xlsx\", \"Walls\",\"Walls\");"
   ]
  },
  {
   "cell_type": "code",
   "execution_count": null,
   "metadata": {
    "dotnet_interactive": {
     "language": "csharp"
    },
    "polyglot_notebook": {
     "kernelName": "csharp"
    }
   },
   "outputs": [
    {
     "data": {
      "text/html": [
       "<table id=\"table_638446460605393632\"><thead><tr><th><i>index</i></th><th>DbId</th><th>ExternalId</th><th>ElementId</th><th>name</th><th>Category</th><th>CategoryId</th><th>Level</th><th>Structural</th><th>Structural Usage</th><th>Location Line</th><th>Base Constraint</th><th>Image</th><th>Export to IFC</th><th>Export to IFC As</th><th>IFC Predefined Type</th><th>IfcGUID</th><th>Comments</th><th>Mark</th><th>Workset</th><th>Phase Created</th><th>Phase Demolished</th><th>Edited by</th><th>Base Offset</th><th>Base is Attached</th><th>Base Extension Distance</th><th>Top Constraint</th><th>Unconnected Height</th><th>Top Offset</th><th>Top is Attached</th><th>Top Extension Distance</th><th>Room Bounding</th><th>Related to Mass</th><th>Length</th><th>Area</th><th>Volume</th><th>Cross-Section</th><th>Type Name</th><th>viewable_in</th><th>Structure</th><th>Coarse Scale Fill Pattern</th><th>Coarse Scale Fill Color</th><th>Wrapping at Inserts</th><th>Wrapping at Ends</th><th>Width</th><th>Type Image</th><th>Keynote</th><th>Export Type to IFC</th><th>Export Type to IFC As</th><th>Type IFC Predefined Type</th><th>Type IfcGUID</th><th>Model</th><th>Manufacturer</th><th>Type Comments</th><th>URL</th><th>Description</th><th>Structural Material</th><th>Assembly Description</th><th>Assembly Code</th><th>Type Mark</th><th>Fire Rating</th><th>Cost</th><th>Function</th><th>Heat Transfer Coefficient (U)</th><th>Thermal Resistance (R)</th><th>Thermal Mass</th><th>Absorptance</th><th>Roughness</th></tr></thead><tbody><tr><td><i><div class=\"dni-plaintext\"><pre>0</pre></div></i></td><td>3563</td><td>5bb069ca-e4fe-4e63-be31-f8ac44e80d30-0004710e</td><td>291086</td><td>Basic Wall [291086]</td><td>Revit Walls</td><td>-2000011</td><td>2</td><td>0</td><td>Non-bearing</td><td>Core Centerline</td><td>Level 1</td><td></td><td>By Type</td><td></td><td></td><td>1Ri6dAvFvEOxun_An4x7m_</td><td></td><td></td><td>Workset1</td><td>Project Completion</td><td>None</td><td></td><td>0 mm</td><td>0</td><td>0 mm</td><td>Up to level: Level 2</td><td>3048 mm</td><td>0 mm</td><td>0</td><td>0 mm</td><td>1</td><td>0</td><td>2641.6000000000013 mm</td><td>6.6580512000000018 m&#178;</td><td>1.0146870028800001 m&#179;</td><td>Vertical</td><td>Generic - 6&quot;</td><td>f440c2b6-09c3-46da-b5c7-670feedae5cf-000023fc</td><td></td><td></td><td>0</td><td>Do not wrap</td><td>None</td><td>152.4</td><td></td><td></td><td>Default</td><td></td><td></td><td>2MayaW1Gv4Gviu994fLN7w</td><td></td><td></td><td></td><td></td><td></td><td>Concrete, Precast</td><td>Exterior Walls</td><td>B2010</td><td></td><td></td><td>0</td><td>Exterior</td><td>1.2087352502079522</td><td>0.8273110259901485</td><td>11.265750839138736</td><td>0.7</td><td>3</td></tr><tr><td><i><div class=\"dni-plaintext\"><pre>1</pre></div></i></td><td>3564</td><td>5bb069ca-e4fe-4e63-be31-f8ac44e80d30-00047137</td><td>291127</td><td>Basic Wall [291127]</td><td>Revit Walls</td><td>-2000011</td><td>2</td><td>0</td><td>Non-bearing</td><td>Core Centerline</td><td>Level 1</td><td></td><td>By Type</td><td></td><td></td><td>1Ri6dAvFvEOxun_An4x7m7</td><td></td><td></td><td>Workset1</td><td>Project Completion</td><td>None</td><td></td><td>0 mm</td><td>0</td><td>0 mm</td><td>Up to level: Level 2</td><td>3048 mm</td><td>0 mm</td><td>0</td><td>0 mm</td><td>1</td><td>0</td><td>1701.7999999999997 mm</td><td>4.7225712 m&#178;</td><td>0.7197198508799999 m&#179;</td><td>Vertical</td><td>Generic - 6&quot;</td><td>8ba265ee-debf-4b65-a77a-52060c81238b-00000c66</td><td></td><td></td><td>0</td><td>Do not wrap</td><td>None</td><td>152.4</td><td></td><td></td><td>Default</td><td></td><td></td><td>2MayaW1Gv4Gviu994fLN7w</td><td></td><td></td><td></td><td></td><td></td><td>Concrete, Precast</td><td>Exterior Walls</td><td>B2010</td><td></td><td></td><td>0</td><td>Exterior</td><td>1.2087352502079522</td><td>0.8273110259901485</td><td>11.265750839138736</td><td>0.7</td><td>3</td></tr></tbody></table><style>\r\n",
       ".dni-code-hint {\r\n",
       "    font-style: italic;\r\n",
       "    overflow: hidden;\r\n",
       "    white-space: nowrap;\r\n",
       "}\r\n",
       ".dni-treeview {\r\n",
       "    white-space: nowrap;\r\n",
       "}\r\n",
       ".dni-treeview td {\r\n",
       "    vertical-align: top;\r\n",
       "    text-align: start;\r\n",
       "}\r\n",
       "details.dni-treeview {\r\n",
       "    padding-left: 1em;\r\n",
       "}\r\n",
       "table td {\r\n",
       "    text-align: start;\r\n",
       "}\r\n",
       "table tr { \r\n",
       "    vertical-align: top; \r\n",
       "    margin: 0em 0px;\r\n",
       "}\r\n",
       "table tr td pre \r\n",
       "{ \r\n",
       "    vertical-align: top !important; \r\n",
       "    margin: 0em 0px !important;\r\n",
       "} \r\n",
       "table th {\r\n",
       "    text-align: start;\r\n",
       "}\r\n",
       "</style>"
      ]
     },
     "metadata": {},
     "output_type": "display_data"
    }
   ],
   "source": [
    "//visualize the data\n",
    "var df = DataFrame.LoadFromExcel(\"result.xlsx\",\"Walls\");\n",
    "df.Head(2)"
   ]
  },
  {
   "cell_type": "markdown",
   "metadata": {},
   "source": [
    "#### How to export data to big data format like parquet ? "
   ]
  },
  {
   "cell_type": "code",
   "execution_count": null,
   "metadata": {
    "dotnet_interactive": {
     "language": "csharp"
    },
    "polyglot_notebook": {
     "kernelName": "csharp"
    }
   },
   "outputs": [],
   "source": [
    "string dir = \"./parquet\";\n",
    "if (!System.IO.Directory.Exists(dir))\n",
    "{\n",
    "    System.IO.Directory.CreateDirectory(dir);\n",
    "}\n",
    "RevitPropDbReader.ExportAllDataToParquet(dir);"
   ]
  },
  {
   "cell_type": "markdown",
   "metadata": {},
   "source": [
    "#### How to get all data from Revit Model filter by parameters ? "
   ]
  },
  {
   "cell_type": "code",
   "execution_count": null,
   "metadata": {
    "dotnet_interactive": {
     "language": "csharp"
    },
    "polyglot_notebook": {
     "kernelName": "csharp"
    }
   },
   "outputs": [
    {
     "data": {
      "text/html": [
       "<table id=\"table_638446460621529546\"><thead><tr><th><i>index</i></th><th>DbId</th><th>ExternalId</th><th>ElementId</th><th>name</th><th>Category</th><th>Level</th></tr></thead><tbody><tr><td><i><div class=\"dni-plaintext\"><pre>0</pre></div></i></td><td>40</td><td>9693c920-050e-4443-9b38-2491295576d1-00000000</td><td>0</td><td>A10 - Substructure [0]</td><td>Revit Phases</td><td><div class=\"dni-plaintext\"><pre>&lt;null&gt;</pre></div></td></tr><tr><td><i><div class=\"dni-plaintext\"><pre>1</pre></div></i></td><td>43</td><td>9693c920-050e-4443-9b38-2491295576d1-00000002</td><td>2</td><td>01 - Existing [2]</td><td>Revit Phases</td><td><div class=\"dni-plaintext\"><pre>&lt;null&gt;</pre></div></td></tr><tr><td><i><div class=\"dni-plaintext\"><pre>2</pre></div></i></td><td>787</td><td>1946603f-8ed1-4429-9d07-4a2981632975-000020cf</td><td>8399</td><td>02 - Demo [8399]</td><td>Revit Phases</td><td><div class=\"dni-plaintext\"><pre>&lt;null&gt;</pre></div></td></tr><tr><td><i><div class=\"dni-plaintext\"><pre>3</pre></div></i></td><td>788</td><td>1946603f-8ed1-4429-9d07-4a2981632975-000020d1</td><td>8401</td><td>B20 - Exterior Enclosure [8401]</td><td>Revit Phases</td><td><div class=\"dni-plaintext\"><pre>&lt;null&gt;</pre></div></td></tr><tr><td><i><div class=\"dni-plaintext\"><pre>4</pre></div></i></td><td>789</td><td>f440c2b6-09c3-46da-b5c7-670feedae5cf-000020d6</td><td>8406</td><td>C10 - Interior Construction [8406]</td><td>Revit Phases</td><td><div class=\"dni-plaintext\"><pre>&lt;null&gt;</pre></div></td></tr><tr><td><i><div class=\"dni-plaintext\"><pre>5</pre></div></i></td><td>790</td><td>f440c2b6-09c3-46da-b5c7-670feedae5cf-000020d7</td><td>8407</td><td>C20 - Interior Finishes [8407]</td><td>Revit Phases</td><td><div class=\"dni-plaintext\"><pre>&lt;null&gt;</pre></div></td></tr><tr><td><i><div class=\"dni-plaintext\"><pre>6</pre></div></i></td><td>791</td><td>f440c2b6-09c3-46da-b5c7-670feedae5cf-000020d8</td><td>8408</td><td>E20 - Furnishings [8408]</td><td>Revit Phases</td><td><div class=\"dni-plaintext\"><pre>&lt;null&gt;</pre></div></td></tr><tr><td><i><div class=\"dni-plaintext\"><pre>7</pre></div></i></td><td>809</td><td>7e9a3fa0-8db1-47a1-9818-30c61a5dd7c7-00002531</td><td>9521</td><td>Project Completion [9521]</td><td>Revit Phases</td><td><div class=\"dni-plaintext\"><pre>&lt;null&gt;</pre></div></td></tr><tr><td><i><div class=\"dni-plaintext\"><pre>8</pre></div></i></td><td>1424</td><td>ffea8391-70d9-4e34-bb2d-23ebf4cfd6b4-00010c26</td><td>68646</td><td>B10 - Superstructure [68646]</td><td>Revit Phases</td><td><div class=\"dni-plaintext\"><pre>&lt;null&gt;</pre></div></td></tr><tr><td><i><div class=\"dni-plaintext\"><pre>9</pre></div></i></td><td>42</td><td>9693c920-050e-4443-9b38-2491295576d1-00000001</td><td>1</td><td>Project Phase Information [1]</td><td>Revit </td><td><div class=\"dni-plaintext\"><pre>&lt;null&gt;</pre></div></td></tr></tbody></table><style>\r\n",
       ".dni-code-hint {\r\n",
       "    font-style: italic;\r\n",
       "    overflow: hidden;\r\n",
       "    white-space: nowrap;\r\n",
       "}\r\n",
       ".dni-treeview {\r\n",
       "    white-space: nowrap;\r\n",
       "}\r\n",
       ".dni-treeview td {\r\n",
       "    vertical-align: top;\r\n",
       "    text-align: start;\r\n",
       "}\r\n",
       "details.dni-treeview {\r\n",
       "    padding-left: 1em;\r\n",
       "}\r\n",
       "table td {\r\n",
       "    text-align: start;\r\n",
       "}\r\n",
       "table tr { \r\n",
       "    vertical-align: top; \r\n",
       "    margin: 0em 0px;\r\n",
       "}\r\n",
       "table tr td pre \r\n",
       "{ \r\n",
       "    vertical-align: top !important; \r\n",
       "    margin: 0em 0px !important;\r\n",
       "} \r\n",
       "table th {\r\n",
       "    text-align: start;\r\n",
       "}\r\n",
       "</style>"
      ]
     },
     "metadata": {},
     "output_type": "display_data"
    }
   ],
   "source": [
    "using System.Data;\n",
    "List<string> parameters = new List<string>()\n",
    "{\n",
    "    \"Category\",\n",
    "    \"ElementId\",\n",
    "    \"name\",\n",
    "    \"Level\",\n",
    "};\n",
    "DataTable dataTable = RevitPropDbReader.GetAllDataByParameter(parameters);\n",
    "var df = DataFrame.LoadFromDataTable(dataTable);\n",
    "df.Head(10)"
   ]
  },
  {
   "cell_type": "markdown",
   "metadata": {},
   "source": [
    "#### How to get all families from Revit Model ?"
   ]
  },
  {
   "cell_type": "code",
   "execution_count": null,
   "metadata": {
    "dotnet_interactive": {
     "language": "csharp"
    },
    "polyglot_notebook": {
     "kernelName": "csharp"
    }
   },
   "outputs": [
    {
     "data": {
      "text/html": [
       "<table><thead><tr><th><i>key</i></th><th>value</th></tr></thead><tbody><tr><td><div class=\"dni-plaintext\"><pre>355</pre></div></td><td><div class=\"dni-plaintext\"><pre>Floor Plan</pre></div></td></tr><tr><td><div class=\"dni-plaintext\"><pre>361</pre></div></td><td><div class=\"dni-plaintext\"><pre>Ceiling Plan</pre></div></td></tr><tr><td><div class=\"dni-plaintext\"><pre>795</pre></div></td><td><div class=\"dni-plaintext\"><pre>Sheet</pre></div></td></tr><tr><td><div class=\"dni-plaintext\"><pre>3481</pre></div></td><td><div class=\"dni-plaintext\"><pre>Schedule</pre></div></td></tr><tr><td><div class=\"dni-plaintext\"><pre>729</pre></div></td><td><div class=\"dni-plaintext\"><pre>Elevation</pre></div></td></tr><tr><td><div class=\"dni-plaintext\"><pre>736</pre></div></td><td><div class=\"dni-plaintext\"><pre>Elevation</pre></div></td></tr><tr><td><div class=\"dni-plaintext\"><pre>801</pre></div></td><td><div class=\"dni-plaintext\"><pre>Viewport</pre></div></td></tr><tr><td><div class=\"dni-plaintext\"><pre>834</pre></div></td><td><div class=\"dni-plaintext\"><pre>Default Site</pre></div></td></tr><tr><td><div class=\"dni-plaintext\"><pre>2098</pre></div></td><td><div class=\"dni-plaintext\"><pre>Project</pre></div></td></tr><tr><td><div class=\"dni-plaintext\"><pre>1036</pre></div></td><td><div class=\"dni-plaintext\"><pre>E1 30 x 42 Horizontal</pre></div></td></tr><tr><td><div class=\"dni-plaintext\"><pre>1264</pre></div></td><td><div class=\"dni-plaintext\"><pre>Text</pre></div></td></tr><tr><td><div class=\"dni-plaintext\"><pre>2311</pre></div></td><td><div class=\"dni-plaintext\"><pre>3D View</pre></div></td></tr><tr><td><div class=\"dni-plaintext\"><pre>3477</pre></div></td><td><div class=\"dni-plaintext\"><pre>Schedule</pre></div></td></tr><tr><td><div class=\"dni-plaintext\"><pre>3501</pre></div></td><td><div class=\"dni-plaintext\"><pre>Point Cloud</pre></div></td></tr><tr><td><div class=\"dni-plaintext\"><pre>3525</pre></div></td><td><div class=\"dni-plaintext\"><pre>Seating-LAMMHULTS-PENNE-Chair</pre></div></td></tr><tr><td><div class=\"dni-plaintext\"><pre>3555</pre></div></td><td><div class=\"dni-plaintext\"><pre>Krevet-002-2</pre></div></td></tr><tr><td><div class=\"dni-plaintext\"><pre>3859</pre></div></td><td><div class=\"dni-plaintext\"><pre>Table</pre></div></td></tr><tr><td><div class=\"dni-plaintext\"><pre>3560</pre></div></td><td><div class=\"dni-plaintext\"><pre>Basic Wall</pre></div></td></tr><tr><td><div class=\"dni-plaintext\"><pre>3570</pre></div></td><td><div class=\"dni-plaintext\"><pre>Single-Flush</pre></div></td></tr><tr><td><div class=\"dni-plaintext\"><pre>3692</pre></div></td><td><div class=\"dni-plaintext\"><pre>F0560 - Wardrobe, Television</pre></div></td></tr><tr><td colspan=\"2\"><i>(12 more)</i></td></tr></tbody></table><style>\r\n",
       ".dni-code-hint {\r\n",
       "    font-style: italic;\r\n",
       "    overflow: hidden;\r\n",
       "    white-space: nowrap;\r\n",
       "}\r\n",
       ".dni-treeview {\r\n",
       "    white-space: nowrap;\r\n",
       "}\r\n",
       ".dni-treeview td {\r\n",
       "    vertical-align: top;\r\n",
       "    text-align: start;\r\n",
       "}\r\n",
       "details.dni-treeview {\r\n",
       "    padding-left: 1em;\r\n",
       "}\r\n",
       "table td {\r\n",
       "    text-align: start;\r\n",
       "}\r\n",
       "table tr { \r\n",
       "    vertical-align: top; \r\n",
       "    margin: 0em 0px;\r\n",
       "}\r\n",
       "table tr td pre \r\n",
       "{ \r\n",
       "    vertical-align: top !important; \r\n",
       "    margin: 0em 0px !important;\r\n",
       "} \r\n",
       "table th {\r\n",
       "    text-align: start;\r\n",
       "}\r\n",
       "</style>"
      ]
     },
     "metadata": {},
     "output_type": "display_data"
    }
   ],
   "source": [
    "var families = RevitPropDbReader.GetAllFamilies();\n",
    "display(families);"
   ]
  },
  {
   "cell_type": "markdown",
   "metadata": {},
   "source": [
    "#### How to get all family type from Revit Model ?"
   ]
  },
  {
   "cell_type": "code",
   "execution_count": null,
   "metadata": {
    "dotnet_interactive": {
     "language": "csharp"
    },
    "polyglot_notebook": {
     "kernelName": "csharp"
    }
   },
   "outputs": [
    {
     "data": {
      "text/html": [
       "<table><thead><tr><th><i>key</i></th><th>value</th></tr></thead><tbody><tr><td><div class=\"dni-plaintext\"><pre>357</pre></div></td><td><div class=\"dni-plaintext\"><pre>Floor Plan</pre></div></td></tr><tr><td><div class=\"dni-plaintext\"><pre>363</pre></div></td><td><div class=\"dni-plaintext\"><pre>Ceiling Plan</pre></div></td></tr><tr><td><div class=\"dni-plaintext\"><pre>797</pre></div></td><td><div class=\"dni-plaintext\"><pre>Sheet</pre></div></td></tr><tr><td><div class=\"dni-plaintext\"><pre>731</pre></div></td><td><div class=\"dni-plaintext\"><pre>Building Elevation</pre></div></td></tr><tr><td><div class=\"dni-plaintext\"><pre>803</pre></div></td><td><div class=\"dni-plaintext\"><pre>Title w Line</pre></div></td></tr><tr><td><div class=\"dni-plaintext\"><pre>834</pre></div></td><td><div class=\"dni-plaintext\"><pre>Location Data</pre></div></td></tr><tr><td><div class=\"dni-plaintext\"><pre>2098</pre></div></td><td><div class=\"dni-plaintext\"><pre>Location Data</pre></div></td></tr><tr><td><div class=\"dni-plaintext\"><pre>1038</pre></div></td><td><div class=\"dni-plaintext\"><pre>E1 30x42 Horizontal</pre></div></td></tr><tr><td><div class=\"dni-plaintext\"><pre>1266</pre></div></td><td><div class=\"dni-plaintext\"><pre>Temporary Notes</pre></div></td></tr><tr><td><div class=\"dni-plaintext\"><pre>2313</pre></div></td><td><div class=\"dni-plaintext\"><pre>3D View</pre></div></td></tr><tr><td><div class=\"dni-plaintext\"><pre>3479</pre></div></td><td><div class=\"dni-plaintext\"><pre>Schedule</pre></div></td></tr><tr><td><div class=\"dni-plaintext\"><pre>3503</pre></div></td><td><div class=\"dni-plaintext\"><pre>HouseComparee57.rcp</pre></div></td></tr><tr><td><div class=\"dni-plaintext\"><pre>3527</pre></div></td><td><div class=\"dni-plaintext\"><pre>Plastic-Seat</pre></div></td></tr><tr><td><div class=\"dni-plaintext\"><pre>3557</pre></div></td><td><div class=\"dni-plaintext\"><pre>190x140 (202,5x150)</pre></div></td></tr><tr><td><div class=\"dni-plaintext\"><pre>3861</pre></div></td><td><div class=\"dni-plaintext\"><pre>Table</pre></div></td></tr><tr><td><div class=\"dni-plaintext\"><pre>3562</pre></div></td><td><div class=\"dni-plaintext\"><pre>Generic - 6&quot;</pre></div></td></tr><tr><td><div class=\"dni-plaintext\"><pre>3572</pre></div></td><td><div class=\"dni-plaintext\"><pre>36&quot; x 84&quot;</pre></div></td></tr><tr><td><div class=\"dni-plaintext\"><pre>3694</pre></div></td><td><div class=\"dni-plaintext\"><pre>F0560 - Wardrobe, Television</pre></div></td></tr><tr><td><div class=\"dni-plaintext\"><pre>3839</pre></div></td><td><div class=\"dni-plaintext\"><pre>ASYG18LFCA</pre></div></td></tr><tr><td><div class=\"dni-plaintext\"><pre>3847</pre></div></td><td><div class=\"dni-plaintext\"><pre>Concrete Slab - 6&quot;</pre></div></td></tr><tr><td colspan=\"2\"><i>(10 more)</i></td></tr></tbody></table><style>\r\n",
       ".dni-code-hint {\r\n",
       "    font-style: italic;\r\n",
       "    overflow: hidden;\r\n",
       "    white-space: nowrap;\r\n",
       "}\r\n",
       ".dni-treeview {\r\n",
       "    white-space: nowrap;\r\n",
       "}\r\n",
       ".dni-treeview td {\r\n",
       "    vertical-align: top;\r\n",
       "    text-align: start;\r\n",
       "}\r\n",
       "details.dni-treeview {\r\n",
       "    padding-left: 1em;\r\n",
       "}\r\n",
       "table td {\r\n",
       "    text-align: start;\r\n",
       "}\r\n",
       "table tr { \r\n",
       "    vertical-align: top; \r\n",
       "    margin: 0em 0px;\r\n",
       "}\r\n",
       "table tr td pre \r\n",
       "{ \r\n",
       "    vertical-align: top !important; \r\n",
       "    margin: 0em 0px !important;\r\n",
       "} \r\n",
       "table th {\r\n",
       "    text-align: start;\r\n",
       "}\r\n",
       "</style>"
      ]
     },
     "metadata": {},
     "output_type": "display_data"
    }
   ],
   "source": [
    "var familiesTypes = RevitPropDbReader.GetAllFamilyTypes();\n",
    "display(familiesTypes)"
   ]
  },
  {
   "cell_type": "markdown",
   "metadata": {},
   "source": [
    "#### How to get all data by catgories and parameters ?"
   ]
  },
  {
   "cell_type": "code",
   "execution_count": null,
   "metadata": {
    "dotnet_interactive": {
     "language": "csharp"
    },
    "polyglot_notebook": {
     "kernelName": "csharp"
    }
   },
   "outputs": [
    {
     "data": {
      "text/html": [
       "<table id=\"table_638446460660362859\"><thead><tr><th><i>index</i></th><th>DbId</th><th>ExternalId</th><th>Level</th><th>Workset</th><th>Number</th><th>Name</th><th>Area</th><th>Volume</th><th>Comments</th></tr></thead><tbody><tr><td><i><div class=\"dni-plaintext\"><pre>0</pre></div></i></td><td>3968</td><td>1dfa4915-53f5-47c3-8e74-b489f8c02981-000493a1</td><td>Level 1</td><td>Workset1</td><td>A001</td><td>Sleep</td><td>8.17482236000001 m&#178;</td><td>0 m&#179;</td><td>Room Just Sleep</td></tr></tbody></table><style>\r\n",
       ".dni-code-hint {\r\n",
       "    font-style: italic;\r\n",
       "    overflow: hidden;\r\n",
       "    white-space: nowrap;\r\n",
       "}\r\n",
       ".dni-treeview {\r\n",
       "    white-space: nowrap;\r\n",
       "}\r\n",
       ".dni-treeview td {\r\n",
       "    vertical-align: top;\r\n",
       "    text-align: start;\r\n",
       "}\r\n",
       "details.dni-treeview {\r\n",
       "    padding-left: 1em;\r\n",
       "}\r\n",
       "table td {\r\n",
       "    text-align: start;\r\n",
       "}\r\n",
       "table tr { \r\n",
       "    vertical-align: top; \r\n",
       "    margin: 0em 0px;\r\n",
       "}\r\n",
       "table tr td pre \r\n",
       "{ \r\n",
       "    vertical-align: top !important; \r\n",
       "    margin: 0em 0px !important;\r\n",
       "} \r\n",
       "table th {\r\n",
       "    text-align: start;\r\n",
       "}\r\n",
       "</style>"
      ]
     },
     "metadata": {},
     "output_type": "display_data"
    }
   ],
   "source": [
    "categories = RevitPropDbReader.GetAllCategories();\n",
    "string category = \"Rooms\";\n",
    "var parameterNames = new string[]{\"Name\",\"Number\",\"Area\",\"Volume\",\"Workset\",\"Level\",\"Comments\"};\n",
    "DataTable dataTable = RevitPropDbReader.GetDataByCategoryAndParameters(category,parameterNames.ToList());\n",
    "var df = DataFrame.LoadFromDataTable(dataTable);\n",
    "df.Head(1)"
   ]
  },
  {
   "cell_type": "markdown",
   "metadata": {},
   "source": [
    "#### How to get all data by catgories and parameters ? \n"
   ]
  },
  {
   "cell_type": "code",
   "execution_count": null,
   "metadata": {
    "dotnet_interactive": {
     "language": "csharp"
    },
    "polyglot_notebook": {
     "kernelName": "csharp"
    }
   },
   "outputs": [
    {
     "data": {
      "text/html": [
       "<table id=\"table_638446462226939511\"><thead><tr><th><i>index</i></th><th>DbId</th><th>ExternalId</th><th>Category</th><th>Workset</th><th>Comments</th><th>Name</th><th>Level</th><th>Area</th><th>Volume</th></tr></thead><tbody><tr><td><i><div class=\"dni-plaintext\"><pre>0</pre></div></i></td><td>3924</td><td>6d22740f-4d3f-4cc6-a442-8c98ddd54f1f-0004923b</td><td>Revit Windows</td><td>Workset1</td><td></td><td><div class=\"dni-plaintext\"><pre>&lt;null&gt;</pre></div></td><td>Level 1</td><td><div class=\"dni-plaintext\"><pre>&lt;null&gt;</pre></div></td><td><div class=\"dni-plaintext\"><pre>&lt;null&gt;</pre></div></td></tr><tr><td><i><div class=\"dni-plaintext\"><pre>1</pre></div></i></td><td>4096</td><td>1778bac4-e3db-4ebe-928a-2389f5923e07-0004bce5</td><td>Revit Generic Models</td><td>Workset1</td><td></td><td><div class=\"dni-plaintext\"><pre>&lt;null&gt;</pre></div></td><td>Level 1</td><td><div class=\"dni-plaintext\"><pre>&lt;null&gt;</pre></div></td><td>0 m&#179;</td></tr><tr><td><i><div class=\"dni-plaintext\"><pre>2</pre></div></i></td><td>3968</td><td>1dfa4915-53f5-47c3-8e74-b489f8c02981-000493a1</td><td>Revit Rooms</td><td>Workset1</td><td>Room Just Sleep</td><td>Sleep</td><td>Level 1</td><td>8.17482236000001 m&#178;</td><td>0 m&#179;</td></tr><tr><td><i><div class=\"dni-plaintext\"><pre>3</pre></div></i></td><td>3973</td><td>1dfa4915-53f5-47c3-8e74-b489f8c02981-000493a2</td><td>Revit Room Tags</td><td>View &quot;Floor Plan: Level 1&quot;</td><td><div class=\"dni-plaintext\"><pre>&lt;null&gt;</pre></div></td><td><div class=\"dni-plaintext\"><pre>&lt;null&gt;</pre></div></td><td><div class=\"dni-plaintext\"><pre>&lt;null&gt;</pre></div></td><td><div class=\"dni-plaintext\"><pre>&lt;null&gt;</pre></div></td><td><div class=\"dni-plaintext\"><pre>&lt;null&gt;</pre></div></td></tr><tr><td><i><div class=\"dni-plaintext\"><pre>4</pre></div></i></td><td>3998</td><td>1dfa4915-53f5-47c3-8e74-b489f8c02981-000495a0</td><td>Revit Lighting Fixtures</td><td>Workset1</td><td></td><td><div class=\"dni-plaintext\"><pre>&lt;null&gt;</pre></div></td><td>Level 1</td><td><div class=\"dni-plaintext\"><pre>&lt;null&gt;</pre></div></td><td><div class=\"dni-plaintext\"><pre>&lt;null&gt;</pre></div></td></tr><tr><td><i><div class=\"dni-plaintext\"><pre>5</pre></div></i></td><td>4026</td><td>176ea806-edc2-4918-bc60-3658f58895e9-0004a041</td><td>Revit Electrical Equipment</td><td>Workset1</td><td></td><td><div class=\"dni-plaintext\"><pre>&lt;null&gt;</pre></div></td><td>Level 1</td><td><div class=\"dni-plaintext\"><pre>&lt;null&gt;</pre></div></td><td><div class=\"dni-plaintext\"><pre>&lt;null&gt;</pre></div></td></tr><tr><td><i><div class=\"dni-plaintext\"><pre>6</pre></div></i></td><td>4039</td><td>176ea806-edc2-4918-bc60-3658f58895e9-0004a447</td><td>Revit Electrical Fixtures</td><td>Workset1</td><td></td><td><div class=\"dni-plaintext\"><pre>&lt;null&gt;</pre></div></td><td>Level 1</td><td><div class=\"dni-plaintext\"><pre>&lt;null&gt;</pre></div></td><td><div class=\"dni-plaintext\"><pre>&lt;null&gt;</pre></div></td></tr><tr><td><i><div class=\"dni-plaintext\"><pre>7</pre></div></i></td><td>4040</td><td>176ea806-edc2-4918-bc60-3658f58895e9-0004a50b</td><td>Revit Electrical Fixtures</td><td>Workset1</td><td></td><td><div class=\"dni-plaintext\"><pre>&lt;null&gt;</pre></div></td><td>Level 1</td><td><div class=\"dni-plaintext\"><pre>&lt;null&gt;</pre></div></td><td><div class=\"dni-plaintext\"><pre>&lt;null&gt;</pre></div></td></tr><tr><td><i><div class=\"dni-plaintext\"><pre>8</pre></div></i></td><td>4057</td><td>6f4b6b3a-c2ce-4171-a78f-01035d314293-0004a93c</td><td>Revit Electrical Fixtures</td><td>Workset1</td><td></td><td><div class=\"dni-plaintext\"><pre>&lt;null&gt;</pre></div></td><td>Level 1</td><td><div class=\"dni-plaintext\"><pre>&lt;null&gt;</pre></div></td><td><div class=\"dni-plaintext\"><pre>&lt;null&gt;</pre></div></td></tr><tr><td><i><div class=\"dni-plaintext\"><pre>9</pre></div></i></td><td>4058</td><td>6f4b6b3a-c2ce-4171-a78f-01035d314293-0004a9b5</td><td>Revit Electrical Fixtures</td><td>Workset1</td><td></td><td><div class=\"dni-plaintext\"><pre>&lt;null&gt;</pre></div></td><td>Level 1</td><td><div class=\"dni-plaintext\"><pre>&lt;null&gt;</pre></div></td><td><div class=\"dni-plaintext\"><pre>&lt;null&gt;</pre></div></td></tr></tbody></table><style>\r\n",
       ".dni-code-hint {\r\n",
       "    font-style: italic;\r\n",
       "    overflow: hidden;\r\n",
       "    white-space: nowrap;\r\n",
       "}\r\n",
       ".dni-treeview {\r\n",
       "    white-space: nowrap;\r\n",
       "}\r\n",
       ".dni-treeview td {\r\n",
       "    vertical-align: top;\r\n",
       "    text-align: start;\r\n",
       "}\r\n",
       "details.dni-treeview {\r\n",
       "    padding-left: 1em;\r\n",
       "}\r\n",
       "table td {\r\n",
       "    text-align: start;\r\n",
       "}\r\n",
       "table tr { \r\n",
       "    vertical-align: top; \r\n",
       "    margin: 0em 0px;\r\n",
       "}\r\n",
       "table tr td pre \r\n",
       "{ \r\n",
       "    vertical-align: top !important; \r\n",
       "    margin: 0em 0px !important;\r\n",
       "} \r\n",
       "table th {\r\n",
       "    text-align: start;\r\n",
       "}\r\n",
       "</style>"
      ]
     },
     "metadata": {},
     "output_type": "display_data"
    }
   ],
   "source": [
    "categories = RevitPropDbReader.GetAllCategories();\n",
    "var parameterNames = new string[]{\"Name\",\"Category\",\"Area\",\"Volume\",\"Workset\",\"Level\",\"Comments\"};\n",
    "var stringCates = categories.Select(x=>x.Value).ToList();\n",
    "DataTable dataTable = RevitPropDbReader.GetDataByCategoriesAndParameters(stringCates,parameterNames.ToList());\n",
    "var df = DataFrame.LoadFromDataTable(dataTable);\n",
    "df.Tail(10)"
   ]
  }
 ],
 "metadata": {
  "kernelspec": {
   "display_name": ".NET (C#)",
   "language": "C#",
   "name": ".net-csharp"
  },
  "language_info": {
   "name": "polyglot-notebook"
  },
  "polyglot_notebook": {
   "kernelInfo": {
    "defaultKernelName": "csharp",
    "items": [
     {
      "aliases": [],
      "name": "csharp"
     }
    ]
   }
  }
 },
 "nbformat": 4,
 "nbformat_minor": 2
}
