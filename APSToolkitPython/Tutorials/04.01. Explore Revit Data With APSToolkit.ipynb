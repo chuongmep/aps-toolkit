{
 "cells": [
  {
   "cell_type": "markdown",
   "metadata": {},
   "source": [
    "<table align=\"left\">\n",
    "  <td style=\"text-align: center\">\n",
    "    <a href=\"https://colab.research.google.com/github/chuongmep/aps-toolkit/blob/dev/APSToolkitPython/Tutorials/04.01.%20Explore%20Revit%20Data%20With%20APSToolkit.ipynb\">\n",
    "      <img src=\"https://cloud.google.com/ml-engine/images/colab-logo-32px.png\" alt=\"Google Colaboratory logo\"><br> Run in Colab\n",
    "    </a>\n",
    "  </td>\n",
    "  <td style=\"text-align: center\">\n",
    "    <a href=\"https://github.com/chuongmep/aps-toolkit/blob/dev/APSToolkitPython/Tutorials/04.01.%20Explore%20Revit%20Data%20With%20APSToolkit.ipynb\">\n",
    "      <img src=\"https://cloud.google.com/ml-engine/images/github-logo-32px.png\" alt=\"GitHub logo\"><br> View on GitHub\n",
    "    </a>\n",
    "  </td>\n",
    "</table>"
   ]
  },
  {
   "cell_type": "markdown",
   "metadata": {},
   "source": [
    "| | |\n",
    "|-|-|\n",
    "|Author(s) | [Chuong Ho](https://github.com/chuongmep) |"
   ]
  },
  {
   "cell_type": "code",
   "execution_count": 1,
   "metadata": {
    "dotnet_interactive": {
     "language": "csharp"
    },
    "polyglot_notebook": {
     "kernelName": "csharp"
    }
   },
   "outputs": [
    {
     "name": "stdout",
     "output_type": "stream",
     "text": [
      "Requirement already satisfied: aps-toolkit in c:\\python311\\lib\\site-packages (0.3.1)\n",
      "Collecting aps-toolkit\n",
      "  Downloading aps_toolkit-0.3.2-py3-none-any.whl.metadata (1.8 kB)\n",
      "Requirement already satisfied: requests in c:\\python311\\lib\\site-packages (from aps-toolkit) (2.31.0)\n",
      "Requirement already satisfied: pandas in c:\\python311\\lib\\site-packages (from aps-toolkit) (2.2.1)\n",
      "Requirement already satisfied: numpy<2,>=1.23.2 in c:\\python311\\lib\\site-packages (from pandas->aps-toolkit) (1.26.0)\n",
      "Requirement already satisfied: python-dateutil>=2.8.2 in c:\\python311\\lib\\site-packages (from pandas->aps-toolkit) (2.8.2)\n",
      "Requirement already satisfied: pytz>=2020.1 in c:\\python311\\lib\\site-packages (from pandas->aps-toolkit) (2024.1)\n",
      "Requirement already satisfied: tzdata>=2022.7 in c:\\python311\\lib\\site-packages (from pandas->aps-toolkit) (2024.1)\n",
      "Requirement already satisfied: charset-normalizer<4,>=2 in c:\\python311\\lib\\site-packages (from requests->aps-toolkit) (3.2.0)\n",
      "Requirement already satisfied: idna<4,>=2.5 in c:\\python311\\lib\\site-packages (from requests->aps-toolkit) (3.4)\n",
      "Requirement already satisfied: urllib3<3,>=1.21.1 in c:\\python311\\lib\\site-packages (from requests->aps-toolkit) (2.0.4)\n",
      "Requirement already satisfied: certifi>=2017.4.17 in c:\\python311\\lib\\site-packages (from requests->aps-toolkit) (2023.7.22)\n",
      "Requirement already satisfied: six>=1.5 in c:\\python311\\lib\\site-packages (from python-dateutil>=2.8.2->pandas->aps-toolkit) (1.16.0)\n",
      "Downloading aps_toolkit-0.3.2-py3-none-any.whl (14 kB)\n",
      "Installing collected packages: aps-toolkit\n",
      "  Attempting uninstall: aps-toolkit\n",
      "    Found existing installation: aps-toolkit 0.3.1\n",
      "    Uninstalling aps-toolkit-0.3.1:\n",
      "      Successfully uninstalled aps-toolkit-0.3.1\n",
      "Successfully installed aps-toolkit-0.3.2\n",
      "Note: you may need to restart the kernel to use updated packages.\n"
     ]
    }
   ],
   "source": [
    "%pip install aps-toolkit --upgrade"
   ]
  },
  {
   "cell_type": "code",
   "execution_count": 1,
   "metadata": {
    "ExecuteTime": {
     "end_time": "2024-03-02T14:12:22.214171Z",
     "start_time": "2024-03-02T14:12:22.211115Z"
    }
   },
   "outputs": [],
   "source": [
    "from aps_toolkit import Auth\n",
    "import pandas as pd"
   ]
  },
  {
   "cell_type": "code",
   "execution_count": 2,
   "metadata": {
    "ExecuteTime": {
     "end_time": "2024-03-02T14:12:23.004384Z",
     "start_time": "2024-03-02T14:12:22.215209Z"
    }
   },
   "outputs": [],
   "source": [
    "token = Auth().auth2leg()"
   ]
  },
  {
   "cell_type": "code",
   "execution_count": 4,
   "metadata": {
    "ExecuteTime": {
     "end_time": "2024-03-02T14:12:23.009480Z",
     "start_time": "2024-03-02T14:12:23.005633Z"
    }
   },
   "outputs": [],
   "source": [
    "urn = \"dXJuOmFkc2sud2lwcHJvZDpmcy5maWxlOnZmLk9kOHR4RGJLU1NlbFRvVmcxb2MxVkE_dmVyc2lvbj0yOA\""
   ]
  },
  {
   "cell_type": "code",
   "execution_count": 5,
   "metadata": {
    "ExecuteTime": {
     "end_time": "2024-03-02T14:12:31.994676Z",
     "start_time": "2024-03-02T14:12:23.010491Z"
    }
   },
   "outputs": [],
   "source": [
    "from aps_toolkit import PropDbReaderRevit\n",
    "\n",
    "prop_reader = PropDbReaderRevit(urn, token)"
   ]
  },
  {
   "cell_type": "code",
   "execution_count": 5,
   "metadata": {},
   "outputs": [
    {
     "data": {
      "text/plain": [
       "name                                     Model\n",
       "schema_name                                rvt\n",
       "schema_version                             1.0\n",
       "is_doc_property                              1\n",
       "Category                        Revit Document\n",
       "Organization Name                             \n",
       "Organization Description                      \n",
       "Building Name                                 \n",
       "Author                                        \n",
       "IfcSite GUID                                  \n",
       "IfcBuilding GUID                              \n",
       "IfcProject GUID                               \n",
       "Project Issue Date                  Issue Date\n",
       "Project Status                  Project Status\n",
       "Client Name                              Owner\n",
       "Project Address             Enter address here\n",
       "Project Name                      Project Name\n",
       "Project Number                  Project Number\n",
       "Data.Hello.Parquet                           0\n",
       "Workset                           Project Info\n",
       "Edited by                                     \n",
       "Route Analysis Settings                       \n",
       "Level                                        8\n",
       "child                                     4191\n",
       "View                                        42\n",
       "Sheet                                       32\n",
       "dtype: object"
      ]
     },
     "execution_count": 5,
     "metadata": {},
     "output_type": "execute_result"
    }
   ],
   "source": [
    "docs_info = prop_reader.get_document_info()\n",
    "docs_info"
   ]
  },
  {
   "cell_type": "code",
   "execution_count": 7,
   "metadata": {},
   "outputs": [
    {
     "data": {
      "text/plain": [
       "'0f4246de-c6e1-46ab-b241-be47b3f747d1'"
      ]
     },
     "execution_count": 7,
     "metadata": {},
     "output_type": "execute_result"
    }
   ],
   "source": [
    "prop_reader.get_document_id()"
   ]
  },
  {
   "cell_type": "markdown",
   "metadata": {},
   "source": [
    "### I want get all levels of the revit model"
   ]
  },
  {
   "cell_type": "code",
   "execution_count": 8,
   "metadata": {},
   "outputs": [
    {
     "data": {
      "text/html": [
       "<div>\n",
       "<style scoped>\n",
       "    .dataframe tbody tr th:only-of-type {\n",
       "        vertical-align: middle;\n",
       "    }\n",
       "\n",
       "    .dataframe tbody tr th {\n",
       "        vertical-align: top;\n",
       "    }\n",
       "\n",
       "    .dataframe thead th {\n",
       "        text-align: right;\n",
       "    }\n",
       "</style>\n",
       "<table border=\"1\" class=\"dataframe\">\n",
       "  <thead>\n",
       "    <tr style=\"text-align: right;\">\n",
       "      <th></th>\n",
       "      <th>guid</th>\n",
       "      <th>name</th>\n",
       "      <th>elevation</th>\n",
       "      <th>height</th>\n",
       "      <th>extension</th>\n",
       "    </tr>\n",
       "  </thead>\n",
       "  <tbody>\n",
       "    <tr>\n",
       "      <th>0</th>\n",
       "      <td>eabed363-0187-429d-91a7-2d7d264a1a0c-0000161d</td>\n",
       "      <td>Level 01 - B.O. Footing</td>\n",
       "      <td>-10.0</td>\n",
       "      <td>1.000000e+00</td>\n",
       "      <td>{'buildingStory': True, 'structure': False, 'c...</td>\n",
       "    </tr>\n",
       "    <tr>\n",
       "      <th>1</th>\n",
       "      <td>eabed363-0187-429d-91a7-2d7d264a1a0c-000015ff</td>\n",
       "      <td>Level 02 - T.O. Footing</td>\n",
       "      <td>-9.0</td>\n",
       "      <td>1.000000e+00</td>\n",
       "      <td>{'buildingStory': True, 'structure': False, 'c...</td>\n",
       "    </tr>\n",
       "    <tr>\n",
       "      <th>2</th>\n",
       "      <td>eabed363-0187-429d-91a7-2d7d264a1a0c-000015e8</td>\n",
       "      <td>Level 03 - T.O. Basement Slab</td>\n",
       "      <td>-8.0</td>\n",
       "      <td>7.000000e+00</td>\n",
       "      <td>{'buildingStory': True, 'structure': False, 'c...</td>\n",
       "    </tr>\n",
       "    <tr>\n",
       "      <th>3</th>\n",
       "      <td>eabed363-0187-429d-91a7-2d7d264a1a0c-000015ba</td>\n",
       "      <td>Level 04 - T.O. Fnd. Wall</td>\n",
       "      <td>-1.0</td>\n",
       "      <td>1.000000e+00</td>\n",
       "      <td>{'buildingStory': True, 'structure': False, 'c...</td>\n",
       "    </tr>\n",
       "    <tr>\n",
       "      <th>4</th>\n",
       "      <td>9693c920-050e-4443-9b38-2491295576d1-00000163</td>\n",
       "      <td>Level 1</td>\n",
       "      <td>0.0</td>\n",
       "      <td>1.000000e+01</td>\n",
       "      <td>{'buildingStory': True, 'structure': False, 'c...</td>\n",
       "    </tr>\n",
       "    <tr>\n",
       "      <th>5</th>\n",
       "      <td>9693c920-050e-4443-9b38-2491295576d1-00000aea</td>\n",
       "      <td>Level 2</td>\n",
       "      <td>10.0</td>\n",
       "      <td>1.000000e+01</td>\n",
       "      <td>{'buildingStory': True, 'structure': False, 'c...</td>\n",
       "    </tr>\n",
       "    <tr>\n",
       "      <th>6</th>\n",
       "      <td>f440c2b6-09c3-46da-b5c7-670feedae5cf-00002268</td>\n",
       "      <td>Roof</td>\n",
       "      <td>20.0</td>\n",
       "      <td>2.147484e+09</td>\n",
       "      <td>{'buildingStory': True, 'structure': False, 'c...</td>\n",
       "    </tr>\n",
       "  </tbody>\n",
       "</table>\n",
       "</div>"
      ],
      "text/plain": [
       "                                            guid  \\\n",
       "0  eabed363-0187-429d-91a7-2d7d264a1a0c-0000161d   \n",
       "1  eabed363-0187-429d-91a7-2d7d264a1a0c-000015ff   \n",
       "2  eabed363-0187-429d-91a7-2d7d264a1a0c-000015e8   \n",
       "3  eabed363-0187-429d-91a7-2d7d264a1a0c-000015ba   \n",
       "4  9693c920-050e-4443-9b38-2491295576d1-00000163   \n",
       "5  9693c920-050e-4443-9b38-2491295576d1-00000aea   \n",
       "6  f440c2b6-09c3-46da-b5c7-670feedae5cf-00002268   \n",
       "\n",
       "                            name  elevation        height  \\\n",
       "0        Level 01 - B.O. Footing      -10.0  1.000000e+00   \n",
       "1        Level 02 - T.O. Footing       -9.0  1.000000e+00   \n",
       "2  Level 03 - T.O. Basement Slab       -8.0  7.000000e+00   \n",
       "3      Level 04 - T.O. Fnd. Wall       -1.0  1.000000e+00   \n",
       "4                        Level 1        0.0  1.000000e+01   \n",
       "5                        Level 2       10.0  1.000000e+01   \n",
       "6                           Roof       20.0  2.147484e+09   \n",
       "\n",
       "                                           extension  \n",
       "0  {'buildingStory': True, 'structure': False, 'c...  \n",
       "1  {'buildingStory': True, 'structure': False, 'c...  \n",
       "2  {'buildingStory': True, 'structure': False, 'c...  \n",
       "3  {'buildingStory': True, 'structure': False, 'c...  \n",
       "4  {'buildingStory': True, 'structure': False, 'c...  \n",
       "5  {'buildingStory': True, 'structure': False, 'c...  \n",
       "6  {'buildingStory': True, 'structure': False, 'c...  "
      ]
     },
     "execution_count": 8,
     "metadata": {},
     "output_type": "execute_result"
    }
   ],
   "source": [
    "prop_reader.get_levels()"
   ]
  },
  {
   "cell_type": "markdown",
   "metadata": {},
   "source": [
    "### I want get all grids line of the revit model"
   ]
  },
  {
   "cell_type": "code",
   "execution_count": 9,
   "metadata": {},
   "outputs": [
    {
     "data": {
      "text/html": [
       "<div>\n",
       "<style scoped>\n",
       "    .dataframe tbody tr th:only-of-type {\n",
       "        vertical-align: middle;\n",
       "    }\n",
       "\n",
       "    .dataframe tbody tr th {\n",
       "        vertical-align: top;\n",
       "    }\n",
       "\n",
       "    .dataframe thead th {\n",
       "        text-align: right;\n",
       "    }\n",
       "</style>\n",
       "<table border=\"1\" class=\"dataframe\">\n",
       "  <thead>\n",
       "    <tr style=\"text-align: right;\">\n",
       "      <th></th>\n",
       "      <th>id</th>\n",
       "      <th>label</th>\n",
       "      <th>document</th>\n",
       "      <th>boundingBox</th>\n",
       "      <th>segments</th>\n",
       "    </tr>\n",
       "  </thead>\n",
       "  <tbody>\n",
       "    <tr>\n",
       "      <th>0</th>\n",
       "      <td>1e2137e9-677d-4784-8914-3e8d0d39e89c-0004ca1f</td>\n",
       "      <td>1</td>\n",
       "      <td>MyHouse_detached.rvt</td>\n",
       "      <td>[22.64528621332943, -4.971052886284639, -11.0,...</td>\n",
       "      <td>[{'type': 1, 'guid': '1e2137e9-677d-4784-8914-...</td>\n",
       "    </tr>\n",
       "    <tr>\n",
       "      <th>1</th>\n",
       "      <td>1e2137e9-677d-4784-8914-3e8d0d39e89c-0004ca50</td>\n",
       "      <td>2</td>\n",
       "      <td>MyHouse_detached.rvt</td>\n",
       "      <td>[24.629538181833368, -4.971052886284642, -11.0...</td>\n",
       "      <td>[{'type': 1, 'guid': '1e2137e9-677d-4784-8914-...</td>\n",
       "    </tr>\n",
       "    <tr>\n",
       "      <th>2</th>\n",
       "      <td>1e2137e9-677d-4784-8914-3e8d0d39e89c-0004ca67</td>\n",
       "      <td>3</td>\n",
       "      <td>MyHouse_detached.rvt</td>\n",
       "      <td>[27.26995812933993, -4.971052886284646, -11.0,...</td>\n",
       "      <td>[{'type': 1, 'guid': '1e2137e9-677d-4784-8914-...</td>\n",
       "    </tr>\n",
       "    <tr>\n",
       "      <th>3</th>\n",
       "      <td>1e2137e9-677d-4784-8914-3e8d0d39e89c-0004ca82</td>\n",
       "      <td>4</td>\n",
       "      <td>MyHouse_detached.rvt</td>\n",
       "      <td>[30.238462066347804, -4.9710528862846495, -11....</td>\n",
       "      <td>[{'type': 1, 'guid': '1e2137e9-677d-4784-8914-...</td>\n",
       "    </tr>\n",
       "    <tr>\n",
       "      <th>4</th>\n",
       "      <td>1e2137e9-677d-4784-8914-3e8d0d39e89c-0004ca9a</td>\n",
       "      <td>5</td>\n",
       "      <td>MyHouse_detached.rvt</td>\n",
       "      <td>[32.87888201385437, -4.971052886284653, -11.0,...</td>\n",
       "      <td>[{'type': 1, 'guid': '1e2137e9-677d-4784-8914-...</td>\n",
       "    </tr>\n",
       "    <tr>\n",
       "      <th>5</th>\n",
       "      <td>1e2137e9-677d-4784-8914-3e8d0d39e89c-0004cb1b</td>\n",
       "      <td>6</td>\n",
       "      <td>MyHouse_detached.rvt</td>\n",
       "      <td>[19.208098138139572, 13.545787693938893, -11.0...</td>\n",
       "      <td>[{'type': 1, 'guid': '1e2137e9-677d-4784-8914-...</td>\n",
       "    </tr>\n",
       "    <tr>\n",
       "      <th>6</th>\n",
       "      <td>1e2137e9-677d-4784-8914-3e8d0d39e89c-0004cb40</td>\n",
       "      <td>7</td>\n",
       "      <td>MyHouse_detached.rvt</td>\n",
       "      <td>[19.208098138139565, 10.249199767429706, -11.0...</td>\n",
       "      <td>[{'type': 1, 'guid': '1e2137e9-677d-4784-8914-...</td>\n",
       "    </tr>\n",
       "    <tr>\n",
       "      <th>7</th>\n",
       "      <td>1e2137e9-677d-4784-8914-3e8d0d39e89c-0004cb86</td>\n",
       "      <td>8</td>\n",
       "      <td>MyHouse_detached.rvt</td>\n",
       "      <td>[19.20809813813955, 6.624527851419208, -11.0, ...</td>\n",
       "      <td>[{'type': 1, 'guid': '1e2137e9-677d-4784-8914-...</td>\n",
       "    </tr>\n",
       "    <tr>\n",
       "      <th>8</th>\n",
       "      <td>1e2137e9-677d-4784-8914-3e8d0d39e89c-0004cbb4</td>\n",
       "      <td>9</td>\n",
       "      <td>MyHouse_detached.rvt</td>\n",
       "      <td>[19.208098138139537, 3.6560239144113336, -11.0...</td>\n",
       "      <td>[{'type': 1, 'guid': '1e2137e9-677d-4784-8914-...</td>\n",
       "    </tr>\n",
       "    <tr>\n",
       "      <th>9</th>\n",
       "      <td>1e2137e9-677d-4784-8914-3e8d0d39e89c-0004cbd3</td>\n",
       "      <td>10</td>\n",
       "      <td>MyHouse_detached.rvt</td>\n",
       "      <td>[19.208098138139523, 0.35943598790214715, -11....</td>\n",
       "      <td>[{'type': 1, 'guid': '1e2137e9-677d-4784-8914-...</td>\n",
       "    </tr>\n",
       "  </tbody>\n",
       "</table>\n",
       "</div>"
      ],
      "text/plain": [
       "                                              id label              document  \\\n",
       "0  1e2137e9-677d-4784-8914-3e8d0d39e89c-0004ca1f     1  MyHouse_detached.rvt   \n",
       "1  1e2137e9-677d-4784-8914-3e8d0d39e89c-0004ca50     2  MyHouse_detached.rvt   \n",
       "2  1e2137e9-677d-4784-8914-3e8d0d39e89c-0004ca67     3  MyHouse_detached.rvt   \n",
       "3  1e2137e9-677d-4784-8914-3e8d0d39e89c-0004ca82     4  MyHouse_detached.rvt   \n",
       "4  1e2137e9-677d-4784-8914-3e8d0d39e89c-0004ca9a     5  MyHouse_detached.rvt   \n",
       "5  1e2137e9-677d-4784-8914-3e8d0d39e89c-0004cb1b     6  MyHouse_detached.rvt   \n",
       "6  1e2137e9-677d-4784-8914-3e8d0d39e89c-0004cb40     7  MyHouse_detached.rvt   \n",
       "7  1e2137e9-677d-4784-8914-3e8d0d39e89c-0004cb86     8  MyHouse_detached.rvt   \n",
       "8  1e2137e9-677d-4784-8914-3e8d0d39e89c-0004cbb4     9  MyHouse_detached.rvt   \n",
       "9  1e2137e9-677d-4784-8914-3e8d0d39e89c-0004cbd3    10  MyHouse_detached.rvt   \n",
       "\n",
       "                                         boundingBox  \\\n",
       "0  [22.64528621332943, -4.971052886284639, -11.0,...   \n",
       "1  [24.629538181833368, -4.971052886284642, -11.0...   \n",
       "2  [27.26995812933993, -4.971052886284646, -11.0,...   \n",
       "3  [30.238462066347804, -4.9710528862846495, -11....   \n",
       "4  [32.87888201385437, -4.971052886284653, -11.0,...   \n",
       "5  [19.208098138139572, 13.545787693938893, -11.0...   \n",
       "6  [19.208098138139565, 10.249199767429706, -11.0...   \n",
       "7  [19.20809813813955, 6.624527851419208, -11.0, ...   \n",
       "8  [19.208098138139537, 3.6560239144113336, -11.0...   \n",
       "9  [19.208098138139523, 0.35943598790214715, -11....   \n",
       "\n",
       "                                            segments  \n",
       "0  [{'type': 1, 'guid': '1e2137e9-677d-4784-8914-...  \n",
       "1  [{'type': 1, 'guid': '1e2137e9-677d-4784-8914-...  \n",
       "2  [{'type': 1, 'guid': '1e2137e9-677d-4784-8914-...  \n",
       "3  [{'type': 1, 'guid': '1e2137e9-677d-4784-8914-...  \n",
       "4  [{'type': 1, 'guid': '1e2137e9-677d-4784-8914-...  \n",
       "5  [{'type': 1, 'guid': '1e2137e9-677d-4784-8914-...  \n",
       "6  [{'type': 1, 'guid': '1e2137e9-677d-4784-8914-...  \n",
       "7  [{'type': 1, 'guid': '1e2137e9-677d-4784-8914-...  \n",
       "8  [{'type': 1, 'guid': '1e2137e9-677d-4784-8914-...  \n",
       "9  [{'type': 1, 'guid': '1e2137e9-677d-4784-8914-...  "
      ]
     },
     "execution_count": 9,
     "metadata": {},
     "output_type": "execute_result"
    }
   ],
   "source": [
    "prop_reader.get_grids()"
   ]
  },
  {
   "cell_type": "markdown",
   "metadata": {},
   "source": [
    "### I want get all phases of the revit model"
   ]
  },
  {
   "cell_type": "code",
   "execution_count": 10,
   "metadata": {},
   "outputs": [
    {
     "data": {
      "text/plain": [
       "['01 - Existing',\n",
       " '02 - Demo',\n",
       " 'A10 - Substructure',\n",
       " 'B10 - Superstructure',\n",
       " 'B20 - Exterior Enclosure',\n",
       " 'C10 - Interior Construction',\n",
       " 'C20 - Interior Finishes',\n",
       " 'E20 - Furnishings',\n",
       " 'Project Completion']"
      ]
     },
     "execution_count": 10,
     "metadata": {},
     "output_type": "execute_result"
    }
   ],
   "source": [
    "prop_reader.get_phases()"
   ]
  },
  {
   "cell_type": "markdown",
   "metadata": {},
   "source": [
    "### I want get transformation of the revit model"
   ]
  },
  {
   "cell_type": "code",
   "execution_count": 11,
   "metadata": {},
   "outputs": [
    {
     "data": {
      "text/plain": [
       "[1.0, 0.0, 0.0, 0.0, 1.0, 0.0, 0.0, 0.0, 1.0, 0.0, 0.0, 0.0]"
      ]
     },
     "execution_count": 11,
     "metadata": {},
     "output_type": "execute_result"
    }
   ],
   "source": [
    "prop_reader.get_ref_point_transformation()"
   ]
  },
  {
   "cell_type": "markdown",
   "metadata": {},
   "source": [
    "### I want to get all data of the revit model"
   ]
  },
  {
   "cell_type": "code",
   "execution_count": 16,
   "metadata": {},
   "outputs": [
    {
     "data": {
      "text/html": [
       "<div>\n",
       "<style scoped>\n",
       "    .dataframe tbody tr th:only-of-type {\n",
       "        vertical-align: middle;\n",
       "    }\n",
       "\n",
       "    .dataframe tbody tr th {\n",
       "        vertical-align: top;\n",
       "    }\n",
       "\n",
       "    .dataframe thead th {\n",
       "        text-align: right;\n",
       "    }\n",
       "</style>\n",
       "<table border=\"1\" class=\"dataframe\">\n",
       "  <thead>\n",
       "    <tr style=\"text-align: right;\">\n",
       "      <th></th>\n",
       "      <th>dbId</th>\n",
       "      <th>external_id</th>\n",
       "      <th>...</th>\n",
       "      <th>Plan View Symbols End 2 (Default)</th>\n",
       "      <th>Non-Plan View Symbols (Default)</th>\n",
       "    </tr>\n",
       "  </thead>\n",
       "  <tbody>\n",
       "    <tr>\n",
       "      <th>0</th>\n",
       "      <td>2</td>\n",
       "      <td>9693c920-050e-4443-9b38-2491295576d1-00000163</td>\n",
       "      <td>...</td>\n",
       "      <td>NaN</td>\n",
       "      <td>NaN</td>\n",
       "    </tr>\n",
       "    <tr>\n",
       "      <th>1</th>\n",
       "      <td>3</td>\n",
       "      <td>9693c920-050e-4443-9b38-2491295576d1-00000aea</td>\n",
       "      <td>...</td>\n",
       "      <td>NaN</td>\n",
       "      <td>NaN</td>\n",
       "    </tr>\n",
       "    <tr>\n",
       "      <th>2</th>\n",
       "      <td>4</td>\n",
       "      <td>eabed363-0187-429d-91a7-2d7d264a1a0c-000015ba</td>\n",
       "      <td>...</td>\n",
       "      <td>NaN</td>\n",
       "      <td>NaN</td>\n",
       "    </tr>\n",
       "    <tr>\n",
       "      <th>3</th>\n",
       "      <td>5</td>\n",
       "      <td>eabed363-0187-429d-91a7-2d7d264a1a0c-000015e8</td>\n",
       "      <td>...</td>\n",
       "      <td>NaN</td>\n",
       "      <td>NaN</td>\n",
       "    </tr>\n",
       "    <tr>\n",
       "      <th>4</th>\n",
       "      <td>6</td>\n",
       "      <td>eabed363-0187-429d-91a7-2d7d264a1a0c-000015ff</td>\n",
       "      <td>...</td>\n",
       "      <td>NaN</td>\n",
       "      <td>NaN</td>\n",
       "    </tr>\n",
       "  </tbody>\n",
       "</table>\n",
       "<p>5 rows × 712 columns</p>\n",
       "</div>"
      ],
      "text/plain": [
       "   dbId                                    external_id  ... Plan View Symbols End 2 (Default) Non-Plan View Symbols (Default)\n",
       "0     2  9693c920-050e-4443-9b38-2491295576d1-00000163  ...                               NaN                             NaN\n",
       "1     3  9693c920-050e-4443-9b38-2491295576d1-00000aea  ...                               NaN                             NaN\n",
       "2     4  eabed363-0187-429d-91a7-2d7d264a1a0c-000015ba  ...                               NaN                             NaN\n",
       "3     5  eabed363-0187-429d-91a7-2d7d264a1a0c-000015e8  ...                               NaN                             NaN\n",
       "4     6  eabed363-0187-429d-91a7-2d7d264a1a0c-000015ff  ...                               NaN                             NaN\n",
       "\n",
       "[5 rows x 712 columns]"
      ]
     },
     "execution_count": 16,
     "metadata": {},
     "output_type": "execute_result"
    }
   ],
   "source": [
    "df = prop_reader.get_all_data()\n",
    "pd.set_option('display.max_columns', 5)\n",
    "pd.set_option('display.width', 1000)\n",
    "df.head()"
   ]
  },
  {
   "cell_type": "markdown",
   "metadata": {},
   "source": [
    "### I want get all the categories of the revit model"
   ]
  },
  {
   "cell_type": "code",
   "execution_count": 6,
   "metadata": {
    "ExecuteTime": {
     "end_time": "2024-03-02T14:12:32.072342Z",
     "start_time": "2024-03-02T14:12:31.995685Z"
    }
   },
   "outputs": [
    {
     "data": {
      "text/html": [
       "<div>\n",
       "<style scoped>\n",
       "    .dataframe tbody tr th:only-of-type {\n",
       "        vertical-align: middle;\n",
       "    }\n",
       "\n",
       "    .dataframe tbody tr th {\n",
       "        vertical-align: top;\n",
       "    }\n",
       "\n",
       "    .dataframe thead th {\n",
       "        text-align: right;\n",
       "    }\n",
       "</style>\n",
       "<table border=\"1\" class=\"dataframe\">\n",
       "  <thead>\n",
       "    <tr style=\"text-align: right;\">\n",
       "      <th></th>\n",
       "      <th>dbid</th>\n",
       "      <th>category</th>\n",
       "    </tr>\n",
       "  </thead>\n",
       "  <tbody>\n",
       "    <tr>\n",
       "      <th>0</th>\n",
       "      <td>43</td>\n",
       "      <td>Phases</td>\n",
       "    </tr>\n",
       "    <tr>\n",
       "      <th>1</th>\n",
       "      <td>69</td>\n",
       "      <td>Materials</td>\n",
       "    </tr>\n",
       "    <tr>\n",
       "      <th>2</th>\n",
       "      <td>409</td>\n",
       "      <td>Primary Contours</td>\n",
       "    </tr>\n",
       "    <tr>\n",
       "      <th>3</th>\n",
       "      <td>411</td>\n",
       "      <td>Area Schemes</td>\n",
       "    </tr>\n",
       "    <tr>\n",
       "      <th>4</th>\n",
       "      <td>732</td>\n",
       "      <td>Elevations</td>\n",
       "    </tr>\n",
       "    <tr>\n",
       "      <th>5</th>\n",
       "      <td>739</td>\n",
       "      <td>Views</td>\n",
       "    </tr>\n",
       "    <tr>\n",
       "      <th>6</th>\n",
       "      <td>804</td>\n",
       "      <td>Viewports</td>\n",
       "    </tr>\n",
       "    <tr>\n",
       "      <th>7</th>\n",
       "      <td>836</td>\n",
       "      <td>Shared Site</td>\n",
       "    </tr>\n",
       "    <tr>\n",
       "      <th>8</th>\n",
       "      <td>882</td>\n",
       "      <td>Work Plane Grid</td>\n",
       "    </tr>\n",
       "    <tr>\n",
       "      <th>9</th>\n",
       "      <td>980</td>\n",
       "      <td>Revision</td>\n",
       "    </tr>\n",
       "    <tr>\n",
       "      <th>10</th>\n",
       "      <td>991</td>\n",
       "      <td>Project Information</td>\n",
       "    </tr>\n",
       "    <tr>\n",
       "      <th>11</th>\n",
       "      <td>1019</td>\n",
       "      <td>Structural Load Cases</td>\n",
       "    </tr>\n",
       "    <tr>\n",
       "      <th>12</th>\n",
       "      <td>1039</td>\n",
       "      <td>Title Blocks</td>\n",
       "    </tr>\n",
       "    <tr>\n",
       "      <th>13</th>\n",
       "      <td>1070</td>\n",
       "      <td>Sun Path</td>\n",
       "    </tr>\n",
       "    <tr>\n",
       "      <th>14</th>\n",
       "      <td>1258</td>\n",
       "      <td>&lt;Area Boundary&gt;</td>\n",
       "    </tr>\n",
       "    <tr>\n",
       "      <th>15</th>\n",
       "      <td>1267</td>\n",
       "      <td>Text Notes</td>\n",
       "    </tr>\n",
       "    <tr>\n",
       "      <th>16</th>\n",
       "      <td>1310</td>\n",
       "      <td>Internal Origin</td>\n",
       "    </tr>\n",
       "    <tr>\n",
       "      <th>17</th>\n",
       "      <td>1571</td>\n",
       "      <td>Color Fill Schema</td>\n",
       "    </tr>\n",
       "    <tr>\n",
       "      <th>18</th>\n",
       "      <td>1749</td>\n",
       "      <td>HVAC Zones</td>\n",
       "    </tr>\n",
       "    <tr>\n",
       "      <th>19</th>\n",
       "      <td>1864</td>\n",
       "      <td>HVAC Load Schedules</td>\n",
       "    </tr>\n",
       "  </tbody>\n",
       "</table>\n",
       "</div>"
      ],
      "text/plain": [
       "    dbid               category\n",
       "0     43                 Phases\n",
       "1     69              Materials\n",
       "2    409       Primary Contours\n",
       "3    411           Area Schemes\n",
       "4    732             Elevations\n",
       "5    739                  Views\n",
       "6    804              Viewports\n",
       "7    836            Shared Site\n",
       "8    882        Work Plane Grid\n",
       "9    980               Revision\n",
       "10   991    Project Information\n",
       "11  1019  Structural Load Cases\n",
       "12  1039           Title Blocks\n",
       "13  1070               Sun Path\n",
       "14  1258        <Area Boundary>\n",
       "15  1267             Text Notes\n",
       "16  1310        Internal Origin\n",
       "17  1571      Color Fill Schema\n",
       "18  1749             HVAC Zones\n",
       "19  1864    HVAC Load Schedules"
      ]
     },
     "execution_count": 6,
     "metadata": {},
     "output_type": "execute_result"
    }
   ],
   "source": [
    "categories = prop_reader.get_all_categories()\n",
    "# to dataframe with columns \"dbid,category\" from dict categories\n",
    "df = pd.DataFrame.from_dict(categories, orient='index', columns=[\"category\"])\n",
    "df = df.reset_index()\n",
    "df = df.rename(columns={\"index\": \"dbid\"})\n",
    "df.head(20)\n"
   ]
  },
  {
   "cell_type": "markdown",
   "metadata": {},
   "source": [
    "### I want to get all the families of the revit model"
   ]
  },
  {
   "cell_type": "code",
   "execution_count": 7,
   "metadata": {
    "ExecuteTime": {
     "end_time": "2024-03-02T14:12:32.482109Z",
     "start_time": "2024-03-02T14:12:32.072342Z"
    }
   },
   "outputs": [
    {
     "data": {
      "text/html": [
       "<div>\n",
       "<style scoped>\n",
       "    .dataframe tbody tr th:only-of-type {\n",
       "        vertical-align: middle;\n",
       "    }\n",
       "\n",
       "    .dataframe tbody tr th {\n",
       "        vertical-align: top;\n",
       "    }\n",
       "\n",
       "    .dataframe thead th {\n",
       "        text-align: right;\n",
       "    }\n",
       "</style>\n",
       "<table border=\"1\" class=\"dataframe\">\n",
       "  <thead>\n",
       "    <tr style=\"text-align: right;\">\n",
       "      <th></th>\n",
       "      <th>dbid</th>\n",
       "      <th>family</th>\n",
       "    </tr>\n",
       "  </thead>\n",
       "  <tbody>\n",
       "    <tr>\n",
       "      <th>0</th>\n",
       "      <td>359</td>\n",
       "      <td>Floor Plan</td>\n",
       "    </tr>\n",
       "    <tr>\n",
       "      <th>1</th>\n",
       "      <td>365</td>\n",
       "      <td>Ceiling Plan</td>\n",
       "    </tr>\n",
       "    <tr>\n",
       "      <th>2</th>\n",
       "      <td>799</td>\n",
       "      <td>Sheet</td>\n",
       "    </tr>\n",
       "    <tr>\n",
       "      <th>3</th>\n",
       "      <td>4087</td>\n",
       "      <td>Schedule</td>\n",
       "    </tr>\n",
       "    <tr>\n",
       "      <th>4</th>\n",
       "      <td>733</td>\n",
       "      <td>Elevation</td>\n",
       "    </tr>\n",
       "    <tr>\n",
       "      <th>5</th>\n",
       "      <td>740</td>\n",
       "      <td>Elevation</td>\n",
       "    </tr>\n",
       "    <tr>\n",
       "      <th>6</th>\n",
       "      <td>4163</td>\n",
       "      <td>Section</td>\n",
       "    </tr>\n",
       "    <tr>\n",
       "      <th>7</th>\n",
       "      <td>805</td>\n",
       "      <td>Viewport</td>\n",
       "    </tr>\n",
       "    <tr>\n",
       "      <th>8</th>\n",
       "      <td>838</td>\n",
       "      <td>Default Site</td>\n",
       "    </tr>\n",
       "    <tr>\n",
       "      <th>9</th>\n",
       "      <td>2098</td>\n",
       "      <td>Project</td>\n",
       "    </tr>\n",
       "  </tbody>\n",
       "</table>\n",
       "</div>"
      ],
      "text/plain": [
       "   dbid        family\n",
       "0   359    Floor Plan\n",
       "1   365  Ceiling Plan\n",
       "2   799         Sheet\n",
       "3  4087      Schedule\n",
       "4   733     Elevation\n",
       "5   740     Elevation\n",
       "6  4163       Section\n",
       "7   805      Viewport\n",
       "8   838  Default Site\n",
       "9  2098       Project"
      ]
     },
     "execution_count": 7,
     "metadata": {},
     "output_type": "execute_result"
    }
   ],
   "source": [
    "families = prop_reader.get_all_families()\n",
    "# to dataframe with columns \"dbid,family\" from dict families\n",
    "df = pd.DataFrame.from_dict(families, orient='index', columns=[\"family\"])\n",
    "df = df.reset_index()\n",
    "df = df.rename(columns={\"index\": \"dbid\"})\n",
    "df.head(10)"
   ]
  },
  {
   "cell_type": "markdown",
   "metadata": {},
   "source": [
    "### I want to get all the family types of the revit model"
   ]
  },
  {
   "cell_type": "code",
   "execution_count": 8,
   "metadata": {
    "ExecuteTime": {
     "end_time": "2024-03-02T14:12:32.964962Z",
     "start_time": "2024-03-02T14:12:32.483116Z"
    }
   },
   "outputs": [
    {
     "data": {
      "text/html": [
       "<div>\n",
       "<style scoped>\n",
       "    .dataframe tbody tr th:only-of-type {\n",
       "        vertical-align: middle;\n",
       "    }\n",
       "\n",
       "    .dataframe tbody tr th {\n",
       "        vertical-align: top;\n",
       "    }\n",
       "\n",
       "    .dataframe thead th {\n",
       "        text-align: right;\n",
       "    }\n",
       "</style>\n",
       "<table border=\"1\" class=\"dataframe\">\n",
       "  <thead>\n",
       "    <tr style=\"text-align: right;\">\n",
       "      <th></th>\n",
       "      <th>dbid</th>\n",
       "      <th>family_type</th>\n",
       "    </tr>\n",
       "  </thead>\n",
       "  <tbody>\n",
       "    <tr>\n",
       "      <th>0</th>\n",
       "      <td>361</td>\n",
       "      <td>Floor Plan</td>\n",
       "    </tr>\n",
       "    <tr>\n",
       "      <th>1</th>\n",
       "      <td>367</td>\n",
       "      <td>Ceiling Plan</td>\n",
       "    </tr>\n",
       "    <tr>\n",
       "      <th>2</th>\n",
       "      <td>801</td>\n",
       "      <td>Sheet</td>\n",
       "    </tr>\n",
       "    <tr>\n",
       "      <th>3</th>\n",
       "      <td>735</td>\n",
       "      <td>Building Elevation</td>\n",
       "    </tr>\n",
       "    <tr>\n",
       "      <th>4</th>\n",
       "      <td>4165</td>\n",
       "      <td>Building Section</td>\n",
       "    </tr>\n",
       "    <tr>\n",
       "      <th>5</th>\n",
       "      <td>807</td>\n",
       "      <td>Title w Line</td>\n",
       "    </tr>\n",
       "    <tr>\n",
       "      <th>6</th>\n",
       "      <td>838</td>\n",
       "      <td>Location Data</td>\n",
       "    </tr>\n",
       "    <tr>\n",
       "      <th>7</th>\n",
       "      <td>2098</td>\n",
       "      <td>Location Data</td>\n",
       "    </tr>\n",
       "    <tr>\n",
       "      <th>8</th>\n",
       "      <td>1042</td>\n",
       "      <td>E1 30x42 Horizontal</td>\n",
       "    </tr>\n",
       "    <tr>\n",
       "      <th>9</th>\n",
       "      <td>1270</td>\n",
       "      <td>Temporary Notes</td>\n",
       "    </tr>\n",
       "  </tbody>\n",
       "</table>\n",
       "</div>"
      ],
      "text/plain": [
       "   dbid          family_type\n",
       "0   361           Floor Plan\n",
       "1   367         Ceiling Plan\n",
       "2   801                Sheet\n",
       "3   735   Building Elevation\n",
       "4  4165     Building Section\n",
       "5   807         Title w Line\n",
       "6   838        Location Data\n",
       "7  2098        Location Data\n",
       "8  1042  E1 30x42 Horizontal\n",
       "9  1270      Temporary Notes"
      ]
     },
     "execution_count": 8,
     "metadata": {},
     "output_type": "execute_result"
    }
   ],
   "source": [
    "families_types = prop_reader.get_all_families_types()\n",
    "# to dataframe with columns \"dbid,family,type\" from dict families_types\n",
    "df = pd.DataFrame.from_dict(families_types, orient='index', columns=[\"family_type\"])\n",
    "df = df.reset_index()\n",
    "df = df.rename(columns={\"index\": \"dbid\"})\n",
    "df.head(10)"
   ]
  },
  {
   "cell_type": "markdown",
   "metadata": {},
   "source": [
    "### I want get all parameters of the Revit model"
   ]
  },
  {
   "cell_type": "code",
   "execution_count": 9,
   "metadata": {},
   "outputs": [
    {
     "name": "stdout",
     "output_type": "stream",
     "text": [
      "5 first parameters:  ['5% Modulus of Elasticity', 'Absorptance', 'Air Changes per Hour', 'Airflow rate_HIGH_Cooling (m3/h)', 'Airflow rate_HIGH_Heating (m3/h)']\n"
     ]
    }
   ],
   "source": [
    "parameters = prop_reader.get_all_parameters()\n",
    "print(\"5 first parameters: \", parameters[:5])"
   ]
  },
  {
   "cell_type": "markdown",
   "metadata": {},
   "source": [
    "### I want get data by revit category"
   ]
  },
  {
   "cell_type": "code",
   "execution_count": 10,
   "metadata": {
    "ExecuteTime": {
     "end_time": "2024-03-02T14:12:33.147249Z",
     "start_time": "2024-03-02T14:12:32.965972Z"
    }
   },
   "outputs": [
    {
     "data": {
      "text/html": [
       "<div>\n",
       "<style scoped>\n",
       "    .dataframe tbody tr th:only-of-type {\n",
       "        vertical-align: middle;\n",
       "    }\n",
       "\n",
       "    .dataframe tbody tr th {\n",
       "        vertical-align: top;\n",
       "    }\n",
       "\n",
       "    .dataframe thead th {\n",
       "        text-align: right;\n",
       "    }\n",
       "</style>\n",
       "<table border=\"1\" class=\"dataframe\">\n",
       "  <thead>\n",
       "    <tr style=\"text-align: right;\">\n",
       "      <th></th>\n",
       "      <th>dbId</th>\n",
       "      <th>external_id</th>\n",
       "      <th>...</th>\n",
       "      <th>Thermal Resistance (R)</th>\n",
       "      <th>Heat Transfer Coefficient (U)</th>\n",
       "    </tr>\n",
       "  </thead>\n",
       "  <tbody>\n",
       "    <tr>\n",
       "      <th>0</th>\n",
       "      <td>3902</td>\n",
       "      <td>6d22740f-4d3f-4cc6-a442-8c98ddd54f1f-0004923b</td>\n",
       "      <td>...</td>\n",
       "      <td>0</td>\n",
       "      <td>0</td>\n",
       "    </tr>\n",
       "  </tbody>\n",
       "</table>\n",
       "<p>1 rows × 77 columns</p>\n",
       "</div>"
      ],
      "text/plain": [
       "   dbId                                    external_id  ... Thermal Resistance (R) Heat Transfer Coefficient (U)\n",
       "0  3902  6d22740f-4d3f-4cc6-a442-8c98ddd54f1f-0004923b  ...                      0                             0\n",
       "\n",
       "[1 rows x 77 columns]"
      ]
     },
     "execution_count": 10,
     "metadata": {},
     "output_type": "execute_result"
    }
   ],
   "source": [
    "df = prop_reader.get_data_by_category(\"Windows\")\n",
    "pd.set_option('display.max_columns', 5)\n",
    "pd.set_option('display.width', 1000)\n",
    "df.head()"
   ]
  },
  {
   "cell_type": "markdown",
   "metadata": {},
   "source": [
    "### I want  get sub families element by revit category"
   ]
  },
  {
   "cell_type": "code",
   "execution_count": 28,
   "metadata": {},
   "outputs": [
    {
     "data": {
      "text/html": [
       "<div>\n",
       "<style scoped>\n",
       "    .dataframe tbody tr th:only-of-type {\n",
       "        vertical-align: middle;\n",
       "    }\n",
       "\n",
       "    .dataframe tbody tr th {\n",
       "        vertical-align: top;\n",
       "    }\n",
       "\n",
       "    .dataframe thead th {\n",
       "        text-align: right;\n",
       "    }\n",
       "</style>\n",
       "<table border=\"1\" class=\"dataframe\">\n",
       "  <thead>\n",
       "    <tr style=\"text-align: right;\">\n",
       "      <th></th>\n",
       "      <th>dbId</th>\n",
       "      <th>external_id</th>\n",
       "      <th>ElementId</th>\n",
       "      <th>Name</th>\n",
       "      <th>...</th>\n",
       "      <th>Trim Width</th>\n",
       "      <th>Trim Thickness_Picture Frame</th>\n",
       "      <th>Trim Thickness_with Sill</th>\n",
       "      <th>Sill Thickness</th>\n",
       "    </tr>\n",
       "  </thead>\n",
       "  <tbody>\n",
       "    <tr>\n",
       "      <th>0</th>\n",
       "      <td>3902</td>\n",
       "      <td>6d22740f-4d3f-4cc6-a442-8c98ddd54f1f-0004923b</td>\n",
       "      <td>299579</td>\n",
       "      <td>Window-Casement-Double [299579]</td>\n",
       "      <td>...</td>\n",
       "      <td>NaN</td>\n",
       "      <td>NaN</td>\n",
       "      <td>NaN</td>\n",
       "      <td>NaN</td>\n",
       "    </tr>\n",
       "    <tr>\n",
       "      <th>1</th>\n",
       "      <td>3907</td>\n",
       "      <td>6d22740f-4d3f-4cc6-a442-8c98ddd54f1f-000492aa</td>\n",
       "      <td>299690</td>\n",
       "      <td>Muntin Pattern_2x2 [299690]</td>\n",
       "      <td>...</td>\n",
       "      <td>NaN</td>\n",
       "      <td>NaN</td>\n",
       "      <td>NaN</td>\n",
       "      <td>NaN</td>\n",
       "    </tr>\n",
       "    <tr>\n",
       "      <th>2</th>\n",
       "      <td>3908</td>\n",
       "      <td>6d22740f-4d3f-4cc6-a442-8c98ddd54f1f-000492ab</td>\n",
       "      <td>299691</td>\n",
       "      <td>Muntin Pattern_2x2 [299691]</td>\n",
       "      <td>...</td>\n",
       "      <td>NaN</td>\n",
       "      <td>NaN</td>\n",
       "      <td>NaN</td>\n",
       "      <td>NaN</td>\n",
       "    </tr>\n",
       "    <tr>\n",
       "      <th>3</th>\n",
       "      <td>3912</td>\n",
       "      <td>6d22740f-4d3f-4cc6-a442-8c98ddd54f1f-000492ac</td>\n",
       "      <td>299692</td>\n",
       "      <td>Trim-Window-Exterior-Flat [299692]</td>\n",
       "      <td>...</td>\n",
       "      <td>57.15</td>\n",
       "      <td>31.75</td>\n",
       "      <td>19.05</td>\n",
       "      <td>31.75</td>\n",
       "    </tr>\n",
       "    <tr>\n",
       "      <th>4</th>\n",
       "      <td>3916</td>\n",
       "      <td>6d22740f-4d3f-4cc6-a442-8c98ddd54f1f-000492ad</td>\n",
       "      <td>299693</td>\n",
       "      <td>Trim-Window-Interior-Flat [299693]</td>\n",
       "      <td>...</td>\n",
       "      <td>57.15</td>\n",
       "      <td>31.75</td>\n",
       "      <td>19.05</td>\n",
       "      <td>31.75</td>\n",
       "    </tr>\n",
       "  </tbody>\n",
       "</table>\n",
       "<p>5 rows × 97 columns</p>\n",
       "</div>"
      ],
      "text/plain": [
       "   dbId                                    external_id ElementId                                Name  ... Trim Width  Trim Thickness_Picture Frame Trim Thickness_with Sill  Sill Thickness\n",
       "0  3902  6d22740f-4d3f-4cc6-a442-8c98ddd54f1f-0004923b    299579     Window-Casement-Double [299579]  ...        NaN                           NaN                      NaN             NaN\n",
       "1  3907  6d22740f-4d3f-4cc6-a442-8c98ddd54f1f-000492aa    299690         Muntin Pattern_2x2 [299690]  ...        NaN                           NaN                      NaN             NaN\n",
       "2  3908  6d22740f-4d3f-4cc6-a442-8c98ddd54f1f-000492ab    299691         Muntin Pattern_2x2 [299691]  ...        NaN                           NaN                      NaN             NaN\n",
       "3  3912  6d22740f-4d3f-4cc6-a442-8c98ddd54f1f-000492ac    299692  Trim-Window-Exterior-Flat [299692]  ...      57.15                         31.75                    19.05           31.75\n",
       "4  3916  6d22740f-4d3f-4cc6-a442-8c98ddd54f1f-000492ad    299693  Trim-Window-Interior-Flat [299693]  ...      57.15                         31.75                    19.05           31.75\n",
       "\n",
       "[5 rows x 97 columns]"
      ]
     },
     "execution_count": 28,
     "metadata": {},
     "output_type": "execute_result"
    }
   ],
   "source": [
    "df = prop_reader.get_data_by_category(\"Windows\", True)\n",
    "# show 5 columns and fix the width of the columns\n",
    "pd.set_option('display.max_columns', 8)\n",
    "pd.set_option('display.width', 1000)\n",
    "df.head()"
   ]
  },
  {
   "cell_type": "markdown",
   "metadata": {},
   "source": [
    "### I want get data by revit categories"
   ]
  },
  {
   "cell_type": "code",
   "execution_count": 14,
   "metadata": {
    "ExecuteTime": {
     "end_time": "2024-03-02T14:12:34.998404Z",
     "start_time": "2024-03-02T14:12:33.728494Z"
    }
   },
   "outputs": [
    {
     "data": {
      "text/html": [
       "<div>\n",
       "<style scoped>\n",
       "    .dataframe tbody tr th:only-of-type {\n",
       "        vertical-align: middle;\n",
       "    }\n",
       "\n",
       "    .dataframe tbody tr th {\n",
       "        vertical-align: top;\n",
       "    }\n",
       "\n",
       "    .dataframe thead th {\n",
       "        text-align: right;\n",
       "    }\n",
       "</style>\n",
       "<table border=\"1\" class=\"dataframe\">\n",
       "  <thead>\n",
       "    <tr style=\"text-align: right;\">\n",
       "      <th></th>\n",
       "      <th>dbId</th>\n",
       "      <th>external_id</th>\n",
       "      <th>ElementId</th>\n",
       "      <th>Name</th>\n",
       "      <th>...</th>\n",
       "      <th>Interior Frame Material</th>\n",
       "      <th>Exterior Trim Material</th>\n",
       "      <th>Interior Trim Material</th>\n",
       "      <th>Glass Panel Material</th>\n",
       "    </tr>\n",
       "  </thead>\n",
       "  <tbody>\n",
       "    <tr>\n",
       "      <th>0</th>\n",
       "      <td>3551</td>\n",
       "      <td>5bb069ca-e4fe-4e63-be31-f8ac44e80d30-000471ee</td>\n",
       "      <td>291310</td>\n",
       "      <td>Single-Flush [291310]</td>\n",
       "      <td>...</td>\n",
       "      <td>NaN</td>\n",
       "      <td>NaN</td>\n",
       "      <td>NaN</td>\n",
       "      <td>NaN</td>\n",
       "    </tr>\n",
       "    <tr>\n",
       "      <th>1</th>\n",
       "      <td>3902</td>\n",
       "      <td>6d22740f-4d3f-4cc6-a442-8c98ddd54f1f-0004923b</td>\n",
       "      <td>299579</td>\n",
       "      <td>Window-Casement-Double [299579]</td>\n",
       "      <td>...</td>\n",
       "      <td>Wood - Stained</td>\n",
       "      <td>Clad - White</td>\n",
       "      <td>Wood - Stained</td>\n",
       "      <td>Glass</td>\n",
       "    </tr>\n",
       "  </tbody>\n",
       "</table>\n",
       "<p>2 rows × 86 columns</p>\n",
       "</div>"
      ],
      "text/plain": [
       "   dbId                                    external_id ElementId                             Name  ... Interior Frame Material  Exterior Trim Material Interior Trim Material  Glass Panel Material\n",
       "0  3551  5bb069ca-e4fe-4e63-be31-f8ac44e80d30-000471ee    291310            Single-Flush [291310]  ...                     NaN                     NaN                    NaN                   NaN\n",
       "1  3902  6d22740f-4d3f-4cc6-a442-8c98ddd54f1f-0004923b    299579  Window-Casement-Double [299579]  ...          Wood - Stained            Clad - White         Wood - Stained                 Glass\n",
       "\n",
       "[2 rows x 86 columns]"
      ]
     },
     "execution_count": 14,
     "metadata": {},
     "output_type": "execute_result"
    }
   ],
   "source": [
    "df = prop_reader.get_data_by_categories([\"Doors\", \"Windows\"])\n",
    "pd.set_option('display.max_columns', 8)\n",
    "pd.set_option('display.width', 1000)\n",
    "df.head()"
   ]
  },
  {
   "cell_type": "code",
   "execution_count": 15,
   "metadata": {},
   "outputs": [
    {
     "data": {
      "text/html": [
       "<div>\n",
       "<style scoped>\n",
       "    .dataframe tbody tr th:only-of-type {\n",
       "        vertical-align: middle;\n",
       "    }\n",
       "\n",
       "    .dataframe tbody tr th {\n",
       "        vertical-align: top;\n",
       "    }\n",
       "\n",
       "    .dataframe thead th {\n",
       "        text-align: right;\n",
       "    }\n",
       "</style>\n",
       "<table border=\"1\" class=\"dataframe\">\n",
       "  <thead>\n",
       "    <tr style=\"text-align: right;\">\n",
       "      <th></th>\n",
       "      <th>dbId</th>\n",
       "      <th>external_id</th>\n",
       "      <th>ElementId</th>\n",
       "      <th>...</th>\n",
       "      <th>Trim Thickness_Picture Frame</th>\n",
       "      <th>Trim Thickness_with Sill</th>\n",
       "      <th>Sill Thickness</th>\n",
       "    </tr>\n",
       "  </thead>\n",
       "  <tbody>\n",
       "    <tr>\n",
       "      <th>0</th>\n",
       "      <td>3551</td>\n",
       "      <td>5bb069ca-e4fe-4e63-be31-f8ac44e80d30-000471ee</td>\n",
       "      <td>291310</td>\n",
       "      <td>...</td>\n",
       "      <td>NaN</td>\n",
       "      <td>NaN</td>\n",
       "      <td>NaN</td>\n",
       "    </tr>\n",
       "    <tr>\n",
       "      <th>1</th>\n",
       "      <td>3902</td>\n",
       "      <td>6d22740f-4d3f-4cc6-a442-8c98ddd54f1f-0004923b</td>\n",
       "      <td>299579</td>\n",
       "      <td>...</td>\n",
       "      <td>NaN</td>\n",
       "      <td>NaN</td>\n",
       "      <td>NaN</td>\n",
       "    </tr>\n",
       "    <tr>\n",
       "      <th>2</th>\n",
       "      <td>3907</td>\n",
       "      <td>6d22740f-4d3f-4cc6-a442-8c98ddd54f1f-000492aa</td>\n",
       "      <td>299690</td>\n",
       "      <td>...</td>\n",
       "      <td>NaN</td>\n",
       "      <td>NaN</td>\n",
       "      <td>NaN</td>\n",
       "    </tr>\n",
       "    <tr>\n",
       "      <th>3</th>\n",
       "      <td>3908</td>\n",
       "      <td>6d22740f-4d3f-4cc6-a442-8c98ddd54f1f-000492ab</td>\n",
       "      <td>299691</td>\n",
       "      <td>...</td>\n",
       "      <td>NaN</td>\n",
       "      <td>NaN</td>\n",
       "      <td>NaN</td>\n",
       "    </tr>\n",
       "    <tr>\n",
       "      <th>4</th>\n",
       "      <td>3912</td>\n",
       "      <td>6d22740f-4d3f-4cc6-a442-8c98ddd54f1f-000492ac</td>\n",
       "      <td>299692</td>\n",
       "      <td>...</td>\n",
       "      <td>31.75</td>\n",
       "      <td>19.05</td>\n",
       "      <td>31.75</td>\n",
       "    </tr>\n",
       "  </tbody>\n",
       "</table>\n",
       "<p>5 rows × 104 columns</p>\n",
       "</div>"
      ],
      "text/plain": [
       "   dbId                                    external_id ElementId  ... Trim Thickness_Picture Frame Trim Thickness_with Sill  Sill Thickness\n",
       "0  3551  5bb069ca-e4fe-4e63-be31-f8ac44e80d30-000471ee    291310  ...                          NaN                      NaN             NaN\n",
       "1  3902  6d22740f-4d3f-4cc6-a442-8c98ddd54f1f-0004923b    299579  ...                          NaN                      NaN             NaN\n",
       "2  3907  6d22740f-4d3f-4cc6-a442-8c98ddd54f1f-000492aa    299690  ...                          NaN                      NaN             NaN\n",
       "3  3908  6d22740f-4d3f-4cc6-a442-8c98ddd54f1f-000492ab    299691  ...                          NaN                      NaN             NaN\n",
       "4  3912  6d22740f-4d3f-4cc6-a442-8c98ddd54f1f-000492ac    299692  ...                        31.75                    19.05           31.75\n",
       "\n",
       "[5 rows x 104 columns]"
      ]
     },
     "execution_count": 15,
     "metadata": {},
     "output_type": "execute_result"
    }
   ],
   "source": [
    "df = prop_reader.get_data_by_categories([\"Doors\", \"Windows\"], True)\n",
    "pd.set_option('display.max_columns', 6)\n",
    "pd.set_option('display.width', 1000)\n",
    "df.head()"
   ]
  },
  {
   "cell_type": "markdown",
   "metadata": {},
   "source": [
    "### I want get data by revit categories and parameters"
   ]
  },
  {
   "cell_type": "code",
   "execution_count": 16,
   "metadata": {
    "ExecuteTime": {
     "end_time": "2024-03-02T14:12:33.727202Z",
     "start_time": "2024-03-02T14:12:33.148254Z"
    }
   },
   "outputs": [
    {
     "data": {
      "text/html": [
       "<div>\n",
       "<style scoped>\n",
       "    .dataframe tbody tr th:only-of-type {\n",
       "        vertical-align: middle;\n",
       "    }\n",
       "\n",
       "    .dataframe tbody tr th {\n",
       "        vertical-align: top;\n",
       "    }\n",
       "\n",
       "    .dataframe thead th {\n",
       "        text-align: right;\n",
       "    }\n",
       "</style>\n",
       "<table border=\"1\" class=\"dataframe\">\n",
       "  <thead>\n",
       "    <tr style=\"text-align: right;\">\n",
       "      <th></th>\n",
       "      <th>dbId</th>\n",
       "      <th>external_id</th>\n",
       "      <th>Workset</th>\n",
       "      <th>Height</th>\n",
       "      <th>Width</th>\n",
       "    </tr>\n",
       "  </thead>\n",
       "  <tbody>\n",
       "    <tr>\n",
       "      <th>0</th>\n",
       "      <td>3551</td>\n",
       "      <td>5bb069ca-e4fe-4e63-be31-f8ac44e80d30-000471ee</td>\n",
       "      <td>Family  : Doors : Single-Flush</td>\n",
       "      <td>2133.6</td>\n",
       "      <td>914.4</td>\n",
       "    </tr>\n",
       "    <tr>\n",
       "      <th>1</th>\n",
       "      <td>3902</td>\n",
       "      <td>6d22740f-4d3f-4cc6-a442-8c98ddd54f1f-0004923b</td>\n",
       "      <td>Family  : Windows : Window-Casement-Double</td>\n",
       "      <td>1524.0</td>\n",
       "      <td>1219.2</td>\n",
       "    </tr>\n",
       "  </tbody>\n",
       "</table>\n",
       "</div>"
      ],
      "text/plain": [
       "   dbId                                    external_id                                     Workset  Height   Width\n",
       "0  3551  5bb069ca-e4fe-4e63-be31-f8ac44e80d30-000471ee              Family  : Doors : Single-Flush  2133.6   914.4\n",
       "1  3902  6d22740f-4d3f-4cc6-a442-8c98ddd54f1f-0004923b  Family  : Windows : Window-Casement-Double  1524.0  1219.2"
      ]
     },
     "execution_count": 16,
     "metadata": {},
     "output_type": "execute_result"
    }
   ],
   "source": [
    "prop_reader.get_data_by_categories_and_params([\"Doors\", \"Windows\"], [\"Width\", \"Height\", \"Length\", \"Workset\"])"
   ]
  },
  {
   "cell_type": "markdown",
   "metadata": {},
   "source": [
    "### I want get data by revit categories and parameters (include sub families)"
   ]
  },
  {
   "cell_type": "code",
   "execution_count": 17,
   "metadata": {},
   "outputs": [
    {
     "data": {
      "text/html": [
       "<div>\n",
       "<style scoped>\n",
       "    .dataframe tbody tr th:only-of-type {\n",
       "        vertical-align: middle;\n",
       "    }\n",
       "\n",
       "    .dataframe tbody tr th {\n",
       "        vertical-align: top;\n",
       "    }\n",
       "\n",
       "    .dataframe thead th {\n",
       "        text-align: right;\n",
       "    }\n",
       "</style>\n",
       "<table border=\"1\" class=\"dataframe\">\n",
       "  <thead>\n",
       "    <tr style=\"text-align: right;\">\n",
       "      <th></th>\n",
       "      <th>dbId</th>\n",
       "      <th>external_id</th>\n",
       "      <th>Workset</th>\n",
       "      <th>Height</th>\n",
       "      <th>Width</th>\n",
       "    </tr>\n",
       "  </thead>\n",
       "  <tbody>\n",
       "    <tr>\n",
       "      <th>0</th>\n",
       "      <td>3551</td>\n",
       "      <td>5bb069ca-e4fe-4e63-be31-f8ac44e80d30-000471ee</td>\n",
       "      <td>Family  : Doors : Single-Flush</td>\n",
       "      <td>2133.6</td>\n",
       "      <td>914.400</td>\n",
       "    </tr>\n",
       "    <tr>\n",
       "      <th>1</th>\n",
       "      <td>3902</td>\n",
       "      <td>6d22740f-4d3f-4cc6-a442-8c98ddd54f1f-0004923b</td>\n",
       "      <td>Family  : Windows : Window-Casement-Double</td>\n",
       "      <td>1524.0</td>\n",
       "      <td>1219.200</td>\n",
       "    </tr>\n",
       "    <tr>\n",
       "      <th>2</th>\n",
       "      <td>3907</td>\n",
       "      <td>6d22740f-4d3f-4cc6-a442-8c98ddd54f1f-000492aa</td>\n",
       "      <td>Family  : Generic Models : Muntin Pattern_2x2</td>\n",
       "      <td>1384.3</td>\n",
       "      <td>473.075</td>\n",
       "    </tr>\n",
       "    <tr>\n",
       "      <th>3</th>\n",
       "      <td>3908</td>\n",
       "      <td>6d22740f-4d3f-4cc6-a442-8c98ddd54f1f-000492ab</td>\n",
       "      <td>Family  : Generic Models : Muntin Pattern_2x2</td>\n",
       "      <td>1384.3</td>\n",
       "      <td>473.075</td>\n",
       "    </tr>\n",
       "    <tr>\n",
       "      <th>4</th>\n",
       "      <td>3912</td>\n",
       "      <td>6d22740f-4d3f-4cc6-a442-8c98ddd54f1f-000492ac</td>\n",
       "      <td>Family  : Generic Models : Trim-Window-Exterio...</td>\n",
       "      <td>NaN</td>\n",
       "      <td>NaN</td>\n",
       "    </tr>\n",
       "    <tr>\n",
       "      <th>5</th>\n",
       "      <td>3916</td>\n",
       "      <td>6d22740f-4d3f-4cc6-a442-8c98ddd54f1f-000492ad</td>\n",
       "      <td>Family  : Generic Models : Trim-Window-Interio...</td>\n",
       "      <td>NaN</td>\n",
       "      <td>NaN</td>\n",
       "    </tr>\n",
       "  </tbody>\n",
       "</table>\n",
       "</div>"
      ],
      "text/plain": [
       "   dbId                                    external_id                                            Workset  Height     Width\n",
       "0  3551  5bb069ca-e4fe-4e63-be31-f8ac44e80d30-000471ee                     Family  : Doors : Single-Flush  2133.6   914.400\n",
       "1  3902  6d22740f-4d3f-4cc6-a442-8c98ddd54f1f-0004923b         Family  : Windows : Window-Casement-Double  1524.0  1219.200\n",
       "2  3907  6d22740f-4d3f-4cc6-a442-8c98ddd54f1f-000492aa      Family  : Generic Models : Muntin Pattern_2x2  1384.3   473.075\n",
       "3  3908  6d22740f-4d3f-4cc6-a442-8c98ddd54f1f-000492ab      Family  : Generic Models : Muntin Pattern_2x2  1384.3   473.075\n",
       "4  3912  6d22740f-4d3f-4cc6-a442-8c98ddd54f1f-000492ac  Family  : Generic Models : Trim-Window-Exterio...     NaN       NaN\n",
       "5  3916  6d22740f-4d3f-4cc6-a442-8c98ddd54f1f-000492ad  Family  : Generic Models : Trim-Window-Interio...     NaN       NaN"
      ]
     },
     "execution_count": 17,
     "metadata": {},
     "output_type": "execute_result"
    }
   ],
   "source": [
    "prop_reader.get_data_by_categories_and_params([\"Doors\", \"Windows\"], [\"Width\", \"Height\", \"Length\", \"Workset\"], True)"
   ]
  },
  {
   "cell_type": "markdown",
   "metadata": {},
   "source": [
    "### I want check parameters of specific element in Revit model"
   ]
  },
  {
   "cell_type": "code",
   "execution_count": 18,
   "metadata": {},
   "outputs": [
    {
     "name": "stdout",
     "output_type": "stream",
     "text": [
      "Number of Windows parameters:  77\n"
     ]
    },
    {
     "data": {
      "text/html": [
       "<div>\n",
       "<style scoped>\n",
       "    .dataframe tbody tr th:only-of-type {\n",
       "        vertical-align: middle;\n",
       "    }\n",
       "\n",
       "    .dataframe tbody tr th {\n",
       "        vertical-align: top;\n",
       "    }\n",
       "\n",
       "    .dataframe thead th {\n",
       "        text-align: right;\n",
       "    }\n",
       "</style>\n",
       "<table border=\"1\" class=\"dataframe\">\n",
       "  <thead>\n",
       "    <tr style=\"text-align: right;\">\n",
       "      <th></th>\n",
       "      <th>dbId</th>\n",
       "      <th>external_id</th>\n",
       "      <th>...</th>\n",
       "      <th>Thermal Resistance (R)</th>\n",
       "      <th>Heat Transfer Coefficient (U)</th>\n",
       "    </tr>\n",
       "  </thead>\n",
       "  <tbody>\n",
       "    <tr>\n",
       "      <th>0</th>\n",
       "      <td>3902</td>\n",
       "      <td>6d22740f-4d3f-4cc6-a442-8c98ddd54f1f-0004923b</td>\n",
       "      <td>...</td>\n",
       "      <td>0</td>\n",
       "      <td>0</td>\n",
       "    </tr>\n",
       "  </tbody>\n",
       "</table>\n",
       "<p>1 rows × 77 columns</p>\n",
       "</div>"
      ],
      "text/plain": [
       "   dbId                                    external_id  ... Thermal Resistance (R) Heat Transfer Coefficient (U)\n",
       "0  3902  6d22740f-4d3f-4cc6-a442-8c98ddd54f1f-0004923b  ...                      0                             0\n",
       "\n",
       "[1 rows x 77 columns]"
      ]
     },
     "execution_count": 18,
     "metadata": {},
     "output_type": "execute_result"
    }
   ],
   "source": [
    "df = prop_reader.get_data_by_external_id(\"6d22740f-4d3f-4cc6-a442-8c98ddd54f1f-0004923b\")\n",
    "print(\"Number of Windows parameters: \", df.columns.size)\n",
    "pd.set_option('display.max_columns', 5)\n",
    "pd.set_option('display.width', 1000)\n",
    "df.head()"
   ]
  },
  {
   "cell_type": "markdown",
   "metadata": {},
   "source": [
    "### I want check parameters of specific element in Revit model (include sub families)"
   ]
  },
  {
   "cell_type": "code",
   "execution_count": 19,
   "metadata": {},
   "outputs": [
    {
     "name": "stdout",
     "output_type": "stream",
     "text": [
      "Number of Windows parameters:  97\n"
     ]
    },
    {
     "data": {
      "text/html": [
       "<div>\n",
       "<style scoped>\n",
       "    .dataframe tbody tr th:only-of-type {\n",
       "        vertical-align: middle;\n",
       "    }\n",
       "\n",
       "    .dataframe tbody tr th {\n",
       "        vertical-align: top;\n",
       "    }\n",
       "\n",
       "    .dataframe thead th {\n",
       "        text-align: right;\n",
       "    }\n",
       "</style>\n",
       "<table border=\"1\" class=\"dataframe\">\n",
       "  <thead>\n",
       "    <tr style=\"text-align: right;\">\n",
       "      <th></th>\n",
       "      <th>dbId</th>\n",
       "      <th>external_id</th>\n",
       "      <th>...</th>\n",
       "      <th>Trim Thickness_with Sill</th>\n",
       "      <th>Sill Thickness</th>\n",
       "    </tr>\n",
       "  </thead>\n",
       "  <tbody>\n",
       "    <tr>\n",
       "      <th>0</th>\n",
       "      <td>3902</td>\n",
       "      <td>6d22740f-4d3f-4cc6-a442-8c98ddd54f1f-0004923b</td>\n",
       "      <td>...</td>\n",
       "      <td>NaN</td>\n",
       "      <td>NaN</td>\n",
       "    </tr>\n",
       "    <tr>\n",
       "      <th>1</th>\n",
       "      <td>3907</td>\n",
       "      <td>6d22740f-4d3f-4cc6-a442-8c98ddd54f1f-000492aa</td>\n",
       "      <td>...</td>\n",
       "      <td>NaN</td>\n",
       "      <td>NaN</td>\n",
       "    </tr>\n",
       "    <tr>\n",
       "      <th>2</th>\n",
       "      <td>3908</td>\n",
       "      <td>6d22740f-4d3f-4cc6-a442-8c98ddd54f1f-000492ab</td>\n",
       "      <td>...</td>\n",
       "      <td>NaN</td>\n",
       "      <td>NaN</td>\n",
       "    </tr>\n",
       "    <tr>\n",
       "      <th>3</th>\n",
       "      <td>3912</td>\n",
       "      <td>6d22740f-4d3f-4cc6-a442-8c98ddd54f1f-000492ac</td>\n",
       "      <td>...</td>\n",
       "      <td>19.05</td>\n",
       "      <td>31.75</td>\n",
       "    </tr>\n",
       "    <tr>\n",
       "      <th>4</th>\n",
       "      <td>3916</td>\n",
       "      <td>6d22740f-4d3f-4cc6-a442-8c98ddd54f1f-000492ad</td>\n",
       "      <td>...</td>\n",
       "      <td>19.05</td>\n",
       "      <td>31.75</td>\n",
       "    </tr>\n",
       "  </tbody>\n",
       "</table>\n",
       "<p>5 rows × 97 columns</p>\n",
       "</div>"
      ],
      "text/plain": [
       "   dbId                                    external_id  ... Trim Thickness_with Sill Sill Thickness\n",
       "0  3902  6d22740f-4d3f-4cc6-a442-8c98ddd54f1f-0004923b  ...                      NaN            NaN\n",
       "1  3907  6d22740f-4d3f-4cc6-a442-8c98ddd54f1f-000492aa  ...                      NaN            NaN\n",
       "2  3908  6d22740f-4d3f-4cc6-a442-8c98ddd54f1f-000492ab  ...                      NaN            NaN\n",
       "3  3912  6d22740f-4d3f-4cc6-a442-8c98ddd54f1f-000492ac  ...                    19.05          31.75\n",
       "4  3916  6d22740f-4d3f-4cc6-a442-8c98ddd54f1f-000492ad  ...                    19.05          31.75\n",
       "\n",
       "[5 rows x 97 columns]"
      ]
     },
     "execution_count": 19,
     "metadata": {},
     "output_type": "execute_result"
    }
   ],
   "source": [
    "df = prop_reader.get_data_by_external_id(\"6d22740f-4d3f-4cc6-a442-8c98ddd54f1f-0004923b\", True)\n",
    "print(\"Number of Windows parameters: \", df.columns.size)\n",
    "pd.set_option('display.max_columns', 5)\n",
    "pd.set_option('display.width', 1000)\n",
    "df.head()"
   ]
  },
  {
   "cell_type": "markdown",
   "metadata": {},
   "source": [
    "### I want check parameters of specific element_id in Revit model \n"
   ]
  },
  {
   "cell_type": "code",
   "execution_count": 10,
   "metadata": {},
   "outputs": [
    {
     "data": {
      "text/plain": [
       "Level                                           Level 1\n",
       "Elevation from Level                                  0\n",
       "Host                          Basic Wall : Generic - 6\"\n",
       "Moves With Nearby Elements                            0\n",
       "Opening Width                                    1219.2\n",
       "Opening Height                                   1524.0\n",
       "Volume                                         0.007586\n",
       "Data.Hello.Parquet                                    0\n",
       "Image                                                  \n",
       "Comments                                               \n",
       "dtype: object"
      ]
     },
     "execution_count": 10,
     "metadata": {},
     "output_type": "execute_result"
    }
   ],
   "source": [
    "properties_dict = prop_reader.get_data_by_element_id(299692)\n",
    "# covnert to series\n",
    "s = pd.Series(properties_dict)\n",
    "s.head(10)"
   ]
  },
  {
   "cell_type": "markdown",
   "metadata": {},
   "source": [
    "## Export Data "
   ]
  },
  {
   "cell_type": "markdown",
   "metadata": {},
   "source": [
    "### I want export my data to csv"
   ]
  },
  {
   "cell_type": "code",
   "execution_count": 20,
   "metadata": {
    "ExecuteTime": {
     "end_time": "2024-03-02T14:14:27.444755Z",
     "start_time": "2024-03-02T14:14:27.426952Z"
    },
    "collapsed": false
   },
   "outputs": [],
   "source": [
    "import os\n",
    "\n",
    "dir = \"./output\"\n",
    "if not os.path.exists(dir):\n",
    "    os.makedirs(dir)\n",
    "df.to_csv(\"./output/doors_windows.csv\", index=False)"
   ]
  },
  {
   "cell_type": "markdown",
   "metadata": {},
   "source": [
    "### I want export my data to excel"
   ]
  },
  {
   "cell_type": "code",
   "execution_count": 21,
   "metadata": {},
   "outputs": [
    {
     "name": "stdout",
     "output_type": "stream",
     "text": [
      "Requirement already satisfied: openpyxl in c:\\python311\\lib\\site-packages (3.1.2)\n",
      "Requirement already satisfied: et-xmlfile in c:\\python311\\lib\\site-packages (from openpyxl) (1.1.0)\n",
      "Note: you may need to restart the kernel to use updated packages.\n"
     ]
    }
   ],
   "source": [
    "%pip install openpyxl"
   ]
  },
  {
   "cell_type": "code",
   "execution_count": 22,
   "metadata": {},
   "outputs": [],
   "source": [
    "dir = \"./output\"\n",
    "if not os.path.exists(dir):\n",
    "    os.makedirs(dir)\n",
    "# export to excel\n",
    "df.to_excel(\"./output/doors_windows.xlsx\", index=False)"
   ]
  },
  {
   "cell_type": "markdown",
   "metadata": {},
   "source": [
    "### I want export my data to big data format like parquet"
   ]
  },
  {
   "cell_type": "code",
   "execution_count": 23,
   "metadata": {},
   "outputs": [
    {
     "name": "stdout",
     "output_type": "stream",
     "text": [
      "Requirement already satisfied: fastparquet in c:\\python311\\lib\\site-packages (2024.2.0)\n",
      "Requirement already satisfied: pandas>=1.5.0 in c:\\python311\\lib\\site-packages (from fastparquet) (2.2.1)\n",
      "Requirement already satisfied: numpy>=1.20.3 in c:\\python311\\lib\\site-packages (from fastparquet) (1.26.0)\n",
      "Requirement already satisfied: cramjam>=2.3 in c:\\python311\\lib\\site-packages (from fastparquet) (2.8.2)\n",
      "Requirement already satisfied: fsspec in c:\\python311\\lib\\site-packages (from fastparquet) (2023.9.2)\n",
      "Requirement already satisfied: packaging in c:\\python311\\lib\\site-packages (from fastparquet) (23.1)\n",
      "Requirement already satisfied: python-dateutil>=2.8.2 in c:\\python311\\lib\\site-packages (from pandas>=1.5.0->fastparquet) (2.8.2)\n",
      "Requirement already satisfied: pytz>=2020.1 in c:\\python311\\lib\\site-packages (from pandas>=1.5.0->fastparquet) (2024.1)\n",
      "Requirement already satisfied: tzdata>=2022.7 in c:\\python311\\lib\\site-packages (from pandas>=1.5.0->fastparquet) (2024.1)\n",
      "Requirement already satisfied: six>=1.5 in c:\\python311\\lib\\site-packages (from python-dateutil>=2.8.2->pandas>=1.5.0->fastparquet) (1.16.0)\n",
      "Note: you may need to restart the kernel to use updated packages.\n"
     ]
    }
   ],
   "source": [
    "%pip install fastparquet"
   ]
  },
  {
   "cell_type": "code",
   "execution_count": 24,
   "metadata": {},
   "outputs": [],
   "source": [
    "dir = \"./output/parquet\"\n",
    "if not os.path.exists(dir):\n",
    "    os.makedirs(dir)\n",
    "# export to parquet\n",
    "df.to_parquet(\"./output/parquet/doors_windows.parquet\", compression=\"gzip\")\n"
   ]
  },
  {
   "cell_type": "code",
   "execution_count": 25,
   "metadata": {},
   "outputs": [
    {
     "data": {
      "text/html": [
       "<div>\n",
       "<style scoped>\n",
       "    .dataframe tbody tr th:only-of-type {\n",
       "        vertical-align: middle;\n",
       "    }\n",
       "\n",
       "    .dataframe tbody tr th {\n",
       "        vertical-align: top;\n",
       "    }\n",
       "\n",
       "    .dataframe thead th {\n",
       "        text-align: right;\n",
       "    }\n",
       "</style>\n",
       "<table border=\"1\" class=\"dataframe\">\n",
       "  <thead>\n",
       "    <tr style=\"text-align: right;\">\n",
       "      <th></th>\n",
       "      <th>dbId</th>\n",
       "      <th>external_id</th>\n",
       "      <th>...</th>\n",
       "      <th>Trim Thickness_with Sill</th>\n",
       "      <th>Sill Thickness</th>\n",
       "    </tr>\n",
       "  </thead>\n",
       "  <tbody>\n",
       "    <tr>\n",
       "      <th>0</th>\n",
       "      <td>3902</td>\n",
       "      <td>6d22740f-4d3f-4cc6-a442-8c98ddd54f1f-0004923b</td>\n",
       "      <td>...</td>\n",
       "      <td>NaN</td>\n",
       "      <td>NaN</td>\n",
       "    </tr>\n",
       "    <tr>\n",
       "      <th>1</th>\n",
       "      <td>3907</td>\n",
       "      <td>6d22740f-4d3f-4cc6-a442-8c98ddd54f1f-000492aa</td>\n",
       "      <td>...</td>\n",
       "      <td>NaN</td>\n",
       "      <td>NaN</td>\n",
       "    </tr>\n",
       "    <tr>\n",
       "      <th>2</th>\n",
       "      <td>3908</td>\n",
       "      <td>6d22740f-4d3f-4cc6-a442-8c98ddd54f1f-000492ab</td>\n",
       "      <td>...</td>\n",
       "      <td>NaN</td>\n",
       "      <td>NaN</td>\n",
       "    </tr>\n",
       "    <tr>\n",
       "      <th>3</th>\n",
       "      <td>3912</td>\n",
       "      <td>6d22740f-4d3f-4cc6-a442-8c98ddd54f1f-000492ac</td>\n",
       "      <td>...</td>\n",
       "      <td>19.05</td>\n",
       "      <td>31.75</td>\n",
       "    </tr>\n",
       "    <tr>\n",
       "      <th>4</th>\n",
       "      <td>3916</td>\n",
       "      <td>6d22740f-4d3f-4cc6-a442-8c98ddd54f1f-000492ad</td>\n",
       "      <td>...</td>\n",
       "      <td>19.05</td>\n",
       "      <td>31.75</td>\n",
       "    </tr>\n",
       "  </tbody>\n",
       "</table>\n",
       "<p>5 rows × 97 columns</p>\n",
       "</div>"
      ],
      "text/plain": [
       "   dbId                                    external_id  ... Trim Thickness_with Sill Sill Thickness\n",
       "0  3902  6d22740f-4d3f-4cc6-a442-8c98ddd54f1f-0004923b  ...                      NaN            NaN\n",
       "1  3907  6d22740f-4d3f-4cc6-a442-8c98ddd54f1f-000492aa  ...                      NaN            NaN\n",
       "2  3908  6d22740f-4d3f-4cc6-a442-8c98ddd54f1f-000492ab  ...                      NaN            NaN\n",
       "3  3912  6d22740f-4d3f-4cc6-a442-8c98ddd54f1f-000492ac  ...                    19.05          31.75\n",
       "4  3916  6d22740f-4d3f-4cc6-a442-8c98ddd54f1f-000492ad  ...                    19.05          31.75\n",
       "\n",
       "[5 rows x 97 columns]"
      ]
     },
     "execution_count": 25,
     "metadata": {},
     "output_type": "execute_result"
    }
   ],
   "source": [
    "# read parquet\n",
    "df = pd.read_parquet(\"./output/parquet/doors_windows.parquet\")\n",
    "df.head()"
   ]
  }
 ],
 "metadata": {
  "kernelspec": {
   "display_name": "Python 3",
   "language": "python",
   "name": "python3"
  },
  "language_info": {
   "codemirror_mode": {
    "name": "ipython",
    "version": 3
   },
   "file_extension": ".py",
   "mimetype": "text/x-python",
   "name": "python",
   "nbconvert_exporter": "python",
   "pygments_lexer": "ipython3",
   "version": "3.11.5"
  },
  "polyglot_notebook": {
   "kernelInfo": {
    "defaultKernelName": "csharp",
    "items": [
     {
      "aliases": [],
      "name": "csharp"
     }
    ]
   }
  }
 },
 "nbformat": 4,
 "nbformat_minor": 2
}
