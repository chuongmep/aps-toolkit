{
 "cells": [
  {
   "cell_type": "markdown",
   "metadata": {},
   "source": [
    "<table align=\"left\">\n",
    "  <td style=\"text-align: center\">\n",
    "    <a href=\"https://colab.research.google.com/github/chuongmep/aps-toolkit/blob/dev/APSToolkitPython/Tutorials/04.01.%20Explore%20Revit%20Data%20With%20APSToolkit.ipynb\">\n",
    "      <img src=\"https://cloud.google.com/ml-engine/images/colab-logo-32px.png\" alt=\"Google Colaboratory logo\"><br> Run in Colab\n",
    "    </a>\n",
    "  </td>\n",
    "  <td style=\"text-align: center\">\n",
    "    <a href=\"https://github.com/chuongmep/aps-toolkit/blob/dev/APSToolkitPython/Tutorials/04.01.%20Explore%20Revit%20Data%20With%20APSToolkit.ipynb\">\n",
    "      <img src=\"https://cloud.google.com/ml-engine/images/github-logo-32px.png\" alt=\"GitHub logo\"><br> View on GitHub\n",
    "    </a>\n",
    "  </td>\n",
    "</table>"
   ]
  },
  {
   "cell_type": "markdown",
   "metadata": {},
   "source": [
    "<table align=\"left\">\n",
    "  <tr>\n",
    "    <td>Author(s)</td>\n",
    "    <td><a href=\"https://github.com/chuongmep\" id=\"author-link\">Chuong Ho</a></td>\n",
    "    <!-- <td><a href=\"<your repo>\" id=\"github-link\">YourName</a></td> -->\n",
    "  </tr>\n",
    "</table>"
   ]
  },
  {
   "cell_type": "code",
   "execution_count": 1,
   "metadata": {
    "dotnet_interactive": {
     "language": "csharp"
    },
    "polyglot_notebook": {
     "kernelName": "csharp"
    }
   },
   "source": [
    "%pip install aps-toolkit --upgrade"
   ],
   "outputs": []
  },
  {
   "cell_type": "code",
   "execution_count": 1,
   "metadata": {
    "ExecuteTime": {
     "end_time": "2024-03-02T14:12:22.214171Z",
     "start_time": "2024-03-02T14:12:22.211115Z"
    }
   },
   "source": [
    "from aps_toolkit import Auth\n",
    "import pandas as pd"
   ],
   "outputs": []
  },
  {
   "cell_type": "markdown",
   "metadata": {},
   "source": [
    "### Authentication"
   ]
  },
  {
   "cell_type": "code",
   "execution_count": 2,
   "metadata": {
    "ExecuteTime": {
     "end_time": "2024-03-02T14:12:23.004384Z",
     "start_time": "2024-03-02T14:12:22.215209Z"
    }
   },
   "source": [
    "token = Auth().auth2leg()"
   ],
   "outputs": []
  },
  {
   "cell_type": "markdown",
   "metadata": {},
   "source": [
    "#### Auth Via Google Colab"
   ]
  },
  {
   "cell_type": "code",
   "execution_count": null,
   "metadata": {},
   "source": [
    "# from google.colab import userdata\n",
    "# client_id = userdata.get('APS_CLIENT_ID')\n",
    "# client_secret = userdata.get('APS_CLIENT_SECRET')\n",
    "# auth = Auth(client_id, client_secret)\n",
    "# token = auth.auth2leg()"
   ],
   "outputs": []
  },
  {
   "cell_type": "code",
   "execution_count": 3,
   "metadata": {
    "ExecuteTime": {
     "end_time": "2024-03-02T14:12:23.009480Z",
     "start_time": "2024-03-02T14:12:23.005633Z"
    }
   },
   "source": [
    "urn = \"dXJuOmFkc2sud2lwcHJvZDpmcy5maWxlOnZmLk9kOHR4RGJLU1NlbFRvVmcxb2MxVkE_dmVyc2lvbj0yNA\""
   ],
   "outputs": []
  },
  {
   "cell_type": "markdown",
   "metadata": {},
   "source": [
    "### Reader"
   ]
  },
  {
   "cell_type": "markdown",
   "metadata": {},
   "source": [
    "#### General Reader with Default View"
   ]
  },
  {
   "cell_type": "code",
   "execution_count": 4,
   "metadata": {
    "ExecuteTime": {
     "end_time": "2024-03-02T14:12:31.994676Z",
     "start_time": "2024-03-02T14:12:23.010491Z"
    }
   },
   "source": [
    "from aps_toolkit import PropDbReaderRevit\n",
    "\n",
    "prop_reader = PropDbReaderRevit(urn, token)"
   ],
   "outputs": []
  },
  {
   "cell_type": "markdown",
   "metadata": {},
   "source": [
    "#### Reader with Custom View"
   ]
  },
  {
   "cell_type": "code",
   "execution_count": 8,
   "metadata": {},
   "source": [
    "from aps_toolkit import Derivative\n",
    "derivative = Derivative(urn, token,\"US\")"
   ],
   "outputs": []
  },
  {
   "cell_type": "code",
   "execution_count": 9,
   "metadata": {},
   "source": [
    "items = derivative.read_svf_manifest_items()\n",
    "for item in items:\n",
    "    print(item.path_info.root_file_name)"
   ],
   "outputs": []
  },
  {
   "cell_type": "code",
   "execution_count": 10,
   "metadata": {},
   "source": [
    "item = items[0]\n",
    "print(\"Guid: \", item.guid)\n",
    "print(\"Root File Name Item: \", item.path_info.root_file_name)\n",
    "print(\"Path: \", item.path_info.files)"
   ],
   "outputs": []
  },
  {
   "cell_type": "code",
   "execution_count": 13,
   "metadata": {},
   "source": [
    "prop_reader = PropDbReaderRevit(urn, token,\"US\",items[0])"
   ],
   "outputs": []
  },
  {
   "cell_type": "markdown",
   "metadata": {},
   "source": [
    "### Read Document Information"
   ]
  },
  {
   "cell_type": "code",
   "execution_count": 14,
   "metadata": {},
   "source": [
    "docs_info = prop_reader.get_document_info()\n",
    "docs_info"
   ],
   "outputs": []
  },
  {
   "cell_type": "code",
   "execution_count": 15,
   "metadata": {},
   "source": [
    "prop_reader.get_document_id()"
   ],
   "outputs": []
  },
  {
   "cell_type": "markdown",
   "metadata": {},
   "source": [
    "### I want get all levels of the revit model"
   ]
  },
  {
   "cell_type": "code",
   "execution_count": 16,
   "metadata": {},
   "source": [
    "prop_reader.get_levels()"
   ],
   "outputs": []
  },
  {
   "cell_type": "markdown",
   "metadata": {},
   "source": [
    "### I want get all grids line of the revit model"
   ]
  },
  {
   "cell_type": "code",
   "execution_count": 17,
   "metadata": {},
   "source": [
    "prop_reader.get_grids()"
   ],
   "outputs": []
  },
  {
   "cell_type": "markdown",
   "metadata": {},
   "source": [
    "### I want get all phases of the revit model"
   ]
  },
  {
   "cell_type": "code",
   "execution_count": 18,
   "metadata": {},
   "source": [
    "prop_reader.get_phases()"
   ],
   "outputs": []
  },
  {
   "cell_type": "markdown",
   "metadata": {},
   "source": [
    "### I want get transformation of the revit model"
   ]
  },
  {
   "cell_type": "code",
   "execution_count": 19,
   "metadata": {},
   "source": [
    "prop_reader.get_ref_point_transformation()"
   ],
   "outputs": []
  },
  {
   "cell_type": "markdown",
   "metadata": {},
   "source": [
    "### I want to get all data of the revit model"
   ]
  },
  {
   "cell_type": "code",
   "execution_count": 20,
   "metadata": {},
   "source": [
    "df = prop_reader.get_all_data()\n",
    "pd.set_option('display.max_columns', 5)\n",
    "pd.set_option('display.width', 1000)\n",
    "df.head()"
   ],
   "outputs": []
  },
  {
   "cell_type": "markdown",
   "metadata": {},
   "source": [
    "### I want get all the categories of the revit model"
   ]
  },
  {
   "cell_type": "code",
   "execution_count": 21,
   "metadata": {
    "ExecuteTime": {
     "end_time": "2024-03-02T14:12:32.072342Z",
     "start_time": "2024-03-02T14:12:31.995685Z"
    }
   },
   "source": [
    "categories = prop_reader.get_all_categories()\n",
    "# to dataframe with columns \"dbid,category\" from dict categories\n",
    "df = pd.DataFrame.from_dict(categories, orient='index', columns=[\"category\"])\n",
    "df = df.reset_index()\n",
    "df = df.rename(columns={\"index\": \"dbid\"})\n",
    "df.head(20)\n"
   ],
   "outputs": []
  },
  {
   "cell_type": "markdown",
   "metadata": {},
   "source": [
    "### I want to get all the families of the revit model"
   ]
  },
  {
   "cell_type": "code",
   "execution_count": 22,
   "metadata": {
    "ExecuteTime": {
     "end_time": "2024-03-02T14:12:32.482109Z",
     "start_time": "2024-03-02T14:12:32.072342Z"
    }
   },
   "source": [
    "families = prop_reader.get_all_families()\n",
    "# to dataframe with columns \"dbid,family\" from dict families\n",
    "df = pd.DataFrame.from_dict(families, orient='index', columns=[\"family\"])\n",
    "df = df.reset_index()\n",
    "df = df.rename(columns={\"index\": \"dbid\"})\n",
    "df.head(10)"
   ],
   "outputs": []
  },
  {
   "cell_type": "markdown",
   "metadata": {},
   "source": [
    "### I want to get all the family types of the revit model"
   ]
  },
  {
   "cell_type": "code",
   "execution_count": 23,
   "metadata": {
    "ExecuteTime": {
     "end_time": "2024-03-02T14:12:32.964962Z",
     "start_time": "2024-03-02T14:12:32.483116Z"
    }
   },
   "source": [
    "families_types = prop_reader.get_all_families_types()\n",
    "# to dataframe with columns \"dbid,family,type\" from dict families_types\n",
    "df = pd.DataFrame.from_dict(families_types, orient='index', columns=[\"family_type\"])\n",
    "df = df.reset_index()\n",
    "df = df.rename(columns={\"index\": \"dbid\"})\n",
    "df.head(10)"
   ],
   "outputs": []
  },
  {
   "cell_type": "markdown",
   "metadata": {},
   "source": [
    "### I want get all parameters of the Revit model"
   ]
  },
  {
   "cell_type": "code",
   "execution_count": 24,
   "metadata": {},
   "source": [
    "parameters = prop_reader.get_all_parameters()\n",
    "print(\"5 first parameters: \", parameters[:5])"
   ],
   "outputs": []
  },
  {
   "cell_type": "markdown",
   "metadata": {},
   "source": [
    "### I want get data by revit category"
   ]
  },
  {
   "cell_type": "code",
   "execution_count": 25,
   "metadata": {
    "ExecuteTime": {
     "end_time": "2024-03-02T14:12:33.147249Z",
     "start_time": "2024-03-02T14:12:32.965972Z"
    }
   },
   "source": [
    "df = prop_reader.get_data_by_category(\"Windows\")\n",
    "pd.set_option('display.max_columns', 5)\n",
    "pd.set_option('display.width', 1000)\n",
    "df.head()"
   ],
   "outputs": []
  },
  {
   "cell_type": "markdown",
   "metadata": {},
   "source": [
    "### I want  get sub families element by revit category"
   ]
  },
  {
   "cell_type": "code",
   "execution_count": 10,
   "metadata": {},
   "source": [
    "df = prop_reader.get_data_by_category(\"Windows\", True,False)\n",
    "# show 5 columns and fix the width of the columns\n",
    "pd.set_option('display.max_columns', 8)\n",
    "pd.set_option('display.width', 1000)\n",
    "df.head()"
   ],
   "outputs": []
  },
  {
   "cell_type": "markdown",
   "metadata": {},
   "source": [
    "### I want get data by revit categories"
   ]
  },
  {
   "cell_type": "code",
   "execution_count": 27,
   "metadata": {
    "ExecuteTime": {
     "end_time": "2024-03-02T14:12:34.998404Z",
     "start_time": "2024-03-02T14:12:33.728494Z"
    }
   },
   "source": [
    "df = prop_reader.get_data_by_categories([\"Doors\", \"Windows\"])\n",
    "pd.set_option('display.max_columns', 8)\n",
    "pd.set_option('display.width', 1000)\n",
    "df.head()"
   ],
   "outputs": []
  },
  {
   "cell_type": "code",
   "execution_count": 28,
   "metadata": {},
   "source": [
    "df = prop_reader.get_data_by_categories([\"Doors\", \"Windows\"], True)\n",
    "pd.set_option('display.max_columns', 6)\n",
    "pd.set_option('display.width', 1000)\n",
    "df.head()"
   ],
   "outputs": []
  },
  {
   "cell_type": "markdown",
   "metadata": {},
   "source": [
    "### I want get data by revit categories and parameters"
   ]
  },
  {
   "cell_type": "code",
   "execution_count": 29,
   "metadata": {
    "ExecuteTime": {
     "end_time": "2024-03-02T14:12:33.727202Z",
     "start_time": "2024-03-02T14:12:33.148254Z"
    }
   },
   "source": [
    "prop_reader.get_data_by_categories_and_params([\"Doors\", \"Windows\"], [\"Width\", \"Height\", \"Length\", \"Workset\"])"
   ],
   "outputs": []
  },
  {
   "cell_type": "markdown",
   "metadata": {},
   "source": [
    "### I want get data by revit categories and parameters (include sub families)"
   ]
  },
  {
   "cell_type": "code",
   "execution_count": 30,
   "metadata": {},
   "source": [
    "prop_reader.get_data_by_categories_and_params([\"Doors\", \"Windows\"], [\"Width\", \"Height\", \"Length\", \"Workset\"], True)"
   ],
   "outputs": []
  },
  {
   "cell_type": "markdown",
   "metadata": {},
   "source": [
    "### I want check parameters of specific element in Revit model"
   ]
  },
  {
   "cell_type": "code",
   "execution_count": 31,
   "metadata": {},
   "source": [
    "df = prop_reader.get_data_by_external_id(\"6d22740f-4d3f-4cc6-a442-8c98ddd54f1f-0004923b\")\n",
    "print(\"Number of Windows parameters: \", df.columns.size)\n",
    "pd.set_option('display.max_columns', 5)\n",
    "pd.set_option('display.width', 1000)\n",
    "df.head()"
   ],
   "outputs": []
  },
  {
   "cell_type": "markdown",
   "metadata": {},
   "source": [
    "### I want check parameters of specific element in Revit model (include sub families)"
   ]
  },
  {
   "cell_type": "code",
   "execution_count": 32,
   "metadata": {},
   "source": [
    "df = prop_reader.get_data_by_external_id(\"6d22740f-4d3f-4cc6-a442-8c98ddd54f1f-0004923b\", True)\n",
    "print(\"Number of Windows parameters: \", df.columns.size)\n",
    "pd.set_option('display.max_columns', 5)\n",
    "pd.set_option('display.width', 1000)\n",
    "df.head()"
   ],
   "outputs": []
  },
  {
   "cell_type": "markdown",
   "metadata": {},
   "source": [
    "### I want check parameters of specific element_id in Revit model \n"
   ]
  },
  {
   "cell_type": "code",
   "execution_count": 33,
   "metadata": {},
   "source": [
    "properties_dict = prop_reader.get_data_by_element_id(299692)\n",
    "# covnert to series\n",
    "s = pd.Series(properties_dict)\n",
    "s.head(10)"
   ],
   "outputs": []
  },
  {
   "cell_type": "markdown",
   "metadata": {},
   "source": [
    "## Export Data "
   ]
  },
  {
   "cell_type": "markdown",
   "metadata": {},
   "source": [
    "### I want export my data to csv"
   ]
  },
  {
   "cell_type": "code",
   "execution_count": 34,
   "metadata": {
    "ExecuteTime": {
     "end_time": "2024-03-02T14:14:27.444755Z",
     "start_time": "2024-03-02T14:14:27.426952Z"
    },
    "collapsed": false
   },
   "source": [
    "import os\n",
    "\n",
    "dir = \"./output\"\n",
    "if not os.path.exists(dir):\n",
    "    os.makedirs(dir)\n",
    "df.to_csv(\"./output/doors_windows.csv\", index=False)"
   ],
   "outputs": []
  },
  {
   "cell_type": "markdown",
   "metadata": {},
   "source": [
    "### I want export my data to excel"
   ]
  },
  {
   "cell_type": "code",
   "execution_count": 35,
   "metadata": {},
   "source": [
    "%pip install openpyxl"
   ],
   "outputs": []
  },
  {
   "cell_type": "code",
   "execution_count": 22,
   "metadata": {},
   "source": [
    "dir = \"./output\"\n",
    "if not os.path.exists(dir):\n",
    "    os.makedirs(dir)\n",
    "# export to excel\n",
    "df.to_excel(\"./output/doors_windows.xlsx\", index=False)"
   ],
   "outputs": []
  },
  {
   "cell_type": "markdown",
   "metadata": {},
   "source": [
    "### I want export my data to big data format like parquet"
   ]
  },
  {
   "cell_type": "code",
   "execution_count": 23,
   "metadata": {},
   "source": [
    "%pip install fastparquet"
   ],
   "outputs": []
  },
  {
   "cell_type": "code",
   "execution_count": 24,
   "metadata": {},
   "source": [
    "dir = \"./output/parquet\"\n",
    "if not os.path.exists(dir):\n",
    "    os.makedirs(dir)\n",
    "# export to parquet\n",
    "df.to_parquet(\"./output/parquet/doors_windows.parquet\", compression=\"gzip\")\n"
   ],
   "outputs": []
  },
  {
   "cell_type": "code",
   "execution_count": 25,
   "metadata": {},
   "source": [
    "# read parquet\n",
    "df = pd.read_parquet(\"./output/parquet/doors_windows.parquet\")\n",
    "df.head()"
   ],
   "outputs": []
  }
 ],
 "metadata": {
  "kernelspec": {
   "display_name": "Python 3",
   "language": "python",
   "name": "python3"
  },
  "language_info": {
   "codemirror_mode": {
    "name": "ipython",
    "version": 3
   },
   "file_extension": ".py",
   "mimetype": "text/x-python",
   "name": "python",
   "nbconvert_exporter": "python",
   "pygments_lexer": "ipython3",
   "version": "3.11.7"
  },
  "polyglot_notebook": {
   "kernelInfo": {
    "defaultKernelName": "csharp",
    "items": [
     {
      "aliases": [],
      "name": "csharp"
     }
    ]
   }
  }
 },
 "nbformat": 4,
 "nbformat_minor": 2
}
