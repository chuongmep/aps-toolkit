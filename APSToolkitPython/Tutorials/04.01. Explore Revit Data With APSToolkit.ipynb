{
 "cells": [
  {
   "cell_type": "code",
   "execution_count": 1,
   "metadata": {
    "ExecuteTime": {
     "end_time": "2024-03-02T14:12:22.210102Z",
     "start_time": "2024-03-02T14:12:19.115142Z"
    }
   },
   "outputs": [
    {
     "name": "stdout",
     "output_type": "stream",
     "text": [
      "Requirement already satisfied: aps-toolkit in /Library/Frameworks/Python.framework/Versions/3.11/lib/python3.11/site-packages (0.0.5)\n",
      "Collecting aps-toolkit\n",
      "  Downloading aps_toolkit-0.1.2-py3-none-any.whl.metadata (1.8 kB)\n",
      "Requirement already satisfied: requests in /Library/Frameworks/Python.framework/Versions/3.11/lib/python3.11/site-packages (from aps-toolkit) (2.28.1)\n",
      "Requirement already satisfied: pandas in /Library/Frameworks/Python.framework/Versions/3.11/lib/python3.11/site-packages (from aps-toolkit) (2.2.0)\n",
      "Requirement already satisfied: numpy<2,>=1.23.2 in /Library/Frameworks/Python.framework/Versions/3.11/lib/python3.11/site-packages (from pandas->aps-toolkit) (1.23.5)\n",
      "Requirement already satisfied: python-dateutil>=2.8.2 in /Library/Frameworks/Python.framework/Versions/3.11/lib/python3.11/site-packages (from pandas->aps-toolkit) (2.8.2)\n",
      "Requirement already satisfied: pytz>=2020.1 in /Library/Frameworks/Python.framework/Versions/3.11/lib/python3.11/site-packages (from pandas->aps-toolkit) (2022.7)\n",
      "Requirement already satisfied: tzdata>=2022.7 in /Library/Frameworks/Python.framework/Versions/3.11/lib/python3.11/site-packages (from pandas->aps-toolkit) (2023.4)\n",
      "Requirement already satisfied: charset-normalizer<3,>=2 in /Library/Frameworks/Python.framework/Versions/3.11/lib/python3.11/site-packages (from requests->aps-toolkit) (2.1.1)\n",
      "Requirement already satisfied: idna<4,>=2.5 in /Library/Frameworks/Python.framework/Versions/3.11/lib/python3.11/site-packages (from requests->aps-toolkit) (3.4)\n",
      "Requirement already satisfied: urllib3<1.27,>=1.21.1 in /Library/Frameworks/Python.framework/Versions/3.11/lib/python3.11/site-packages (from requests->aps-toolkit) (1.26.13)\n",
      "Requirement already satisfied: certifi>=2017.4.17 in /Library/Frameworks/Python.framework/Versions/3.11/lib/python3.11/site-packages (from requests->aps-toolkit) (2022.12.7)\n",
      "Requirement already satisfied: six>=1.5 in /Library/Frameworks/Python.framework/Versions/3.11/lib/python3.11/site-packages (from python-dateutil>=2.8.2->pandas->aps-toolkit) (1.16.0)\n",
      "Downloading aps_toolkit-0.1.2-py3-none-any.whl (12 kB)\n",
      "Installing collected packages: aps-toolkit\n",
      "  Attempting uninstall: aps-toolkit\n",
      "    Found existing installation: aps-toolkit 0.0.5\n",
      "    Uninstalling aps-toolkit-0.0.5:\n",
      "      Successfully uninstalled aps-toolkit-0.0.5\n",
      "Successfully installed aps-toolkit-0.1.2\n",
      "\n",
      "\u001b[1m[\u001b[0m\u001b[34;49mnotice\u001b[0m\u001b[1;39;49m]\u001b[0m\u001b[39;49m A new release of pip is available: \u001b[0m\u001b[31;49m23.3.2\u001b[0m\u001b[39;49m -> \u001b[0m\u001b[32;49m24.0\u001b[0m\n",
      "\u001b[1m[\u001b[0m\u001b[34;49mnotice\u001b[0m\u001b[1;39;49m]\u001b[0m\u001b[39;49m To update, run: \u001b[0m\u001b[32;49mpip3 install --upgrade pip\u001b[0m\n",
      "Note: you may need to restart the kernel to use updated packages.\n"
     ]
    }
   ],
   "source": [
    "%pip install aps-toolkit --upgrade"
   ]
  },
  {
   "cell_type": "code",
   "execution_count": 2,
   "metadata": {
    "ExecuteTime": {
     "end_time": "2024-03-02T14:12:22.214171Z",
     "start_time": "2024-03-02T14:12:22.211115Z"
    }
   },
   "outputs": [],
   "source": [
    "from aps_toolkit import Auth\n",
    "import pandas as pd"
   ]
  },
  {
   "cell_type": "code",
   "execution_count": 3,
   "metadata": {
    "ExecuteTime": {
     "end_time": "2024-03-02T14:12:23.004384Z",
     "start_time": "2024-03-02T14:12:22.215209Z"
    }
   },
   "outputs": [],
   "source": [
    "token = Auth().auth2leg()"
   ]
  },
  {
   "cell_type": "code",
   "execution_count": 11,
   "metadata": {
    "ExecuteTime": {
     "end_time": "2024-03-02T14:12:23.009480Z",
     "start_time": "2024-03-02T14:12:23.005633Z"
    }
   },
   "outputs": [],
   "source": [
    "urn = \"dXJuOmFkc2sud2lwcHJvZDpmcy5maWxlOnZmLk9kOHR4RGJLU1NlbFRvVmcxb2MxVkE_dmVyc2lvbj0yNA\""
   ]
  },
  {
   "cell_type": "code",
   "execution_count": 12,
   "metadata": {
    "ExecuteTime": {
     "end_time": "2024-03-02T14:12:31.994676Z",
     "start_time": "2024-03-02T14:12:23.010491Z"
    }
   },
   "outputs": [],
   "source": [
    "from aps_toolkit import PropDbReaderRevit\n",
    "prop_reader = PropDbReaderRevit(urn, token)"
   ]
  },
  {
   "cell_type": "markdown",
   "metadata": {},
   "source": [
    "### I want get all the categories of the revit model"
   ]
  },
  {
   "cell_type": "code",
   "execution_count": 13,
   "metadata": {
    "ExecuteTime": {
     "end_time": "2024-03-02T14:12:32.072342Z",
     "start_time": "2024-03-02T14:12:31.995685Z"
    }
   },
   "outputs": [
    {
     "data": {
      "text/html": [
       "<div>\n",
       "<style scoped>\n",
       "    .dataframe tbody tr th:only-of-type {\n",
       "        vertical-align: middle;\n",
       "    }\n",
       "\n",
       "    .dataframe tbody tr th {\n",
       "        vertical-align: top;\n",
       "    }\n",
       "\n",
       "    .dataframe thead th {\n",
       "        text-align: right;\n",
       "    }\n",
       "</style>\n",
       "<table border=\"1\" class=\"dataframe\">\n",
       "  <thead>\n",
       "    <tr style=\"text-align: right;\">\n",
       "      <th></th>\n",
       "      <th>dbid</th>\n",
       "      <th>category</th>\n",
       "    </tr>\n",
       "  </thead>\n",
       "  <tbody>\n",
       "    <tr>\n",
       "      <th>0</th>\n",
       "      <td>43</td>\n",
       "      <td>Phases</td>\n",
       "    </tr>\n",
       "    <tr>\n",
       "      <th>1</th>\n",
       "      <td>69</td>\n",
       "      <td>Materials</td>\n",
       "    </tr>\n",
       "    <tr>\n",
       "      <th>2</th>\n",
       "      <td>409</td>\n",
       "      <td>Primary Contours</td>\n",
       "    </tr>\n",
       "    <tr>\n",
       "      <th>3</th>\n",
       "      <td>411</td>\n",
       "      <td>Area Schemes</td>\n",
       "    </tr>\n",
       "    <tr>\n",
       "      <th>4</th>\n",
       "      <td>732</td>\n",
       "      <td>Elevations</td>\n",
       "    </tr>\n",
       "    <tr>\n",
       "      <th>5</th>\n",
       "      <td>739</td>\n",
       "      <td>Views</td>\n",
       "    </tr>\n",
       "    <tr>\n",
       "      <th>6</th>\n",
       "      <td>804</td>\n",
       "      <td>Viewports</td>\n",
       "    </tr>\n",
       "    <tr>\n",
       "      <th>7</th>\n",
       "      <td>836</td>\n",
       "      <td>Shared Site</td>\n",
       "    </tr>\n",
       "    <tr>\n",
       "      <th>8</th>\n",
       "      <td>882</td>\n",
       "      <td>Work Plane Grid</td>\n",
       "    </tr>\n",
       "    <tr>\n",
       "      <th>9</th>\n",
       "      <td>980</td>\n",
       "      <td>Revision</td>\n",
       "    </tr>\n",
       "    <tr>\n",
       "      <th>10</th>\n",
       "      <td>991</td>\n",
       "      <td>Project Information</td>\n",
       "    </tr>\n",
       "    <tr>\n",
       "      <th>11</th>\n",
       "      <td>1019</td>\n",
       "      <td>Structural Load Cases</td>\n",
       "    </tr>\n",
       "    <tr>\n",
       "      <th>12</th>\n",
       "      <td>1039</td>\n",
       "      <td>Title Blocks</td>\n",
       "    </tr>\n",
       "    <tr>\n",
       "      <th>13</th>\n",
       "      <td>1070</td>\n",
       "      <td>Sun Path</td>\n",
       "    </tr>\n",
       "    <tr>\n",
       "      <th>14</th>\n",
       "      <td>1258</td>\n",
       "      <td>&lt;Area Boundary&gt;</td>\n",
       "    </tr>\n",
       "    <tr>\n",
       "      <th>15</th>\n",
       "      <td>1267</td>\n",
       "      <td>Text Notes</td>\n",
       "    </tr>\n",
       "    <tr>\n",
       "      <th>16</th>\n",
       "      <td>1310</td>\n",
       "      <td>Internal Origin</td>\n",
       "    </tr>\n",
       "    <tr>\n",
       "      <th>17</th>\n",
       "      <td>1571</td>\n",
       "      <td>Color Fill Schema</td>\n",
       "    </tr>\n",
       "    <tr>\n",
       "      <th>18</th>\n",
       "      <td>1749</td>\n",
       "      <td>HVAC Zones</td>\n",
       "    </tr>\n",
       "    <tr>\n",
       "      <th>19</th>\n",
       "      <td>1864</td>\n",
       "      <td>HVAC Load Schedules</td>\n",
       "    </tr>\n",
       "  </tbody>\n",
       "</table>\n",
       "</div>"
      ],
      "text/plain": [
       "    dbid               category\n",
       "0     43                 Phases\n",
       "1     69              Materials\n",
       "2    409       Primary Contours\n",
       "3    411           Area Schemes\n",
       "4    732             Elevations\n",
       "5    739                  Views\n",
       "6    804              Viewports\n",
       "7    836            Shared Site\n",
       "8    882        Work Plane Grid\n",
       "9    980               Revision\n",
       "10   991    Project Information\n",
       "11  1019  Structural Load Cases\n",
       "12  1039           Title Blocks\n",
       "13  1070               Sun Path\n",
       "14  1258        <Area Boundary>\n",
       "15  1267             Text Notes\n",
       "16  1310        Internal Origin\n",
       "17  1571      Color Fill Schema\n",
       "18  1749             HVAC Zones\n",
       "19  1864    HVAC Load Schedules"
      ]
     },
     "execution_count": 13,
     "metadata": {},
     "output_type": "execute_result"
    }
   ],
   "source": [
    "categories = prop_reader.get_all_categories()\n",
    "# to dataframe with columns \"dbid,category\" from dict categories\n",
    "df = pd.DataFrame.from_dict(categories, orient='index', columns=[\"category\"])\n",
    "df = df.reset_index()\n",
    "df = df.rename(columns={\"index\":\"dbid\"})\n",
    "df.head(20)\n"
   ]
  },
  {
   "cell_type": "markdown",
   "metadata": {},
   "source": [
    "### I want to get all the families of the revit model"
   ]
  },
  {
   "cell_type": "code",
   "execution_count": 14,
   "metadata": {
    "ExecuteTime": {
     "end_time": "2024-03-02T14:12:32.482109Z",
     "start_time": "2024-03-02T14:12:32.072342Z"
    }
   },
   "outputs": [
    {
     "data": {
      "text/html": [
       "<div>\n",
       "<style scoped>\n",
       "    .dataframe tbody tr th:only-of-type {\n",
       "        vertical-align: middle;\n",
       "    }\n",
       "\n",
       "    .dataframe tbody tr th {\n",
       "        vertical-align: top;\n",
       "    }\n",
       "\n",
       "    .dataframe thead th {\n",
       "        text-align: right;\n",
       "    }\n",
       "</style>\n",
       "<table border=\"1\" class=\"dataframe\">\n",
       "  <thead>\n",
       "    <tr style=\"text-align: right;\">\n",
       "      <th></th>\n",
       "      <th>dbid</th>\n",
       "      <th>family</th>\n",
       "    </tr>\n",
       "  </thead>\n",
       "  <tbody>\n",
       "    <tr>\n",
       "      <th>0</th>\n",
       "      <td>359</td>\n",
       "      <td>Floor Plan</td>\n",
       "    </tr>\n",
       "    <tr>\n",
       "      <th>1</th>\n",
       "      <td>365</td>\n",
       "      <td>Ceiling Plan</td>\n",
       "    </tr>\n",
       "    <tr>\n",
       "      <th>2</th>\n",
       "      <td>799</td>\n",
       "      <td>Sheet</td>\n",
       "    </tr>\n",
       "    <tr>\n",
       "      <th>3</th>\n",
       "      <td>4087</td>\n",
       "      <td>Schedule</td>\n",
       "    </tr>\n",
       "    <tr>\n",
       "      <th>4</th>\n",
       "      <td>733</td>\n",
       "      <td>Elevation</td>\n",
       "    </tr>\n",
       "    <tr>\n",
       "      <th>5</th>\n",
       "      <td>740</td>\n",
       "      <td>Elevation</td>\n",
       "    </tr>\n",
       "    <tr>\n",
       "      <th>6</th>\n",
       "      <td>4163</td>\n",
       "      <td>Section</td>\n",
       "    </tr>\n",
       "    <tr>\n",
       "      <th>7</th>\n",
       "      <td>805</td>\n",
       "      <td>Viewport</td>\n",
       "    </tr>\n",
       "    <tr>\n",
       "      <th>8</th>\n",
       "      <td>838</td>\n",
       "      <td>Default Site</td>\n",
       "    </tr>\n",
       "    <tr>\n",
       "      <th>9</th>\n",
       "      <td>2098</td>\n",
       "      <td>Project</td>\n",
       "    </tr>\n",
       "  </tbody>\n",
       "</table>\n",
       "</div>"
      ],
      "text/plain": [
       "   dbid        family\n",
       "0   359    Floor Plan\n",
       "1   365  Ceiling Plan\n",
       "2   799         Sheet\n",
       "3  4087      Schedule\n",
       "4   733     Elevation\n",
       "5   740     Elevation\n",
       "6  4163       Section\n",
       "7   805      Viewport\n",
       "8   838  Default Site\n",
       "9  2098       Project"
      ]
     },
     "execution_count": 14,
     "metadata": {},
     "output_type": "execute_result"
    }
   ],
   "source": [
    "families = prop_reader.get_all_families()\n",
    "# to dataframe with columns \"dbid,family\" from dict families\n",
    "df = pd.DataFrame.from_dict(families, orient='index', columns=[\"family\"])\n",
    "df = df.reset_index()\n",
    "df = df.rename(columns={\"index\":\"dbid\"})\n",
    "df.head(10)"
   ]
  },
  {
   "cell_type": "markdown",
   "metadata": {},
   "source": [
    "### I want to get all the family types of the revit model"
   ]
  },
  {
   "cell_type": "code",
   "execution_count": 15,
   "metadata": {
    "ExecuteTime": {
     "end_time": "2024-03-02T14:12:32.964962Z",
     "start_time": "2024-03-02T14:12:32.483116Z"
    }
   },
   "outputs": [
    {
     "data": {
      "text/html": [
       "<div>\n",
       "<style scoped>\n",
       "    .dataframe tbody tr th:only-of-type {\n",
       "        vertical-align: middle;\n",
       "    }\n",
       "\n",
       "    .dataframe tbody tr th {\n",
       "        vertical-align: top;\n",
       "    }\n",
       "\n",
       "    .dataframe thead th {\n",
       "        text-align: right;\n",
       "    }\n",
       "</style>\n",
       "<table border=\"1\" class=\"dataframe\">\n",
       "  <thead>\n",
       "    <tr style=\"text-align: right;\">\n",
       "      <th></th>\n",
       "      <th>dbid</th>\n",
       "      <th>family_type</th>\n",
       "    </tr>\n",
       "  </thead>\n",
       "  <tbody>\n",
       "    <tr>\n",
       "      <th>0</th>\n",
       "      <td>361</td>\n",
       "      <td>Floor Plan</td>\n",
       "    </tr>\n",
       "    <tr>\n",
       "      <th>1</th>\n",
       "      <td>367</td>\n",
       "      <td>Ceiling Plan</td>\n",
       "    </tr>\n",
       "    <tr>\n",
       "      <th>2</th>\n",
       "      <td>801</td>\n",
       "      <td>Sheet</td>\n",
       "    </tr>\n",
       "    <tr>\n",
       "      <th>3</th>\n",
       "      <td>735</td>\n",
       "      <td>Building Elevation</td>\n",
       "    </tr>\n",
       "    <tr>\n",
       "      <th>4</th>\n",
       "      <td>4165</td>\n",
       "      <td>Building Section</td>\n",
       "    </tr>\n",
       "    <tr>\n",
       "      <th>5</th>\n",
       "      <td>807</td>\n",
       "      <td>Title w Line</td>\n",
       "    </tr>\n",
       "    <tr>\n",
       "      <th>6</th>\n",
       "      <td>838</td>\n",
       "      <td>Location Data</td>\n",
       "    </tr>\n",
       "    <tr>\n",
       "      <th>7</th>\n",
       "      <td>2098</td>\n",
       "      <td>Location Data</td>\n",
       "    </tr>\n",
       "    <tr>\n",
       "      <th>8</th>\n",
       "      <td>1042</td>\n",
       "      <td>E1 30x42 Horizontal</td>\n",
       "    </tr>\n",
       "    <tr>\n",
       "      <th>9</th>\n",
       "      <td>1270</td>\n",
       "      <td>Temporary Notes</td>\n",
       "    </tr>\n",
       "  </tbody>\n",
       "</table>\n",
       "</div>"
      ],
      "text/plain": [
       "   dbid          family_type\n",
       "0   361           Floor Plan\n",
       "1   367         Ceiling Plan\n",
       "2   801                Sheet\n",
       "3   735   Building Elevation\n",
       "4  4165     Building Section\n",
       "5   807         Title w Line\n",
       "6   838        Location Data\n",
       "7  2098        Location Data\n",
       "8  1042  E1 30x42 Horizontal\n",
       "9  1270      Temporary Notes"
      ]
     },
     "execution_count": 15,
     "metadata": {},
     "output_type": "execute_result"
    }
   ],
   "source": [
    "families_types = prop_reader.get_all_families_types()\n",
    "# to dataframe with columns \"dbid,family,type\" from dict families_types\n",
    "df = pd.DataFrame.from_dict(families_types, orient='index', columns=[\"family_type\"])\n",
    "df = df.reset_index()\n",
    "df = df.rename(columns={\"index\":\"dbid\"})\n",
    "df.head(10)"
   ]
  },
  {
   "cell_type": "markdown",
   "metadata": {},
   "source": [
    "### I want get data by revit category"
   ]
  },
  {
   "cell_type": "code",
   "execution_count": 17,
   "metadata": {
    "ExecuteTime": {
     "end_time": "2024-03-02T14:12:33.147249Z",
     "start_time": "2024-03-02T14:12:32.965972Z"
    }
   },
   "outputs": [
    {
     "data": {
      "text/html": [
       "<div>\n",
       "<style scoped>\n",
       "    .dataframe tbody tr th:only-of-type {\n",
       "        vertical-align: middle;\n",
       "    }\n",
       "\n",
       "    .dataframe tbody tr th {\n",
       "        vertical-align: top;\n",
       "    }\n",
       "\n",
       "    .dataframe thead th {\n",
       "        text-align: right;\n",
       "    }\n",
       "</style>\n",
       "<table border=\"1\" class=\"dataframe\">\n",
       "  <thead>\n",
       "    <tr style=\"text-align: right;\">\n",
       "      <th></th>\n",
       "      <th>dbId</th>\n",
       "      <th>external_id</th>\n",
       "      <th>Function</th>\n",
       "      <th>Wall Closure</th>\n",
       "      <th>Construction Type</th>\n",
       "      <th>Thickness</th>\n",
       "      <th>Height</th>\n",
       "      <th>Trim Projection Ext</th>\n",
       "      <th>Trim Projection Int</th>\n",
       "      <th>Trim Width</th>\n",
       "      <th>...</th>\n",
       "      <th>Export Type to IFC</th>\n",
       "      <th>Type IfcGUID</th>\n",
       "      <th>Door Material</th>\n",
       "      <th>Frame Material</th>\n",
       "      <th>Define Thermal Properties by</th>\n",
       "      <th>Visual Light Transmittance</th>\n",
       "      <th>Solar Heat Gain Coefficient</th>\n",
       "      <th>Heat Transfer Coefficient (U)</th>\n",
       "      <th>Analytic Construction</th>\n",
       "      <th>Thermal Resistance (R)</th>\n",
       "    </tr>\n",
       "  </thead>\n",
       "  <tbody>\n",
       "    <tr>\n",
       "      <th>1</th>\n",
       "      <td>3550</td>\n",
       "      <td>31261f36-7edb-41d9-95bc-f8df75aec4c4-00005a5b</td>\n",
       "      <td>Interior</td>\n",
       "      <td>By host</td>\n",
       "      <td></td>\n",
       "      <td>50.8</td>\n",
       "      <td>2133.6</td>\n",
       "      <td>25.4</td>\n",
       "      <td>25.4</td>\n",
       "      <td>76.2</td>\n",
       "      <td>...</td>\n",
       "      <td>Default</td>\n",
       "      <td>0n9XysVjj1sPMy_DzrhfwV</td>\n",
       "      <td>Door - Panel</td>\n",
       "      <td>Door - Frame</td>\n",
       "      <td>Schematic Type</td>\n",
       "      <td>0.0</td>\n",
       "      <td>0.0</td>\n",
       "      <td>0.651978</td>\n",
       "      <td>Metal</td>\n",
       "      <td>1.533795</td>\n",
       "    </tr>\n",
       "  </tbody>\n",
       "</table>\n",
       "<p>1 rows × 43 columns</p>\n",
       "</div>"
      ],
      "text/plain": [
       "   dbId                                    external_id  Function Wall Closure  \\\n",
       "1  3550  31261f36-7edb-41d9-95bc-f8df75aec4c4-00005a5b  Interior      By host   \n",
       "\n",
       "  Construction Type  Thickness  Height  Trim Projection Ext  \\\n",
       "1                         50.8  2133.6                 25.4   \n",
       "\n",
       "   Trim Projection Int  Trim Width  ...  Export Type to IFC  \\\n",
       "1                 25.4        76.2  ...             Default   \n",
       "\n",
       "             Type IfcGUID  Door Material Frame Material  \\\n",
       "1  0n9XysVjj1sPMy_DzrhfwV   Door - Panel   Door - Frame   \n",
       "\n",
       "  Define Thermal Properties by Visual Light Transmittance  \\\n",
       "1               Schematic Type                        0.0   \n",
       "\n",
       "  Solar Heat Gain Coefficient Heat Transfer Coefficient (U)  \\\n",
       "1                         0.0                      0.651978   \n",
       "\n",
       "  Analytic Construction Thermal Resistance (R)  \n",
       "1                 Metal               1.533795  \n",
       "\n",
       "[1 rows x 43 columns]"
      ]
     },
     "execution_count": 17,
     "metadata": {},
     "output_type": "execute_result"
    }
   ],
   "source": [
    "df = prop_reader.get_data_by_category(\"Doors\")\n",
    "df.head()"
   ]
  },
  {
   "cell_type": "markdown",
   "metadata": {},
   "source": [
    "### I want get data by revit categories"
   ]
  },
  {
   "cell_type": "code",
   "execution_count": 18,
   "metadata": {
    "ExecuteTime": {
     "end_time": "2024-03-02T14:12:34.998404Z",
     "start_time": "2024-03-02T14:12:33.728494Z"
    }
   },
   "outputs": [
    {
     "data": {
      "text/html": [
       "<div>\n",
       "<style scoped>\n",
       "    .dataframe tbody tr th:only-of-type {\n",
       "        vertical-align: middle;\n",
       "    }\n",
       "\n",
       "    .dataframe tbody tr th {\n",
       "        vertical-align: top;\n",
       "    }\n",
       "\n",
       "    .dataframe thead th {\n",
       "        text-align: right;\n",
       "    }\n",
       "</style>\n",
       "<table border=\"1\" class=\"dataframe\">\n",
       "  <thead>\n",
       "    <tr style=\"text-align: right;\">\n",
       "      <th></th>\n",
       "      <th>dbId</th>\n",
       "      <th>external_id</th>\n",
       "      <th>Function</th>\n",
       "      <th>Wall Closure</th>\n",
       "      <th>Construction Type</th>\n",
       "      <th>Thickness</th>\n",
       "      <th>Height</th>\n",
       "      <th>Trim Projection Ext</th>\n",
       "      <th>Trim Projection Int</th>\n",
       "      <th>Trim Width</th>\n",
       "      <th>...</th>\n",
       "      <th>Half Width</th>\n",
       "      <th>Muntin Pattern</th>\n",
       "      <th>Exterior Trim</th>\n",
       "      <th>Interior Trim</th>\n",
       "      <th>Muntin Visibility</th>\n",
       "      <th>Exterior Frame Material</th>\n",
       "      <th>Interior Frame Material</th>\n",
       "      <th>Exterior Trim Material</th>\n",
       "      <th>Interior Trim Material</th>\n",
       "      <th>Glass Panel Material</th>\n",
       "    </tr>\n",
       "  </thead>\n",
       "  <tbody>\n",
       "    <tr>\n",
       "      <th>0</th>\n",
       "      <td>3550</td>\n",
       "      <td>31261f36-7edb-41d9-95bc-f8df75aec4c4-00005a5b</td>\n",
       "      <td>Interior</td>\n",
       "      <td>By host</td>\n",
       "      <td></td>\n",
       "      <td>50.8</td>\n",
       "      <td>2133.6</td>\n",
       "      <td>25.4</td>\n",
       "      <td>25.4</td>\n",
       "      <td>76.2</td>\n",
       "      <td>...</td>\n",
       "      <td>NaN</td>\n",
       "      <td>NaN</td>\n",
       "      <td>NaN</td>\n",
       "      <td>NaN</td>\n",
       "      <td>NaN</td>\n",
       "      <td>NaN</td>\n",
       "      <td>NaN</td>\n",
       "      <td>NaN</td>\n",
       "      <td>NaN</td>\n",
       "      <td>NaN</td>\n",
       "    </tr>\n",
       "    <tr>\n",
       "      <th>1</th>\n",
       "      <td>3901</td>\n",
       "      <td>96239a05-bdc4-4120-84b8-e0014dc503d5-00042f05</td>\n",
       "      <td>NaN</td>\n",
       "      <td>By host</td>\n",
       "      <td></td>\n",
       "      <td>NaN</td>\n",
       "      <td>1524.0</td>\n",
       "      <td>NaN</td>\n",
       "      <td>NaN</td>\n",
       "      <td>NaN</td>\n",
       "      <td>...</td>\n",
       "      <td>609.6</td>\n",
       "      <td>Muntin Pattern_2x2</td>\n",
       "      <td>Trim-Window-Exterior-Flat : with Sill</td>\n",
       "      <td>Trim-Window-Interior-Flat : Picture Frame</td>\n",
       "      <td>1.0</td>\n",
       "      <td>Clad - White</td>\n",
       "      <td>Wood - Stained</td>\n",
       "      <td>Clad - White</td>\n",
       "      <td>Wood - Stained</td>\n",
       "      <td>Glass</td>\n",
       "    </tr>\n",
       "  </tbody>\n",
       "</table>\n",
       "<p>2 rows × 54 columns</p>\n",
       "</div>"
      ],
      "text/plain": [
       "   dbId                                    external_id  Function Wall Closure  \\\n",
       "0  3550  31261f36-7edb-41d9-95bc-f8df75aec4c4-00005a5b  Interior      By host   \n",
       "1  3901  96239a05-bdc4-4120-84b8-e0014dc503d5-00042f05       NaN      By host   \n",
       "\n",
       "  Construction Type  Thickness  Height  Trim Projection Ext  \\\n",
       "0                         50.8  2133.6                 25.4   \n",
       "1                          NaN  1524.0                  NaN   \n",
       "\n",
       "   Trim Projection Int  Trim Width  ...  Half Width      Muntin Pattern  \\\n",
       "0                 25.4        76.2  ...         NaN                 NaN   \n",
       "1                  NaN         NaN  ...       609.6  Muntin Pattern_2x2   \n",
       "\n",
       "                           Exterior Trim  \\\n",
       "0                                    NaN   \n",
       "1  Trim-Window-Exterior-Flat : with Sill   \n",
       "\n",
       "                               Interior Trim Muntin Visibility  \\\n",
       "0                                        NaN               NaN   \n",
       "1  Trim-Window-Interior-Flat : Picture Frame               1.0   \n",
       "\n",
       "  Exterior Frame Material Interior Frame Material Exterior Trim Material  \\\n",
       "0                     NaN                     NaN                    NaN   \n",
       "1            Clad - White          Wood - Stained           Clad - White   \n",
       "\n",
       "  Interior Trim Material Glass Panel Material  \n",
       "0                    NaN                  NaN  \n",
       "1         Wood - Stained                Glass  \n",
       "\n",
       "[2 rows x 54 columns]"
      ]
     },
     "execution_count": 18,
     "metadata": {},
     "output_type": "execute_result"
    }
   ],
   "source": [
    "df = prop_reader.get_data_by_categories([\"Doors\",\"Windows\"])\n",
    "df.head()"
   ]
  },
  {
   "cell_type": "markdown",
   "metadata": {},
   "source": [
    "### I want get data by revit categories and parameters"
   ]
  },
  {
   "cell_type": "code",
   "execution_count": 24,
   "metadata": {
    "ExecuteTime": {
     "end_time": "2024-03-02T14:12:33.727202Z",
     "start_time": "2024-03-02T14:12:33.148254Z"
    }
   },
   "outputs": [
    {
     "data": {
      "text/html": [
       "<div>\n",
       "<style scoped>\n",
       "    .dataframe tbody tr th:only-of-type {\n",
       "        vertical-align: middle;\n",
       "    }\n",
       "\n",
       "    .dataframe tbody tr th {\n",
       "        vertical-align: top;\n",
       "    }\n",
       "\n",
       "    .dataframe thead th {\n",
       "        text-align: right;\n",
       "    }\n",
       "</style>\n",
       "<table border=\"1\" class=\"dataframe\">\n",
       "  <thead>\n",
       "    <tr style=\"text-align: right;\">\n",
       "      <th></th>\n",
       "      <th>dbId</th>\n",
       "      <th>external_id</th>\n",
       "      <th>Height</th>\n",
       "      <th>Width</th>\n",
       "      <th>Workset</th>\n",
       "    </tr>\n",
       "  </thead>\n",
       "  <tbody>\n",
       "    <tr>\n",
       "      <th>2</th>\n",
       "      <td>3550</td>\n",
       "      <td>31261f36-7edb-41d9-95bc-f8df75aec4c4-00005a5b</td>\n",
       "      <td>2133.6</td>\n",
       "      <td>914.4</td>\n",
       "      <td>Family  : Doors : Single-Flush</td>\n",
       "    </tr>\n",
       "    <tr>\n",
       "      <th>5</th>\n",
       "      <td>3901</td>\n",
       "      <td>96239a05-bdc4-4120-84b8-e0014dc503d5-00042f05</td>\n",
       "      <td>1524.0</td>\n",
       "      <td>1219.2</td>\n",
       "      <td>Family  : Windows : Window-Casement-Double</td>\n",
       "    </tr>\n",
       "  </tbody>\n",
       "</table>\n",
       "</div>"
      ],
      "text/plain": [
       "   dbId                                    external_id  Height   Width  \\\n",
       "2  3550  31261f36-7edb-41d9-95bc-f8df75aec4c4-00005a5b  2133.6   914.4   \n",
       "5  3901  96239a05-bdc4-4120-84b8-e0014dc503d5-00042f05  1524.0  1219.2   \n",
       "\n",
       "                                      Workset  \n",
       "2              Family  : Doors : Single-Flush  \n",
       "5  Family  : Windows : Window-Casement-Double  "
      ]
     },
     "execution_count": 24,
     "metadata": {},
     "output_type": "execute_result"
    }
   ],
   "source": [
    "prop_reader.get_data_by_categories_and_params([\"Doors\",\"Windows\"], [\"Width\", \"Height\",\"Length\",\"Workset\"])"
   ]
  },
  {
   "cell_type": "markdown",
   "metadata": {},
   "source": [
    "## Export Data "
   ]
  },
  {
   "cell_type": "markdown",
   "metadata": {},
   "source": [
    "### I want export my data to csv"
   ]
  },
  {
   "cell_type": "code",
   "execution_count": 25,
   "metadata": {
    "ExecuteTime": {
     "end_time": "2024-03-02T14:14:27.444755Z",
     "start_time": "2024-03-02T14:14:27.426952Z"
    },
    "collapsed": false
   },
   "outputs": [],
   "source": [
    "import os\n",
    "dir = \"./output\"\n",
    "if not os.path.exists(dir):\n",
    "    os.makedirs(dir)\n",
    "df.to_csv(\"./output/doors_windows.csv\", index=False)"
   ]
  },
  {
   "cell_type": "markdown",
   "metadata": {},
   "source": [
    "### I want export my data to excel"
   ]
  },
  {
   "cell_type": "code",
   "execution_count": 26,
   "metadata": {},
   "outputs": [],
   "source": [
    "dir = \"./output\"\n",
    "if not os.path.exists(dir):\n",
    "    os.makedirs(dir)\n",
    "# export to excel\n",
    "df.to_excel(\"./output/doors_windows.xlsx\", index=False)"
   ]
  },
  {
   "cell_type": "markdown",
   "metadata": {},
   "source": [
    "### I want export my data to big data format like parquet"
   ]
  },
  {
   "cell_type": "code",
   "execution_count": null,
   "metadata": {},
   "outputs": [],
   "source": [
    "%pip install fastparquet"
   ]
  },
  {
   "cell_type": "code",
   "execution_count": 28,
   "metadata": {},
   "outputs": [],
   "source": [
    "dir = \"./output/parquet\"\n",
    "if not os.path.exists(dir):\n",
    "    os.makedirs(dir)\n",
    "# export to parquet\n",
    "df.to_parquet(\"./output/parquet/doors_windows.parquet\", compression=\"gzip\")\n"
   ]
  },
  {
   "cell_type": "code",
   "execution_count": 30,
   "metadata": {},
   "outputs": [
    {
     "data": {
      "text/html": [
       "<div>\n",
       "<style scoped>\n",
       "    .dataframe tbody tr th:only-of-type {\n",
       "        vertical-align: middle;\n",
       "    }\n",
       "\n",
       "    .dataframe tbody tr th {\n",
       "        vertical-align: top;\n",
       "    }\n",
       "\n",
       "    .dataframe thead th {\n",
       "        text-align: right;\n",
       "    }\n",
       "</style>\n",
       "<table border=\"1\" class=\"dataframe\">\n",
       "  <thead>\n",
       "    <tr style=\"text-align: right;\">\n",
       "      <th></th>\n",
       "      <th>dbId</th>\n",
       "      <th>external_id</th>\n",
       "      <th>Function</th>\n",
       "      <th>Wall Closure</th>\n",
       "      <th>Construction Type</th>\n",
       "      <th>Thickness</th>\n",
       "      <th>Height</th>\n",
       "      <th>Trim Projection Ext</th>\n",
       "      <th>Trim Projection Int</th>\n",
       "      <th>Trim Width</th>\n",
       "      <th>...</th>\n",
       "      <th>Half Width</th>\n",
       "      <th>Muntin Pattern</th>\n",
       "      <th>Exterior Trim</th>\n",
       "      <th>Interior Trim</th>\n",
       "      <th>Muntin Visibility</th>\n",
       "      <th>Exterior Frame Material</th>\n",
       "      <th>Interior Frame Material</th>\n",
       "      <th>Exterior Trim Material</th>\n",
       "      <th>Interior Trim Material</th>\n",
       "      <th>Glass Panel Material</th>\n",
       "    </tr>\n",
       "  </thead>\n",
       "  <tbody>\n",
       "    <tr>\n",
       "      <th>0</th>\n",
       "      <td>3550</td>\n",
       "      <td>31261f36-7edb-41d9-95bc-f8df75aec4c4-00005a5b</td>\n",
       "      <td>Interior</td>\n",
       "      <td>By host</td>\n",
       "      <td></td>\n",
       "      <td>50.8</td>\n",
       "      <td>2133.6</td>\n",
       "      <td>25.4</td>\n",
       "      <td>25.4</td>\n",
       "      <td>76.2</td>\n",
       "      <td>...</td>\n",
       "      <td>NaN</td>\n",
       "      <td>None</td>\n",
       "      <td>None</td>\n",
       "      <td>None</td>\n",
       "      <td>NaN</td>\n",
       "      <td>None</td>\n",
       "      <td>None</td>\n",
       "      <td>None</td>\n",
       "      <td>None</td>\n",
       "      <td>None</td>\n",
       "    </tr>\n",
       "    <tr>\n",
       "      <th>1</th>\n",
       "      <td>3901</td>\n",
       "      <td>96239a05-bdc4-4120-84b8-e0014dc503d5-00042f05</td>\n",
       "      <td>None</td>\n",
       "      <td>By host</td>\n",
       "      <td></td>\n",
       "      <td>NaN</td>\n",
       "      <td>1524.0</td>\n",
       "      <td>NaN</td>\n",
       "      <td>NaN</td>\n",
       "      <td>NaN</td>\n",
       "      <td>...</td>\n",
       "      <td>609.6</td>\n",
       "      <td>Muntin Pattern_2x2</td>\n",
       "      <td>Trim-Window-Exterior-Flat : with Sill</td>\n",
       "      <td>Trim-Window-Interior-Flat : Picture Frame</td>\n",
       "      <td>1.0</td>\n",
       "      <td>Clad - White</td>\n",
       "      <td>Wood - Stained</td>\n",
       "      <td>Clad - White</td>\n",
       "      <td>Wood - Stained</td>\n",
       "      <td>Glass</td>\n",
       "    </tr>\n",
       "  </tbody>\n",
       "</table>\n",
       "<p>2 rows × 54 columns</p>\n",
       "</div>"
      ],
      "text/plain": [
       "   dbId                                    external_id  Function Wall Closure  \\\n",
       "0  3550  31261f36-7edb-41d9-95bc-f8df75aec4c4-00005a5b  Interior      By host   \n",
       "1  3901  96239a05-bdc4-4120-84b8-e0014dc503d5-00042f05      None      By host   \n",
       "\n",
       "  Construction Type  Thickness  Height  Trim Projection Ext  \\\n",
       "0                         50.8  2133.6                 25.4   \n",
       "1                          NaN  1524.0                  NaN   \n",
       "\n",
       "   Trim Projection Int  Trim Width  ...  Half Width      Muntin Pattern  \\\n",
       "0                 25.4        76.2  ...         NaN                None   \n",
       "1                  NaN         NaN  ...       609.6  Muntin Pattern_2x2   \n",
       "\n",
       "                           Exterior Trim  \\\n",
       "0                                   None   \n",
       "1  Trim-Window-Exterior-Flat : with Sill   \n",
       "\n",
       "                               Interior Trim Muntin Visibility  \\\n",
       "0                                       None               NaN   \n",
       "1  Trim-Window-Interior-Flat : Picture Frame               1.0   \n",
       "\n",
       "  Exterior Frame Material Interior Frame Material Exterior Trim Material  \\\n",
       "0                    None                    None                   None   \n",
       "1            Clad - White          Wood - Stained           Clad - White   \n",
       "\n",
       "  Interior Trim Material Glass Panel Material  \n",
       "0                   None                 None  \n",
       "1         Wood - Stained                Glass  \n",
       "\n",
       "[2 rows x 54 columns]"
      ]
     },
     "execution_count": 30,
     "metadata": {},
     "output_type": "execute_result"
    }
   ],
   "source": [
    "# read parquet\n",
    "df = pd.read_parquet(\"./output/parquet/doors_windows.parquet\")\n",
    "df.head()"
   ]
  }
 ],
 "metadata": {
  "kernelspec": {
   "display_name": "Python 3",
   "language": "python",
   "name": "python3"
  },
  "language_info": {
   "codemirror_mode": {
    "name": "ipython",
    "version": 3
   },
   "file_extension": ".py",
   "mimetype": "text/x-python",
   "name": "python",
   "nbconvert_exporter": "python",
   "pygments_lexer": "ipython3",
   "version": "3.11.1"
  }
 },
 "nbformat": 4,
 "nbformat_minor": 2
}
