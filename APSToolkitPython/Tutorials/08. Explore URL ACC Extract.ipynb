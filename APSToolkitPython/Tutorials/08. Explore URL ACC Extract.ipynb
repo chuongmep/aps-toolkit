{
 "cells": [
  {
   "cell_type": "markdown",
   "metadata": {},
   "source": [
    "## Extract Infomration From ACC URL Opening "
   ]
  },
  {
   "cell_type": "markdown",
   "metadata": {},
   "source": [
    "Example URL , make sure you opened the 3d model in the browser before copying the URL"
   ]
  },
  {
   "cell_type": "code",
   "execution_count": 1,
   "metadata": {},
   "outputs": [],
   "source": [
    "\n",
    "url = \"https://acc.autodesk.com/docs/files/projects/ec0f8261-aeca-4ab9-a1a5-5845f952b17d?folderUrn=urn%3Aadsk.wipprod%3Afs.folder%3Aco.SQBGbt7LTWywCVcHfqSb1Q&entityId=urn%3Aadsk.wipprod%3Adm.lineage%3AoxAqhUL0SISdkPcNLzehag&viewModel=detail&moduleId=folders&viewableGuid=5d41dda7-eea1-eff5-77dd-ee1aa81fc3a8\""
   ]
  },
  {
   "cell_type": "code",
   "execution_count": 2,
   "metadata": {},
   "outputs": [
    {
     "name": "stdout",
     "output_type": "stream",
     "text": [
      "ProjectId: b.ec0f8261-aeca-4ab9-a1a5-5845f952b17d\n",
      "folderUrn: urn%3Aadsk.wipprod%3Afs.folder%3Aco.SQBGbt7LTWywCVcHfqSb1Q\n",
      "entityId: urn%3Aadsk.wipprod%3Adm.lineage%3AoxAqhUL0SISdkPcNLzehag\n",
      "viewableGuid: 5d41dda7-eea1-eff5-77dd-ee1aa81fc3a8\n"
     ]
    }
   ],
   "source": [
    "import requests\n",
    "from urllib.parse import urlparse\n",
    "\n",
    "def get_info_from_url(url):\n",
    "    try:\n",
    "        response = requests.get(url)\n",
    "        response.raise_for_status()\n",
    "        parsed_url = urlparse(url)\n",
    "        \n",
    "        # Extract project ID from URL path\n",
    "        path_segments = parsed_url.path.split('/')\n",
    "        project_id = path_segments[4] if len(path_segments) >= 4 else ''\n",
    "        # Extract query parameters\n",
    "        query_params = dict(q.split(\"=\") for q in parsed_url.query.split(\"&\"))\n",
    "        folder_urn = query_params.get('folderUrn', '')\n",
    "        entity_id = query_params.get('entityId', '')\n",
    "        viewable_guid = query_params.get('viewableGuid', '')\n",
    "        \n",
    "        return {\n",
    "            'ProjectId': \"b.\"+project_id,\n",
    "            'folderUrn': folder_urn,\n",
    "            'entityId': entity_id,\n",
    "            'viewableGuid': viewable_guid\n",
    "        }\n",
    "    except Exception as e:\n",
    "        print(\"Error occurred:\", e)\n",
    "        return None\n",
    "info = get_info_from_url(url)\n",
    "if info:\n",
    "    for key, value in info.items():\n",
    "        print(f\"{key}: {value}\")\n"
   ]
  },
  {
   "cell_type": "markdown",
   "metadata": {},
   "source": [
    "### Get Derivative URN"
   ]
  },
  {
   "cell_type": "code",
   "execution_count": 3,
   "metadata": {},
   "outputs": [
    {
     "name": "stdout",
     "output_type": "stream",
     "text": [
      "Derivative URN Of Version 2: dXJuJTNBYWRzay53aXBwcm9kJTNBZG0ubGluZWFnZSUzQW94QXFoVUwwU0lTZGtQY05MemVoYWc_dmVyc2lvbj0y\n"
     ]
    }
   ],
   "source": [
    "# convert entityId to derivative urn by base64encode\n",
    "import base64\n",
    "version = 2\n",
    "item_version = info['entityId']+ f\"?version={version}\"\n",
    "urn = base64.b64encode(item_version.encode()).decode()\n",
    "# change character \"/\" to \"_\n",
    "urn = urn.replace(\"/\", \"_\")\n",
    "print(f\"Derivative URN Of Version {version}: {urn}\")"
   ]
  },
  {
   "cell_type": "markdown",
   "metadata": {},
   "source": [
    "This URN not it correct urn we need : https://stackoverflow.com/questions/78118458/convert-urn-from-item-version-have-problem/78120646#78120646"
   ]
  },
  {
   "cell_type": "markdown",
   "metadata": {},
   "source": [
    "## This is next step to get derivative URN\n"
   ]
  },
  {
   "cell_type": "code",
   "execution_count": 4,
   "metadata": {},
   "outputs": [],
   "source": [
    "from aps_toolkit import BIM360\n",
    "from aps_toolkit import Auth"
   ]
  },
  {
   "cell_type": "code",
   "execution_count": 11,
   "metadata": {},
   "outputs": [],
   "source": [
    "token = Auth().auth2leg()\n",
    "bim360 = BIM360(token)"
   ]
  },
  {
   "cell_type": "code",
   "execution_count": 6,
   "metadata": {},
   "outputs": [
    {
     "data": {
      "text/html": [
       "<div>\n",
       "<style scoped>\n",
       "    .dataframe tbody tr th:only-of-type {\n",
       "        vertical-align: middle;\n",
       "    }\n",
       "\n",
       "    .dataframe tbody tr th {\n",
       "        vertical-align: top;\n",
       "    }\n",
       "\n",
       "    .dataframe thead th {\n",
       "        text-align: right;\n",
       "    }\n",
       "</style>\n",
       "<table border=\"1\" class=\"dataframe\">\n",
       "  <thead>\n",
       "    <tr style=\"text-align: right;\">\n",
       "      <th></th>\n",
       "      <th>item_id</th>\n",
       "      <th>version</th>\n",
       "      <th>derivative_urn</th>\n",
       "      <th>last_modified_time</th>\n",
       "    </tr>\n",
       "  </thead>\n",
       "  <tbody>\n",
       "    <tr>\n",
       "      <th>0</th>\n",
       "      <td>urn%3Aadsk.wipprod%3Adm.lineage%3AoxAqhUL0SISd...</td>\n",
       "      <td>2</td>\n",
       "      <td>dXJuOmFkc2sud2lwcHJvZDpmcy5maWxlOnZmLm94QXFoVU...</td>\n",
       "      <td>2024-03-06T13:59:04.0000000Z</td>\n",
       "    </tr>\n",
       "  </tbody>\n",
       "</table>\n",
       "</div>"
      ],
      "text/plain": [
       "                                             item_id version  \\\n",
       "0  urn%3Aadsk.wipprod%3Adm.lineage%3AoxAqhUL0SISd...       2   \n",
       "\n",
       "                                      derivative_urn  \\\n",
       "0  dXJuOmFkc2sud2lwcHJvZDpmcy5maWxlOnZmLm94QXFoVU...   \n",
       "\n",
       "             last_modified_time  \n",
       "0  2024-03-06T13:59:04.0000000Z  "
      ]
     },
     "execution_count": 6,
     "metadata": {},
     "output_type": "execute_result"
    }
   ],
   "source": [
    "df = bim360.batch_report_item_versions(info['ProjectId'], info['entityId'])\n",
    "df"
   ]
  },
  {
   "cell_type": "code",
   "execution_count": 7,
   "metadata": {},
   "outputs": [
    {
     "name": "stdout",
     "output_type": "stream",
     "text": [
      "dXJuOmFkc2sud2lwcHJvZDpmcy5maWxlOnZmLm94QXFoVUwwU0lTZGtQY05MemVoYWc_dmVyc2lvbj0y\n"
     ]
    }
   ],
   "source": [
    "print(df.iloc[0]['derivative_urn'])"
   ]
  },
  {
   "cell_type": "code",
   "execution_count": 8,
   "metadata": {},
   "outputs": [],
   "source": [
    "urn = \"dXJuOmFkc2sud2lwcHJvZDpmcy5maWxlOnZmLm94QXFoVUwwU0lTZGtQY05MemVoYWc_dmVyc2lvbj0y\""
   ]
  },
  {
   "cell_type": "code",
   "execution_count": 9,
   "metadata": {},
   "outputs": [],
   "source": [
    "from aps_toolkit import PropDbReaderRevit"
   ]
  },
  {
   "cell_type": "code",
   "execution_count": 12,
   "metadata": {},
   "outputs": [],
   "source": [
    "prop_reader = PropDbReaderRevit(urn, token)"
   ]
  },
  {
   "cell_type": "code",
   "execution_count": 15,
   "metadata": {},
   "outputs": [
    {
     "data": {
      "text/html": [
       "<div>\n",
       "<style scoped>\n",
       "    .dataframe tbody tr th:only-of-type {\n",
       "        vertical-align: middle;\n",
       "    }\n",
       "\n",
       "    .dataframe tbody tr th {\n",
       "        vertical-align: top;\n",
       "    }\n",
       "\n",
       "    .dataframe thead th {\n",
       "        text-align: right;\n",
       "    }\n",
       "</style>\n",
       "<table border=\"1\" class=\"dataframe\">\n",
       "  <thead>\n",
       "    <tr style=\"text-align: right;\">\n",
       "      <th></th>\n",
       "      <th>dbId</th>\n",
       "      <th>external_id</th>\n",
       "      <th>ElementId</th>\n",
       "      <th>Name</th>\n",
       "      <th>Category</th>\n",
       "      <th>CategoryId</th>\n",
       "      <th>Level</th>\n",
       "      <th>Structural</th>\n",
       "      <th>Structural Usage</th>\n",
       "      <th>Location Line</th>\n",
       "      <th>...</th>\n",
       "      <th>Stile Width - Latch</th>\n",
       "      <th>Trim Projection Ext</th>\n",
       "      <th>Trim Projection Int</th>\n",
       "      <th>Trim Width</th>\n",
       "      <th>Jamb Width</th>\n",
       "      <th>Frame Projection</th>\n",
       "      <th>panel</th>\n",
       "      <th>frame</th>\n",
       "      <th>trim projection</th>\n",
       "      <th>Panel Material</th>\n",
       "    </tr>\n",
       "  </thead>\n",
       "  <tbody>\n",
       "    <tr>\n",
       "      <th>0</th>\n",
       "      <td>3473</td>\n",
       "      <td>5e0bc1aa-5715-46e1-a969-6e93a8d1c547-000db7ee</td>\n",
       "      <td>899054</td>\n",
       "      <td>Basic Wall [899054]</td>\n",
       "      <td>Revit Walls</td>\n",
       "      <td>-2000011</td>\n",
       "      <td>2.0</td>\n",
       "      <td>0.0</td>\n",
       "      <td>Non-bearing</td>\n",
       "      <td>Core Centerline</td>\n",
       "      <td>...</td>\n",
       "      <td>NaN</td>\n",
       "      <td>NaN</td>\n",
       "      <td>NaN</td>\n",
       "      <td>NaN</td>\n",
       "      <td>NaN</td>\n",
       "      <td>NaN</td>\n",
       "      <td>NaN</td>\n",
       "      <td>NaN</td>\n",
       "      <td>NaN</td>\n",
       "      <td>NaN</td>\n",
       "    </tr>\n",
       "    <tr>\n",
       "      <th>1</th>\n",
       "      <td>3480</td>\n",
       "      <td>5e0bc1aa-5715-46e1-a969-6e93a8d1c547-000db87d</td>\n",
       "      <td>899197</td>\n",
       "      <td>Basic Wall [899197]</td>\n",
       "      <td>Revit Walls</td>\n",
       "      <td>-2000011</td>\n",
       "      <td>2.0</td>\n",
       "      <td>0.0</td>\n",
       "      <td>Non-bearing</td>\n",
       "      <td>Core Centerline</td>\n",
       "      <td>...</td>\n",
       "      <td>NaN</td>\n",
       "      <td>NaN</td>\n",
       "      <td>NaN</td>\n",
       "      <td>NaN</td>\n",
       "      <td>NaN</td>\n",
       "      <td>NaN</td>\n",
       "      <td>NaN</td>\n",
       "      <td>NaN</td>\n",
       "      <td>NaN</td>\n",
       "      <td>NaN</td>\n",
       "    </tr>\n",
       "    <tr>\n",
       "      <th>2</th>\n",
       "      <td>3481</td>\n",
       "      <td>5e0bc1aa-5715-46e1-a969-6e93a8d1c547-000dba1e</td>\n",
       "      <td>899614</td>\n",
       "      <td>Basic Wall [899614]</td>\n",
       "      <td>Revit Walls</td>\n",
       "      <td>-2000011</td>\n",
       "      <td>2.0</td>\n",
       "      <td>0.0</td>\n",
       "      <td>Non-bearing</td>\n",
       "      <td>Core Centerline</td>\n",
       "      <td>...</td>\n",
       "      <td>NaN</td>\n",
       "      <td>NaN</td>\n",
       "      <td>NaN</td>\n",
       "      <td>NaN</td>\n",
       "      <td>NaN</td>\n",
       "      <td>NaN</td>\n",
       "      <td>NaN</td>\n",
       "      <td>NaN</td>\n",
       "      <td>NaN</td>\n",
       "      <td>NaN</td>\n",
       "    </tr>\n",
       "    <tr>\n",
       "      <th>3</th>\n",
       "      <td>3489</td>\n",
       "      <td>62d50f22-e17b-44bb-a9ae-91e637a76406-000dd866</td>\n",
       "      <td>907366</td>\n",
       "      <td>Basic Wall [907366]</td>\n",
       "      <td>Revit Walls</td>\n",
       "      <td>-2000011</td>\n",
       "      <td>2.0</td>\n",
       "      <td>0.0</td>\n",
       "      <td>Non-bearing</td>\n",
       "      <td>Core Centerline</td>\n",
       "      <td>...</td>\n",
       "      <td>NaN</td>\n",
       "      <td>NaN</td>\n",
       "      <td>NaN</td>\n",
       "      <td>NaN</td>\n",
       "      <td>NaN</td>\n",
       "      <td>NaN</td>\n",
       "      <td>NaN</td>\n",
       "      <td>NaN</td>\n",
       "      <td>NaN</td>\n",
       "      <td>NaN</td>\n",
       "    </tr>\n",
       "    <tr>\n",
       "      <th>4</th>\n",
       "      <td>3497</td>\n",
       "      <td>62d50f22-e17b-44bb-a9ae-91e637a76406-000dd98f</td>\n",
       "      <td>907663</td>\n",
       "      <td>Basic Wall [907663]</td>\n",
       "      <td>Revit Walls</td>\n",
       "      <td>-2000011</td>\n",
       "      <td>2.0</td>\n",
       "      <td>0.0</td>\n",
       "      <td>Non-bearing</td>\n",
       "      <td>Core Centerline</td>\n",
       "      <td>...</td>\n",
       "      <td>NaN</td>\n",
       "      <td>NaN</td>\n",
       "      <td>NaN</td>\n",
       "      <td>NaN</td>\n",
       "      <td>NaN</td>\n",
       "      <td>NaN</td>\n",
       "      <td>NaN</td>\n",
       "      <td>NaN</td>\n",
       "      <td>NaN</td>\n",
       "      <td>NaN</td>\n",
       "    </tr>\n",
       "  </tbody>\n",
       "</table>\n",
       "<p>5 rows × 222 columns</p>\n",
       "</div>"
      ],
      "text/plain": [
       "   dbId                                    external_id ElementId  \\\n",
       "0  3473  5e0bc1aa-5715-46e1-a969-6e93a8d1c547-000db7ee    899054   \n",
       "1  3480  5e0bc1aa-5715-46e1-a969-6e93a8d1c547-000db87d    899197   \n",
       "2  3481  5e0bc1aa-5715-46e1-a969-6e93a8d1c547-000dba1e    899614   \n",
       "3  3489  62d50f22-e17b-44bb-a9ae-91e637a76406-000dd866    907366   \n",
       "4  3497  62d50f22-e17b-44bb-a9ae-91e637a76406-000dd98f    907663   \n",
       "\n",
       "                  Name     Category  CategoryId Level  Structural  \\\n",
       "0  Basic Wall [899054]  Revit Walls    -2000011   2.0         0.0   \n",
       "1  Basic Wall [899197]  Revit Walls    -2000011   2.0         0.0   \n",
       "2  Basic Wall [899614]  Revit Walls    -2000011   2.0         0.0   \n",
       "3  Basic Wall [907366]  Revit Walls    -2000011   2.0         0.0   \n",
       "4  Basic Wall [907663]  Revit Walls    -2000011   2.0         0.0   \n",
       "\n",
       "  Structural Usage    Location Line  ... Stile Width - Latch  \\\n",
       "0      Non-bearing  Core Centerline  ...                 NaN   \n",
       "1      Non-bearing  Core Centerline  ...                 NaN   \n",
       "2      Non-bearing  Core Centerline  ...                 NaN   \n",
       "3      Non-bearing  Core Centerline  ...                 NaN   \n",
       "4      Non-bearing  Core Centerline  ...                 NaN   \n",
       "\n",
       "  Trim Projection Ext Trim Projection Int Trim Width Jamb Width  \\\n",
       "0                 NaN                 NaN        NaN        NaN   \n",
       "1                 NaN                 NaN        NaN        NaN   \n",
       "2                 NaN                 NaN        NaN        NaN   \n",
       "3                 NaN                 NaN        NaN        NaN   \n",
       "4                 NaN                 NaN        NaN        NaN   \n",
       "\n",
       "  Frame Projection panel frame trim projection Panel Material  \n",
       "0              NaN   NaN   NaN             NaN            NaN  \n",
       "1              NaN   NaN   NaN             NaN            NaN  \n",
       "2              NaN   NaN   NaN             NaN            NaN  \n",
       "3              NaN   NaN   NaN             NaN            NaN  \n",
       "4              NaN   NaN   NaN             NaN            NaN  \n",
       "\n",
       "[5 rows x 222 columns]"
      ]
     },
     "execution_count": 15,
     "metadata": {},
     "output_type": "execute_result"
    }
   ],
   "source": [
    "df = prop_reader.get_data_by_categories(['Walls', 'Doors', 'Windows'])\n",
    "df.head()"
   ]
  }
 ],
 "metadata": {
  "kernelspec": {
   "display_name": "Python 3",
   "language": "python",
   "name": "python3"
  },
  "language_info": {
   "codemirror_mode": {
    "name": "ipython",
    "version": 3
   },
   "file_extension": ".py",
   "mimetype": "text/x-python",
   "name": "python",
   "nbconvert_exporter": "python",
   "pygments_lexer": "ipython3",
   "version": "3.11.5"
  }
 },
 "nbformat": 4,
 "nbformat_minor": 2
}
