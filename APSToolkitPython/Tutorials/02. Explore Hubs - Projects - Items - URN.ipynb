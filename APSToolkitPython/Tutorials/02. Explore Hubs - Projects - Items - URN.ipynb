{
 "cells": [
  {
   "cell_type": "code",
   "execution_count": 1,
   "metadata": {
    "ExecuteTime": {
     "end_time": "2024-03-02T14:10:23.417965Z",
     "start_time": "2024-03-02T14:10:20.268605Z"
    }
   },
   "outputs": [
    {
     "name": "stdout",
     "output_type": "stream",
     "text": [
      "Collecting aps-toolkitNote: you may need to restart the kernel to use updated packages.\n",
      "\n",
      "  Downloading aps_toolkit-0.1.0-py3-none-any.whl.metadata (1.8 kB)\n",
      "Requirement already satisfied: requests in c:\\python311\\lib\\site-packages (from aps-toolkit) (2.31.0)\n",
      "Requirement already satisfied: pandas in c:\\python311\\lib\\site-packages (from aps-toolkit) (2.2.1)\n",
      "Requirement already satisfied: numpy<2,>=1.23.2 in c:\\python311\\lib\\site-packages (from pandas->aps-toolkit) (1.26.0)\n",
      "Requirement already satisfied: python-dateutil>=2.8.2 in c:\\python311\\lib\\site-packages (from pandas->aps-toolkit) (2.8.2)\n",
      "Requirement already satisfied: pytz>=2020.1 in c:\\python311\\lib\\site-packages (from pandas->aps-toolkit) (2024.1)\n",
      "Requirement already satisfied: tzdata>=2022.7 in c:\\python311\\lib\\site-packages (from pandas->aps-toolkit) (2024.1)\n",
      "Requirement already satisfied: charset-normalizer<4,>=2 in c:\\python311\\lib\\site-packages (from requests->aps-toolkit) (3.2.0)\n",
      "Requirement already satisfied: idna<4,>=2.5 in c:\\python311\\lib\\site-packages (from requests->aps-toolkit) (3.4)\n",
      "Requirement already satisfied: urllib3<3,>=1.21.1 in c:\\python311\\lib\\site-packages (from requests->aps-toolkit) (2.0.4)\n",
      "Requirement already satisfied: certifi>=2017.4.17 in c:\\python311\\lib\\site-packages (from requests->aps-toolkit) (2023.7.22)\n",
      "Requirement already satisfied: six>=1.5 in c:\\python311\\lib\\site-packages (from python-dateutil>=2.8.2->pandas->aps-toolkit) (1.16.0)\n",
      "Downloading aps_toolkit-0.1.0-py3-none-any.whl (11 kB)\n",
      "Installing collected packages: aps-toolkit\n",
      "Successfully installed aps-toolkit-0.1.0\n"
     ]
    }
   ],
   "source": [
    "%pip install aps-toolkit --upgrade"
   ]
  },
  {
   "cell_type": "markdown",
   "metadata": {},
   "source": [
    "## Auth"
   ]
  },
  {
   "cell_type": "code",
   "execution_count": 1,
   "metadata": {
    "ExecuteTime": {
     "end_time": "2024-03-02T14:10:23.422282Z",
     "start_time": "2024-03-02T14:10:23.418981Z"
    }
   },
   "outputs": [],
   "source": [
    "from aps_toolkit import Auth\n",
    "token = Auth().auth2leg()"
   ]
  },
  {
   "cell_type": "markdown",
   "metadata": {},
   "source": [
    "## Hubs"
   ]
  },
  {
   "cell_type": "markdown",
   "metadata": {},
   "source": [
    "A Hub in Autodesk Forge is a container for projects. It represents a workspace for a team where they can collaborate on design and construction efforts. Hubs can be associated with BIM 360 Team, BIM 360 Docs, or A360. Each hub contains projects, and each project contains folders, items, and versions, which are used to manage and store design data."
   ]
  },
  {
   "cell_type": "code",
   "execution_count": 2,
   "metadata": {
    "ExecuteTime": {
     "end_time": "2024-03-02T14:10:24.828033Z",
     "start_time": "2024-03-02T14:10:24.816616Z"
    }
   },
   "outputs": [],
   "source": [
    "from aps_toolkit import BIM360\n",
    "bim360 = BIM360(token)"
   ]
  },
  {
   "cell_type": "code",
   "execution_count": 3,
   "metadata": {
    "ExecuteTime": {
     "end_time": "2024-03-02T14:10:25.834984Z",
     "start_time": "2024-03-02T14:10:24.829041Z"
    }
   },
   "outputs": [
    {
     "data": {
      "text/plain": [
       "'b.1715cf2b-cc12-46fd-9279-11bbc47e72f6'"
      ]
     },
     "execution_count": 3,
     "metadata": {},
     "output_type": "execute_result"
    }
   ],
   "source": [
    "hubs = bim360.get_hubs()\n",
    "hubs_id = hubs[\"data\"][0][\"id\"]\n",
    "hubs_id"
   ]
  },
  {
   "cell_type": "markdown",
   "metadata": {},
   "source": [
    "## Projects"
   ]
  },
  {
   "cell_type": "markdown",
   "metadata": {},
   "source": [
    "A Project in Autodesk Forge is a specific workspace within a Hub. It's where the actual design and construction data is stored. Each project contains folders, items, and versions. \n",
    "\n",
    "Folders are the organizational structure for the project. Items are specific design files, documents, or other types of data. Versions represent the different iterations of an item as it goes through the design and construction process. \n",
    "\n",
    "In summary, a project is a specific workspace for a team to collaborate on within a Hub in Autodesk Forge."
   ]
  },
  {
   "cell_type": "code",
   "execution_count": 4,
   "metadata": {
    "ExecuteTime": {
     "end_time": "2024-03-02T14:10:27.016468Z",
     "start_time": "2024-03-02T14:10:25.835994Z"
    }
   },
   "outputs": [
    {
     "data": {
      "text/plain": [
       "'b.b0be7aa3-70b9-4bd1-96a2-41029ae438ce'"
      ]
     },
     "execution_count": 4,
     "metadata": {},
     "output_type": "execute_result"
    }
   ],
   "source": [
    "projects = bim360.get_projects(hubs_id)\n",
    "projects_id = projects[\"data\"][0][\"id\"]\n",
    "projects_id"
   ]
  },
  {
   "cell_type": "markdown",
   "metadata": {},
   "source": [
    "## Folders\n"
   ]
  },
  {
   "cell_type": "markdown",
   "metadata": {},
   "source": [
    "A Folder in Autodesk Platform Services(Former is Autodesk Forge) is part of the organizational structure within a Project. It's used to group and manage related Items, which can be design files, documents, or other types of data.\n",
    "\n",
    "Folders can contain sub-folders, creating a hierarchical structure that helps teams organize their work effectively. This structure can mirror the way teams organize their files on their local systems, making it easier to navigate and find specific items within a Project."
   ]
  },
  {
   "cell_type": "markdown",
   "metadata": {},
   "source": [
    "### Get Top Folders"
   ]
  },
  {
   "cell_type": "code",
   "execution_count": 5,
   "metadata": {
    "ExecuteTime": {
     "end_time": "2024-03-02T14:10:28.121907Z",
     "start_time": "2024-03-02T14:10:27.018657Z"
    }
   },
   "outputs": [
    {
     "data": {
      "text/plain": [
       "'urn:adsk.wipprod:fs.folder:co.z6qm45EyQfykBUrk1NuT7A'"
      ]
     },
     "execution_count": 5,
     "metadata": {},
     "output_type": "execute_result"
    }
   ],
   "source": [
    "topfolders = bim360.get_top_folders(hubs_id,projects_id)\n",
    "topfolders_id = topfolders[\"data\"][0][\"id\"]\n",
    "topfolders_id"
   ]
  },
  {
   "cell_type": "markdown",
   "metadata": {},
   "source": [
    "## Items"
   ]
  },
  {
   "cell_type": "markdown",
   "metadata": {},
   "source": [
    "An Item in Autodesk Forge represents a specific piece of data within a Project Folder. This could be a design file, a document, or any other type of data that is relevant to the project.\n",
    "\n",
    "Each item can have multiple versions, representing the different iterations of that item as it goes through the design and construction process. This allows for effective version control and tracking of changes over time.\n",
    "\n",
    "Items are the core unit of design data in Autodesk Forge. By accessing and manipulating items, users can work with the actual design data, view it in different ways, make changes, and collaborate with others."
   ]
  },
  {
   "cell_type": "markdown",
   "metadata": {},
   "source": [
    "### Get Items By Folder"
   ]
  },
  {
   "cell_type": "code",
   "execution_count": 6,
   "metadata": {
    "ExecuteTime": {
     "end_time": "2024-03-02T14:10:29.255473Z",
     "start_time": "2024-03-02T14:10:28.121907Z"
    }
   },
   "outputs": [
    {
     "data": {
      "text/plain": [
       "'urn:adsk.wipprod:dm.lineage:DjXtlXoJQyS6D1R-gRhI8A'"
      ]
     },
     "execution_count": 6,
     "metadata": {},
     "output_type": "execute_result"
    }
   ],
   "source": [
    "projects_id = \"b.1f7aa830-c6ef-48be-8a2d-bd554779e74b\"\n",
    "folderId = \"urn:adsk.wipprod:fs.folder:co.5ufH-U8yRjaZ-USJxxN_Mw\"\n",
    "\n",
    "contents  = bim360.get_folder_contents(projects_id,folderId)\n",
    "itemId = contents[\"data\"][0][\"id\"]\n",
    "itemId"
   ]
  },
  {
   "cell_type": "markdown",
   "metadata": {},
   "source": [
    "## URN"
   ]
  },
  {
   "cell_type": "markdown",
   "metadata": {},
   "source": [
    "In Autodesk Forge, a URN (Uniform Resource Name) is a unique identifier for a specific resource, such as a design file or version of a file. \n",
    "\n",
    "A derivative, on the other hand, is a representation of a design file in a different format. For example, a 3D model might have derivatives that are 2D drawings, thumbnail images, or files in different 3D formats. \n",
    "\n",
    "When you upload a design file to Autodesk Forge, it creates a URN for that file and generates derivatives. These derivatives are also associated with their own unique URNs. \n",
    "\n",
    "You can use these URNs to retrieve specific resources through the Forge APIs. For example, you might retrieve a derivative to display a 3D model in a web browser, or to download a 2D drawing. \n",
    "\n",
    "In summary, a URN derivative in Autodesk Forge is a unique identifier for a specific representation of a design file."
   ]
  },
  {
   "cell_type": "code",
   "execution_count": 11,
   "metadata": {},
   "outputs": [
    {
     "name": "stdout",
     "output_type": "stream",
     "text": [
      "URN for item urn:adsk.wipprod:dm.lineage:DjXtlXoJQyS6D1R-gRhI8A with version 2 is:\n",
      "URN:dXJuOmFkc2sud2lwcHJvZDpmcy5maWxlOnZmLkRqWHRsWG9KUXlTNkQxUi1nUmhJOEE_dmVyc2lvbj0y\n"
     ]
    }
   ],
   "source": [
    "urn = bim360.get_urn_item_version(projects_id,itemId,2)\n",
    "print(f\"URN for item {itemId} with version 2 is:\\nURN:{urn}\")"
   ]
  },
  {
   "cell_type": "markdown",
   "metadata": {},
   "source": [
    "Congratulations! You've learned about the key concepts in Autodesk Forge, including Hubs, Projects, Folders, Items, and URNs. These concepts are the building blocks of the Autodesk Forge platform, and understanding them is crucial for working effectively with design data and collaborating with others."
   ]
  }
 ],
 "metadata": {
  "kernelspec": {
   "display_name": "Python 3",
   "language": "python",
   "name": "python3"
  },
  "language_info": {
   "codemirror_mode": {
    "name": "ipython",
    "version": 3
   },
   "file_extension": ".py",
   "mimetype": "text/x-python",
   "name": "python",
   "nbconvert_exporter": "python",
   "pygments_lexer": "ipython3",
   "version": "3.11.5"
  }
 },
 "nbformat": 4,
 "nbformat_minor": 2
}
