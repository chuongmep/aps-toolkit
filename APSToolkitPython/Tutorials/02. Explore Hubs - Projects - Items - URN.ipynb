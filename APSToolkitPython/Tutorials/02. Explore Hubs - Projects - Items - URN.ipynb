{
 "cells": [
  {
   "cell_type": "code",
   "execution_count": 3,
   "metadata": {
    "ExecuteTime": {
     "end_time": "2024-03-02T14:10:23.417965Z",
     "start_time": "2024-03-02T14:10:20.268605Z"
    }
   },
   "outputs": [
    {
     "name": "stdout",
     "output_type": "stream",
     "text": [
      "Requirement already satisfied: aps-toolkit in c:\\python311\\lib\\site-packages (0.0.6)\n",
      "Requirement already satisfied: requests in c:\\python311\\lib\\site-packages (from aps-toolkit) (2.31.0)\n",
      "Requirement already satisfied: pandas in c:\\python311\\lib\\site-packages (from aps-toolkit) (2.2.1)\n",
      "Requirement already satisfied: numpy<2,>=1.23.2 in c:\\python311\\lib\\site-packages (from pandas->aps-toolkit) (1.26.0)\n",
      "Requirement already satisfied: python-dateutil>=2.8.2 in c:\\python311\\lib\\site-packages (from pandas->aps-toolkit) (2.8.2)\n",
      "Requirement already satisfied: pytz>=2020.1 in c:\\python311\\lib\\site-packages (from pandas->aps-toolkit) (2023.3.post1)\n",
      "Requirement already satisfied: tzdata>=2022.7 in c:\\python311\\lib\\site-packages (from pandas->aps-toolkit) (2023.3)\n",
      "Requirement already satisfied: charset-normalizer<4,>=2 in c:\\python311\\lib\\site-packages (from requests->aps-toolkit) (3.2.0)\n",
      "Requirement already satisfied: idna<4,>=2.5 in c:\\python311\\lib\\site-packages (from requests->aps-toolkit) (3.4)\n",
      "Requirement already satisfied: urllib3<3,>=1.21.1 in c:\\users\\chuongho\\appdata\\roaming\\python\\python311\\site-packages (from requests->aps-toolkit) (1.26.17)\n",
      "Requirement already satisfied: certifi>=2017.4.17 in c:\\python311\\lib\\site-packages (from requests->aps-toolkit) (2023.7.22)\n",
      "Requirement already satisfied: six>=1.5 in c:\\python311\\lib\\site-packages (from python-dateutil>=2.8.2->pandas->aps-toolkit) (1.16.0)\n",
      "Note: you may need to restart the kernel to use updated packages.\n"
     ]
    },
    {
     "name": "stderr",
     "output_type": "stream",
     "text": [
      "DEPRECATION: Loading egg at c:\\python311\\lib\\site-packages\\autodesk_forge_sdk-0.1.2-py3.11.egg is deprecated. pip 24.3 will enforce this behaviour change. A possible replacement is to use pip for package installation.. Discussion can be found at https://github.com/pypa/pip/issues/12330\n"
     ]
    }
   ],
   "source": [
    "%pip install aps-toolkit --upgrade"
   ]
  },
  {
   "cell_type": "markdown",
   "metadata": {},
   "source": [
    "## Auth"
   ]
  },
  {
   "cell_type": "code",
   "execution_count": 1,
   "metadata": {
    "ExecuteTime": {
     "end_time": "2024-03-02T14:10:23.422282Z",
     "start_time": "2024-03-02T14:10:23.418981Z"
    }
   },
   "outputs": [],
   "source": [
    "from aps_toolkit import Auth\n",
    "token = Auth().auth2leg()"
   ]
  },
  {
   "cell_type": "markdown",
   "metadata": {},
   "source": [
    "## Hubs"
   ]
  },
  {
   "cell_type": "markdown",
   "metadata": {},
   "source": [
    "A Hub in Autodesk Forge is a container for projects. It represents a workspace for a team where they can collaborate on design and construction efforts. Hubs can be associated with BIM 360 Team, BIM 360 Docs, or A360. Each hub contains projects, and each project contains folders, items, and versions, which are used to manage and store design data."
   ]
  },
  {
   "cell_type": "code",
   "execution_count": 2,
   "metadata": {
    "ExecuteTime": {
     "end_time": "2024-03-02T14:10:24.828033Z",
     "start_time": "2024-03-02T14:10:24.816616Z"
    }
   },
   "outputs": [],
   "source": [
    "from aps_toolkit import BIM360\n",
    "bim360 = BIM360(token)"
   ]
  },
  {
   "cell_type": "code",
   "execution_count": 3,
   "metadata": {
    "ExecuteTime": {
     "end_time": "2024-03-02T14:10:25.834984Z",
     "start_time": "2024-03-02T14:10:24.829041Z"
    }
   },
   "outputs": [
    {
     "data": {
      "text/plain": [
       "'b.1715cf2b-cc12-46fd-9279-11bbc47e72f6'"
      ]
     },
     "execution_count": 3,
     "metadata": {},
     "output_type": "execute_result"
    }
   ],
   "source": [
    "hubs = bim360.get_hubs()\n",
    "hubs_id = hubs[\"data\"][0][\"id\"]\n",
    "hubs_id"
   ]
  },
  {
   "cell_type": "markdown",
   "metadata": {},
   "source": [
    "## Projects"
   ]
  },
  {
   "cell_type": "markdown",
   "metadata": {},
   "source": [
    "A Project in Autodesk Forge is a specific workspace within a Hub. It's where the actual design and construction data is stored. Each project contains folders, items, and versions. \n",
    "\n",
    "Folders are the organizational structure for the project. Items are specific design files, documents, or other types of data. Versions represent the different iterations of an item as it goes through the design and construction process. \n",
    "\n",
    "In summary, a project is a specific workspace for a team to collaborate on within a Hub in Autodesk Forge."
   ]
  },
  {
   "cell_type": "code",
   "execution_count": 4,
   "metadata": {
    "ExecuteTime": {
     "end_time": "2024-03-02T14:10:27.016468Z",
     "start_time": "2024-03-02T14:10:25.835994Z"
    }
   },
   "outputs": [
    {
     "data": {
      "text/plain": [
       "'b.b0be7aa3-70b9-4bd1-96a2-41029ae438ce'"
      ]
     },
     "execution_count": 4,
     "metadata": {},
     "output_type": "execute_result"
    }
   ],
   "source": [
    "projects = bim360.get_projects(hubs_id)\n",
    "projects_id = projects[\"data\"][0][\"id\"]\n",
    "projects_id"
   ]
  },
  {
   "cell_type": "markdown",
   "metadata": {},
   "source": [
    "## Folders\n"
   ]
  },
  {
   "cell_type": "markdown",
   "metadata": {},
   "source": [
    "A Folder in Autodesk Platform Services(Former is Autodesk Forge) is part of the organizational structure within a Project. It's used to group and manage related Items, which can be design files, documents, or other types of data.\n",
    "\n",
    "Folders can contain sub-folders, creating a hierarchical structure that helps teams organize their work effectively. This structure can mirror the way teams organize their files on their local systems, making it easier to navigate and find specific items within a Project."
   ]
  },
  {
   "cell_type": "markdown",
   "metadata": {},
   "source": [
    "### Get Top Folders"
   ]
  },
  {
   "cell_type": "code",
   "execution_count": 5,
   "metadata": {
    "ExecuteTime": {
     "end_time": "2024-03-02T14:10:28.121907Z",
     "start_time": "2024-03-02T14:10:27.018657Z"
    }
   },
   "outputs": [
    {
     "data": {
      "text/plain": [
       "'urn:adsk.wipprod:fs.folder:co.z6qm45EyQfykBUrk1NuT7A'"
      ]
     },
     "execution_count": 5,
     "metadata": {},
     "output_type": "execute_result"
    }
   ],
   "source": [
    "topfolders = bim360.get_top_folders(hubs_id,projects_id)\n",
    "topfolders_id = topfolders[\"data\"][0][\"id\"]\n",
    "topfolders_id"
   ]
  },
  {
   "cell_type": "markdown",
   "metadata": {},
   "source": [
    "## Items"
   ]
  },
  {
   "cell_type": "markdown",
   "metadata": {},
   "source": [
    "An Item in Autodesk Forge represents a specific piece of data within a Project Folder. This could be a design file, a document, or any other type of data that is relevant to the project.\n",
    "\n",
    "Each item can have multiple versions, representing the different iterations of that item as it goes through the design and construction process. This allows for effective version control and tracking of changes over time.\n",
    "\n",
    "Items are the core unit of design data in Autodesk Forge. By accessing and manipulating items, users can work with the actual design data, view it in different ways, make changes, and collaborate with others."
   ]
  },
  {
   "cell_type": "markdown",
   "metadata": {},
   "source": [
    "### Get Items By Folder"
   ]
  },
  {
   "cell_type": "code",
   "execution_count": 6,
   "metadata": {
    "ExecuteTime": {
     "end_time": "2024-03-02T14:10:29.255473Z",
     "start_time": "2024-03-02T14:10:28.121907Z"
    }
   },
   "outputs": [
    {
     "data": {
      "text/plain": [
       "'urn:adsk.wipprod:dm.lineage:DjXtlXoJQyS6D1R-gRhI8A'"
      ]
     },
     "execution_count": 6,
     "metadata": {},
     "output_type": "execute_result"
    }
   ],
   "source": [
    "projects_id = \"b.1f7aa830-c6ef-48be-8a2d-bd554779e74b\"\n",
    "folderId = \"urn:adsk.wipprod:fs.folder:co.5ufH-U8yRjaZ-USJxxN_Mw\"\n",
    "\n",
    "contents  = bim360.get_folder_contents(projects_id,folderId)\n",
    "itemId = contents[\"data\"][0][\"id\"]\n",
    "itemId"
   ]
  },
  {
   "cell_type": "markdown",
   "metadata": {},
   "source": [
    "### Get Item Versions"
   ]
  },
  {
   "cell_type": "code",
   "execution_count": 7,
   "metadata": {
    "ExecuteTime": {
     "end_time": "2024-03-02T14:10:30.219801Z",
     "start_time": "2024-03-02T14:10:29.256730Z"
    }
   },
   "outputs": [
    {
     "data": {
      "text/plain": [
       "'urn:adsk.wipprod:fs.file:vf.DjXtlXoJQyS6D1R-gRhI8A?version=5'"
      ]
     },
     "execution_count": 7,
     "metadata": {},
     "output_type": "execute_result"
    }
   ],
   "source": [
    "item_versions  = bim360.get_item_versions(projects_id,itemId)\n",
    "# get fist version \n",
    "versionId = item_versions[\"data\"][0][\"id\"]\n",
    "versionId"
   ]
  },
  {
   "cell_type": "markdown",
   "metadata": {},
   "source": [
    "## URN"
   ]
  },
  {
   "cell_type": "markdown",
   "metadata": {},
   "source": [
    "In Autodesk Forge, a URN (Uniform Resource Name) is a unique identifier for a specific resource, such as a design file or version of a file. \n",
    "\n",
    "A derivative, on the other hand, is a representation of a design file in a different format. For example, a 3D model might have derivatives that are 2D drawings, thumbnail images, or files in different 3D formats. \n",
    "\n",
    "When you upload a design file to Autodesk Forge, it creates a URN for that file and generates derivatives. These derivatives are also associated with their own unique URNs. \n",
    "\n",
    "You can use these URNs to retrieve specific resources through the Forge APIs. For example, you might retrieve a derivative to display a 3D model in a web browser, or to download a 2D drawing. \n",
    "\n",
    "In summary, a URN derivative in Autodesk Forge is a unique identifier for a specific representation of a design file."
   ]
  },
  {
   "cell_type": "markdown",
   "metadata": {},
   "source": [
    "In code below, the column `derivativeUrn` is the `URN` of the design file."
   ]
  },
  {
   "cell_type": "code",
   "execution_count": 8,
   "metadata": {
    "ExecuteTime": {
     "end_time": "2024-03-02T14:10:42.556985Z",
     "start_time": "2024-03-02T14:10:30.220808Z"
    }
   },
   "outputs": [
    {
     "data": {
      "text/html": [
       "<div>\n",
       "<style scoped>\n",
       "    .dataframe tbody tr th:only-of-type {\n",
       "        vertical-align: middle;\n",
       "    }\n",
       "\n",
       "    .dataframe tbody tr th {\n",
       "        vertical-align: top;\n",
       "    }\n",
       "\n",
       "    .dataframe thead th {\n",
       "        text-align: right;\n",
       "    }\n",
       "</style>\n",
       "<table border=\"1\" class=\"dataframe\">\n",
       "  <thead>\n",
       "    <tr style=\"text-align: right;\">\n",
       "      <th></th>\n",
       "      <th>project_id</th>\n",
       "      <th>folder_id</th>\n",
       "      <th>item_name</th>\n",
       "      <th>item_id</th>\n",
       "      <th>last_version</th>\n",
       "      <th>derivative_urn</th>\n",
       "      <th>last_modified_time</th>\n",
       "    </tr>\n",
       "  </thead>\n",
       "  <tbody>\n",
       "    <tr>\n",
       "      <th>0</th>\n",
       "      <td>b.1f7aa830-c6ef-48be-8a2d-bd554779e74b</td>\n",
       "      <td>urn:adsk.wipprod:fs.folder:co.5ufH-U8yRjaZ-USJ...</td>\n",
       "      <td>ACCKL1-EXY-C-FAC-MECH-01.rvt</td>\n",
       "      <td>urn:adsk.wipprod:dm.lineage:DjXtlXoJQyS6D1R-gR...</td>\n",
       "      <td>5</td>\n",
       "      <td>dXJuOmFkc2sud2lwcHJvZDpmcy5maWxlOnZmLkRqWHRsWG...</td>\n",
       "      <td>2024-01-31T07:24:02.0000000Z</td>\n",
       "    </tr>\n",
       "    <tr>\n",
       "      <th>1</th>\n",
       "      <td>b.1f7aa830-c6ef-48be-8a2d-bd554779e74b</td>\n",
       "      <td>urn:adsk.wipprod:fs.folder:co.5ufH-U8yRjaZ-USJ...</td>\n",
       "      <td>ACCKL1-EXY-C-FAC-TOOL-01.rvt</td>\n",
       "      <td>urn:adsk.wipprod:dm.lineage:udZugJG9Rc-RdeF-PQ...</td>\n",
       "      <td>4</td>\n",
       "      <td>dXJuOmFkc2sud2lwcHJvZDpmcy5maWxlOnZmLnVkWnVnSk...</td>\n",
       "      <td>2024-01-31T07:23:47.0000000Z</td>\n",
       "    </tr>\n",
       "    <tr>\n",
       "      <th>2</th>\n",
       "      <td>b.1f7aa830-c6ef-48be-8a2d-bd554779e74b</td>\n",
       "      <td>urn:adsk.wipprod:fs.folder:co.5ufH-U8yRjaZ-USJ...</td>\n",
       "      <td>ACCKL1-EXY-E-FAC-DATA-01.rvt</td>\n",
       "      <td>urn:adsk.wipprod:dm.lineage:CWW7IlXPTU2HFiwutZ...</td>\n",
       "      <td>4</td>\n",
       "      <td>dXJuOmFkc2sud2lwcHJvZDpmcy5maWxlOnZmLkNXVzdJbF...</td>\n",
       "      <td>2024-01-31T07:23:47.0000000Z</td>\n",
       "    </tr>\n",
       "    <tr>\n",
       "      <th>3</th>\n",
       "      <td>b.1f7aa830-c6ef-48be-8a2d-bd554779e74b</td>\n",
       "      <td>urn:adsk.wipprod:fs.folder:co.5ufH-U8yRjaZ-USJ...</td>\n",
       "      <td>ACCKL1-EXY-E-FAC-EQPT-01.rvt</td>\n",
       "      <td>urn:adsk.wipprod:dm.lineage:jo9Qg-8tRTG9t0DISd...</td>\n",
       "      <td>4</td>\n",
       "      <td>dXJuOmFkc2sud2lwcHJvZDpmcy5maWxlOnZmLmpvOVFnLT...</td>\n",
       "      <td>2024-01-31T07:23:48.0000000Z</td>\n",
       "    </tr>\n",
       "    <tr>\n",
       "      <th>4</th>\n",
       "      <td>b.1f7aa830-c6ef-48be-8a2d-bd554779e74b</td>\n",
       "      <td>urn:adsk.wipprod:fs.folder:co.5ufH-U8yRjaZ-USJ...</td>\n",
       "      <td>ACCKL1-EXY-I-FAC-BMSP-01.rvt</td>\n",
       "      <td>urn:adsk.wipprod:dm.lineage:JVchmSEmTSm0h5VzEp...</td>\n",
       "      <td>4</td>\n",
       "      <td>dXJuOmFkc2sud2lwcHJvZDpmcy5maWxlOnZmLkpWY2htU0...</td>\n",
       "      <td>2024-01-31T07:23:50.0000000Z</td>\n",
       "    </tr>\n",
       "  </tbody>\n",
       "</table>\n",
       "</div>"
      ],
      "text/plain": [
       "                               project_id  \\\n",
       "0  b.1f7aa830-c6ef-48be-8a2d-bd554779e74b   \n",
       "1  b.1f7aa830-c6ef-48be-8a2d-bd554779e74b   \n",
       "2  b.1f7aa830-c6ef-48be-8a2d-bd554779e74b   \n",
       "3  b.1f7aa830-c6ef-48be-8a2d-bd554779e74b   \n",
       "4  b.1f7aa830-c6ef-48be-8a2d-bd554779e74b   \n",
       "\n",
       "                                           folder_id  \\\n",
       "0  urn:adsk.wipprod:fs.folder:co.5ufH-U8yRjaZ-USJ...   \n",
       "1  urn:adsk.wipprod:fs.folder:co.5ufH-U8yRjaZ-USJ...   \n",
       "2  urn:adsk.wipprod:fs.folder:co.5ufH-U8yRjaZ-USJ...   \n",
       "3  urn:adsk.wipprod:fs.folder:co.5ufH-U8yRjaZ-USJ...   \n",
       "4  urn:adsk.wipprod:fs.folder:co.5ufH-U8yRjaZ-USJ...   \n",
       "\n",
       "                      item_name  \\\n",
       "0  ACCKL1-EXY-C-FAC-MECH-01.rvt   \n",
       "1  ACCKL1-EXY-C-FAC-TOOL-01.rvt   \n",
       "2  ACCKL1-EXY-E-FAC-DATA-01.rvt   \n",
       "3  ACCKL1-EXY-E-FAC-EQPT-01.rvt   \n",
       "4  ACCKL1-EXY-I-FAC-BMSP-01.rvt   \n",
       "\n",
       "                                             item_id last_version  \\\n",
       "0  urn:adsk.wipprod:dm.lineage:DjXtlXoJQyS6D1R-gR...            5   \n",
       "1  urn:adsk.wipprod:dm.lineage:udZugJG9Rc-RdeF-PQ...            4   \n",
       "2  urn:adsk.wipprod:dm.lineage:CWW7IlXPTU2HFiwutZ...            4   \n",
       "3  urn:adsk.wipprod:dm.lineage:jo9Qg-8tRTG9t0DISd...            4   \n",
       "4  urn:adsk.wipprod:dm.lineage:JVchmSEmTSm0h5VzEp...            4   \n",
       "\n",
       "                                      derivative_urn  \\\n",
       "0  dXJuOmFkc2sud2lwcHJvZDpmcy5maWxlOnZmLkRqWHRsWG...   \n",
       "1  dXJuOmFkc2sud2lwcHJvZDpmcy5maWxlOnZmLnVkWnVnSk...   \n",
       "2  dXJuOmFkc2sud2lwcHJvZDpmcy5maWxlOnZmLkNXVzdJbF...   \n",
       "3  dXJuOmFkc2sud2lwcHJvZDpmcy5maWxlOnZmLmpvOVFnLT...   \n",
       "4  dXJuOmFkc2sud2lwcHJvZDpmcy5maWxlOnZmLkpWY2htU0...   \n",
       "\n",
       "             last_modified_time  \n",
       "0  2024-01-31T07:24:02.0000000Z  \n",
       "1  2024-01-31T07:23:47.0000000Z  \n",
       "2  2024-01-31T07:23:47.0000000Z  \n",
       "3  2024-01-31T07:23:48.0000000Z  \n",
       "4  2024-01-31T07:23:50.0000000Z  "
      ]
     },
     "execution_count": 8,
     "metadata": {},
     "output_type": "execute_result"
    }
   ],
   "source": [
    "data_frame = bim360.batch_report_items(projects_id,folderId,\".rvt\",True)\n",
    "data_frame.head()"
   ]
  },
  {
   "cell_type": "markdown",
   "metadata": {},
   "source": [
    "Here we use in the case we need get data for a specific version of a item.\n",
    "In code bellow, the column `derivativeUrn` is the `URN` of the design file by version of the item."
   ]
  },
  {
   "cell_type": "code",
   "execution_count": 14,
   "metadata": {
    "ExecuteTime": {
     "end_time": "2024-03-02T14:10:43.502899Z",
     "start_time": "2024-03-02T14:10:42.557994Z"
    }
   },
   "outputs": [
    {
     "data": {
      "text/html": [
       "<div>\n",
       "<style scoped>\n",
       "    .dataframe tbody tr th:only-of-type {\n",
       "        vertical-align: middle;\n",
       "    }\n",
       "\n",
       "    .dataframe tbody tr th {\n",
       "        vertical-align: top;\n",
       "    }\n",
       "\n",
       "    .dataframe thead th {\n",
       "        text-align: right;\n",
       "    }\n",
       "</style>\n",
       "<table border=\"1\" class=\"dataframe\">\n",
       "  <thead>\n",
       "    <tr style=\"text-align: right;\">\n",
       "      <th></th>\n",
       "      <th>item_id</th>\n",
       "      <th>version</th>\n",
       "      <th>derivative_urn</th>\n",
       "      <th>last_modified_time</th>\n",
       "    </tr>\n",
       "  </thead>\n",
       "  <tbody>\n",
       "    <tr>\n",
       "      <th>0</th>\n",
       "      <td>urn:adsk.wipprod:dm.lineage:DjXtlXoJQyS6D1R-gR...</td>\n",
       "      <td>5</td>\n",
       "      <td>dXJuOmFkc2sud2lwcHJvZDpmcy5maWxlOnZmLkRqWHRsWG...</td>\n",
       "      <td>2024-01-31T07:38:59.0000000Z</td>\n",
       "    </tr>\n",
       "    <tr>\n",
       "      <th>1</th>\n",
       "      <td>urn:adsk.wipprod:dm.lineage:DjXtlXoJQyS6D1R-gR...</td>\n",
       "      <td>4</td>\n",
       "      <td>dXJuOmFkc2sud2lwcHJvZDpmcy5maWxlOnZmLkRqWHRsWG...</td>\n",
       "      <td>2024-01-24T03:20:58.0000000Z</td>\n",
       "    </tr>\n",
       "    <tr>\n",
       "      <th>2</th>\n",
       "      <td>urn:adsk.wipprod:dm.lineage:DjXtlXoJQyS6D1R-gR...</td>\n",
       "      <td>3</td>\n",
       "      <td>dXJuOmFkc2sud2lwcHJvZDpmcy5maWxlOnZmLkRqWHRsWG...</td>\n",
       "      <td>2024-01-22T07:07:33.0000000Z</td>\n",
       "    </tr>\n",
       "    <tr>\n",
       "      <th>3</th>\n",
       "      <td>urn:adsk.wipprod:dm.lineage:DjXtlXoJQyS6D1R-gR...</td>\n",
       "      <td>2</td>\n",
       "      <td>dXJuOmFkc2sud2lwcHJvZDpmcy5maWxlOnZmLkRqWHRsWG...</td>\n",
       "      <td>2024-01-18T15:23:02.0000000Z</td>\n",
       "    </tr>\n",
       "  </tbody>\n",
       "</table>\n",
       "</div>"
      ],
      "text/plain": [
       "                                             item_id version  \\\n",
       "0  urn:adsk.wipprod:dm.lineage:DjXtlXoJQyS6D1R-gR...       5   \n",
       "1  urn:adsk.wipprod:dm.lineage:DjXtlXoJQyS6D1R-gR...       4   \n",
       "2  urn:adsk.wipprod:dm.lineage:DjXtlXoJQyS6D1R-gR...       3   \n",
       "3  urn:adsk.wipprod:dm.lineage:DjXtlXoJQyS6D1R-gR...       2   \n",
       "\n",
       "                                      derivative_urn  \\\n",
       "0  dXJuOmFkc2sud2lwcHJvZDpmcy5maWxlOnZmLkRqWHRsWG...   \n",
       "1  dXJuOmFkc2sud2lwcHJvZDpmcy5maWxlOnZmLkRqWHRsWG...   \n",
       "2  dXJuOmFkc2sud2lwcHJvZDpmcy5maWxlOnZmLkRqWHRsWG...   \n",
       "3  dXJuOmFkc2sud2lwcHJvZDpmcy5maWxlOnZmLkRqWHRsWG...   \n",
       "\n",
       "             last_modified_time  \n",
       "0  2024-01-31T07:38:59.0000000Z  \n",
       "1  2024-01-24T03:20:58.0000000Z  \n",
       "2  2024-01-22T07:07:33.0000000Z  \n",
       "3  2024-01-18T15:23:02.0000000Z  "
      ]
     },
     "execution_count": 14,
     "metadata": {},
     "output_type": "execute_result"
    }
   ],
   "source": [
    "data_frame_item_versions = bim360.batch_report_item_versions(projects_id,itemId)\n",
    "data_frame_item_versions"
   ]
  },
  {
   "cell_type": "markdown",
   "metadata": {},
   "source": [
    "Congratulations! You've learned about the key concepts in Autodesk Forge, including Hubs, Projects, Folders, Items, and URNs. These concepts are the building blocks of the Autodesk Forge platform, and understanding them is crucial for working effectively with design data and collaborating with others."
   ]
  }
 ],
 "metadata": {
  "kernelspec": {
   "display_name": "Python 3",
   "language": "python",
   "name": "python3"
  },
  "language_info": {
   "codemirror_mode": {
    "name": "ipython",
    "version": 3
   },
   "file_extension": ".py",
   "mimetype": "text/x-python",
   "name": "python",
   "nbconvert_exporter": "python",
   "pygments_lexer": "ipython3",
   "version": "3.11.5"
  }
 },
 "nbformat": 4,
 "nbformat_minor": 2
}
