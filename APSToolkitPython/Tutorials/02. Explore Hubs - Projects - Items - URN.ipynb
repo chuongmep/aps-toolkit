{
 "cells": [
  {
   "cell_type": "code",
   "execution_count": 3,
   "metadata": {
    "ExecuteTime": {
     "end_time": "2024-03-02T14:10:23.417965Z",
     "start_time": "2024-03-02T14:10:20.268605Z"
    }
   },
   "outputs": [
    {
     "name": "stdout",
     "output_type": "stream",
     "text": [
      "Requirement already satisfied: aps-toolkit in c:\\python311\\lib\\site-packages (0.3.1)\n",
      "Requirement already satisfied: requests in c:\\python311\\lib\\site-packages (from aps-toolkit) (2.31.0)\n",
      "Requirement already satisfied: pandas in c:\\python311\\lib\\site-packages (from aps-toolkit) (2.2.1)\n",
      "Requirement already satisfied: numpy<2,>=1.23.2 in c:\\python311\\lib\\site-packages (from pandas->aps-toolkit) (1.26.0)\n",
      "Requirement already satisfied: python-dateutil>=2.8.2 in c:\\python311\\lib\\site-packages (from pandas->aps-toolkit) (2.8.2)\n",
      "Requirement already satisfied: pytz>=2020.1 in c:\\python311\\lib\\site-packages (from pandas->aps-toolkit) (2024.1)\n",
      "Requirement already satisfied: tzdata>=2022.7 in c:\\python311\\lib\\site-packages (from pandas->aps-toolkit) (2024.1)\n",
      "Requirement already satisfied: charset-normalizer<4,>=2 in c:\\python311\\lib\\site-packages (from requests->aps-toolkit) (3.2.0)\n",
      "Requirement already satisfied: idna<4,>=2.5 in c:\\python311\\lib\\site-packages (from requests->aps-toolkit) (3.4)\n",
      "Requirement already satisfied: urllib3<3,>=1.21.1 in c:\\python311\\lib\\site-packages (from requests->aps-toolkit) (2.0.4)\n",
      "Requirement already satisfied: certifi>=2017.4.17 in c:\\python311\\lib\\site-packages (from requests->aps-toolkit) (2023.7.22)\n",
      "Requirement already satisfied: six>=1.5 in c:\\python311\\lib\\site-packages (from python-dateutil>=2.8.2->pandas->aps-toolkit) (1.16.0)\n",
      "Note: you may need to restart the kernel to use updated packages.\n"
     ]
    }
   ],
   "source": [
    "%pip install aps-toolkit --upgrade"
   ]
  },
  {
   "cell_type": "markdown",
   "metadata": {},
   "source": [
    "## Auth"
   ]
  },
  {
   "cell_type": "code",
   "execution_count": 4,
   "metadata": {
    "ExecuteTime": {
     "end_time": "2024-03-02T14:10:23.422282Z",
     "start_time": "2024-03-02T14:10:23.418981Z"
    }
   },
   "outputs": [],
   "source": [
    "from aps_toolkit import Auth\n",
    "\n",
    "token = Auth().auth2leg()"
   ]
  },
  {
   "cell_type": "markdown",
   "metadata": {},
   "source": [
    "## Hubs"
   ]
  },
  {
   "cell_type": "markdown",
   "metadata": {},
   "source": [
    "A Hub in Autodesk Forge is a container for projects. It represents a workspace for a team where they can collaborate on design and construction efforts. Hubs can be associated with BIM 360 Team, BIM 360 Docs, or A360. Each hub contains projects, and each project contains folders, items, and versions, which are used to manage and store design data."
   ]
  },
  {
   "cell_type": "code",
   "execution_count": 5,
   "metadata": {
    "ExecuteTime": {
     "end_time": "2024-03-02T14:10:24.828033Z",
     "start_time": "2024-03-02T14:10:24.816616Z"
    }
   },
   "outputs": [],
   "source": [
    "from aps_toolkit import BIM360\n",
    "\n",
    "bim360 = BIM360(token)"
   ]
  },
  {
   "cell_type": "code",
   "execution_count": 6,
   "metadata": {
    "ExecuteTime": {
     "end_time": "2024-03-02T14:10:25.834984Z",
     "start_time": "2024-03-02T14:10:24.829041Z"
    }
   },
   "outputs": [
    {
     "data": {
      "text/plain": [
       "'b.1715cf2b-cc12-46fd-9279-11bbc47e72f6'"
      ]
     },
     "execution_count": 6,
     "metadata": {},
     "output_type": "execute_result"
    }
   ],
   "source": [
    "hubs = bim360.get_hubs()\n",
    "hubs_id = hubs[\"data\"][0][\"id\"]\n",
    "hubs_id"
   ]
  },
  {
   "cell_type": "code",
   "execution_count": 7,
   "metadata": {},
   "outputs": [
    {
     "data": {
      "text/html": [
       "<div>\n",
       "<style scoped>\n",
       "    .dataframe tbody tr th:only-of-type {\n",
       "        vertical-align: middle;\n",
       "    }\n",
       "\n",
       "    .dataframe tbody tr th {\n",
       "        vertical-align: top;\n",
       "    }\n",
       "\n",
       "    .dataframe thead th {\n",
       "        text-align: right;\n",
       "    }\n",
       "</style>\n",
       "<table border=\"1\" class=\"dataframe\">\n",
       "  <thead>\n",
       "    <tr style=\"text-align: right;\">\n",
       "      <th></th>\n",
       "      <th>project_id</th>\n",
       "      <th>project_name</th>\n",
       "      <th>project_type</th>\n",
       "      <th>top_folder_id</th>\n",
       "    </tr>\n",
       "  </thead>\n",
       "  <tbody>\n",
       "    <tr>\n",
       "      <th>0</th>\n",
       "      <td>b.b0be7aa3-70b9-4bd1-96a2-41029ae438ce</td>\n",
       "      <td>USA-Z01-VEC-Sandbox</td>\n",
       "      <td>ACC</td>\n",
       "      <td>urn:adsk.wipprod:fs.folder:co.z6qm45EyQfykBUrk...</td>\n",
       "    </tr>\n",
       "    <tr>\n",
       "      <th>1</th>\n",
       "      <td>b.45801b92-d003-4309-825d-605e4cd7ecb3</td>\n",
       "      <td>NEI-ISRAEL-PLAYGROUND</td>\n",
       "      <td>ACC</td>\n",
       "      <td>urn:adsk.wipprod:fs.folder:co.gB8agEKCQnKwAtDe...</td>\n",
       "    </tr>\n",
       "    <tr>\n",
       "      <th>2</th>\n",
       "      <td>b.e6e41aa3-3030-4fac-9169-c6c4c9dd6767</td>\n",
       "      <td>SEA-Pelican-Plant3D Test2</td>\n",
       "      <td>BIM360</td>\n",
       "      <td>urn:adsk.wipprod:fs.folder:co.Dqf23Y3_SFiRIV6T...</td>\n",
       "    </tr>\n",
       "    <tr>\n",
       "      <th>3</th>\n",
       "      <td>b.bc6d4dab-784c-4011-bad3-a0860749eca1</td>\n",
       "      <td>CORP-00001-TEST VDC FOLDER PROJECT</td>\n",
       "      <td>ACC</td>\n",
       "      <td>urn:adsk.wipprod:fs.folder:co.0G-ZhxiyRZW5zVJz...</td>\n",
       "    </tr>\n",
       "    <tr>\n",
       "      <th>4</th>\n",
       "      <td>b.d191cbb1-74a1-47c3-b096-33cc0b3af9f8</td>\n",
       "      <td>CORP-C02-Plant3D_PnID_POC</td>\n",
       "      <td>BIM360</td>\n",
       "      <td>urn:adsk.wipprod:fs.folder:co.4BkISmdZTsuXvKVf...</td>\n",
       "    </tr>\n",
       "  </tbody>\n",
       "</table>\n",
       "</div>"
      ],
      "text/plain": [
       "                               project_id                        project_name  \\\n",
       "0  b.b0be7aa3-70b9-4bd1-96a2-41029ae438ce                 USA-Z01-VEC-Sandbox   \n",
       "1  b.45801b92-d003-4309-825d-605e4cd7ecb3               NEI-ISRAEL-PLAYGROUND   \n",
       "2  b.e6e41aa3-3030-4fac-9169-c6c4c9dd6767           SEA-Pelican-Plant3D Test2   \n",
       "3  b.bc6d4dab-784c-4011-bad3-a0860749eca1  CORP-00001-TEST VDC FOLDER PROJECT   \n",
       "4  b.d191cbb1-74a1-47c3-b096-33cc0b3af9f8           CORP-C02-Plant3D_PnID_POC   \n",
       "\n",
       "  project_type                                      top_folder_id  \n",
       "0          ACC  urn:adsk.wipprod:fs.folder:co.z6qm45EyQfykBUrk...  \n",
       "1          ACC  urn:adsk.wipprod:fs.folder:co.gB8agEKCQnKwAtDe...  \n",
       "2       BIM360  urn:adsk.wipprod:fs.folder:co.Dqf23Y3_SFiRIV6T...  \n",
       "3          ACC  urn:adsk.wipprod:fs.folder:co.0G-ZhxiyRZW5zVJz...  \n",
       "4       BIM360  urn:adsk.wipprod:fs.folder:co.4BkISmdZTsuXvKVf...  "
      ]
     },
     "execution_count": 7,
     "metadata": {},
     "output_type": "execute_result"
    }
   ],
   "source": [
    "# batch generate all project from hub with projectId, projectName, and projectType,topFolderId\n",
    "df = bim360.batch_report_projects(hubs_id)\n",
    "# df[\"project_name\"] = \"XXXX\"\n",
    "df.head()"
   ]
  },
  {
   "cell_type": "markdown",
   "metadata": {},
   "source": [
    "## Projects"
   ]
  },
  {
   "cell_type": "markdown",
   "metadata": {},
   "source": [
    "A Project in Autodesk Forge is a specific workspace within a Hub. It's where the actual design and construction data is stored. Each project contains folders, items, and versions. \n",
    "\n",
    "Folders are the organizational structure for the project. Items are specific design files, documents, or other types of data. Versions represent the different iterations of an item as it goes through the design and construction process. \n",
    "\n",
    "In summary, a project is a specific workspace for a team to collaborate on within a Hub in Autodesk Forge."
   ]
  },
  {
   "cell_type": "code",
   "execution_count": 8,
   "metadata": {
    "ExecuteTime": {
     "end_time": "2024-03-02T14:10:27.016468Z",
     "start_time": "2024-03-02T14:10:25.835994Z"
    }
   },
   "outputs": [
    {
     "data": {
      "text/plain": [
       "'b.b0be7aa3-70b9-4bd1-96a2-41029ae438ce'"
      ]
     },
     "execution_count": 8,
     "metadata": {},
     "output_type": "execute_result"
    }
   ],
   "source": [
    "projects = bim360.get_projects(hubs_id)\n",
    "projects_id = projects[\"data\"][0][\"id\"]\n",
    "projects_id"
   ]
  },
  {
   "cell_type": "markdown",
   "metadata": {},
   "source": [
    "## Folders\n"
   ]
  },
  {
   "cell_type": "markdown",
   "metadata": {},
   "source": [
    "A Folder in Autodesk Platform Services(Former is Autodesk Forge) is part of the organizational structure within a Project. It's used to group and manage related Items, which can be design files, documents, or other types of data.\n",
    "\n",
    "Folders can contain sub-folders, creating a hierarchical structure that helps teams organize their work effectively. This structure can mirror the way teams organize their files on their local systems, making it easier to navigate and find specific items within a Project."
   ]
  },
  {
   "cell_type": "markdown",
   "metadata": {},
   "source": [
    "### Get Top Folders"
   ]
  },
  {
   "cell_type": "code",
   "execution_count": 9,
   "metadata": {
    "ExecuteTime": {
     "end_time": "2024-03-02T14:10:28.121907Z",
     "start_time": "2024-03-02T14:10:27.018657Z"
    }
   },
   "outputs": [
    {
     "data": {
      "text/plain": [
       "'urn:adsk.wipprod:fs.folder:co.z6qm45EyQfykBUrk1NuT7A'"
      ]
     },
     "execution_count": 9,
     "metadata": {},
     "output_type": "execute_result"
    }
   ],
   "source": [
    "topfolders = bim360.get_top_folders(hubs_id, projects_id)\n",
    "topfolders_id = topfolders[\"data\"][0][\"id\"]\n",
    "topfolders_id"
   ]
  },
  {
   "cell_type": "markdown",
   "metadata": {},
   "source": [
    "## Items"
   ]
  },
  {
   "cell_type": "markdown",
   "metadata": {},
   "source": [
    "An Item in Autodesk Forge represents a specific piece of data within a Project Folder. This could be a design file, a document, or any other type of data that is relevant to the project.\n",
    "\n",
    "Each item can have multiple versions, representing the different iterations of that item as it goes through the design and construction process. This allows for effective version control and tracking of changes over time.\n",
    "\n",
    "Items are the core unit of design data in Autodesk Forge. By accessing and manipulating items, users can work with the actual design data, view it in different ways, make changes, and collaborate with others."
   ]
  },
  {
   "cell_type": "markdown",
   "metadata": {},
   "source": [
    "### Get Items By Folder"
   ]
  },
  {
   "cell_type": "code",
   "execution_count": 10,
   "metadata": {
    "ExecuteTime": {
     "end_time": "2024-03-02T14:10:29.255473Z",
     "start_time": "2024-03-02T14:10:28.121907Z"
    }
   },
   "outputs": [
    {
     "data": {
      "text/plain": [
       "'urn:adsk.wipprod:dm.lineage:DjXtlXoJQyS6D1R-gRhI8A'"
      ]
     },
     "execution_count": 10,
     "metadata": {},
     "output_type": "execute_result"
    }
   ],
   "source": [
    "projects_id = \"b.1f7aa830-c6ef-48be-8a2d-bd554779e74b\"\n",
    "folderId = \"urn:adsk.wipprod:fs.folder:co.5ufH-U8yRjaZ-USJxxN_Mw\"\n",
    "\n",
    "contents = bim360.get_folder_contents(projects_id, folderId)\n",
    "itemId = contents[\"data\"][0][\"id\"]\n",
    "itemId"
   ]
  },
  {
   "cell_type": "markdown",
   "metadata": {},
   "source": [
    "### Get Item Name "
   ]
  },
  {
   "cell_type": "code",
   "execution_count": 11,
   "metadata": {},
   "outputs": [
    {
     "data": {
      "text/plain": [
       "'ACCKL1-EXY-C-FAC-MECH-01.rvt'"
      ]
     },
     "execution_count": 11,
     "metadata": {},
     "output_type": "execute_result"
    }
   ],
   "source": [
    "item_name = bim360.get_item_display_name(projects_id, itemId)\n",
    "item_name"
   ]
  },
  {
   "cell_type": "markdown",
   "metadata": {},
   "source": [
    "### Get Item Infos"
   ]
  },
  {
   "cell_type": "code",
   "execution_count": null,
   "metadata": {},
   "outputs": [],
   "source": [
    "bim360.get_item_info(projects_id, itemId)"
   ]
  },
  {
   "cell_type": "markdown",
   "metadata": {},
   "source": [
    "## URN"
   ]
  },
  {
   "cell_type": "markdown",
   "metadata": {},
   "source": [
    "In Autodesk Forge, a URN (Uniform Resource Name) is a unique identifier for a specific resource, such as a design file or version of a file. \n",
    "\n",
    "A derivative, on the other hand, is a representation of a design file in a different format. For example, a 3D model might have derivatives that are 2D drawings, thumbnail images, or files in different 3D formats. \n",
    "\n",
    "When you upload a design file to Autodesk Forge, it creates a URN for that file and generates derivatives. These derivatives are also associated with their own unique URNs. \n",
    "\n",
    "You can use these URNs to retrieve specific resources through the Forge APIs. For example, you might retrieve a derivative to display a 3D model in a web browser, or to download a 2D drawing. \n",
    "\n",
    "In summary, a URN derivative in Autodesk Forge is a unique identifier for a specific representation of a design file."
   ]
  },
  {
   "cell_type": "code",
   "execution_count": 11,
   "metadata": {},
   "outputs": [
    {
     "name": "stdout",
     "output_type": "stream",
     "text": [
      "URN for item urn:adsk.wipprod:dm.lineage:DjXtlXoJQyS6D1R-gRhI8A with version 2 is:\n",
      "URN:dXJuOmFkc2sud2lwcHJvZDpmcy5maWxlOnZmLkRqWHRsWG9KUXlTNkQxUi1nUmhJOEE_dmVyc2lvbj0y\n"
     ]
    }
   ],
   "source": [
    "urn = bim360.get_urn_item_version(projects_id, itemId, 2)\n",
    "print(f\"URN for item {itemId} with version 2 is:\\nURN:{urn}\")"
   ]
  },
  {
   "cell_type": "markdown",
   "metadata": {},
   "source": [
    "### Batch Report All Derivatives URN Version Item"
   ]
  },
  {
   "cell_type": "code",
   "execution_count": 13,
   "metadata": {},
   "outputs": [
    {
     "data": {
      "text/html": [
       "<div>\n",
       "<style scoped>\n",
       "    .dataframe tbody tr th:only-of-type {\n",
       "        vertical-align: middle;\n",
       "    }\n",
       "\n",
       "    .dataframe tbody tr th {\n",
       "        vertical-align: top;\n",
       "    }\n",
       "\n",
       "    .dataframe thead th {\n",
       "        text-align: right;\n",
       "    }\n",
       "</style>\n",
       "<table border=\"1\" class=\"dataframe\">\n",
       "  <thead>\n",
       "    <tr style=\"text-align: right;\">\n",
       "      <th></th>\n",
       "      <th>item_id</th>\n",
       "      <th>version</th>\n",
       "      <th>derivative_urn</th>\n",
       "      <th>last_modified_time</th>\n",
       "    </tr>\n",
       "  </thead>\n",
       "  <tbody>\n",
       "    <tr>\n",
       "      <th>0</th>\n",
       "      <td>urn:adsk.wipprod:dm.lineage:DjXtlXoJQyS6D1R-gR...</td>\n",
       "      <td>5</td>\n",
       "      <td>dXJuOmFkc2sud2lwcHJvZDpmcy5maWxlOnZmLkRqWHRsWG...</td>\n",
       "      <td>2024-01-31T07:38:59.0000000Z</td>\n",
       "    </tr>\n",
       "    <tr>\n",
       "      <th>1</th>\n",
       "      <td>urn:adsk.wipprod:dm.lineage:DjXtlXoJQyS6D1R-gR...</td>\n",
       "      <td>4</td>\n",
       "      <td>dXJuOmFkc2sud2lwcHJvZDpmcy5maWxlOnZmLkRqWHRsWG...</td>\n",
       "      <td>2024-01-24T03:20:58.0000000Z</td>\n",
       "    </tr>\n",
       "    <tr>\n",
       "      <th>2</th>\n",
       "      <td>urn:adsk.wipprod:dm.lineage:DjXtlXoJQyS6D1R-gR...</td>\n",
       "      <td>3</td>\n",
       "      <td>dXJuOmFkc2sud2lwcHJvZDpmcy5maWxlOnZmLkRqWHRsWG...</td>\n",
       "      <td>2024-01-22T07:07:33.0000000Z</td>\n",
       "    </tr>\n",
       "    <tr>\n",
       "      <th>3</th>\n",
       "      <td>urn:adsk.wipprod:dm.lineage:DjXtlXoJQyS6D1R-gR...</td>\n",
       "      <td>2</td>\n",
       "      <td>dXJuOmFkc2sud2lwcHJvZDpmcy5maWxlOnZmLkRqWHRsWG...</td>\n",
       "      <td>2024-01-18T15:23:02.0000000Z</td>\n",
       "    </tr>\n",
       "  </tbody>\n",
       "</table>\n",
       "</div>"
      ],
      "text/plain": [
       "                                             item_id version  \\\n",
       "0  urn:adsk.wipprod:dm.lineage:DjXtlXoJQyS6D1R-gR...       5   \n",
       "1  urn:adsk.wipprod:dm.lineage:DjXtlXoJQyS6D1R-gR...       4   \n",
       "2  urn:adsk.wipprod:dm.lineage:DjXtlXoJQyS6D1R-gR...       3   \n",
       "3  urn:adsk.wipprod:dm.lineage:DjXtlXoJQyS6D1R-gR...       2   \n",
       "\n",
       "                                      derivative_urn  \\\n",
       "0  dXJuOmFkc2sud2lwcHJvZDpmcy5maWxlOnZmLkRqWHRsWG...   \n",
       "1  dXJuOmFkc2sud2lwcHJvZDpmcy5maWxlOnZmLkRqWHRsWG...   \n",
       "2  dXJuOmFkc2sud2lwcHJvZDpmcy5maWxlOnZmLkRqWHRsWG...   \n",
       "3  dXJuOmFkc2sud2lwcHJvZDpmcy5maWxlOnZmLkRqWHRsWG...   \n",
       "\n",
       "             last_modified_time  \n",
       "0  2024-01-31T07:38:59.0000000Z  \n",
       "1  2024-01-24T03:20:58.0000000Z  \n",
       "2  2024-01-22T07:07:33.0000000Z  \n",
       "3  2024-01-18T15:23:02.0000000Z  "
      ]
     },
     "execution_count": 13,
     "metadata": {},
     "output_type": "execute_result"
    }
   ],
   "source": [
    "bim360.batch_report_item_versions(projects_id, itemId)"
   ]
  },
  {
   "cell_type": "markdown",
   "metadata": {},
   "source": [
    "Congratulations! You've learned about the key concepts in Autodesk Forge, including Hubs, Projects, Folders, Items, and URNs. These concepts are the building blocks of the Autodesk Forge platform, and understanding them is crucial for working effectively with design data and collaborating with others."
   ]
  }
 ],
 "metadata": {
  "kernelspec": {
   "display_name": "Python 3",
   "language": "python",
   "name": "python3"
  },
  "language_info": {
   "codemirror_mode": {
    "name": "ipython",
    "version": 3
   },
   "file_extension": ".py",
   "mimetype": "text/x-python",
   "name": "python",
   "nbconvert_exporter": "python",
   "pygments_lexer": "ipython3",
   "version": "3.11.5"
  }
 },
 "nbformat": 4,
 "nbformat_minor": 2
}
