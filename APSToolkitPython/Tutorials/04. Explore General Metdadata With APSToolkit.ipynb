{
 "cells": [
  {
   "cell_type": "markdown",
   "metadata": {},
   "source": [
    "<table align=\"left\">\n",
    "  <td style=\"text-align: center\">\n",
    "    <a href=\"https://colab.research.google.com/github/chuongmep/aps-toolkit/blob/dev/APSToolkitPython/Tutorials/04.%20Explore%20General%20Metdadata%20With%20APSToolkit.ipynb\">\n",
    "      <img src=\"https://cloud.google.com/ml-engine/images/colab-logo-32px.png\" alt=\"Google Colaboratory logo\"><br> Run in Colab\n",
    "    </a>\n",
    "  </td>\n",
    "  <td style=\"text-align: center\">\n",
    "    <a href=\"https://github.com/chuongmep/aps-toolkit/blob/dev/APSToolkitPython/Tutorials/04.%20Explore%20General%20Metdadata%20With%20APSToolkit.ipynb\">\n",
    "      <img src=\"https://cloud.google.com/ml-engine/images/github-logo-32px.png\" alt=\"GitHub logo\"><br> View on GitHub\n",
    "    </a>\n",
    "  </td>\n",
    "</table>"
   ]
  },
  {
   "cell_type": "markdown",
   "metadata": {},
   "source": [
    "<table align=\"left\">\n",
    "  <tr>\n",
    "    <td>Author(s)</td>\n",
    "    <td><a href=\"https://github.com/chuongmep\" id=\"author-link\">Chuong Ho</a></td>\n",
    "    <!-- <td><a href=\"<your repo>\" id=\"github-link\">YourName</a></td> -->\n",
    "  </tr>\n",
    "</table>"
   ]
  },
  {
   "cell_type": "code",
   "execution_count": 1,
   "metadata": {
    "ExecuteTime": {
     "end_time": "2024-03-02T14:12:22.210102Z",
     "start_time": "2024-03-02T14:12:19.115142Z"
    }
   },
   "outputs": [
    {
     "name": "stdout",
     "output_type": "stream",
     "text": [
      "Requirement already satisfied: aps-toolkit in c:\\python311\\lib\\site-packages (0.3.7)\n",
      "Collecting aps-toolkit\n",
      "  Downloading aps_toolkit-0.3.8-py3-none-any.whl.metadata (2.0 kB)\n",
      "Requirement already satisfied: requests in c:\\python311\\lib\\site-packages (from aps-toolkit) (2.31.0)\n",
      "Requirement already satisfied: pandas in c:\\python311\\lib\\site-packages (from aps-toolkit) (2.2.1)\n",
      "Requirement already satisfied: numpy<2,>=1.23.2 in c:\\python311\\lib\\site-packages (from pandas->aps-toolkit) (1.26.0)\n",
      "Requirement already satisfied: python-dateutil>=2.8.2 in c:\\python311\\lib\\site-packages (from pandas->aps-toolkit) (2.8.2)\n",
      "Requirement already satisfied: pytz>=2020.1 in c:\\python311\\lib\\site-packages (from pandas->aps-toolkit) (2024.1)\n",
      "Requirement already satisfied: tzdata>=2022.7 in c:\\python311\\lib\\site-packages (from pandas->aps-toolkit) (2024.1)\n",
      "Requirement already satisfied: charset-normalizer<4,>=2 in c:\\python311\\lib\\site-packages (from requests->aps-toolkit) (3.2.0)\n",
      "Requirement already satisfied: idna<4,>=2.5 in c:\\python311\\lib\\site-packages (from requests->aps-toolkit) (3.4)\n",
      "Requirement already satisfied: urllib3<3,>=1.21.1 in c:\\python311\\lib\\site-packages (from requests->aps-toolkit) (2.0.4)\n",
      "Requirement already satisfied: certifi>=2017.4.17 in c:\\python311\\lib\\site-packages (from requests->aps-toolkit) (2023.7.22)\n",
      "Requirement already satisfied: six>=1.5 in c:\\python311\\lib\\site-packages (from python-dateutil>=2.8.2->pandas->aps-toolkit) (1.16.0)\n",
      "Downloading aps_toolkit-0.3.8-py3-none-any.whl (45 kB)\n",
      "   ---------------------------------------- 0.0/45.2 kB ? eta -:--:--\n",
      "   ------------------ --------------------- 20.5/45.2 kB 330.3 kB/s eta 0:00:01\n",
      "   ---------------------------------------- 45.2/45.2 kB 554.4 kB/s eta 0:00:00\n",
      "Installing collected packages: aps-toolkit\n",
      "  Attempting uninstall: aps-toolkit\n",
      "    Found existing installation: aps-toolkit 0.3.7\n",
      "    Uninstalling aps-toolkit-0.3.7:\n",
      "      Successfully uninstalled aps-toolkit-0.3.7\n",
      "Successfully installed aps-toolkit-0.3.8\n",
      "Note: you may need to restart the kernel to use updated packages.\n"
     ]
    }
   ],
   "source": [
    "%pip install aps-toolkit --upgrade"
   ]
  },
  {
   "cell_type": "markdown",
   "metadata": {},
   "source": [
    "## Auth"
   ]
  },
  {
   "cell_type": "code",
   "execution_count": 1,
   "metadata": {
    "ExecuteTime": {
     "end_time": "2024-03-02T14:12:22.214171Z",
     "start_time": "2024-03-02T14:12:22.211115Z"
    }
   },
   "outputs": [],
   "source": [
    "from aps_toolkit import Auth\n",
    "import pandas as pd"
   ]
  },
  {
   "cell_type": "code",
   "execution_count": 2,
   "metadata": {
    "ExecuteTime": {
     "end_time": "2024-03-02T14:12:23.004384Z",
     "start_time": "2024-03-02T14:12:22.215209Z"
    }
   },
   "outputs": [],
   "source": [
    "token = Auth().auth2leg()"
   ]
  },
  {
   "cell_type": "markdown",
   "metadata": {},
   "source": [
    "#### Auth Via Google Colab"
   ]
  },
  {
   "cell_type": "code",
   "execution_count": null,
   "metadata": {},
   "outputs": [],
   "source": [
    "# from google.colab import userdata\n",
    "# client_id = userdata.get('APS_CLIENT_ID')\n",
    "# client_secret = userdata.get('APS_CLIENT_SECRET')\n",
    "# auth = Auth(client_id, client_secret)\n",
    "# token = auth.auth2leg()"
   ]
  },
  {
   "cell_type": "markdown",
   "metadata": {},
   "source": [
    "### URN"
   ]
  },
  {
   "cell_type": "code",
   "execution_count": 29,
   "metadata": {
    "ExecuteTime": {
     "end_time": "2024-03-02T14:12:23.009480Z",
     "start_time": "2024-03-02T14:12:23.005633Z"
    }
   },
   "outputs": [],
   "source": [
    "urn = \"dXJuOmFkc2sud2lwcHJvZDpmcy5maWxlOnZmLk9kOHR4RGJLU1NlbFRvVmcxb2MxVkE_dmVyc2lvbj0yNA\""
   ]
  },
  {
   "cell_type": "markdown",
   "metadata": {},
   "source": [
    "## Reader"
   ]
  },
  {
   "cell_type": "markdown",
   "metadata": {},
   "source": [
    "### Reader With Default View"
   ]
  },
  {
   "cell_type": "markdown",
   "metadata": {},
   "source": [
    "In this notebook, we able to get all metadata from the item in ACC or bucket storage"
   ]
  },
  {
   "cell_type": "code",
   "execution_count": 30,
   "metadata": {
    "ExecuteTime": {
     "end_time": "2024-03-02T14:12:31.994676Z",
     "start_time": "2024-03-02T14:12:23.010491Z"
    }
   },
   "outputs": [],
   "source": [
    "from aps_toolkit import PropReader\n",
    "prop_reader = PropReader(urn, token)"
   ]
  },
  {
   "cell_type": "markdown",
   "metadata": {},
   "source": [
    "#### Reader With View SVF Custom"
   ]
  },
  {
   "cell_type": "markdown",
   "metadata": {},
   "source": [
    "In the case with many derivative items svf"
   ]
  },
  {
   "cell_type": "code",
   "execution_count": 31,
   "metadata": {},
   "outputs": [],
   "source": [
    "from aps_toolkit import Derivative\n",
    "derivative = Derivative(urn, token,\"US\")"
   ]
  },
  {
   "cell_type": "code",
   "execution_count": 32,
   "metadata": {},
   "outputs": [
    {
     "name": "stdout",
     "output_type": "stream",
     "text": [
      "MyRoom.svf\n",
      "Chair.svf\n",
      "Bed.svf\n",
      "3D_MyHouse.svf\n",
      "{3D - Chuong_Ho}.svf\n",
      "3D_Data Xchange.svf\n",
      "{3D - vanchuong_ho}.svf\n",
      "Project Completion.svf\n"
     ]
    }
   ],
   "source": [
    "items = derivative.read_svf_manifest_items()\n",
    "for item in items:\n",
    "    print(item.path_info.root_file_name)"
   ]
  },
  {
   "cell_type": "code",
   "execution_count": 35,
   "metadata": {},
   "outputs": [
    {
     "name": "stdout",
     "output_type": "stream",
     "text": [
      "Guid:  a4e4238d-a839-5b6a-ad55-42f5e125f820\n",
      "Root File Name Item:  MyRoom.svf\n",
      "Path:  ['../../objects_attrs.json.gz', '../../objects_vals.json.gz', '../../objects_ids.json.gz', '../../objects_viewables.json.gz', '../../objects_offs.json.gz', '../../objects_avs.json.gz', 'Materials.json.gz', 'CameraDefinitions.bin', 'LightDefinitions.bin', '0.pf', '1.pf', '2.pf', '3.pf', '4.pf', '5.pf', 'GeometryMetadata.pf', 'FragmentList.pack', 'CameraList.bin', 'LightList.bin', 'InstanceTree.bin', 'Set.bin']\n"
     ]
    }
   ],
   "source": [
    "item = items[0]\n",
    "print(\"Guid: \", item.guid)\n",
    "print(\"Root File Name Item: \", item.path_info.root_file_name)\n",
    "print(\"Path: \", item.path_info.files)"
   ]
  },
  {
   "cell_type": "code",
   "execution_count": 36,
   "metadata": {},
   "outputs": [],
   "source": [
    "prop_reader = PropReader(urn, token,\"US\",items[1])"
   ]
  },
  {
   "cell_type": "markdown",
   "metadata": {},
   "source": [
    "#### Get Properties from DbId"
   ]
  },
  {
   "cell_type": "markdown",
   "metadata": {},
   "source": [
    "DBID in Autodesk Forge refers to the Database ID. It's a unique identifier assigned to each object (like components or elements) in a model when it's translated into the viewer format by the Autodesk Forge Model Derivative service.\n",
    "\n",
    "When you load a model into the Forge Viewer, you can use these DBIDs to interact with specific objects in the model. For example, you can select, isolate, hide objects, or get properties of an object using its DBID. \n",
    "\n",
    "It's important to note that DBIDs are not persistent across different versions of the same model. If the model is updated and re-translated, the DBIDs may change."
   ]
  },
  {
   "cell_type": "code",
   "execution_count": 37,
   "metadata": {},
   "outputs": [
    {
     "data": {
      "text/plain": [
       "<aps_toolkit.PropReader.Property at 0x231a4ce4c90>"
      ]
     },
     "execution_count": 37,
     "metadata": {},
     "output_type": "execute_result"
    }
   ],
   "source": [
    "props = prop_reader.enumerate_properties(1)\n",
    "props[0]"
   ]
  },
  {
   "cell_type": "code",
   "execution_count": 38,
   "metadata": {},
   "outputs": [
    {
     "data": {
      "text/plain": [
       "{'Organization Name': '',\n",
       " 'Organization Description': '',\n",
       " 'Building Name': '',\n",
       " 'Author': '',\n",
       " 'IfcSite GUID': '',\n",
       " 'IfcBuilding GUID': '',\n",
       " 'IfcProject GUID': '',\n",
       " 'Project Issue Date': 'Issue Date',\n",
       " 'Project Status': 'Project Status',\n",
       " 'Client Name': 'Owner',\n",
       " 'Project Address': 'Enter address here',\n",
       " 'Project Name': 'Project Name',\n",
       " 'Project Number': 'Project Number',\n",
       " 'Data.Hello.Parquet': 0,\n",
       " 'Workset': 'Project Info',\n",
       " 'Edited by': '',\n",
       " 'Route Analysis Settings': ''}"
      ]
     },
     "execution_count": 38,
     "metadata": {},
     "output_type": "execute_result"
    }
   ],
   "source": [
    "prop_reader.get_properties(1)    "
   ]
  },
  {
   "cell_type": "code",
   "execution_count": 39,
   "metadata": {},
   "outputs": [
    {
     "data": {
      "text/plain": [
       "{'Identity Data': [('Organization Name', ''),\n",
       "  ('Organization Description', ''),\n",
       "  ('Building Name', ''),\n",
       "  ('Author', ''),\n",
       "  ('Workset', 'Project Info'),\n",
       "  ('Edited by', '')],\n",
       " 'IFC Parameters': [('IfcSite GUID', ''),\n",
       "  ('IfcBuilding GUID', ''),\n",
       "  ('IfcProject GUID', '')],\n",
       " 'Other': [('Project Issue Date', 'Issue Date'),\n",
       "  ('Project Status', 'Project Status'),\n",
       "  ('Client Name', 'Owner'),\n",
       "  ('Project Address', 'Enter address here'),\n",
       "  ('Project Name', 'Project Name'),\n",
       "  ('Project Number', 'Project Number')],\n",
       " 'Dimensions': [('Data.Hello.Parquet', 0)],\n",
       " 'Route Analysis': [('Route Analysis Settings', '')]}"
      ]
     },
     "execution_count": 39,
     "metadata": {},
     "output_type": "execute_result"
    }
   ],
   "source": [
    "prop_reader.get_properties_group_by_category(1)"
   ]
  },
  {
   "cell_type": "code",
   "execution_count": 40,
   "metadata": {},
   "outputs": [
    {
     "data": {
      "text/plain": [
       "2"
      ]
     },
     "execution_count": 40,
     "metadata": {},
     "output_type": "execute_result"
    }
   ],
   "source": [
    "childs = prop_reader.get_children(1)\n",
    "childs[0]"
   ]
  },
  {
   "cell_type": "code",
   "execution_count": 41,
   "metadata": {},
   "outputs": [
    {
     "data": {
      "text/plain": [
       "[]"
      ]
     },
     "execution_count": 41,
     "metadata": {},
     "output_type": "execute_result"
    }
   ],
   "source": [
    "prop_reader.get_parent(1)"
   ]
  },
  {
   "cell_type": "code",
   "execution_count": 42,
   "metadata": {},
   "outputs": [
    {
     "data": {
      "text/plain": [
       "[]"
      ]
     },
     "execution_count": 42,
     "metadata": {},
     "output_type": "execute_result"
    }
   ],
   "source": [
    "prop_reader.get_instance(1)"
   ]
  },
  {
   "cell_type": "markdown",
   "metadata": {},
   "source": [
    "Congratulations! You have successfully retrieved the metadata of the item in the Autodesk Construction Cloud or BIM 360 storage. Now you can custom the metadata to your needs with diffrence file format uploaded to ACC or BIM 360 storage like : Dwg, Rvt, Nwd, Nwc, Nwf, IFC, etc."
   ]
  }
 ],
 "metadata": {
  "kernelspec": {
   "display_name": "Python 3",
   "language": "python",
   "name": "python3"
  },
  "language_info": {
   "codemirror_mode": {
    "name": "ipython",
    "version": 3
   },
   "file_extension": ".py",
   "mimetype": "text/x-python",
   "name": "python",
   "nbconvert_exporter": "python",
   "pygments_lexer": "ipython3",
   "version": "3.11.5"
  }
 },
 "nbformat": 4,
 "nbformat_minor": 2
}
