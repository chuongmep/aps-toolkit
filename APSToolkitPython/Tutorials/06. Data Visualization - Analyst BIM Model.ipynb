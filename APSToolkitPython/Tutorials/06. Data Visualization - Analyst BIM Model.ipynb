{
 "cells": [
  {
   "cell_type": "markdown",
   "metadata": {},
   "source": [
    "<table align=\"left\">\n",
    "  <td style=\"text-align: center\">\n",
    "    <a href=\"https://colab.research.google.com/github/chuongmep/aps-toolkit/blob/dev/APSToolkitPython/Tutorials/06.%20Data%20Visualization%20-%20Analyst%20BIM%20Model.ipynb\">\n",
    "      <img src=\"https://cloud.google.com/ml-engine/images/colab-logo-32px.png\" alt=\"Google Colaboratory logo\"><br> Run in Colab\n",
    "    </a>\n",
    "  </td>\n",
    "  <td style=\"text-align: center\">\n",
    "    <a href=\"https://github.com/chuongmep/aps-toolkit/blob/dev/APSToolkitPython/Tutorials/06.%20Data%20Visualization%20-%20Analyst%20BIM%20Model.ipynb\">\n",
    "      <img src=\"https://cloud.google.com/ml-engine/images/github-logo-32px.png\" alt=\"GitHub logo\"><br> View on GitHub\n",
    "    </a>\n",
    "  </td>\n",
    "</table>"
   ]
  },
  {
   "cell_type": "markdown",
   "metadata": {},
   "source": [
    "<table align=\"left\">\n",
    "  <tr>\n",
    "    <td>Author(s)</td>\n",
    "    <td><a href=\"https://github.com/chuongmep\" id=\"author-link\">Chuong Ho</a></td>\n",
    "    <!-- <td><a href=\"<your repo>\" id=\"github-link\">YourName</a></td> -->\n",
    "  </tr>\n",
    "</table>"
   ]
  },
  {
   "cell_type": "code",
   "execution_count": 1,
   "metadata": {},
   "source": [
    "%pip install aps_toolkit --upgrade"
   ],
   "outputs": []
  },
  {
   "cell_type": "code",
   "execution_count": 2,
   "metadata": {},
   "source": [
    "from aps_toolkit import Auth\n",
    "from aps_toolkit import PropDbReaderRevit\n",
    "import pandas as pd\n",
    "import seaborn as sns\n",
    "import matplotlib.pyplot as plt"
   ],
   "outputs": []
  },
  {
   "cell_type": "markdown",
   "metadata": {},
   "source": [
    "#### Auth Via Google Colab"
   ]
  },
  {
   "cell_type": "code",
   "execution_count": null,
   "metadata": {},
   "source": [
    "# from google.colab import userdata\n",
    "# client_id = userdata.get('APS_CLIENT_ID')\n",
    "# client_secret = userdata.get('APS_CLIENT_SECRET')\n",
    "# auth = Auth(client_id, client_secret)\n",
    "# token = auth.auth2leg()"
   ],
   "outputs": []
  },
  {
   "cell_type": "code",
   "execution_count": 4,
   "metadata": {},
   "source": [
    "urn = \"dXJuOmFkc2sud2lwcHJvZDpmcy5maWxlOnZmLk9kOHR4RGJLU1NlbFRvVmcxb2MxVkE_dmVyc2lvbj0yOA\"\n",
    "token = Auth().auth2leg()\n",
    "prop_reader = PropDbReaderRevit(urn, token)"
   ],
   "outputs": []
  },
  {
   "cell_type": "markdown",
   "metadata": {},
   "source": [
    "## Categories Analysis"
   ]
  },
  {
   "cell_type": "code",
   "execution_count": 5,
   "metadata": {},
   "source": [
    "cates = prop_reader.get_all_categories()"
   ],
   "outputs": []
  },
  {
   "cell_type": "code",
   "execution_count": 6,
   "metadata": {},
   "source": [
    "# get all categories string \n",
    "dict_categories = prop_reader.get_all_categories()\n",
    "categories = list(dict_categories.values())\n",
    "# visualize with x,y : x : category, y : count element\n",
    "x = []\n",
    "y = []\n",
    "for cate in categories:\n",
    "    df_cate = prop_reader.get_data_by_category(cate)\n",
    "    if(df_cate.shape[0] == 0):\n",
    "        continue\n",
    "    y.append(df_cate.shape[0])\n",
    "    x.append(cate)\n",
    "x_sorted, y_sorted = zip(*sorted(zip(x, y), key=lambda pair: pair[1], reverse=True))\n",
    "plt.figure(figsize=(20,10))\n",
    "sns.barplot(x=list(x_sorted), y=list(y_sorted))\n",
    "plt.xticks(rotation=90)\n",
    "plt.xlabel('Category')\n",
    "plt.ylabel('Count')\n",
    "plt.title('Count of Elements in Each Category')\n",
    "plt.show()"
   ],
   "outputs": []
  },
  {
   "cell_type": "code",
   "execution_count": 7,
   "metadata": {},
   "source": [
    "y_top10 = list(x_sorted)[:10]\n",
    "x_top10 = list(y_sorted)[:10]\n",
    "plt.figure(figsize=(10, 5))\n",
    "sns.barplot(x=x_top10, y=y_top10, palette='viridis')\n",
    "plt.xlabel('Count', fontsize=12)\n",
    "plt.ylabel('Category', fontsize=12)\n",
    "plt.title('Top 10 Categories with Most Elements', fontsize=14)\n",
    "plt.xticks(rotation=45) \n",
    "plt.tight_layout()  \n",
    "plt.show()"
   ],
   "outputs": []
  },
  {
   "cell_type": "markdown",
   "metadata": {},
   "source": [
    "Why have so many categories don't relate to data ? \n",
    "Try check materials "
   ]
  },
  {
   "cell_type": "markdown",
   "metadata": {},
   "source": [
    "## Materials"
   ]
  },
  {
   "cell_type": "code",
   "execution_count": 8,
   "metadata": {},
   "source": [
    "pd.set_option('display.max_columns', 8)\n",
    "pd.set_option('display.max_rows', 20)\n",
    "df_materials = prop_reader.get_data_by_categories([\"Materials\"])\n",
    "df_materials"
   ],
   "outputs": []
  },
  {
   "cell_type": "code",
   "execution_count": 9,
   "metadata": {},
   "source": [
    "df_materials.info()"
   ],
   "outputs": []
  },
  {
   "cell_type": "code",
   "execution_count": 10,
   "metadata": {},
   "source": [
    "df_materials.describe()"
   ],
   "outputs": []
  },
  {
   "cell_type": "code",
   "execution_count": 11,
   "metadata": {},
   "source": [
    "df_materials.shape"
   ],
   "outputs": []
  },
  {
   "cell_type": "code",
   "execution_count": null,
   "metadata": {},
   "source": [
    "# see all name of materials\n",
    "materials = df_materials[\"Name\"].unique()\n",
    "materials.sort()\n",
    "materials"
   ],
   "outputs": []
  },
  {
   "cell_type": "code",
   "execution_count": null,
   "metadata": {},
   "source": [
    "material_parameters = df_materials.columns\n",
    "material_parameters"
   ],
   "outputs": []
  },
  {
   "cell_type": "code",
   "execution_count": null,
   "metadata": {},
   "source": [
    "# group by material name and get the count of each material\n",
    "df_materials_grouped = df_materials.groupby(\"Name\").size().reset_index(name='Count')\n",
    "df_materials_grouped = df_materials_grouped.sort_values(by='Count', ascending=False)\n",
    "df_materials_grouped"
   ],
   "outputs": []
  },
  {
   "cell_type": "code",
   "execution_count": null,
   "metadata": {},
   "source": [
    "# see who create the most materials by see values column Edited by\n",
    "people = df_materials[\"Edited by\"].unique()\n",
    "people"
   ],
   "outputs": []
  },
  {
   "cell_type": "markdown",
   "metadata": {},
   "source": [
    "## Furniture"
   ]
  },
  {
   "cell_type": "code",
   "execution_count": null,
   "metadata": {},
   "source": [
    "df_furniture = prop_reader.get_data_by_category(\"Furniture\")\n",
    "df_furniture"
   ],
   "outputs": []
  },
  {
   "cell_type": "code",
   "execution_count": null,
   "metadata": {},
   "source": [
    "df_furniture.info()"
   ],
   "outputs": []
  },
  {
   "cell_type": "code",
   "execution_count": null,
   "metadata": {},
   "source": [
    "df_furniture.describe()"
   ],
   "outputs": []
  },
  {
   "cell_type": "code",
   "execution_count": null,
   "metadata": {},
   "source": [
    "# which parameters for furniture\n",
    "df_furniture.columns"
   ],
   "outputs": []
  },
  {
   "cell_type": "code",
   "execution_count": null,
   "metadata": {},
   "source": [
    "## see all the parameters contains 'IFC' and value of them \n",
    "df_furniture[df_furniture.columns[df_furniture.columns.str.contains('IFC')]]\n",
    "# => look may be need input ifc value for furniture"
   ],
   "outputs": []
  },
  {
   "cell_type": "code",
   "execution_count": null,
   "metadata": {},
   "source": [
    "# try with walls but it same \n",
    "df_walls = prop_reader.get_data_by_category(\"Walls\")\n",
    "df_walls[df_walls.columns[df_walls.columns.str.contains('IFC')]]"
   ],
   "outputs": []
  },
  {
   "cell_type": "markdown",
   "metadata": {},
   "source": [
    "## Rooms"
   ]
  },
  {
   "cell_type": "code",
   "execution_count": null,
   "metadata": {},
   "source": [
    "df_rooms = prop_reader.get_data_by_category(\"Rooms\")\n",
    "df_rooms"
   ],
   "outputs": []
  },
  {
   "cell_type": "code",
   "execution_count": null,
   "metadata": {},
   "source": [
    "df_rooms.columns"
   ],
   "outputs": []
  },
  {
   "cell_type": "code",
   "execution_count": null,
   "metadata": {},
   "source": [
    "## see room name,area,level,volume,...\n",
    "df_rooms[[\"ElementId\",\"Name\",\"Number\", \"Area\", \"Level\", \"Volume\",\"Comments\"]]"
   ],
   "outputs": []
  },
  {
   "cell_type": "code",
   "execution_count": null,
   "metadata": {},
   "source": [
    "# see any room Area > 100 \n",
    "df_rooms[df_rooms[\"Area\"] > 100]\n",
    "# => no room area > 100"
   ],
   "outputs": []
  },
  {
   "cell_type": "code",
   "execution_count": null,
   "metadata": {},
   "source": [
    "# see ifc value of room is it filled of empty\n",
    "df_rooms[df_rooms.columns[df_rooms.columns.str.contains('IFC')]]"
   ],
   "outputs": []
  }
 ],
 "metadata": {
  "kernelspec": {
   "display_name": "Python 3",
   "language": "python",
   "name": "python3"
  },
  "language_info": {
   "codemirror_mode": {
    "name": "ipython",
    "version": 3
   },
   "file_extension": ".py",
   "mimetype": "text/x-python",
   "name": "python",
   "nbconvert_exporter": "python",
   "pygments_lexer": "ipython3",
   "version": "3.11.5"
  }
 },
 "nbformat": 4,
 "nbformat_minor": 2
}
