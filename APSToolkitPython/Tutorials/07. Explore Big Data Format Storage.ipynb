{
 "cells": [
  {
   "cell_type": "code",
   "execution_count": 1,
   "metadata": {
    "dotnet_interactive": {
     "language": "csharp"
    },
    "polyglot_notebook": {
     "kernelName": "csharp"
    }
   },
   "outputs": [
    {
     "name": "stdout",
     "output_type": "stream",
     "text": [
      "Requirement already satisfied: aps-toolkit in c:\\users\\vho2\\appdata\\local\\programs\\python\\python311\\lib\\site-packages (0.2.9)\n",
      "Requirement already satisfied: requests in c:\\users\\vho2\\appdata\\local\\programs\\python\\python311\\lib\\site-packages (from aps-toolkit) (2.31.0)\n",
      "Requirement already satisfied: pandas in c:\\users\\vho2\\appdata\\local\\programs\\python\\python311\\lib\\site-packages (from aps-toolkit) (2.2.0)\n",
      "Requirement already satisfied: numpy<2,>=1.23.2 in c:\\users\\vho2\\appdata\\local\\programs\\python\\python311\\lib\\site-packages (from pandas->aps-toolkit) (1.23.5)\n",
      "Requirement already satisfied: python-dateutil>=2.8.2 in c:\\users\\vho2\\appdata\\local\\programs\\python\\python311\\lib\\site-packages (from pandas->aps-toolkit) (2.8.2)\n",
      "Requirement already satisfied: pytz>=2020.1 in c:\\users\\vho2\\appdata\\local\\programs\\python\\python311\\lib\\site-packages (from pandas->aps-toolkit) (2023.3.post1)\n",
      "Requirement already satisfied: tzdata>=2022.7 in c:\\users\\vho2\\appdata\\local\\programs\\python\\python311\\lib\\site-packages (from pandas->aps-toolkit) (2023.3)\n",
      "Requirement already satisfied: charset-normalizer<4,>=2 in c:\\users\\vho2\\appdata\\local\\programs\\python\\python311\\lib\\site-packages (from requests->aps-toolkit) (3.1.0)\n",
      "Requirement already satisfied: idna<4,>=2.5 in c:\\users\\vho2\\appdata\\local\\programs\\python\\python311\\lib\\site-packages (from requests->aps-toolkit) (3.4)\n",
      "Requirement already satisfied: urllib3<3,>=1.21.1 in c:\\users\\vho2\\appdata\\local\\programs\\python\\python311\\lib\\site-packages (from requests->aps-toolkit) (1.26.18)\n",
      "Requirement already satisfied: certifi>=2017.4.17 in c:\\users\\vho2\\appdata\\local\\programs\\python\\python311\\lib\\site-packages (from requests->aps-toolkit) (2023.5.7)\n",
      "Requirement already satisfied: six>=1.5 in c:\\users\\vho2\\appdata\\local\\programs\\python\\python311\\lib\\site-packages (from python-dateutil>=2.8.2->pandas->aps-toolkit) (1.16.0)\n",
      "Note: you may need to restart the kernel to use updated packages.\n"
     ]
    },
    {
     "name": "stderr",
     "output_type": "stream",
     "text": [
      "\n",
      "[notice] A new release of pip is available: 23.3.2 -> 24.0\n",
      "[notice] To update, run: python.exe -m pip install --upgrade pip\n"
     ]
    }
   ],
   "source": [
    "%pip install aps-toolkit --upgrade"
   ]
  },
  {
   "cell_type": "code",
   "execution_count": 1,
   "metadata": {
    "ExecuteTime": {
     "end_time": "2024-03-02T14:12:22.214171Z",
     "start_time": "2024-03-02T14:12:22.211115Z"
    }
   },
   "outputs": [],
   "source": [
    "from aps_toolkit import Auth\n",
    "import pandas as pd"
   ]
  },
  {
   "cell_type": "code",
   "execution_count": 2,
   "metadata": {
    "ExecuteTime": {
     "end_time": "2024-03-02T14:12:23.004384Z",
     "start_time": "2024-03-02T14:12:22.215209Z"
    }
   },
   "outputs": [],
   "source": [
    "token = Auth().auth2leg()"
   ]
  },
  {
   "cell_type": "code",
   "execution_count": 3,
   "metadata": {
    "ExecuteTime": {
     "end_time": "2024-03-02T14:12:23.009480Z",
     "start_time": "2024-03-02T14:12:23.005633Z"
    }
   },
   "outputs": [],
   "source": [
    "urn = \"urn:adsk.wipprod:dm.lineage:j2R5fwxfTJq9DOsvX1p9ZQ\""
   ]
  },
  {
   "cell_type": "code",
   "execution_count": 15,
   "metadata": {
    "ExecuteTime": {
     "end_time": "2024-03-02T14:12:31.994676Z",
     "start_time": "2024-03-02T14:12:23.010491Z"
    }
   },
   "outputs": [],
   "source": [
    "from aps_toolkit import PropDbReaderRevit\n",
    "prop_reader = PropDbReaderRevit(urn, token)"
   ]
  },
  {
   "cell_type": "code",
   "execution_count": 16,
   "metadata": {},
   "outputs": [
    {
     "data": {
      "text/html": [
       "<div>\n",
       "<style scoped>\n",
       "    .dataframe tbody tr th:only-of-type {\n",
       "        vertical-align: middle;\n",
       "    }\n",
       "\n",
       "    .dataframe tbody tr th {\n",
       "        vertical-align: top;\n",
       "    }\n",
       "\n",
       "    .dataframe thead th {\n",
       "        text-align: right;\n",
       "    }\n",
       "</style>\n",
       "<table border=\"1\" class=\"dataframe\">\n",
       "  <thead>\n",
       "    <tr style=\"text-align: right;\">\n",
       "      <th></th>\n",
       "      <th>dbId</th>\n",
       "      <th>external_id</th>\n",
       "      <th>ElementId</th>\n",
       "      <th>Name</th>\n",
       "      <th>Category</th>\n",
       "      <th>CategoryId</th>\n",
       "      <th>Image</th>\n",
       "      <th>Keynote</th>\n",
       "      <th>Export to IFC</th>\n",
       "      <th>Export to IFC As</th>\n",
       "      <th>...</th>\n",
       "      <th>Filter</th>\n",
       "      <th>Sorting/Grouping</th>\n",
       "      <th>Formatting</th>\n",
       "      <th>Appearance</th>\n",
       "      <th>Embedded Schedule</th>\n",
       "      <th>ScheduleType_ARC</th>\n",
       "      <th>Swatch Width</th>\n",
       "      <th>Swatch Height</th>\n",
       "      <th>Values Displayed</th>\n",
       "      <th>Font</th>\n",
       "    </tr>\n",
       "  </thead>\n",
       "  <tbody>\n",
       "    <tr>\n",
       "      <th>0</th>\n",
       "      <td>254</td>\n",
       "      <td>e3e052f9-0156-11d5-9301-0000863f27ad-00000017</td>\n",
       "      <td>23</td>\n",
       "      <td>Default</td>\n",
       "      <td>Revit Materials</td>\n",
       "      <td>-2000700.0</td>\n",
       "      <td></td>\n",
       "      <td></td>\n",
       "      <td>By Type</td>\n",
       "      <td></td>\n",
       "      <td>...</td>\n",
       "      <td>NaN</td>\n",
       "      <td>NaN</td>\n",
       "      <td>NaN</td>\n",
       "      <td>NaN</td>\n",
       "      <td>NaN</td>\n",
       "      <td>NaN</td>\n",
       "      <td>NaN</td>\n",
       "      <td>NaN</td>\n",
       "      <td>NaN</td>\n",
       "      <td>NaN</td>\n",
       "    </tr>\n",
       "    <tr>\n",
       "      <th>1</th>\n",
       "      <td>255</td>\n",
       "      <td>e3e052f9-0156-11d5-9301-0000863f27ad-00000018</td>\n",
       "      <td>24</td>\n",
       "      <td>Default Wall</td>\n",
       "      <td>Revit Materials</td>\n",
       "      <td>-2000700.0</td>\n",
       "      <td></td>\n",
       "      <td></td>\n",
       "      <td>By Type</td>\n",
       "      <td></td>\n",
       "      <td>...</td>\n",
       "      <td>NaN</td>\n",
       "      <td>NaN</td>\n",
       "      <td>NaN</td>\n",
       "      <td>NaN</td>\n",
       "      <td>NaN</td>\n",
       "      <td>NaN</td>\n",
       "      <td>NaN</td>\n",
       "      <td>NaN</td>\n",
       "      <td>NaN</td>\n",
       "      <td>NaN</td>\n",
       "    </tr>\n",
       "    <tr>\n",
       "      <th>2</th>\n",
       "      <td>256</td>\n",
       "      <td>e3e052f9-0156-11d5-9301-0000863f27ad-00000019</td>\n",
       "      <td>25</td>\n",
       "      <td>Default Roof</td>\n",
       "      <td>Revit Materials</td>\n",
       "      <td>-2000700.0</td>\n",
       "      <td></td>\n",
       "      <td></td>\n",
       "      <td>By Type</td>\n",
       "      <td></td>\n",
       "      <td>...</td>\n",
       "      <td>NaN</td>\n",
       "      <td>NaN</td>\n",
       "      <td>NaN</td>\n",
       "      <td>NaN</td>\n",
       "      <td>NaN</td>\n",
       "      <td>NaN</td>\n",
       "      <td>NaN</td>\n",
       "      <td>NaN</td>\n",
       "      <td>NaN</td>\n",
       "      <td>NaN</td>\n",
       "    </tr>\n",
       "    <tr>\n",
       "      <th>3</th>\n",
       "      <td>257</td>\n",
       "      <td>e3e052f9-0156-11d5-9301-0000863f27ad-0000001a</td>\n",
       "      <td>26</td>\n",
       "      <td>Glass</td>\n",
       "      <td>Revit Materials</td>\n",
       "      <td>-2000700.0</td>\n",
       "      <td></td>\n",
       "      <td></td>\n",
       "      <td>By Type</td>\n",
       "      <td></td>\n",
       "      <td>...</td>\n",
       "      <td>NaN</td>\n",
       "      <td>NaN</td>\n",
       "      <td>NaN</td>\n",
       "      <td>NaN</td>\n",
       "      <td>NaN</td>\n",
       "      <td>NaN</td>\n",
       "      <td>NaN</td>\n",
       "      <td>NaN</td>\n",
       "      <td>NaN</td>\n",
       "      <td>NaN</td>\n",
       "    </tr>\n",
       "    <tr>\n",
       "      <th>4</th>\n",
       "      <td>258</td>\n",
       "      <td>e3e052f9-0156-11d5-9301-0000863f27ad-0000001d</td>\n",
       "      <td>29</td>\n",
       "      <td>Phase - Temporary</td>\n",
       "      <td>Revit Materials</td>\n",
       "      <td>-2000700.0</td>\n",
       "      <td></td>\n",
       "      <td></td>\n",
       "      <td>By Type</td>\n",
       "      <td></td>\n",
       "      <td>...</td>\n",
       "      <td>NaN</td>\n",
       "      <td>NaN</td>\n",
       "      <td>NaN</td>\n",
       "      <td>NaN</td>\n",
       "      <td>NaN</td>\n",
       "      <td>NaN</td>\n",
       "      <td>NaN</td>\n",
       "      <td>NaN</td>\n",
       "      <td>NaN</td>\n",
       "      <td>NaN</td>\n",
       "    </tr>\n",
       "  </tbody>\n",
       "</table>\n",
       "<p>5 rows × 1464 columns</p>\n",
       "</div>"
      ],
      "text/plain": [
       "   dbId                                    external_id ElementId  \\\n",
       "0   254  e3e052f9-0156-11d5-9301-0000863f27ad-00000017        23   \n",
       "1   255  e3e052f9-0156-11d5-9301-0000863f27ad-00000018        24   \n",
       "2   256  e3e052f9-0156-11d5-9301-0000863f27ad-00000019        25   \n",
       "3   257  e3e052f9-0156-11d5-9301-0000863f27ad-0000001a        26   \n",
       "4   258  e3e052f9-0156-11d5-9301-0000863f27ad-0000001d        29   \n",
       "\n",
       "                Name         Category  CategoryId Image Keynote Export to IFC  \\\n",
       "0            Default  Revit Materials  -2000700.0                     By Type   \n",
       "1       Default Wall  Revit Materials  -2000700.0                     By Type   \n",
       "2       Default Roof  Revit Materials  -2000700.0                     By Type   \n",
       "3              Glass  Revit Materials  -2000700.0                     By Type   \n",
       "4  Phase - Temporary  Revit Materials  -2000700.0                     By Type   \n",
       "\n",
       "  Export to IFC As  ... Filter Sorting/Grouping Formatting Appearance  \\\n",
       "0                   ...    NaN              NaN        NaN        NaN   \n",
       "1                   ...    NaN              NaN        NaN        NaN   \n",
       "2                   ...    NaN              NaN        NaN        NaN   \n",
       "3                   ...    NaN              NaN        NaN        NaN   \n",
       "4                   ...    NaN              NaN        NaN        NaN   \n",
       "\n",
       "  Embedded Schedule ScheduleType_ARC Swatch Width  Swatch Height  \\\n",
       "0               NaN              NaN          NaN            NaN   \n",
       "1               NaN              NaN          NaN            NaN   \n",
       "2               NaN              NaN          NaN            NaN   \n",
       "3               NaN              NaN          NaN            NaN   \n",
       "4               NaN              NaN          NaN            NaN   \n",
       "\n",
       "  Values Displayed  Font  \n",
       "0              NaN   NaN  \n",
       "1              NaN   NaN  \n",
       "2              NaN   NaN  \n",
       "3              NaN   NaN  \n",
       "4              NaN   NaN  \n",
       "\n",
       "[5 rows x 1464 columns]"
      ]
     },
     "execution_count": 16,
     "metadata": {},
     "output_type": "execute_result"
    }
   ],
   "source": [
    "df =prop_reader.get_all_data()\n",
    "df.head()"
   ]
  },
  {
   "cell_type": "code",
   "execution_count": 17,
   "metadata": {},
   "outputs": [],
   "source": [
    "dir = \"./output\"\n",
    "import os\n",
    "if not os.path.exists(dir):\n",
    "    os.makedirs(dir)\n",
    "file_path = os.path.join(dir, \"Model.parquet\")\n",
    "df.astype(str).to_parquet(file_path, index=False)"
   ]
  },
  {
   "cell_type": "code",
   "execution_count": 18,
   "metadata": {},
   "outputs": [
    {
     "data": {
      "text/html": [
       "<div>\n",
       "<style scoped>\n",
       "    .dataframe tbody tr th:only-of-type {\n",
       "        vertical-align: middle;\n",
       "    }\n",
       "\n",
       "    .dataframe tbody tr th {\n",
       "        vertical-align: top;\n",
       "    }\n",
       "\n",
       "    .dataframe thead th {\n",
       "        text-align: right;\n",
       "    }\n",
       "</style>\n",
       "<table border=\"1\" class=\"dataframe\">\n",
       "  <thead>\n",
       "    <tr style=\"text-align: right;\">\n",
       "      <th></th>\n",
       "      <th>dbId</th>\n",
       "      <th>external_id</th>\n",
       "      <th>ElementId</th>\n",
       "      <th>Name</th>\n",
       "      <th>Category</th>\n",
       "      <th>CategoryId</th>\n",
       "      <th>Image</th>\n",
       "      <th>Keynote</th>\n",
       "      <th>Export to IFC</th>\n",
       "      <th>Export to IFC As</th>\n",
       "      <th>...</th>\n",
       "      <th>Filter</th>\n",
       "      <th>Sorting/Grouping</th>\n",
       "      <th>Formatting</th>\n",
       "      <th>Appearance</th>\n",
       "      <th>Embedded Schedule</th>\n",
       "      <th>ScheduleType_ARC</th>\n",
       "      <th>Swatch Width</th>\n",
       "      <th>Swatch Height</th>\n",
       "      <th>Values Displayed</th>\n",
       "      <th>Font</th>\n",
       "    </tr>\n",
       "  </thead>\n",
       "  <tbody>\n",
       "    <tr>\n",
       "      <th>0</th>\n",
       "      <td>254</td>\n",
       "      <td>e3e052f9-0156-11d5-9301-0000863f27ad-00000017</td>\n",
       "      <td>23</td>\n",
       "      <td>Default</td>\n",
       "      <td>Revit Materials</td>\n",
       "      <td>-2000700.0</td>\n",
       "      <td></td>\n",
       "      <td></td>\n",
       "      <td>By Type</td>\n",
       "      <td></td>\n",
       "      <td>...</td>\n",
       "      <td>nan</td>\n",
       "      <td>nan</td>\n",
       "      <td>nan</td>\n",
       "      <td>nan</td>\n",
       "      <td>nan</td>\n",
       "      <td>nan</td>\n",
       "      <td>nan</td>\n",
       "      <td>nan</td>\n",
       "      <td>nan</td>\n",
       "      <td>nan</td>\n",
       "    </tr>\n",
       "    <tr>\n",
       "      <th>1</th>\n",
       "      <td>255</td>\n",
       "      <td>e3e052f9-0156-11d5-9301-0000863f27ad-00000018</td>\n",
       "      <td>24</td>\n",
       "      <td>Default Wall</td>\n",
       "      <td>Revit Materials</td>\n",
       "      <td>-2000700.0</td>\n",
       "      <td></td>\n",
       "      <td></td>\n",
       "      <td>By Type</td>\n",
       "      <td></td>\n",
       "      <td>...</td>\n",
       "      <td>nan</td>\n",
       "      <td>nan</td>\n",
       "      <td>nan</td>\n",
       "      <td>nan</td>\n",
       "      <td>nan</td>\n",
       "      <td>nan</td>\n",
       "      <td>nan</td>\n",
       "      <td>nan</td>\n",
       "      <td>nan</td>\n",
       "      <td>nan</td>\n",
       "    </tr>\n",
       "    <tr>\n",
       "      <th>2</th>\n",
       "      <td>256</td>\n",
       "      <td>e3e052f9-0156-11d5-9301-0000863f27ad-00000019</td>\n",
       "      <td>25</td>\n",
       "      <td>Default Roof</td>\n",
       "      <td>Revit Materials</td>\n",
       "      <td>-2000700.0</td>\n",
       "      <td></td>\n",
       "      <td></td>\n",
       "      <td>By Type</td>\n",
       "      <td></td>\n",
       "      <td>...</td>\n",
       "      <td>nan</td>\n",
       "      <td>nan</td>\n",
       "      <td>nan</td>\n",
       "      <td>nan</td>\n",
       "      <td>nan</td>\n",
       "      <td>nan</td>\n",
       "      <td>nan</td>\n",
       "      <td>nan</td>\n",
       "      <td>nan</td>\n",
       "      <td>nan</td>\n",
       "    </tr>\n",
       "    <tr>\n",
       "      <th>3</th>\n",
       "      <td>257</td>\n",
       "      <td>e3e052f9-0156-11d5-9301-0000863f27ad-0000001a</td>\n",
       "      <td>26</td>\n",
       "      <td>Glass</td>\n",
       "      <td>Revit Materials</td>\n",
       "      <td>-2000700.0</td>\n",
       "      <td></td>\n",
       "      <td></td>\n",
       "      <td>By Type</td>\n",
       "      <td></td>\n",
       "      <td>...</td>\n",
       "      <td>nan</td>\n",
       "      <td>nan</td>\n",
       "      <td>nan</td>\n",
       "      <td>nan</td>\n",
       "      <td>nan</td>\n",
       "      <td>nan</td>\n",
       "      <td>nan</td>\n",
       "      <td>nan</td>\n",
       "      <td>nan</td>\n",
       "      <td>nan</td>\n",
       "    </tr>\n",
       "    <tr>\n",
       "      <th>4</th>\n",
       "      <td>258</td>\n",
       "      <td>e3e052f9-0156-11d5-9301-0000863f27ad-0000001d</td>\n",
       "      <td>29</td>\n",
       "      <td>Phase - Temporary</td>\n",
       "      <td>Revit Materials</td>\n",
       "      <td>-2000700.0</td>\n",
       "      <td></td>\n",
       "      <td></td>\n",
       "      <td>By Type</td>\n",
       "      <td></td>\n",
       "      <td>...</td>\n",
       "      <td>nan</td>\n",
       "      <td>nan</td>\n",
       "      <td>nan</td>\n",
       "      <td>nan</td>\n",
       "      <td>nan</td>\n",
       "      <td>nan</td>\n",
       "      <td>nan</td>\n",
       "      <td>nan</td>\n",
       "      <td>nan</td>\n",
       "      <td>nan</td>\n",
       "    </tr>\n",
       "  </tbody>\n",
       "</table>\n",
       "<p>5 rows × 1464 columns</p>\n",
       "</div>"
      ],
      "text/plain": [
       "  dbId                                    external_id ElementId  \\\n",
       "0  254  e3e052f9-0156-11d5-9301-0000863f27ad-00000017        23   \n",
       "1  255  e3e052f9-0156-11d5-9301-0000863f27ad-00000018        24   \n",
       "2  256  e3e052f9-0156-11d5-9301-0000863f27ad-00000019        25   \n",
       "3  257  e3e052f9-0156-11d5-9301-0000863f27ad-0000001a        26   \n",
       "4  258  e3e052f9-0156-11d5-9301-0000863f27ad-0000001d        29   \n",
       "\n",
       "                Name         Category  CategoryId Image Keynote Export to IFC  \\\n",
       "0            Default  Revit Materials  -2000700.0                     By Type   \n",
       "1       Default Wall  Revit Materials  -2000700.0                     By Type   \n",
       "2       Default Roof  Revit Materials  -2000700.0                     By Type   \n",
       "3              Glass  Revit Materials  -2000700.0                     By Type   \n",
       "4  Phase - Temporary  Revit Materials  -2000700.0                     By Type   \n",
       "\n",
       "  Export to IFC As  ... Filter Sorting/Grouping Formatting Appearance  \\\n",
       "0                   ...    nan              nan        nan        nan   \n",
       "1                   ...    nan              nan        nan        nan   \n",
       "2                   ...    nan              nan        nan        nan   \n",
       "3                   ...    nan              nan        nan        nan   \n",
       "4                   ...    nan              nan        nan        nan   \n",
       "\n",
       "  Embedded Schedule ScheduleType_ARC Swatch Width Swatch Height  \\\n",
       "0               nan              nan          nan           nan   \n",
       "1               nan              nan          nan           nan   \n",
       "2               nan              nan          nan           nan   \n",
       "3               nan              nan          nan           nan   \n",
       "4               nan              nan          nan           nan   \n",
       "\n",
       "  Values Displayed Font  \n",
       "0              nan  nan  \n",
       "1              nan  nan  \n",
       "2              nan  nan  \n",
       "3              nan  nan  \n",
       "4              nan  nan  \n",
       "\n",
       "[5 rows x 1464 columns]"
      ]
     },
     "execution_count": 18,
     "metadata": {},
     "output_type": "execute_result"
    }
   ],
   "source": [
    "# read parquet file\n",
    "df = pd.read_parquet(file_path)\n",
    "df.head()"
   ]
  },
  {
   "cell_type": "code",
   "execution_count": 42,
   "metadata": {},
   "outputs": [],
   "source": [
    "# clear data null\n",
    "df = df.dropna()"
   ]
  },
  {
   "cell_type": "markdown",
   "metadata": {},
   "source": [
    "## Review Categories"
   ]
  },
  {
   "cell_type": "code",
   "execution_count": 19,
   "metadata": {},
   "outputs": [
    {
     "data": {
      "text/plain": [
       "array(['Revit Materials', 'Revit Primary Contours', 'Revit Area Schemes',\n",
       "       'Revit Phases', 'Revit Shared Site', 'Revit Work Plane Grid',\n",
       "       'Revit Project Information', 'Revit Structural Load Cases',\n",
       "       'Revit Sun Path', 'Revit Internal Origin',\n",
       "       'Revit Color Fill Schema', 'Revit HVAC Zones',\n",
       "       'Revit HVAC Load Schedules', 'Revit Building Type Settings',\n",
       "       'Revit Space Type Settings', 'Revit Survey Point',\n",
       "       'Revit Project Base Point',\n",
       "       'Revit Electrical Demand Factor Definitions',\n",
       "       'Revit Electrical Load Classifications',\n",
       "       'Revit Panel Schedule Templates - Branch Panel',\n",
       "       'Revit Panel Schedule Templates - Data Panel',\n",
       "       'Revit Panel Schedule Templates - Switchboard',\n",
       "       'Revit Electrical Load Classification Parameter Element',\n",
       "       'Revit Pipe Segments', 'Revit Material Assets',\n",
       "       'Revit Legend Components', 'Revit Views', 'Revit Text Notes',\n",
       "       'Revit Lines', 'Revit Detail Items', 'Revit <Sketch>',\n",
       "       'Revit Automatic Sketch Dimensions', 'Revit Constraints',\n",
       "       'Revit Dimensions', 'Revit Generic Annotations',\n",
       "       'Revit Revision Numbering Sequences', 'Revit Areas',\n",
       "       'Revit <Area Boundary>', 'Revit Guide Grid', 'Revit Title Blocks',\n",
       "       'Revit Elevations', 'Revit Viewports', 'Revit RVT Links',\n",
       "       'Revit Grids', 'Revit Spot Elevations', 'Revit Cameras',\n",
       "       'Revit Section Boxes', 'Revit Walls', 'Revit Curtain Panels',\n",
       "       'Revit Curtain Wall Mullions', 'Revit Doors',\n",
       "       'Revit Plumbing Fixtures', 'n/a', 'Revit Specialty Equipment',\n",
       "       'Revit Furniture', 'Revit Casework', 'Revit Ceilings',\n",
       "       'Revit Rooms', 'Revit Stairs', 'Revit Runs', 'Revit Supports',\n",
       "       'Revit Railings', 'Revit Top Rails', 'Revit Reference Planes',\n",
       "       'Revit Railing Rail Path Extension Lines', 'Revit Landings',\n",
       "       'Revit <Stair/Ramp Sketch: Boundary>', 'Revit Balusters',\n",
       "       'Revit <Room Separation>', 'Revit Room Tags', 'Revit Wall Sweeps',\n",
       "       'Revit Roofs', 'Revit Windows', 'Revit Floors',\n",
       "       'Revit Stair Paths', 'Revit Generic Models',\n",
       "       'Revit <Stair/Ramp Sketch: Stair Path>',\n",
       "       'Revit Curtain Wall Grids', 'Revit Matchline', 'Revit Revision',\n",
       "       'Revit Revision Clouds', 'Revit Schedules', 'Revit ',\n",
       "       'Revit Shaft Openings', 'Revit Color Fill Legends',\n",
       "       'Revit Schedule Graphics'], dtype=object)"
      ]
     },
     "execution_count": 19,
     "metadata": {},
     "output_type": "execute_result"
    }
   ],
   "source": [
    "# get all categories by df.Category\n",
    "df.Category.unique()\n"
   ]
  },
  {
   "cell_type": "markdown",
   "metadata": {},
   "source": [
    "## Review Elements "
   ]
  },
  {
   "cell_type": "code",
   "execution_count": 43,
   "metadata": {},
   "outputs": [
    {
     "data": {
      "text/plain": [
       "18355"
      ]
     },
     "execution_count": 43,
     "metadata": {},
     "output_type": "execute_result"
    }
   ],
   "source": [
    "# how many elements\n",
    "df.ElementId.count()"
   ]
  },
  {
   "cell_type": "code",
   "execution_count": 44,
   "metadata": {},
   "outputs": [
    {
     "data": {
      "text/plain": [
       "ElementId\n",
       "23         1\n",
       "6362799    1\n",
       "6362821    1\n",
       "6362820    1\n",
       "6362819    1\n",
       "          ..\n",
       "6367336    1\n",
       "5929880    1\n",
       "6060120    1\n",
       "6060128    1\n",
       "6386022    1\n",
       "Name: count, Length: 18355, dtype: int64"
      ]
     },
     "execution_count": 44,
     "metadata": {},
     "output_type": "execute_result"
    }
   ],
   "source": [
    "df.ElementId.value_counts()"
   ]
  },
  {
   "cell_type": "code",
   "execution_count": 45,
   "metadata": {},
   "outputs": [
    {
     "data": {
      "text/plain": [
       "Category\n",
       "Revit <Sketch>                                  4043\n",
       "Revit Lines                                     3603\n",
       "Revit Automatic Sketch Dimensions               2215\n",
       "Revit Room Tags                                  696\n",
       "Revit Rooms                                      691\n",
       "                                                ... \n",
       "Revit HVAC Zones                                   1\n",
       "Revit Panel Schedule Templates - Switchboard       1\n",
       "Revit Project Base Point                           1\n",
       "Revit Project Information                          1\n",
       "Revit Panel Schedule Templates - Data Panel        1\n",
       "Name: ElementId, Length: 86, dtype: int64"
      ]
     },
     "execution_count": 45,
     "metadata": {},
     "output_type": "execute_result"
    }
   ],
   "source": [
    "# see how many ElementId group by Category\n",
    "df_category_group = df.groupby('Category').ElementId.count()\n",
    "# sort by value count \n",
    "df_category_group = df_category_group.sort_values(ascending=False)\n",
    "df_category_group"
   ]
  },
  {
   "cell_type": "code",
   "execution_count": 46,
   "metadata": {},
   "outputs": [
    {
     "data": {
      "text/plain": [
       "Category\n",
       "Revit <Sketch>                             4043\n",
       "Revit Lines                                3603\n",
       "Revit Automatic Sketch Dimensions          2215\n",
       "Revit Room Tags                             696\n",
       "Revit Rooms                                 691\n",
       "Revit Text Notes                            594\n",
       "Revit Railing Rail Path Extension Lines     537\n",
       "Revit Materials                             518\n",
       "Revit Reference Planes                      491\n",
       "Revit Legend Components                     429\n",
       "Revit Detail Items                          413\n",
       "Revit <Room Separation>                     345\n",
       "Revit Walls                                 289\n",
       "Revit <Area Boundary>                       275\n",
       "Revit <Stair/Ramp Sketch: Boundary>         274\n",
       "Revit Dimensions                            203\n",
       "Revit Balusters                             194\n",
       "Revit Spot Elevations                       182\n",
       "Revit Sun Path                              172\n",
       "Revit Doors                                 145\n",
       "Revit Ceilings                              141\n",
       "Revit Railings                              136\n",
       "Revit Top Rails                             135\n",
       "Revit Space Type Settings                   125\n",
       "Revit Constraints                           117\n",
       "Name: ElementId, dtype: int64"
      ]
     },
     "execution_count": 46,
     "metadata": {},
     "output_type": "execute_result"
    }
   ],
   "source": [
    "# remove all df_category_group have values <=1\n",
    "df_category_group = df_category_group[df_category_group > 100]\n",
    "df_category_group"
   ]
  },
  {
   "cell_type": "code",
   "execution_count": 38,
   "metadata": {},
   "outputs": [
    {
     "data": {
      "image/png": "[encoded data removed]",
      "text/plain": [
       "<Figure size 1500x500 with 1 Axes>"
      ]
     },
     "metadata": {},
     "output_type": "display_data"
    }
   ],
   "source": [
    "# Visualize the result\n",
    "import matplotlib.pyplot as plt\n",
    "import seaborn as sns\n",
    "plt.figure(figsize=(15, 5))\n",
    "sns.barplot(x=df_category_group.index, y=df_category_group.values)\n",
    "plt.xticks(rotation=90)\n",
    "plt.title('Number of Elements by Category')\n",
    "plt.xlabel('Category')\n",
    "plt.ylabel('Number of Elements')\n",
    "plt.show()"
   ]
  },
  {
   "cell_type": "markdown",
   "metadata": {},
   "source": [
    "Issues with model\n",
    "- 2D sketech"
   ]
  },
  {
   "cell_type": "code",
   "execution_count": 47,
   "metadata": {},
   "outputs": [
    {
     "data": {
      "text/plain": [
       "array(['Revit <Sketch>', 'Revit <Area Boundary>',\n",
       "       'Revit <Stair/Ramp Sketch: Boundary>', 'Revit <Room Separation>',\n",
       "       'Revit <Stair/Ramp Sketch: Stair Path>'], dtype=object)"
      ]
     },
     "execution_count": 47,
     "metadata": {},
     "output_type": "execute_result"
    }
   ],
   "source": [
    "# see all Category have < and < inside string \n",
    "df[df.Category.str.contains('<')].Category.unique()"
   ]
  }
 ],
 "metadata": {
  "kernelspec": {
   "display_name": "Python 3",
   "language": "python",
   "name": "python3"
  },
  "language_info": {
   "codemirror_mode": {
    "name": "ipython",
    "version": 3
   },
   "file_extension": ".py",
   "mimetype": "text/x-python",
   "name": "python",
   "nbconvert_exporter": "python",
   "pygments_lexer": "ipython3",
   "version": "3.11.5"
  },
  "polyglot_notebook": {
   "kernelInfo": {
    "defaultKernelName": "csharp",
    "items": [
     {
      "aliases": [],
      "name": "csharp"
     }
    ]
   }
  }
 },
 "nbformat": 4,
 "nbformat_minor": 2
}
