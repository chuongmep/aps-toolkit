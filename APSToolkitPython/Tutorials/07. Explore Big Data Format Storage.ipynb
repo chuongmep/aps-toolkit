{
 "cells": [
  {
   "cell_type": "markdown",
   "metadata": {},
   "source": [
    "<table align=\"left\">\n",
    "  <td style=\"text-align: center\">\n",
    "    <a href=\"https://colab.research.google.com/github/chuongmep/aps-toolkit/blob/dev/APSToolkitPython/Tutorials/07.%20Explore%20Big%20Data%20Format%20Storage.ipynb\">\n",
    "      <img src=\"https://cloud.google.com/ml-engine/images/colab-logo-32px.png\" alt=\"Google Colaboratory logo\"><br> Run in Colab\n",
    "    </a>\n",
    "  </td>\n",
    "  <td style=\"text-align: center\">\n",
    "    <a href=\"https://github.com/chuongmep/aps-toolkit/blob/dev/APSToolkitPython/Tutorials/07.%20Explore%20Big%20Data%20Format%20Storage.ipynb\">\n",
    "      <img src=\"https://cloud.google.com/ml-engine/images/github-logo-32px.png\" alt=\"GitHub logo\"><br> View on GitHub\n",
    "    </a>\n",
    "  </td>\n",
    "</table>"
   ]
  },
  {
   "cell_type": "markdown",
   "metadata": {},
   "source": [
    "<table align=\"left\">\n",
    "  <tr>\n",
    "    <td>Author(s)</td>\n",
    "    <td><a href=\"https://github.com/chuongmep\" id=\"author-link\">Chuong Ho</a></td>\n",
    "    <!-- <td><a href=\"<your repo>\" id=\"github-link\">YourName</a></td> -->\n",
    "  </tr>\n",
    "</table>"
   ]
  },
  {
   "cell_type": "code",
   "execution_count": 1,
   "metadata": {
    "dotnet_interactive": {
     "language": "csharp"
    },
    "polyglot_notebook": {
     "kernelName": "csharp"
    }
   },
   "source": [
    "%pip install aps-toolkit --upgrade"
   ],
   "outputs": []
  },
  {
   "cell_type": "code",
   "execution_count": 1,
   "metadata": {
    "ExecuteTime": {
     "end_time": "2024-03-02T14:12:22.214171Z",
     "start_time": "2024-03-02T14:12:22.211115Z"
    }
   },
   "source": [
    "from aps_toolkit import Auth\n",
    "import pandas as pd"
   ],
   "outputs": []
  },
  {
   "cell_type": "code",
   "execution_count": 2,
   "metadata": {
    "ExecuteTime": {
     "end_time": "2024-03-02T14:12:23.004384Z",
     "start_time": "2024-03-02T14:12:22.215209Z"
    }
   },
   "source": [
    "token = Auth().auth2leg()"
   ],
   "outputs": []
  },
  {
   "cell_type": "markdown",
   "metadata": {},
   "source": [
    "#### Auth Via Google Colab"
   ]
  },
  {
   "cell_type": "code",
   "execution_count": null,
   "metadata": {},
   "source": [
    "# from google.colab import userdata\n",
    "# client_id = userdata.get('APS_CLIENT_ID')\n",
    "# client_secret = userdata.get('APS_CLIENT_SECRET')\n",
    "# auth = Auth(client_id, client_secret)\n",
    "# token = auth.auth2leg()"
   ],
   "outputs": []
  },
  {
   "cell_type": "code",
   "execution_count": 3,
   "metadata": {
    "ExecuteTime": {
     "end_time": "2024-03-02T14:12:23.009480Z",
     "start_time": "2024-03-02T14:12:23.005633Z"
    }
   },
   "source": [
    "urn = \"urn:adsk.wipprod:dm.lineage:j2R5fwxfTJq9DOsvX1p9ZQ\""
   ],
   "outputs": []
  },
  {
   "cell_type": "code",
   "execution_count": 15,
   "metadata": {
    "ExecuteTime": {
     "end_time": "2024-03-02T14:12:31.994676Z",
     "start_time": "2024-03-02T14:12:23.010491Z"
    }
   },
   "source": [
    "from aps_toolkit import PropDbReaderRevit\n",
    "prop_reader = PropDbReaderRevit(urn, token)"
   ],
   "outputs": []
  },
  {
   "cell_type": "code",
   "execution_count": 16,
   "metadata": {},
   "source": [
    "df =prop_reader.get_all_data()\n",
    "df.head()"
   ],
   "outputs": []
  },
  {
   "cell_type": "code",
   "execution_count": 17,
   "metadata": {},
   "source": [
    "dir = \"./output\"\n",
    "import os\n",
    "if not os.path.exists(dir):\n",
    "    os.makedirs(dir)\n",
    "file_path = os.path.join(dir, \"Model.parquet\")\n",
    "df.astype(str).to_parquet(file_path, index=False)"
   ],
   "outputs": []
  },
  {
   "cell_type": "code",
   "execution_count": 18,
   "metadata": {},
   "source": [
    "# read parquet file\n",
    "df = pd.read_parquet(file_path)\n",
    "df.head()"
   ],
   "outputs": []
  },
  {
   "cell_type": "code",
   "execution_count": 42,
   "metadata": {},
   "source": [
    "# clear data null\n",
    "df = df.dropna()"
   ],
   "outputs": []
  },
  {
   "cell_type": "markdown",
   "metadata": {},
   "source": [
    "## Review Categories"
   ]
  },
  {
   "cell_type": "code",
   "execution_count": 19,
   "metadata": {},
   "source": [
    "# get all categories by df.Category\n",
    "df.Category.unique()\n"
   ],
   "outputs": []
  },
  {
   "cell_type": "markdown",
   "metadata": {},
   "source": [
    "## Review Elements "
   ]
  },
  {
   "cell_type": "code",
   "execution_count": 43,
   "metadata": {},
   "source": [
    "# how many elements\n",
    "df.ElementId.count()"
   ],
   "outputs": []
  },
  {
   "cell_type": "code",
   "execution_count": 44,
   "metadata": {},
   "source": [
    "df.ElementId.value_counts()"
   ],
   "outputs": []
  },
  {
   "cell_type": "code",
   "execution_count": 45,
   "metadata": {},
   "source": [
    "# see how many ElementId group by Category\n",
    "df_category_group = df.groupby('Category').ElementId.count()\n",
    "# sort by value count \n",
    "df_category_group = df_category_group.sort_values(ascending=False)\n",
    "df_category_group"
   ],
   "outputs": []
  },
  {
   "cell_type": "code",
   "execution_count": 46,
   "metadata": {},
   "source": [
    "# remove all df_category_group have values <=1\n",
    "df_category_group = df_category_group[df_category_group > 100]\n",
    "df_category_group"
   ],
   "outputs": []
  },
  {
   "cell_type": "code",
   "execution_count": 38,
   "metadata": {},
   "source": [
    "# Visualize the result\n",
    "import matplotlib.pyplot as plt\n",
    "import seaborn as sns\n",
    "plt.figure(figsize=(15, 5))\n",
    "sns.barplot(x=df_category_group.index, y=df_category_group.values)\n",
    "plt.xticks(rotation=90)\n",
    "plt.title('Number of Elements by Category')\n",
    "plt.xlabel('Category')\n",
    "plt.ylabel('Number of Elements')\n",
    "plt.show()"
   ],
   "outputs": []
  },
  {
   "cell_type": "markdown",
   "metadata": {},
   "source": [
    "Issues with model\n",
    "- 2D sketech"
   ]
  },
  {
   "cell_type": "code",
   "execution_count": 47,
   "metadata": {},
   "source": [
    "# see all Category have < and < inside string \n",
    "df[df.Category.str.contains('<')].Category.unique()"
   ],
   "outputs": []
  }
 ],
 "metadata": {
  "kernelspec": {
   "display_name": "Python 3",
   "language": "python",
   "name": "python3"
  },
  "language_info": {
   "codemirror_mode": {
    "name": "ipython",
    "version": 3
   },
   "file_extension": ".py",
   "mimetype": "text/x-python",
   "name": "python",
   "nbconvert_exporter": "python",
   "pygments_lexer": "ipython3",
   "version": "3.11.5"
  },
  "polyglot_notebook": {
   "kernelInfo": {
    "defaultKernelName": "csharp",
    "items": [
     {
      "aliases": [],
      "name": "csharp"
     }
    ]
   }
  }
 },
 "nbformat": 4,
 "nbformat_minor": 2
}
