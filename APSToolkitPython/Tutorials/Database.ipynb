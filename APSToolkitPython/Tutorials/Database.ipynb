{
 "cells": [
  {
   "cell_type": "markdown",
   "source": [
    "### Import Libraries"
   ],
   "metadata": {
    "collapsed": false
   },
   "id": "de0c8639190166b7"
  },
  {
   "cell_type": "code",
   "execution_count": 32,
   "id": "initial_id",
   "metadata": {
    "collapsed": true,
    "ExecuteTime": {
     "end_time": "2024-03-02T14:31:53.973940Z",
     "start_time": "2024-03-02T14:31:53.971156Z"
    }
   },
   "outputs": [],
   "source": [
    "from aps_toolkit import Auth\n",
    "import requests\n",
    "import os"
   ]
  },
  {
   "cell_type": "markdown",
   "source": [
    "### Get Token"
   ],
   "metadata": {
    "collapsed": false
   },
   "id": "549de94cdad13ee1"
  },
  {
   "cell_type": "code",
   "outputs": [],
   "source": [
    "auth = Auth()"
   ],
   "metadata": {
    "collapsed": false,
    "ExecuteTime": {
     "end_time": "2024-03-02T14:22:56.696350Z",
     "start_time": "2024-03-02T14:22:56.692355Z"
    }
   },
   "id": "e7d5a2df2f392ea6",
   "execution_count": 2
  },
  {
   "cell_type": "code",
   "outputs": [],
   "source": [
    "token = auth.auth2leg()"
   ],
   "metadata": {
    "collapsed": false,
    "ExecuteTime": {
     "end_time": "2024-03-02T14:25:39.732427Z",
     "start_time": "2024-03-02T14:25:38.645891Z"
    }
   },
   "id": "b0db094fe5b7ce6e",
   "execution_count": 12
  },
  {
   "cell_type": "code",
   "outputs": [],
   "source": [
    "URN = \"dXJuOmFkc2sud2lwcHJvZDpmcy5maWxlOnZmLnRfTFFVUDZoU3l5UXo5bm1sTE1FUHc_dmVyc2lvbj02\""
   ],
   "metadata": {
    "collapsed": false,
    "ExecuteTime": {
     "end_time": "2024-03-02T14:25:41.844705Z",
     "start_time": "2024-03-02T14:25:41.841322Z"
    }
   },
   "id": "133e280cdbb150c4",
   "execution_count": 13
  },
  {
   "cell_type": "markdown",
   "source": [
    "### Get Metadata"
   ],
   "metadata": {
    "collapsed": false
   },
   "id": "dbd89dbeeaedfb4b"
  },
  {
   "cell_type": "code",
   "outputs": [],
   "source": [
    "# get manifest \n",
    "URL = f\"https://developer.api.autodesk.com/modelderivative/v2/designdata/{URN}/manifest\"\n",
    "# add headers authorization\n",
    "headers = {\n",
    "    \"Authorization\": f\"Bearer {token.access_token}\"\n",
    "}\n",
    "# request\n",
    "response = requests.get(URL, headers=headers)\n",
    "json_respone = response.json()"
   ],
   "metadata": {
    "collapsed": false,
    "ExecuteTime": {
     "end_time": "2024-03-02T14:25:56.774620Z",
     "start_time": "2024-03-02T14:25:55.745770Z"
    }
   },
   "id": "a62986e6f81d81e9",
   "execution_count": 16
  },
  {
   "cell_type": "code",
   "outputs": [
    {
     "name": "stdout",
     "output_type": "stream",
     "text": [
      "urn:adsk.viewing:fs.file:dXJuOmFkc2sud2lwcHJvZDpmcy5maWxlOnZmLnRfTFFVUDZoU3l5UXo5bm1sTE1FUHc_dmVyc2lvbj02/output/Resource/model.sdb\n",
      "URL:  https://developer.api.autodesk.com/modelderivative/v2/designdata/dXJuOmFkc2sud2lwcHJvZDpmcy5maWxlOnZmLnRfTFFVUDZoU3l5UXo5bm1sTE1FUHc_dmVyc2lvbj02/manifest/urn:adsk.viewing:fs.file:dXJuOmFkc2sud2lwcHJvZDpmcy5maWxlOnZmLnRfTFFVUDZoU3l5UXo5bm1sTE1FUHc_dmVyc2lvbj02/output/Resource/model.sdb\n",
      "Downloaded file result.db\n"
     ]
    }
   ],
   "source": [
    "# filter children in json_respone have minmeType is \"application/autodesk-db\" in derivatives/children/children\n",
    "childrens = json_respone['derivatives'][0][\"children\"]\n",
    "path  = \"\"\n",
    "for child in childrens:\n",
    "    if child[\"type\"] == \"resource\" and child[\"mime\"] == \"application/autodesk-db\":\n",
    "        path = child[\"urn\"]\n",
    "        break\n",
    "print(path)\n",
    "host = \"https://developer.api.autodesk.com/\"\n",
    "# get download link\n",
    "URL = f\"{host}modelderivative/v2/designdata/{URN}/manifest/{path}\"\n",
    "print(\"URL: \", URL)\n",
    "# request\n",
    "response = requests.get(URL, headers=headers)\n",
    "# save db file\n",
    "dir = \"./output\"\n",
    "if not os.path.exists(dir):\n",
    "    os.makedirs(dir)\n",
    "with open(\"./output/result.db\", \"wb\") as f:\n",
    "    f.write(response.content)\n",
    "    f.close()\n",
    "print(\"Downloaded file result.db\")"
   ],
   "metadata": {
    "collapsed": false,
    "ExecuteTime": {
     "end_time": "2024-03-02T14:32:14.111234Z",
     "start_time": "2024-03-02T14:31:58.469687Z"
    }
   },
   "id": "a19277c1f8fb4456",
   "execution_count": 33
  },
  {
   "cell_type": "markdown",
   "source": [
    "### Read SQLite file"
   ],
   "metadata": {
    "collapsed": false
   },
   "id": "4168cab5f5eaaef9"
  },
  {
   "cell_type": "code",
   "outputs": [
    {
     "name": "stdout",
     "output_type": "stream",
     "text": [
      "_objects_id\n",
      "_objects_attr\n",
      "_objects_val\n",
      "_objects_eav\n"
     ]
    }
   ],
   "source": [
    "# read sqlite file\n",
    "import sqlite3\n",
    "db_file = \"./output/result.db\"\n",
    "try:\n",
    "    # Connect to the SQLite database\n",
    "    conn = sqlite3.connect(db_file)\n",
    "\n",
    "    # Create a cursor object to execute SQL queries\n",
    "    cursor = conn.cursor()\n",
    "    # Query the sqlite_master table to get the list of all tables\n",
    "    cursor.execute(\"SELECT name FROM sqlite_master WHERE type='table';\")\n",
    "\n",
    "    # Fetch the results\n",
    "    tables = cursor.fetchall()\n",
    "\n",
    "    # Extract table names and print them\n",
    "    for table in tables:\n",
    "        print(table[0])\n",
    "\n",
    "except sqlite3.Error as e:\n",
    "    print(f\"SQLite error: {e}\")\n",
    "finally:\n",
    "    # Close the database connection when done\n",
    "    conn.close()"
   ],
   "metadata": {
    "collapsed": false,
    "ExecuteTime": {
     "end_time": "2024-03-02T14:32:16.821111Z",
     "start_time": "2024-03-02T14:32:16.814792Z"
    }
   },
   "id": "8f635b9f05040830",
   "execution_count": 35
  },
  {
   "cell_type": "markdown",
   "source": [
    "### Object ID Reader"
   ],
   "metadata": {
    "collapsed": false
   },
   "id": "6927c5e8044a9525"
  },
  {
   "cell_type": "code",
   "outputs": [
    {
     "data": {
      "text/plain": "    id                                    external_id viewable_id\n0    1       doc_d14ee89f-34c9-4d58-ae27-c584f63353df        None\n1    2  53c5330a-0a78-42d6-8dc2-cd7dde1d46b9-001522f7        None\n2    3  53c5330a-0a78-42d6-8dc2-cd7dde1d46b9-001522f8        None\n3    4  53c5330a-0a78-42d6-8dc2-cd7dde1d46b9-001522f9        None\n4    5  53c5330a-0a78-42d6-8dc2-cd7dde1d46b9-001522fa        None\n5    6  53c5330a-0a78-42d6-8dc2-cd7dde1d46b9-001522fb        None\n6    7  53c5330a-0a78-42d6-8dc2-cd7dde1d46b9-001522fc        None\n7    8  f9c62406-7c50-11d5-93b8-0000863f27ad-00001fdd        None\n8    9  f9c62406-7c50-11d5-93b8-0000863f27ad-00001ff0        None\n9   10  f9c62406-7c50-11d5-93b8-0000863f27ad-0000202d        None\n10  11  627ad902-4aae-46a6-beef-a49c31eda294-000182a8        None\n11  12  429ba882-f0a0-40fa-96e6-c6e02d9fc601-00022cda        None\n12  13  ca7eea47-78b0-4362-94ea-4fc3e43a0f69-00034826        None\n13  14  9ded8e03-925a-4acd-aca5-bcf206d241dc-00088c03        None\n14  15  9ded8e03-925a-4acd-aca5-bcf206d241dc-00088c0d        None\n15  16  9ded8e03-925a-4acd-aca5-bcf206d241dc-00088c17        None\n16  17  9ded8e03-925a-4acd-aca5-bcf206d241dc-00088c21        None\n17  18  4cec1bb0-afe8-449c-99b9-3cb8e6b577d6-000a4305        None\n18  19  6412afbb-52e0-4e17-927b-ac384ad3738c-000a43ba        None\n19  20  56aa1151-e631-4e8c-aa98-1110af032061-000acd73        None",
      "text/html": "<div>\n<style scoped>\n    .dataframe tbody tr th:only-of-type {\n        vertical-align: middle;\n    }\n\n    .dataframe tbody tr th {\n        vertical-align: top;\n    }\n\n    .dataframe thead th {\n        text-align: right;\n    }\n</style>\n<table border=\"1\" class=\"dataframe\">\n  <thead>\n    <tr style=\"text-align: right;\">\n      <th></th>\n      <th>id</th>\n      <th>external_id</th>\n      <th>viewable_id</th>\n    </tr>\n  </thead>\n  <tbody>\n    <tr>\n      <th>0</th>\n      <td>1</td>\n      <td>doc_d14ee89f-34c9-4d58-ae27-c584f63353df</td>\n      <td>None</td>\n    </tr>\n    <tr>\n      <th>1</th>\n      <td>2</td>\n      <td>53c5330a-0a78-42d6-8dc2-cd7dde1d46b9-001522f7</td>\n      <td>None</td>\n    </tr>\n    <tr>\n      <th>2</th>\n      <td>3</td>\n      <td>53c5330a-0a78-42d6-8dc2-cd7dde1d46b9-001522f8</td>\n      <td>None</td>\n    </tr>\n    <tr>\n      <th>3</th>\n      <td>4</td>\n      <td>53c5330a-0a78-42d6-8dc2-cd7dde1d46b9-001522f9</td>\n      <td>None</td>\n    </tr>\n    <tr>\n      <th>4</th>\n      <td>5</td>\n      <td>53c5330a-0a78-42d6-8dc2-cd7dde1d46b9-001522fa</td>\n      <td>None</td>\n    </tr>\n    <tr>\n      <th>5</th>\n      <td>6</td>\n      <td>53c5330a-0a78-42d6-8dc2-cd7dde1d46b9-001522fb</td>\n      <td>None</td>\n    </tr>\n    <tr>\n      <th>6</th>\n      <td>7</td>\n      <td>53c5330a-0a78-42d6-8dc2-cd7dde1d46b9-001522fc</td>\n      <td>None</td>\n    </tr>\n    <tr>\n      <th>7</th>\n      <td>8</td>\n      <td>f9c62406-7c50-11d5-93b8-0000863f27ad-00001fdd</td>\n      <td>None</td>\n    </tr>\n    <tr>\n      <th>8</th>\n      <td>9</td>\n      <td>f9c62406-7c50-11d5-93b8-0000863f27ad-00001ff0</td>\n      <td>None</td>\n    </tr>\n    <tr>\n      <th>9</th>\n      <td>10</td>\n      <td>f9c62406-7c50-11d5-93b8-0000863f27ad-0000202d</td>\n      <td>None</td>\n    </tr>\n    <tr>\n      <th>10</th>\n      <td>11</td>\n      <td>627ad902-4aae-46a6-beef-a49c31eda294-000182a8</td>\n      <td>None</td>\n    </tr>\n    <tr>\n      <th>11</th>\n      <td>12</td>\n      <td>429ba882-f0a0-40fa-96e6-c6e02d9fc601-00022cda</td>\n      <td>None</td>\n    </tr>\n    <tr>\n      <th>12</th>\n      <td>13</td>\n      <td>ca7eea47-78b0-4362-94ea-4fc3e43a0f69-00034826</td>\n      <td>None</td>\n    </tr>\n    <tr>\n      <th>13</th>\n      <td>14</td>\n      <td>9ded8e03-925a-4acd-aca5-bcf206d241dc-00088c03</td>\n      <td>None</td>\n    </tr>\n    <tr>\n      <th>14</th>\n      <td>15</td>\n      <td>9ded8e03-925a-4acd-aca5-bcf206d241dc-00088c0d</td>\n      <td>None</td>\n    </tr>\n    <tr>\n      <th>15</th>\n      <td>16</td>\n      <td>9ded8e03-925a-4acd-aca5-bcf206d241dc-00088c17</td>\n      <td>None</td>\n    </tr>\n    <tr>\n      <th>16</th>\n      <td>17</td>\n      <td>9ded8e03-925a-4acd-aca5-bcf206d241dc-00088c21</td>\n      <td>None</td>\n    </tr>\n    <tr>\n      <th>17</th>\n      <td>18</td>\n      <td>4cec1bb0-afe8-449c-99b9-3cb8e6b577d6-000a4305</td>\n      <td>None</td>\n    </tr>\n    <tr>\n      <th>18</th>\n      <td>19</td>\n      <td>6412afbb-52e0-4e17-927b-ac384ad3738c-000a43ba</td>\n      <td>None</td>\n    </tr>\n    <tr>\n      <th>19</th>\n      <td>20</td>\n      <td>56aa1151-e631-4e8c-aa98-1110af032061-000acd73</td>\n      <td>None</td>\n    </tr>\n  </tbody>\n</table>\n</div>"
     },
     "execution_count": 24,
     "metadata": {},
     "output_type": "execute_result"
    }
   ],
   "source": [
    "# Read data from _objects_attr\n",
    "import pandas as pd\n",
    "# Read data from _objects_id\n",
    "conn = sqlite3.connect(db_file)\n",
    "data_objects_id = pd.read_sql_query(\"SELECT * FROM _objects_id\", conn)\n",
    "data_objects_id.head(20)"
   ],
   "metadata": {
    "collapsed": false,
    "ExecuteTime": {
     "end_time": "2024-03-02T14:26:59.721491Z",
     "start_time": "2024-03-02T14:26:59.646047Z"
    }
   },
   "id": "f2d09b85105d44fe",
   "execution_count": 24
  },
  {
   "cell_type": "markdown",
   "source": [
    "### Object Attribute Reader"
   ],
   "metadata": {
    "collapsed": false
   },
   "id": "c70da5f91fa2323"
  },
  {
   "cell_type": "code",
   "outputs": [
    {
     "data": {
      "text/plain": "    id                      name         category  data_type  \\\n0    1                      name         __name__         20   \n1    2                     child        __child__         11   \n2    3                    parent       __parent__         11   \n3    4          instanceof_objid   __instanceof__         11   \n4    5                  hastable     __hastable__         11   \n5    6               viewable_in  __viewable_in__         20   \n6    7                      xref  __externalref__         20   \n7    8           is_doc_property     __document__          1   \n8    9               schema_name     __document__         20   \n9   10            schema_version     __document__         20   \n10  11                 hyperlink    __hyperlink__         20   \n11  12                node_flags   __node_flags__          2   \n12  13                  Category     __category__         20   \n13  14         Organization Name    Identity Data         20   \n14  15  Organization Description    Identity Data         20   \n15  16             Building Name    Identity Data         20   \n16  17                    Author    Identity Data         20   \n17  18              IfcSite GUID   IFC Parameters         20   \n18  19          IfcBuilding GUID   IFC Parameters         20   \n19  20           IfcProject GUID   IFC Parameters         20   \n\n   data_type_context description              display_name  flags  \\\n0               None        None                      None      0   \n1               None        None                      None      1   \n2               None        None                      None      1   \n3               None        None                      None      1   \n4               None        None                      None      1   \n5               None        None                      None      1   \n6               None        None                      None      1   \n7               None        None                      None      3   \n8               None        None                      None      1   \n9               None        None                      None      1   \n10              None        None                      None      1   \n11              None        None                      None      1   \n12              None        None                      None      1   \n13                          None         Organization Name      0   \n14                          None  Organization Description      0   \n15                          None             Building Name      0   \n16                          None                    Author      0   \n17                          None              IfcSite GUID      0   \n18                          None          IfcBuilding GUID      0   \n19                          None           IfcProject GUID      0   \n\n    display_precision forge_parameter  \n0                   0            None  \n1                   0            None  \n2                   0            None  \n3                   0            None  \n4                   0            None  \n5                   0            None  \n6                   0            None  \n7                   0            None  \n8                   0            None  \n9                   0            None  \n10                  0            None  \n11                  0            None  \n12                  0            None  \n13                  0            None  \n14                  0            None  \n15                  0            None  \n16                  0            None  \n17                  0            None  \n18                  0            None  \n19                  0            None  ",
      "text/html": "<div>\n<style scoped>\n    .dataframe tbody tr th:only-of-type {\n        vertical-align: middle;\n    }\n\n    .dataframe tbody tr th {\n        vertical-align: top;\n    }\n\n    .dataframe thead th {\n        text-align: right;\n    }\n</style>\n<table border=\"1\" class=\"dataframe\">\n  <thead>\n    <tr style=\"text-align: right;\">\n      <th></th>\n      <th>id</th>\n      <th>name</th>\n      <th>category</th>\n      <th>data_type</th>\n      <th>data_type_context</th>\n      <th>description</th>\n      <th>display_name</th>\n      <th>flags</th>\n      <th>display_precision</th>\n      <th>forge_parameter</th>\n    </tr>\n  </thead>\n  <tbody>\n    <tr>\n      <th>0</th>\n      <td>1</td>\n      <td>name</td>\n      <td>__name__</td>\n      <td>20</td>\n      <td>None</td>\n      <td>None</td>\n      <td>None</td>\n      <td>0</td>\n      <td>0</td>\n      <td>None</td>\n    </tr>\n    <tr>\n      <th>1</th>\n      <td>2</td>\n      <td>child</td>\n      <td>__child__</td>\n      <td>11</td>\n      <td>None</td>\n      <td>None</td>\n      <td>None</td>\n      <td>1</td>\n      <td>0</td>\n      <td>None</td>\n    </tr>\n    <tr>\n      <th>2</th>\n      <td>3</td>\n      <td>parent</td>\n      <td>__parent__</td>\n      <td>11</td>\n      <td>None</td>\n      <td>None</td>\n      <td>None</td>\n      <td>1</td>\n      <td>0</td>\n      <td>None</td>\n    </tr>\n    <tr>\n      <th>3</th>\n      <td>4</td>\n      <td>instanceof_objid</td>\n      <td>__instanceof__</td>\n      <td>11</td>\n      <td>None</td>\n      <td>None</td>\n      <td>None</td>\n      <td>1</td>\n      <td>0</td>\n      <td>None</td>\n    </tr>\n    <tr>\n      <th>4</th>\n      <td>5</td>\n      <td>hastable</td>\n      <td>__hastable__</td>\n      <td>11</td>\n      <td>None</td>\n      <td>None</td>\n      <td>None</td>\n      <td>1</td>\n      <td>0</td>\n      <td>None</td>\n    </tr>\n    <tr>\n      <th>5</th>\n      <td>6</td>\n      <td>viewable_in</td>\n      <td>__viewable_in__</td>\n      <td>20</td>\n      <td>None</td>\n      <td>None</td>\n      <td>None</td>\n      <td>1</td>\n      <td>0</td>\n      <td>None</td>\n    </tr>\n    <tr>\n      <th>6</th>\n      <td>7</td>\n      <td>xref</td>\n      <td>__externalref__</td>\n      <td>20</td>\n      <td>None</td>\n      <td>None</td>\n      <td>None</td>\n      <td>1</td>\n      <td>0</td>\n      <td>None</td>\n    </tr>\n    <tr>\n      <th>7</th>\n      <td>8</td>\n      <td>is_doc_property</td>\n      <td>__document__</td>\n      <td>1</td>\n      <td>None</td>\n      <td>None</td>\n      <td>None</td>\n      <td>3</td>\n      <td>0</td>\n      <td>None</td>\n    </tr>\n    <tr>\n      <th>8</th>\n      <td>9</td>\n      <td>schema_name</td>\n      <td>__document__</td>\n      <td>20</td>\n      <td>None</td>\n      <td>None</td>\n      <td>None</td>\n      <td>1</td>\n      <td>0</td>\n      <td>None</td>\n    </tr>\n    <tr>\n      <th>9</th>\n      <td>10</td>\n      <td>schema_version</td>\n      <td>__document__</td>\n      <td>20</td>\n      <td>None</td>\n      <td>None</td>\n      <td>None</td>\n      <td>1</td>\n      <td>0</td>\n      <td>None</td>\n    </tr>\n    <tr>\n      <th>10</th>\n      <td>11</td>\n      <td>hyperlink</td>\n      <td>__hyperlink__</td>\n      <td>20</td>\n      <td>None</td>\n      <td>None</td>\n      <td>None</td>\n      <td>1</td>\n      <td>0</td>\n      <td>None</td>\n    </tr>\n    <tr>\n      <th>11</th>\n      <td>12</td>\n      <td>node_flags</td>\n      <td>__node_flags__</td>\n      <td>2</td>\n      <td>None</td>\n      <td>None</td>\n      <td>None</td>\n      <td>1</td>\n      <td>0</td>\n      <td>None</td>\n    </tr>\n    <tr>\n      <th>12</th>\n      <td>13</td>\n      <td>Category</td>\n      <td>__category__</td>\n      <td>20</td>\n      <td>None</td>\n      <td>None</td>\n      <td>None</td>\n      <td>1</td>\n      <td>0</td>\n      <td>None</td>\n    </tr>\n    <tr>\n      <th>13</th>\n      <td>14</td>\n      <td>Organization Name</td>\n      <td>Identity Data</td>\n      <td>20</td>\n      <td></td>\n      <td>None</td>\n      <td>Organization Name</td>\n      <td>0</td>\n      <td>0</td>\n      <td>None</td>\n    </tr>\n    <tr>\n      <th>14</th>\n      <td>15</td>\n      <td>Organization Description</td>\n      <td>Identity Data</td>\n      <td>20</td>\n      <td></td>\n      <td>None</td>\n      <td>Organization Description</td>\n      <td>0</td>\n      <td>0</td>\n      <td>None</td>\n    </tr>\n    <tr>\n      <th>15</th>\n      <td>16</td>\n      <td>Building Name</td>\n      <td>Identity Data</td>\n      <td>20</td>\n      <td></td>\n      <td>None</td>\n      <td>Building Name</td>\n      <td>0</td>\n      <td>0</td>\n      <td>None</td>\n    </tr>\n    <tr>\n      <th>16</th>\n      <td>17</td>\n      <td>Author</td>\n      <td>Identity Data</td>\n      <td>20</td>\n      <td></td>\n      <td>None</td>\n      <td>Author</td>\n      <td>0</td>\n      <td>0</td>\n      <td>None</td>\n    </tr>\n    <tr>\n      <th>17</th>\n      <td>18</td>\n      <td>IfcSite GUID</td>\n      <td>IFC Parameters</td>\n      <td>20</td>\n      <td></td>\n      <td>None</td>\n      <td>IfcSite GUID</td>\n      <td>0</td>\n      <td>0</td>\n      <td>None</td>\n    </tr>\n    <tr>\n      <th>18</th>\n      <td>19</td>\n      <td>IfcBuilding GUID</td>\n      <td>IFC Parameters</td>\n      <td>20</td>\n      <td></td>\n      <td>None</td>\n      <td>IfcBuilding GUID</td>\n      <td>0</td>\n      <td>0</td>\n      <td>None</td>\n    </tr>\n    <tr>\n      <th>19</th>\n      <td>20</td>\n      <td>IfcProject GUID</td>\n      <td>IFC Parameters</td>\n      <td>20</td>\n      <td></td>\n      <td>None</td>\n      <td>IfcProject GUID</td>\n      <td>0</td>\n      <td>0</td>\n      <td>None</td>\n    </tr>\n  </tbody>\n</table>\n</div>"
     },
     "execution_count": 25,
     "metadata": {},
     "output_type": "execute_result"
    }
   ],
   "source": [
    "# Read data from _objects_attr\n",
    "data_objects_id = pd.read_sql_query(\"SELECT * FROM _objects_attr\", conn)\n",
    "data_objects_id.head(20)"
   ],
   "metadata": {
    "collapsed": false,
    "ExecuteTime": {
     "end_time": "2024-03-02T14:27:17.616423Z",
     "start_time": "2024-03-02T14:27:17.603144Z"
    }
   },
   "id": "960918f5e51e1ca6",
   "execution_count": 25
  },
  {
   "cell_type": "markdown",
   "source": [
    "### Object Value Reader"
   ],
   "metadata": {
    "collapsed": false
   },
   "id": "d87d89300e2d6306"
  },
  {
   "cell_type": "code",
   "outputs": [
    {
     "data": {
      "text/plain": "    id                                          value\n0    1                                          Model\n1    2                                            rvt\n2    3                                            1.0\n3    4                                              1\n4    5                                 Revit Document\n5    6                                    Exyte Group\n6    7             Design, Engineering & Construction\n7    8                                               \n8    9                                     Issue Date\n9   10                                 Project Status\n10  11                                          Owner\n11  12                             Enter address here\n12  13                                   Project Name\n13  14                                 Project Number\n14  15                                   Project Info\n15  16                               Ground Floor FAC\n16  17                                    Revit Level\n17  18                                       -2000240\n18  19                                              2\n19  20  53c5330a-0a78-42d6-8dc2-cd7dde1d46b9-00152381",
      "text/html": "<div>\n<style scoped>\n    .dataframe tbody tr th:only-of-type {\n        vertical-align: middle;\n    }\n\n    .dataframe tbody tr th {\n        vertical-align: top;\n    }\n\n    .dataframe thead th {\n        text-align: right;\n    }\n</style>\n<table border=\"1\" class=\"dataframe\">\n  <thead>\n    <tr style=\"text-align: right;\">\n      <th></th>\n      <th>id</th>\n      <th>value</th>\n    </tr>\n  </thead>\n  <tbody>\n    <tr>\n      <th>0</th>\n      <td>1</td>\n      <td>Model</td>\n    </tr>\n    <tr>\n      <th>1</th>\n      <td>2</td>\n      <td>rvt</td>\n    </tr>\n    <tr>\n      <th>2</th>\n      <td>3</td>\n      <td>1.0</td>\n    </tr>\n    <tr>\n      <th>3</th>\n      <td>4</td>\n      <td>1</td>\n    </tr>\n    <tr>\n      <th>4</th>\n      <td>5</td>\n      <td>Revit Document</td>\n    </tr>\n    <tr>\n      <th>5</th>\n      <td>6</td>\n      <td>Exyte Group</td>\n    </tr>\n    <tr>\n      <th>6</th>\n      <td>7</td>\n      <td>Design, Engineering &amp; Construction</td>\n    </tr>\n    <tr>\n      <th>7</th>\n      <td>8</td>\n      <td></td>\n    </tr>\n    <tr>\n      <th>8</th>\n      <td>9</td>\n      <td>Issue Date</td>\n    </tr>\n    <tr>\n      <th>9</th>\n      <td>10</td>\n      <td>Project Status</td>\n    </tr>\n    <tr>\n      <th>10</th>\n      <td>11</td>\n      <td>Owner</td>\n    </tr>\n    <tr>\n      <th>11</th>\n      <td>12</td>\n      <td>Enter address here</td>\n    </tr>\n    <tr>\n      <th>12</th>\n      <td>13</td>\n      <td>Project Name</td>\n    </tr>\n    <tr>\n      <th>13</th>\n      <td>14</td>\n      <td>Project Number</td>\n    </tr>\n    <tr>\n      <th>14</th>\n      <td>15</td>\n      <td>Project Info</td>\n    </tr>\n    <tr>\n      <th>15</th>\n      <td>16</td>\n      <td>Ground Floor FAC</td>\n    </tr>\n    <tr>\n      <th>16</th>\n      <td>17</td>\n      <td>Revit Level</td>\n    </tr>\n    <tr>\n      <th>17</th>\n      <td>18</td>\n      <td>-2000240</td>\n    </tr>\n    <tr>\n      <th>18</th>\n      <td>19</td>\n      <td>2</td>\n    </tr>\n    <tr>\n      <th>19</th>\n      <td>20</td>\n      <td>53c5330a-0a78-42d6-8dc2-cd7dde1d46b9-00152381</td>\n    </tr>\n  </tbody>\n</table>\n</div>"
     },
     "execution_count": 26,
     "metadata": {},
     "output_type": "execute_result"
    }
   ],
   "source": [
    "import pandas as pd\n",
    "# Read data from _objects_val\n",
    "data_objects_id = pd.read_sql_query(\"SELECT * FROM _objects_val\", conn)\n",
    "data_objects_id.head(20)"
   ],
   "metadata": {
    "collapsed": false,
    "ExecuteTime": {
     "end_time": "2024-03-02T14:27:26.994260Z",
     "start_time": "2024-03-02T14:27:26.861309Z"
    }
   },
   "id": "dfd9bddf181ec55a",
   "execution_count": 26
  },
  {
   "cell_type": "markdown",
   "source": [
    "### Object EAV Reader"
   ],
   "metadata": {
    "collapsed": false
   },
   "id": "23964f942dae3e02"
  },
  {
   "cell_type": "code",
   "outputs": [
    {
     "data": {
      "text/plain": "    id  entity_id  attribute_id  value_id\n0    1          1             1         1\n1    2          1             9         2\n2    3          1            10         3\n3    4          1             8         4\n4    5          1            13         5\n5    6          1            14         6\n6    7          1            15         7\n7    8          1            16         8\n8    9          1            17         8\n9   10          1            18         8\n10  11          1            19         8\n11  12          1            20         8\n12  13          1            21         9\n13  14          1            22        10\n14  15          1            23        11\n15  16          1            24        12\n16  17          1            25        13\n17  18          1            26        14\n18  19          1            27        15\n19  20          1            28         8",
      "text/html": "<div>\n<style scoped>\n    .dataframe tbody tr th:only-of-type {\n        vertical-align: middle;\n    }\n\n    .dataframe tbody tr th {\n        vertical-align: top;\n    }\n\n    .dataframe thead th {\n        text-align: right;\n    }\n</style>\n<table border=\"1\" class=\"dataframe\">\n  <thead>\n    <tr style=\"text-align: right;\">\n      <th></th>\n      <th>id</th>\n      <th>entity_id</th>\n      <th>attribute_id</th>\n      <th>value_id</th>\n    </tr>\n  </thead>\n  <tbody>\n    <tr>\n      <th>0</th>\n      <td>1</td>\n      <td>1</td>\n      <td>1</td>\n      <td>1</td>\n    </tr>\n    <tr>\n      <th>1</th>\n      <td>2</td>\n      <td>1</td>\n      <td>9</td>\n      <td>2</td>\n    </tr>\n    <tr>\n      <th>2</th>\n      <td>3</td>\n      <td>1</td>\n      <td>10</td>\n      <td>3</td>\n    </tr>\n    <tr>\n      <th>3</th>\n      <td>4</td>\n      <td>1</td>\n      <td>8</td>\n      <td>4</td>\n    </tr>\n    <tr>\n      <th>4</th>\n      <td>5</td>\n      <td>1</td>\n      <td>13</td>\n      <td>5</td>\n    </tr>\n    <tr>\n      <th>5</th>\n      <td>6</td>\n      <td>1</td>\n      <td>14</td>\n      <td>6</td>\n    </tr>\n    <tr>\n      <th>6</th>\n      <td>7</td>\n      <td>1</td>\n      <td>15</td>\n      <td>7</td>\n    </tr>\n    <tr>\n      <th>7</th>\n      <td>8</td>\n      <td>1</td>\n      <td>16</td>\n      <td>8</td>\n    </tr>\n    <tr>\n      <th>8</th>\n      <td>9</td>\n      <td>1</td>\n      <td>17</td>\n      <td>8</td>\n    </tr>\n    <tr>\n      <th>9</th>\n      <td>10</td>\n      <td>1</td>\n      <td>18</td>\n      <td>8</td>\n    </tr>\n    <tr>\n      <th>10</th>\n      <td>11</td>\n      <td>1</td>\n      <td>19</td>\n      <td>8</td>\n    </tr>\n    <tr>\n      <th>11</th>\n      <td>12</td>\n      <td>1</td>\n      <td>20</td>\n      <td>8</td>\n    </tr>\n    <tr>\n      <th>12</th>\n      <td>13</td>\n      <td>1</td>\n      <td>21</td>\n      <td>9</td>\n    </tr>\n    <tr>\n      <th>13</th>\n      <td>14</td>\n      <td>1</td>\n      <td>22</td>\n      <td>10</td>\n    </tr>\n    <tr>\n      <th>14</th>\n      <td>15</td>\n      <td>1</td>\n      <td>23</td>\n      <td>11</td>\n    </tr>\n    <tr>\n      <th>15</th>\n      <td>16</td>\n      <td>1</td>\n      <td>24</td>\n      <td>12</td>\n    </tr>\n    <tr>\n      <th>16</th>\n      <td>17</td>\n      <td>1</td>\n      <td>25</td>\n      <td>13</td>\n    </tr>\n    <tr>\n      <th>17</th>\n      <td>18</td>\n      <td>1</td>\n      <td>26</td>\n      <td>14</td>\n    </tr>\n    <tr>\n      <th>18</th>\n      <td>19</td>\n      <td>1</td>\n      <td>27</td>\n      <td>15</td>\n    </tr>\n    <tr>\n      <th>19</th>\n      <td>20</td>\n      <td>1</td>\n      <td>28</td>\n      <td>8</td>\n    </tr>\n  </tbody>\n</table>\n</div>"
     },
     "execution_count": 27,
     "metadata": {},
     "output_type": "execute_result"
    }
   ],
   "source": [
    "# Read data from _objects_attr\n",
    "import pandas as pd\n",
    "# Read data from _objects_id\n",
    "data_objects_id = pd.read_sql_query(\"SELECT * FROM _objects_eav\", conn)\n",
    "data_objects_id.head(20)"
   ],
   "metadata": {
    "collapsed": false,
    "ExecuteTime": {
     "end_time": "2024-03-02T14:27:48.656228Z",
     "start_time": "2024-03-02T14:27:47.561736Z"
    }
   },
   "id": "13b53c559994afdb",
   "execution_count": 27
  },
  {
   "cell_type": "code",
   "outputs": [
    {
     "data": {
      "text/plain": "                                       externalId                category  \\\n0   00c6c04a-12df-4dad-941f-b193ceb216ca-0000225e           Identity Data   \n1   00c6c04a-12df-4dad-941f-b193ceb216ca-0000225e           Identity Data   \n2   00c6c04a-12df-4dad-941f-b193ceb216ca-0000225e          IFC Parameters   \n3   00c6c04a-12df-4dad-941f-b193ceb216ca-0000225e          IFC Parameters   \n4   00c6c04a-12df-4dad-941f-b193ceb216ca-0000225e          IFC Parameters   \n5   00c6c04a-12df-4dad-941f-b193ceb216ca-0000225e          IFC Parameters   \n6   00c6c04a-12df-4dad-941f-b193ceb216ca-0000225e           Identity Data   \n7   00c6c04a-12df-4dad-941f-b193ceb216ca-0000225e           Identity Data   \n8   00c6c04a-12df-4dad-941f-b193ceb216ca-0000225e           Identity Data   \n9   00c6c04a-12df-4dad-941f-b193ceb216ca-0000225e           Identity Data   \n10  00c6c04a-12df-4dad-941f-b193ceb216ca-0000225e           Identity Data   \n11  00c6c04a-12df-4dad-941f-b193ceb216ca-0000225e           Identity Data   \n12  00c6c04a-12df-4dad-941f-b193ceb216ca-0000225e           Identity Data   \n13  00c6c04a-12df-4dad-941f-b193ceb216ca-0000225e           Identity Data   \n14  00c6c04a-12df-4dad-941f-b193ceb216ca-0000225e           Identity Data   \n15  00c6c04a-12df-4dad-941f-b193ceb216ca-0000225e  Materials and Finishes   \n16  00c6c04a-12df-4dad-941f-b193ceb216ca-0000225e  Materials and Finishes   \n17  00c6c04a-12df-4dad-941f-b193ceb216ca-0000225e  Materials and Finishes   \n18  00c6c04a-12df-4dad-941f-b193ceb216ca-0000225e  Materials and Finishes   \n19  00c6c04a-12df-4dad-941f-b193ceb216ca-0000225e  Materials and Finishes   \n\n           display_name                   value  \n0                 Image                          \n1               Keynote                          \n2         Export to IFC                 By Type  \n3      Export to IFC As                          \n4   IFC Predefined Type                          \n5               IfcGUID  00ni1A4jzDhPGViPFEiZIK  \n6                 Model                          \n7          Manufacturer                          \n8              Comments                          \n9                   URL                          \n10          Description                          \n11                 Cost                     0.0  \n12                 Mark                          \n13              Workset               Materials  \n14            Edited by                          \n15                 Name             Phase - New  \n16                Color                 5263440  \n17         Transparency                       0  \n18                 Glow                     0.0  \n19           Smoothness                      50  ",
      "text/html": "<div>\n<style scoped>\n    .dataframe tbody tr th:only-of-type {\n        vertical-align: middle;\n    }\n\n    .dataframe tbody tr th {\n        vertical-align: top;\n    }\n\n    .dataframe thead th {\n        text-align: right;\n    }\n</style>\n<table border=\"1\" class=\"dataframe\">\n  <thead>\n    <tr style=\"text-align: right;\">\n      <th></th>\n      <th>externalId</th>\n      <th>category</th>\n      <th>display_name</th>\n      <th>value</th>\n    </tr>\n  </thead>\n  <tbody>\n    <tr>\n      <th>0</th>\n      <td>00c6c04a-12df-4dad-941f-b193ceb216ca-0000225e</td>\n      <td>Identity Data</td>\n      <td>Image</td>\n      <td></td>\n    </tr>\n    <tr>\n      <th>1</th>\n      <td>00c6c04a-12df-4dad-941f-b193ceb216ca-0000225e</td>\n      <td>Identity Data</td>\n      <td>Keynote</td>\n      <td></td>\n    </tr>\n    <tr>\n      <th>2</th>\n      <td>00c6c04a-12df-4dad-941f-b193ceb216ca-0000225e</td>\n      <td>IFC Parameters</td>\n      <td>Export to IFC</td>\n      <td>By Type</td>\n    </tr>\n    <tr>\n      <th>3</th>\n      <td>00c6c04a-12df-4dad-941f-b193ceb216ca-0000225e</td>\n      <td>IFC Parameters</td>\n      <td>Export to IFC As</td>\n      <td></td>\n    </tr>\n    <tr>\n      <th>4</th>\n      <td>00c6c04a-12df-4dad-941f-b193ceb216ca-0000225e</td>\n      <td>IFC Parameters</td>\n      <td>IFC Predefined Type</td>\n      <td></td>\n    </tr>\n    <tr>\n      <th>5</th>\n      <td>00c6c04a-12df-4dad-941f-b193ceb216ca-0000225e</td>\n      <td>IFC Parameters</td>\n      <td>IfcGUID</td>\n      <td>00ni1A4jzDhPGViPFEiZIK</td>\n    </tr>\n    <tr>\n      <th>6</th>\n      <td>00c6c04a-12df-4dad-941f-b193ceb216ca-0000225e</td>\n      <td>Identity Data</td>\n      <td>Model</td>\n      <td></td>\n    </tr>\n    <tr>\n      <th>7</th>\n      <td>00c6c04a-12df-4dad-941f-b193ceb216ca-0000225e</td>\n      <td>Identity Data</td>\n      <td>Manufacturer</td>\n      <td></td>\n    </tr>\n    <tr>\n      <th>8</th>\n      <td>00c6c04a-12df-4dad-941f-b193ceb216ca-0000225e</td>\n      <td>Identity Data</td>\n      <td>Comments</td>\n      <td></td>\n    </tr>\n    <tr>\n      <th>9</th>\n      <td>00c6c04a-12df-4dad-941f-b193ceb216ca-0000225e</td>\n      <td>Identity Data</td>\n      <td>URL</td>\n      <td></td>\n    </tr>\n    <tr>\n      <th>10</th>\n      <td>00c6c04a-12df-4dad-941f-b193ceb216ca-0000225e</td>\n      <td>Identity Data</td>\n      <td>Description</td>\n      <td></td>\n    </tr>\n    <tr>\n      <th>11</th>\n      <td>00c6c04a-12df-4dad-941f-b193ceb216ca-0000225e</td>\n      <td>Identity Data</td>\n      <td>Cost</td>\n      <td>0.0</td>\n    </tr>\n    <tr>\n      <th>12</th>\n      <td>00c6c04a-12df-4dad-941f-b193ceb216ca-0000225e</td>\n      <td>Identity Data</td>\n      <td>Mark</td>\n      <td></td>\n    </tr>\n    <tr>\n      <th>13</th>\n      <td>00c6c04a-12df-4dad-941f-b193ceb216ca-0000225e</td>\n      <td>Identity Data</td>\n      <td>Workset</td>\n      <td>Materials</td>\n    </tr>\n    <tr>\n      <th>14</th>\n      <td>00c6c04a-12df-4dad-941f-b193ceb216ca-0000225e</td>\n      <td>Identity Data</td>\n      <td>Edited by</td>\n      <td></td>\n    </tr>\n    <tr>\n      <th>15</th>\n      <td>00c6c04a-12df-4dad-941f-b193ceb216ca-0000225e</td>\n      <td>Materials and Finishes</td>\n      <td>Name</td>\n      <td>Phase - New</td>\n    </tr>\n    <tr>\n      <th>16</th>\n      <td>00c6c04a-12df-4dad-941f-b193ceb216ca-0000225e</td>\n      <td>Materials and Finishes</td>\n      <td>Color</td>\n      <td>5263440</td>\n    </tr>\n    <tr>\n      <th>17</th>\n      <td>00c6c04a-12df-4dad-941f-b193ceb216ca-0000225e</td>\n      <td>Materials and Finishes</td>\n      <td>Transparency</td>\n      <td>0</td>\n    </tr>\n    <tr>\n      <th>18</th>\n      <td>00c6c04a-12df-4dad-941f-b193ceb216ca-0000225e</td>\n      <td>Materials and Finishes</td>\n      <td>Glow</td>\n      <td>0.0</td>\n    </tr>\n    <tr>\n      <th>19</th>\n      <td>00c6c04a-12df-4dad-941f-b193ceb216ca-0000225e</td>\n      <td>Materials and Finishes</td>\n      <td>Smoothness</td>\n      <td>50</td>\n    </tr>\n  </tbody>\n</table>\n</div>"
     },
     "execution_count": 29,
     "metadata": {},
     "output_type": "execute_result"
    }
   ],
   "source": [
    "# Define and execute the SQL query with a JOIN statement\n",
    "conn = sqlite3.connect(db_file)\n",
    "# Define and execute the SQL query with JOIN statements\n",
    "query = \"\"\"\n",
    "SELECT _objects_id.external_id AS externalId, _objects_attr.category AS category,_objects_attr.display_name, _objects_val.value\n",
    "FROM _objects_id\n",
    "JOIN _objects_eav ON _objects_id.id = _objects_eav.entity_id\n",
    "JOIN _objects_attr ON _objects_eav.attribute_id = _objects_attr.id\n",
    "JOIN _objects_val ON _objects_eav.value_id = _objects_val.id\n",
    "WHERE category NOT LIKE '\\_\\_%\\_\\_' ESCAPE '\\\\' \n",
    "ORDER BY externalId;\n",
    "\"\"\"\n",
    "data = pd.read_sql_query(query, conn)\n",
    "data.head(20)"
   ],
   "metadata": {
    "collapsed": false,
    "ExecuteTime": {
     "end_time": "2024-03-02T14:28:03.515788Z",
     "start_time": "2024-03-02T14:28:01.927577Z"
    }
   },
   "id": "1a09609f860fefdf",
   "execution_count": 29
  },
  {
   "cell_type": "markdown",
   "source": [
    "### Get All Categories"
   ],
   "metadata": {
    "collapsed": false
   },
   "id": "3307f9704b22e849"
  },
  {
   "cell_type": "code",
   "outputs": [
    {
     "data": {
      "text/plain": "                                            category\n0                                                   \n35                                          <Sketch>\n53                                     Air Terminals\n5                                       Area Schemes\n43                       Automatic Sketch Dimensions\n19                            Building Type Settings\n14                                           Cameras\n61                                       Center Line\n54                                       Center line\n17                                 Color Fill Schema\n42                                       Constraints\n34                                      Detail Items\n41                                        Dimensions\n56                                  Duct Accessories\n55                                     Duct Fittings\n51                                      Duct Systems\n52                                             Ducts\n23              Electrical Demand Factor Definitions\n57                              Electrical Equipment\n28  Electrical Load Classification Parameter Element\n24                   Electrical Load Classifications\n2                                         Elevations\n32                               Generic Annotations\n45                                             Grids\n18                               HVAC Load Schedules\n16                                        HVAC Zones\n13                                   Internal Origin\n31                                 Legend Components\n33                                             Lines\n47                                         Matchline\n29                                   Material Assets\n1                                          Materials\n58                              Mechanical Equipment\n59                         Mechanical Equipment Tags\n25           Panel Schedule Templates - Branch Panel\n26             Panel Schedule Templates - Data Panel\n27            Panel Schedule Templates - Switchboard\n6                                             Phases\n30                                     Pipe Segments\n60                                             Pipes\n62                                    Piping Systems\n4                                   Primary Contours\n22                                Project Base Point\n10                               Project Information\n48                                         RVT Links\n9                                           Revision\n44                      Revision Numbering Sequences\n50                                         Room Tags\n36                                             Rooms\n63                                 Schedule Graphics",
      "text/html": "<div>\n<style scoped>\n    .dataframe tbody tr th:only-of-type {\n        vertical-align: middle;\n    }\n\n    .dataframe tbody tr th {\n        vertical-align: top;\n    }\n\n    .dataframe thead th {\n        text-align: right;\n    }\n</style>\n<table border=\"1\" class=\"dataframe\">\n  <thead>\n    <tr style=\"text-align: right;\">\n      <th></th>\n      <th>category</th>\n    </tr>\n  </thead>\n  <tbody>\n    <tr>\n      <th>0</th>\n      <td></td>\n    </tr>\n    <tr>\n      <th>35</th>\n      <td>&lt;Sketch&gt;</td>\n    </tr>\n    <tr>\n      <th>53</th>\n      <td>Air Terminals</td>\n    </tr>\n    <tr>\n      <th>5</th>\n      <td>Area Schemes</td>\n    </tr>\n    <tr>\n      <th>43</th>\n      <td>Automatic Sketch Dimensions</td>\n    </tr>\n    <tr>\n      <th>19</th>\n      <td>Building Type Settings</td>\n    </tr>\n    <tr>\n      <th>14</th>\n      <td>Cameras</td>\n    </tr>\n    <tr>\n      <th>61</th>\n      <td>Center Line</td>\n    </tr>\n    <tr>\n      <th>54</th>\n      <td>Center line</td>\n    </tr>\n    <tr>\n      <th>17</th>\n      <td>Color Fill Schema</td>\n    </tr>\n    <tr>\n      <th>42</th>\n      <td>Constraints</td>\n    </tr>\n    <tr>\n      <th>34</th>\n      <td>Detail Items</td>\n    </tr>\n    <tr>\n      <th>41</th>\n      <td>Dimensions</td>\n    </tr>\n    <tr>\n      <th>56</th>\n      <td>Duct Accessories</td>\n    </tr>\n    <tr>\n      <th>55</th>\n      <td>Duct Fittings</td>\n    </tr>\n    <tr>\n      <th>51</th>\n      <td>Duct Systems</td>\n    </tr>\n    <tr>\n      <th>52</th>\n      <td>Ducts</td>\n    </tr>\n    <tr>\n      <th>23</th>\n      <td>Electrical Demand Factor Definitions</td>\n    </tr>\n    <tr>\n      <th>57</th>\n      <td>Electrical Equipment</td>\n    </tr>\n    <tr>\n      <th>28</th>\n      <td>Electrical Load Classification Parameter Element</td>\n    </tr>\n    <tr>\n      <th>24</th>\n      <td>Electrical Load Classifications</td>\n    </tr>\n    <tr>\n      <th>2</th>\n      <td>Elevations</td>\n    </tr>\n    <tr>\n      <th>32</th>\n      <td>Generic Annotations</td>\n    </tr>\n    <tr>\n      <th>45</th>\n      <td>Grids</td>\n    </tr>\n    <tr>\n      <th>18</th>\n      <td>HVAC Load Schedules</td>\n    </tr>\n    <tr>\n      <th>16</th>\n      <td>HVAC Zones</td>\n    </tr>\n    <tr>\n      <th>13</th>\n      <td>Internal Origin</td>\n    </tr>\n    <tr>\n      <th>31</th>\n      <td>Legend Components</td>\n    </tr>\n    <tr>\n      <th>33</th>\n      <td>Lines</td>\n    </tr>\n    <tr>\n      <th>47</th>\n      <td>Matchline</td>\n    </tr>\n    <tr>\n      <th>29</th>\n      <td>Material Assets</td>\n    </tr>\n    <tr>\n      <th>1</th>\n      <td>Materials</td>\n    </tr>\n    <tr>\n      <th>58</th>\n      <td>Mechanical Equipment</td>\n    </tr>\n    <tr>\n      <th>59</th>\n      <td>Mechanical Equipment Tags</td>\n    </tr>\n    <tr>\n      <th>25</th>\n      <td>Panel Schedule Templates - Branch Panel</td>\n    </tr>\n    <tr>\n      <th>26</th>\n      <td>Panel Schedule Templates - Data Panel</td>\n    </tr>\n    <tr>\n      <th>27</th>\n      <td>Panel Schedule Templates - Switchboard</td>\n    </tr>\n    <tr>\n      <th>6</th>\n      <td>Phases</td>\n    </tr>\n    <tr>\n      <th>30</th>\n      <td>Pipe Segments</td>\n    </tr>\n    <tr>\n      <th>60</th>\n      <td>Pipes</td>\n    </tr>\n    <tr>\n      <th>62</th>\n      <td>Piping Systems</td>\n    </tr>\n    <tr>\n      <th>4</th>\n      <td>Primary Contours</td>\n    </tr>\n    <tr>\n      <th>22</th>\n      <td>Project Base Point</td>\n    </tr>\n    <tr>\n      <th>10</th>\n      <td>Project Information</td>\n    </tr>\n    <tr>\n      <th>48</th>\n      <td>RVT Links</td>\n    </tr>\n    <tr>\n      <th>9</th>\n      <td>Revision</td>\n    </tr>\n    <tr>\n      <th>44</th>\n      <td>Revision Numbering Sequences</td>\n    </tr>\n    <tr>\n      <th>50</th>\n      <td>Room Tags</td>\n    </tr>\n    <tr>\n      <th>36</th>\n      <td>Rooms</td>\n    </tr>\n    <tr>\n      <th>63</th>\n      <td>Schedule Graphics</td>\n    </tr>\n  </tbody>\n</table>\n</div>"
     },
     "execution_count": 30,
     "metadata": {},
     "output_type": "execute_result"
    }
   ],
   "source": [
    "# Query filter return list \n",
    "conn = sqlite3.connect(db_file)\n",
    "# Define and execute the SQL query with JOIN statements\n",
    "query = \"\"\"\n",
    "SELECT _objects_id.external_id, _objects_attr.category,_objects_attr.display_name, _objects_val.value\n",
    "FROM _objects_id\n",
    "JOIN _objects_eav ON _objects_id.id = _objects_eav.entity_id\n",
    "JOIN _objects_attr ON _objects_eav.attribute_id = _objects_attr.id\n",
    "JOIN _objects_val ON _objects_eav.value_id = _objects_val.id\n",
    "WHERE _objects_attr.name LIKE '_RC';\n",
    "\"\"\"\n",
    "df_categories = pd.read_sql_query(query, conn)\n",
    "# get unique values from the category column\n",
    "categories = df_categories['value'].unique()\n",
    "# create a dataframe for categories\n",
    "df_categories = pd.DataFrame(categories, columns=['category'])\n",
    "df_categories.head(50)\n",
    "df_categories.sort_values(by=['category'], inplace=True)\n",
    "df_categories.head(50)"
   ],
   "metadata": {
    "collapsed": false,
    "ExecuteTime": {
     "end_time": "2024-03-02T14:29:17.544163Z",
     "start_time": "2024-03-02T14:29:17.296261Z"
    }
   },
   "id": "abcc0429f03c97bc",
   "execution_count": 30
  },
  {
   "cell_type": "code",
   "outputs": [
    {
     "data": {
      "text/plain": "array(['', 'Materials', 'Elevations', 'Views', 'Primary Contours',\n       'Area Schemes', 'Phases', 'Shared Site', 'Work Plane Grid',\n       'Revision', 'Project Information', 'Structural Load Cases',\n       'Sun Path', 'Internal Origin', 'Cameras', 'Section Boxes',\n       'HVAC Zones', 'Color Fill Schema', 'HVAC Load Schedules',\n       'Building Type Settings', 'Space Type Settings', 'Survey Point',\n       'Project Base Point', 'Electrical Demand Factor Definitions',\n       'Electrical Load Classifications',\n       'Panel Schedule Templates - Branch Panel',\n       'Panel Schedule Templates - Data Panel',\n       'Panel Schedule Templates - Switchboard',\n       'Electrical Load Classification Parameter Element',\n       'Material Assets', 'Pipe Segments', 'Legend Components',\n       'Generic Annotations', 'Lines', 'Detail Items', '<Sketch>',\n       'Rooms', 'Spaces', 'Title Blocks', 'Schedules', 'Text Notes',\n       'Dimensions', 'Constraints', 'Automatic Sketch Dimensions',\n       'Revision Numbering Sequences', 'Grids', 'Scope Boxes',\n       'Matchline', 'RVT Links', 'Viewports', 'Room Tags', 'Duct Systems',\n       'Ducts', 'Air Terminals', 'Center line', 'Duct Fittings',\n       'Duct Accessories', 'Electrical Equipment', 'Mechanical Equipment',\n       'Mechanical Equipment Tags', 'Pipes', 'Center Line',\n       'Piping Systems', 'Schedule Graphics'], dtype=object)"
     },
     "execution_count": 31,
     "metadata": {},
     "output_type": "execute_result"
    }
   ],
   "source": [
    "# unormalized data with columns : external_id, RevitCategory, ParameterCategory, ParameterName, DataType, DataTypeContext,ParameterValue\n",
    "conn = sqlite3.connect(db_file)\n",
    "# Define and execute the SQL query with JOIN statements\n",
    "query = \"\"\"\n",
    "SELECT _objects_id.external_id, _objects_attr.category,_objects_attr.display_name, _objects_val.value\n",
    "FROM _objects_id\n",
    "JOIN _objects_eav ON _objects_id.id = _objects_eav.entity_id\n",
    "JOIN _objects_attr ON _objects_eav.attribute_id = _objects_attr.id\n",
    "JOIN _objects_val ON _objects_eav.value_id = _objects_val.id\n",
    "WHERE _objects_attr.name LIKE '_RC';\n",
    "\"\"\"\n",
    "df_categories = pd.read_sql_query(query, conn)\n",
    "# get unique values from the category column\n",
    "categories = df_categories['value'].unique()\n",
    "categories"
   ],
   "metadata": {
    "collapsed": false,
    "ExecuteTime": {
     "end_time": "2024-03-02T14:29:35.290528Z",
     "start_time": "2024-03-02T14:29:35.050437Z"
    }
   },
   "id": "f76405da8eb798b3",
   "execution_count": 31
  },
  {
   "cell_type": "code",
   "outputs": [],
   "source": [],
   "metadata": {
    "collapsed": false
   },
   "id": "3f80b271573bbb34"
  }
 ],
 "metadata": {
  "kernelspec": {
   "display_name": "Python 3",
   "language": "python",
   "name": "python3"
  },
  "language_info": {
   "codemirror_mode": {
    "name": "ipython",
    "version": 2
   },
   "file_extension": ".py",
   "mimetype": "text/x-python",
   "name": "python",
   "nbconvert_exporter": "python",
   "pygments_lexer": "ipython2",
   "version": "2.7.6"
  }
 },
 "nbformat": 4,
 "nbformat_minor": 5
}
