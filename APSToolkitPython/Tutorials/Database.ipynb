{
 "cells": [
  {
   "cell_type": "code",
   "outputs": [
    {
     "name": "stdout",
     "output_type": "stream",
     "text": [
      "Requirement already satisfied: aps-toolkit in c:\\python311\\lib\\site-packages (0.0.8)\n",
      "Requirement already satisfied: requests in c:\\python311\\lib\\site-packages (from aps-toolkit) (2.31.0)\n",
      "Requirement already satisfied: pandas in c:\\python311\\lib\\site-packages (from aps-toolkit) (2.2.1)\n",
      "Requirement already satisfied: numpy<2,>=1.23.2 in c:\\python311\\lib\\site-packages (from pandas->aps-toolkit) (1.26.0)\n",
      "Requirement already satisfied: python-dateutil>=2.8.2 in c:\\python311\\lib\\site-packages (from pandas->aps-toolkit) (2.8.2)\n",
      "Requirement already satisfied: pytz>=2020.1 in c:\\python311\\lib\\site-packages (from pandas->aps-toolkit) (2024.1)\n",
      "Requirement already satisfied: tzdata>=2022.7 in c:\\python311\\lib\\site-packages (from pandas->aps-toolkit) (2024.1)\n",
      "Requirement already satisfied: charset-normalizer<4,>=2 in c:\\python311\\lib\\site-packages (from requests->aps-toolkit) (3.2.0)\n",
      "Requirement already satisfied: idna<4,>=2.5 in c:\\python311\\lib\\site-packages (from requests->aps-toolkit) (3.4)\n",
      "Requirement already satisfied: urllib3<3,>=1.21.1 in c:\\python311\\lib\\site-packages (from requests->aps-toolkit) (2.0.4)\n",
      "Requirement already satisfied: certifi>=2017.4.17 in c:\\python311\\lib\\site-packages (from requests->aps-toolkit) (2023.7.22)\n",
      "Requirement already satisfied: six>=1.5 in c:\\python311\\lib\\site-packages (from python-dateutil>=2.8.2->pandas->aps-toolkit) (1.16.0)\n",
      "Note: you may need to restart the kernel to use updated packages.\n"
     ]
    },
    {
     "name": "stderr",
     "output_type": "stream",
     "text": [
      "DEPRECATION: Loading egg at c:\\python311\\lib\\site-packages\\autodesk_forge_sdk-0.1.2-py3.11.egg is deprecated. pip 24.3 will enforce this behaviour change. A possible replacement is to use pip for package installation.. Discussion can be found at https://github.com/pypa/pip/issues/12330\n"
     ]
    }
   ],
   "source": [
    "%pip install aps-toolkit --upgrade"
   ],
   "metadata": {
    "collapsed": false,
    "ExecuteTime": {
     "end_time": "2024-03-03T03:07:31.826625Z",
     "start_time": "2024-03-03T03:07:28.633798Z"
    }
   },
   "id": "5144ee9c754adcd9",
   "execution_count": 2
  },
  {
   "cell_type": "markdown",
   "source": [
    "### Import Libraries"
   ],
   "metadata": {
    "collapsed": false
   },
   "id": "de0c8639190166b7"
  },
  {
   "cell_type": "code",
   "execution_count": 3,
   "id": "initial_id",
   "metadata": {
    "collapsed": true,
    "ExecuteTime": {
     "end_time": "2024-03-03T03:07:52.663336Z",
     "start_time": "2024-03-03T03:07:52.030338Z"
    }
   },
   "outputs": [],
   "source": [
    "from aps_toolkit import Auth\n",
    "import requests\n",
    "import os\n",
    "import sqlite3"
   ]
  },
  {
   "cell_type": "markdown",
   "id": "549de94cdad13ee1",
   "metadata": {
    "collapsed": false
   },
   "source": [
    "### Get Token"
   ]
  },
  {
   "cell_type": "code",
   "execution_count": 4,
   "id": "e7d5a2df2f392ea6",
   "metadata": {
    "collapsed": false,
    "ExecuteTime": {
     "end_time": "2024-03-03T03:07:55.941032Z",
     "start_time": "2024-03-03T03:07:55.937415Z"
    }
   },
   "outputs": [],
   "source": [
    "auth = Auth()"
   ]
  },
  {
   "cell_type": "code",
   "execution_count": 5,
   "id": "b0db094fe5b7ce6e",
   "metadata": {
    "collapsed": false,
    "ExecuteTime": {
     "end_time": "2024-03-03T03:07:58.135371Z",
     "start_time": "2024-03-03T03:07:57.326953Z"
    }
   },
   "outputs": [],
   "source": [
    "token = auth.auth2leg()"
   ]
  },
  {
   "cell_type": "code",
   "execution_count": 6,
   "id": "133e280cdbb150c4",
   "metadata": {
    "collapsed": false,
    "ExecuteTime": {
     "end_time": "2024-03-03T03:07:59.125720Z",
     "start_time": "2024-03-03T03:07:59.121714Z"
    }
   },
   "outputs": [],
   "source": [
    "URN = \"dXJuOmFkc2sud2lwcHJvZDpmcy5maWxlOnZmLnRfTFFVUDZoU3l5UXo5bm1sTE1FUHc_dmVyc2lvbj02\""
   ]
  },
  {
   "cell_type": "code",
   "execution_count": 7,
   "id": "b1fb09e56f8be7a",
   "metadata": {
    "collapsed": false,
    "ExecuteTime": {
     "end_time": "2024-03-03T03:08:15.356998Z",
     "start_time": "2024-03-03T03:08:00.576616Z"
    }
   },
   "outputs": [],
   "source": [
    "from aps_toolkit import DbReader\n",
    "db = DbReader(URN, token)\n"
   ]
  },
  {
   "cell_type": "code",
   "execution_count": 8,
   "id": "5115ba2f",
   "metadata": {
    "ExecuteTime": {
     "end_time": "2024-03-03T03:08:15.363714Z",
     "start_time": "2024-03-03T03:08:15.358002Z"
    }
   },
   "outputs": [
    {
     "data": {
      "text/plain": "'C:\\\\Python311\\\\Lib\\\\site-packages\\\\aps_toolkit\\\\database\\\\dXJuOmFkc2sud2lwcHJvZDpmcy5maWxlOnZmLnRfTFFVUDZoU3l5UXo5bm1sTE1FUHc_dmVyc2lvbj02.sdb'"
     },
     "execution_count": 8,
     "metadata": {},
     "output_type": "execute_result"
    }
   ],
   "source": [
    "db.db_path"
   ]
  },
  {
   "cell_type": "markdown",
   "source": [
    "### Object ID Reader"
   ],
   "metadata": {
    "collapsed": false
   },
   "id": "c6562a5f51eb13fa"
  },
  {
   "cell_type": "code",
   "execution_count": 9,
   "id": "c212c9f5",
   "metadata": {
    "ExecuteTime": {
     "end_time": "2024-03-03T03:08:15.435925Z",
     "start_time": "2024-03-03T03:08:15.364722Z"
    }
   },
   "outputs": [
    {
     "data": {
      "text/plain": "          id                                    external_id viewable_id\n0          1       doc_d14ee89f-34c9-4d58-ae27-c584f63353df        None\n1          2  53c5330a-0a78-42d6-8dc2-cd7dde1d46b9-001522f7        None\n2          3  53c5330a-0a78-42d6-8dc2-cd7dde1d46b9-001522f8        None\n3          4  53c5330a-0a78-42d6-8dc2-cd7dde1d46b9-001522f9        None\n4          5  53c5330a-0a78-42d6-8dc2-cd7dde1d46b9-001522fa        None\n...      ...                                            ...         ...\n62668  62669           57ddb049-4112-4cf4-9243-c45c24903488        None\n62669  62670           0bb0c17e-ba23-4d21-8b61-4f954bea6b74        None\n62670  62671           77a4e6f2-95db-4050-9ff8-c2f5ee7b22a0        None\n62671  62672           0c465578-969b-4809-ae2b-d28a73a43faf        None\n62672  62673           a0f7f97b-3327-43a8-b179-071133fa736d        None\n\n[62673 rows x 3 columns]",
      "text/html": "<div>\n<style scoped>\n    .dataframe tbody tr th:only-of-type {\n        vertical-align: middle;\n    }\n\n    .dataframe tbody tr th {\n        vertical-align: top;\n    }\n\n    .dataframe thead th {\n        text-align: right;\n    }\n</style>\n<table border=\"1\" class=\"dataframe\">\n  <thead>\n    <tr style=\"text-align: right;\">\n      <th></th>\n      <th>id</th>\n      <th>external_id</th>\n      <th>viewable_id</th>\n    </tr>\n  </thead>\n  <tbody>\n    <tr>\n      <th>0</th>\n      <td>1</td>\n      <td>doc_d14ee89f-34c9-4d58-ae27-c584f63353df</td>\n      <td>None</td>\n    </tr>\n    <tr>\n      <th>1</th>\n      <td>2</td>\n      <td>53c5330a-0a78-42d6-8dc2-cd7dde1d46b9-001522f7</td>\n      <td>None</td>\n    </tr>\n    <tr>\n      <th>2</th>\n      <td>3</td>\n      <td>53c5330a-0a78-42d6-8dc2-cd7dde1d46b9-001522f8</td>\n      <td>None</td>\n    </tr>\n    <tr>\n      <th>3</th>\n      <td>4</td>\n      <td>53c5330a-0a78-42d6-8dc2-cd7dde1d46b9-001522f9</td>\n      <td>None</td>\n    </tr>\n    <tr>\n      <th>4</th>\n      <td>5</td>\n      <td>53c5330a-0a78-42d6-8dc2-cd7dde1d46b9-001522fa</td>\n      <td>None</td>\n    </tr>\n    <tr>\n      <th>...</th>\n      <td>...</td>\n      <td>...</td>\n      <td>...</td>\n    </tr>\n    <tr>\n      <th>62668</th>\n      <td>62669</td>\n      <td>57ddb049-4112-4cf4-9243-c45c24903488</td>\n      <td>None</td>\n    </tr>\n    <tr>\n      <th>62669</th>\n      <td>62670</td>\n      <td>0bb0c17e-ba23-4d21-8b61-4f954bea6b74</td>\n      <td>None</td>\n    </tr>\n    <tr>\n      <th>62670</th>\n      <td>62671</td>\n      <td>77a4e6f2-95db-4050-9ff8-c2f5ee7b22a0</td>\n      <td>None</td>\n    </tr>\n    <tr>\n      <th>62671</th>\n      <td>62672</td>\n      <td>0c465578-969b-4809-ae2b-d28a73a43faf</td>\n      <td>None</td>\n    </tr>\n    <tr>\n      <th>62672</th>\n      <td>62673</td>\n      <td>a0f7f97b-3327-43a8-b179-071133fa736d</td>\n      <td>None</td>\n    </tr>\n  </tbody>\n</table>\n<p>62673 rows × 3 columns</p>\n</div>"
     },
     "execution_count": 9,
     "metadata": {},
     "output_type": "execute_result"
    }
   ],
   "source": [
    "db.execute_query(\"SELECT * FROM _objects_id\")"
   ]
  },
  {
   "cell_type": "markdown",
   "id": "c70da5f91fa2323",
   "metadata": {
    "collapsed": false
   },
   "source": [
    "### Object Attribute Reader"
   ]
  },
  {
   "cell_type": "code",
   "outputs": [
    {
     "data": {
      "text/plain": "        id              name                category  data_type  \\\n0        1              name                __name__         20   \n1        2             child               __child__         11   \n2        3            parent              __parent__         11   \n3        4  instanceof_objid          __instanceof__         11   \n4        5          hastable            __hastable__         11   \n...    ...               ...                     ...        ...   \n1333  1334                W1                   Other          3   \n1334  1335             Frame  Materials and Finishes         20   \n1335  1336  Arrow Visibility                   Other          1   \n1336  1337          Quantity                    Text         20   \n1337  1338     View Template           Identity Data         20   \n\n                         data_type_context description      display_name  \\\n0                                     None        None              None   \n1                                     None        None              None   \n2                                     None        None              None   \n3                                     None        None              None   \n4                                     None        None              None   \n...                                    ...         ...               ...   \n1333  autodesk.unit.unit:millimeters-1.0.1        None                W1   \n1334                                              None             Frame   \n1335                                              None  Arrow Visibility   \n1336                                              None          Quantity   \n1337                                              None     View Template   \n\n      flags  display_precision forge_parameter  \n0         0                  0            None  \n1         1                  0            None  \n2         1                  0            None  \n3         1                  0            None  \n4         1                  0            None  \n...     ...                ...             ...  \n1333      8                  1            None  \n1334      0                  0            None  \n1335      0                  0            None  \n1336      0                  0            None  \n1337      8                  0            None  \n\n[1338 rows x 10 columns]",
      "text/html": "<div>\n<style scoped>\n    .dataframe tbody tr th:only-of-type {\n        vertical-align: middle;\n    }\n\n    .dataframe tbody tr th {\n        vertical-align: top;\n    }\n\n    .dataframe thead th {\n        text-align: right;\n    }\n</style>\n<table border=\"1\" class=\"dataframe\">\n  <thead>\n    <tr style=\"text-align: right;\">\n      <th></th>\n      <th>id</th>\n      <th>name</th>\n      <th>category</th>\n      <th>data_type</th>\n      <th>data_type_context</th>\n      <th>description</th>\n      <th>display_name</th>\n      <th>flags</th>\n      <th>display_precision</th>\n      <th>forge_parameter</th>\n    </tr>\n  </thead>\n  <tbody>\n    <tr>\n      <th>0</th>\n      <td>1</td>\n      <td>name</td>\n      <td>__name__</td>\n      <td>20</td>\n      <td>None</td>\n      <td>None</td>\n      <td>None</td>\n      <td>0</td>\n      <td>0</td>\n      <td>None</td>\n    </tr>\n    <tr>\n      <th>1</th>\n      <td>2</td>\n      <td>child</td>\n      <td>__child__</td>\n      <td>11</td>\n      <td>None</td>\n      <td>None</td>\n      <td>None</td>\n      <td>1</td>\n      <td>0</td>\n      <td>None</td>\n    </tr>\n    <tr>\n      <th>2</th>\n      <td>3</td>\n      <td>parent</td>\n      <td>__parent__</td>\n      <td>11</td>\n      <td>None</td>\n      <td>None</td>\n      <td>None</td>\n      <td>1</td>\n      <td>0</td>\n      <td>None</td>\n    </tr>\n    <tr>\n      <th>3</th>\n      <td>4</td>\n      <td>instanceof_objid</td>\n      <td>__instanceof__</td>\n      <td>11</td>\n      <td>None</td>\n      <td>None</td>\n      <td>None</td>\n      <td>1</td>\n      <td>0</td>\n      <td>None</td>\n    </tr>\n    <tr>\n      <th>4</th>\n      <td>5</td>\n      <td>hastable</td>\n      <td>__hastable__</td>\n      <td>11</td>\n      <td>None</td>\n      <td>None</td>\n      <td>None</td>\n      <td>1</td>\n      <td>0</td>\n      <td>None</td>\n    </tr>\n    <tr>\n      <th>...</th>\n      <td>...</td>\n      <td>...</td>\n      <td>...</td>\n      <td>...</td>\n      <td>...</td>\n      <td>...</td>\n      <td>...</td>\n      <td>...</td>\n      <td>...</td>\n      <td>...</td>\n    </tr>\n    <tr>\n      <th>1333</th>\n      <td>1334</td>\n      <td>W1</td>\n      <td>Other</td>\n      <td>3</td>\n      <td>autodesk.unit.unit:millimeters-1.0.1</td>\n      <td>None</td>\n      <td>W1</td>\n      <td>8</td>\n      <td>1</td>\n      <td>None</td>\n    </tr>\n    <tr>\n      <th>1334</th>\n      <td>1335</td>\n      <td>Frame</td>\n      <td>Materials and Finishes</td>\n      <td>20</td>\n      <td></td>\n      <td>None</td>\n      <td>Frame</td>\n      <td>0</td>\n      <td>0</td>\n      <td>None</td>\n    </tr>\n    <tr>\n      <th>1335</th>\n      <td>1336</td>\n      <td>Arrow Visibility</td>\n      <td>Other</td>\n      <td>1</td>\n      <td></td>\n      <td>None</td>\n      <td>Arrow Visibility</td>\n      <td>0</td>\n      <td>0</td>\n      <td>None</td>\n    </tr>\n    <tr>\n      <th>1336</th>\n      <td>1337</td>\n      <td>Quantity</td>\n      <td>Text</td>\n      <td>20</td>\n      <td></td>\n      <td>None</td>\n      <td>Quantity</td>\n      <td>0</td>\n      <td>0</td>\n      <td>None</td>\n    </tr>\n    <tr>\n      <th>1337</th>\n      <td>1338</td>\n      <td>View Template</td>\n      <td>Identity Data</td>\n      <td>20</td>\n      <td></td>\n      <td>None</td>\n      <td>View Template</td>\n      <td>8</td>\n      <td>0</td>\n      <td>None</td>\n    </tr>\n  </tbody>\n</table>\n<p>1338 rows × 10 columns</p>\n</div>"
     },
     "execution_count": 10,
     "metadata": {},
     "output_type": "execute_result"
    }
   ],
   "source": [
    "db.execute_query(\"SELECT * FROM _objects_attr\")"
   ],
   "metadata": {
    "ExecuteTime": {
     "end_time": "2024-03-03T03:08:18.883868Z",
     "start_time": "2024-03-03T03:08:18.871045Z"
    }
   },
   "id": "6938946d",
   "execution_count": 10
  },
  {
   "cell_type": "markdown",
   "id": "d87d89300e2d6306",
   "metadata": {
    "collapsed": false
   },
   "source": [
    "### Object Value Reader"
   ]
  },
  {
   "cell_type": "code",
   "execution_count": 13,
   "id": "dfd9bddf181ec55a",
   "metadata": {
    "collapsed": false,
    "ExecuteTime": {
     "end_time": "2024-03-03T03:10:15.788704Z",
     "start_time": "2024-03-03T03:10:15.626925Z"
    }
   },
   "outputs": [
    {
     "data": {
      "text/plain": "   id                               value\n0   1                               Model\n1   2                                 rvt\n2   3                                 1.0\n3   4                                   1\n4   5                      Revit Document\n5   6                         Exyte Group\n6   7  Design, Engineering & Construction\n7   8                                    \n8   9                          Issue Date\n9  10                      Project Status",
      "text/html": "<div>\n<style scoped>\n    .dataframe tbody tr th:only-of-type {\n        vertical-align: middle;\n    }\n\n    .dataframe tbody tr th {\n        vertical-align: top;\n    }\n\n    .dataframe thead th {\n        text-align: right;\n    }\n</style>\n<table border=\"1\" class=\"dataframe\">\n  <thead>\n    <tr style=\"text-align: right;\">\n      <th></th>\n      <th>id</th>\n      <th>value</th>\n    </tr>\n  </thead>\n  <tbody>\n    <tr>\n      <th>0</th>\n      <td>1</td>\n      <td>Model</td>\n    </tr>\n    <tr>\n      <th>1</th>\n      <td>2</td>\n      <td>rvt</td>\n    </tr>\n    <tr>\n      <th>2</th>\n      <td>3</td>\n      <td>1.0</td>\n    </tr>\n    <tr>\n      <th>3</th>\n      <td>4</td>\n      <td>1</td>\n    </tr>\n    <tr>\n      <th>4</th>\n      <td>5</td>\n      <td>Revit Document</td>\n    </tr>\n    <tr>\n      <th>5</th>\n      <td>6</td>\n      <td>Exyte Group</td>\n    </tr>\n    <tr>\n      <th>6</th>\n      <td>7</td>\n      <td>Design, Engineering &amp; Construction</td>\n    </tr>\n    <tr>\n      <th>7</th>\n      <td>8</td>\n      <td></td>\n    </tr>\n    <tr>\n      <th>8</th>\n      <td>9</td>\n      <td>Issue Date</td>\n    </tr>\n    <tr>\n      <th>9</th>\n      <td>10</td>\n      <td>Project Status</td>\n    </tr>\n  </tbody>\n</table>\n</div>"
     },
     "execution_count": 13,
     "metadata": {},
     "output_type": "execute_result"
    }
   ],
   "source": [
    "import pandas as pd\n",
    "df = db.execute_query(\"SELECT * FROM _objects_val\")\n",
    "df.head(10)"
   ]
  },
  {
   "cell_type": "markdown",
   "source": [
    "### Object EAV Reader"
   ],
   "metadata": {
    "collapsed": false
   },
   "id": "849b5287800535db"
  },
  {
   "cell_type": "code",
   "outputs": [
    {
     "data": {
      "text/plain": "   id  entity_id  attribute_id  value_id\n0   1          1             1         1\n1   2          1             9         2\n2   3          1            10         3\n3   4          1             8         4\n4   5          1            13         5\n5   6          1            14         6\n6   7          1            15         7\n7   8          1            16         8\n8   9          1            17         8\n9  10          1            18         8",
      "text/html": "<div>\n<style scoped>\n    .dataframe tbody tr th:only-of-type {\n        vertical-align: middle;\n    }\n\n    .dataframe tbody tr th {\n        vertical-align: top;\n    }\n\n    .dataframe thead th {\n        text-align: right;\n    }\n</style>\n<table border=\"1\" class=\"dataframe\">\n  <thead>\n    <tr style=\"text-align: right;\">\n      <th></th>\n      <th>id</th>\n      <th>entity_id</th>\n      <th>attribute_id</th>\n      <th>value_id</th>\n    </tr>\n  </thead>\n  <tbody>\n    <tr>\n      <th>0</th>\n      <td>1</td>\n      <td>1</td>\n      <td>1</td>\n      <td>1</td>\n    </tr>\n    <tr>\n      <th>1</th>\n      <td>2</td>\n      <td>1</td>\n      <td>9</td>\n      <td>2</td>\n    </tr>\n    <tr>\n      <th>2</th>\n      <td>3</td>\n      <td>1</td>\n      <td>10</td>\n      <td>3</td>\n    </tr>\n    <tr>\n      <th>3</th>\n      <td>4</td>\n      <td>1</td>\n      <td>8</td>\n      <td>4</td>\n    </tr>\n    <tr>\n      <th>4</th>\n      <td>5</td>\n      <td>1</td>\n      <td>13</td>\n      <td>5</td>\n    </tr>\n    <tr>\n      <th>5</th>\n      <td>6</td>\n      <td>1</td>\n      <td>14</td>\n      <td>6</td>\n    </tr>\n    <tr>\n      <th>6</th>\n      <td>7</td>\n      <td>1</td>\n      <td>15</td>\n      <td>7</td>\n    </tr>\n    <tr>\n      <th>7</th>\n      <td>8</td>\n      <td>1</td>\n      <td>16</td>\n      <td>8</td>\n    </tr>\n    <tr>\n      <th>8</th>\n      <td>9</td>\n      <td>1</td>\n      <td>17</td>\n      <td>8</td>\n    </tr>\n    <tr>\n      <th>9</th>\n      <td>10</td>\n      <td>1</td>\n      <td>18</td>\n      <td>8</td>\n    </tr>\n  </tbody>\n</table>\n</div>"
     },
     "execution_count": 14,
     "metadata": {},
     "output_type": "execute_result"
    }
   ],
   "source": [
    "df = db.execute_query(\"SELECT * FROM _objects_eav\")\n",
    "df.head(10)"
   ],
   "metadata": {
    "collapsed": false,
    "ExecuteTime": {
     "end_time": "2024-03-03T03:10:51.604443Z",
     "start_time": "2024-03-03T03:10:50.486239Z"
    }
   },
   "id": "9f910859112f1fd4",
   "execution_count": 14
  },
  {
   "cell_type": "markdown",
   "source": [
    "### Read SQLite file"
   ],
   "metadata": {
    "collapsed": false
   },
   "id": "4168cab5f5eaaef9"
  },
  {
   "cell_type": "code",
   "outputs": [
    {
     "name": "stdout",
     "output_type": "stream",
     "text": [
      "_objects_id\n",
      "_objects_attr\n",
      "_objects_val\n",
      "_objects_eav\n"
     ]
    }
   ],
   "source": [
    "# read sqlite file over all tables\n",
    "db_file = db.db_path\n",
    "try:\n",
    "    # Connect to the SQLite database\n",
    "    conn = sqlite3.connect(db_file)\n",
    "\n",
    "    # Create a cursor object to execute SQL queries\n",
    "    cursor = conn.cursor()\n",
    "    # Query the sqlite_master table to get the list of all tables\n",
    "    cursor.execute(\"SELECT name FROM sqlite_master WHERE type='table';\")\n",
    "\n",
    "    # Fetch the results\n",
    "    tables = cursor.fetchall()\n",
    "\n",
    "    # Extract table names and print them\n",
    "    for table in tables:\n",
    "        print(table[0])\n",
    "\n",
    "except sqlite3.Error as e:\n",
    "    print(f\"SQLite error: {e}\")\n",
    "finally:\n",
    "    # Close the database connection when done\n",
    "    conn.close()"
   ],
   "metadata": {
    "collapsed": false,
    "ExecuteTime": {
     "end_time": "2024-03-03T03:08:54.044142Z",
     "start_time": "2024-03-03T03:08:54.039675Z"
    }
   },
   "id": "8f635b9f05040830",
   "execution_count": 11
  },
  {
   "cell_type": "code",
   "execution_count": 16,
   "id": "1a09609f860fefdf",
   "metadata": {
    "collapsed": false,
    "ExecuteTime": {
     "end_time": "2024-03-03T03:11:58.600012Z",
     "start_time": "2024-03-03T03:11:57.066378Z"
    }
   },
   "outputs": [
    {
     "data": {
      "text/plain": "                                       externalId                category  \\\n0   00c6c04a-12df-4dad-941f-b193ceb216ca-0000225e           Identity Data   \n1   00c6c04a-12df-4dad-941f-b193ceb216ca-0000225e           Identity Data   \n2   00c6c04a-12df-4dad-941f-b193ceb216ca-0000225e          IFC Parameters   \n3   00c6c04a-12df-4dad-941f-b193ceb216ca-0000225e          IFC Parameters   \n4   00c6c04a-12df-4dad-941f-b193ceb216ca-0000225e          IFC Parameters   \n5   00c6c04a-12df-4dad-941f-b193ceb216ca-0000225e          IFC Parameters   \n6   00c6c04a-12df-4dad-941f-b193ceb216ca-0000225e           Identity Data   \n7   00c6c04a-12df-4dad-941f-b193ceb216ca-0000225e           Identity Data   \n8   00c6c04a-12df-4dad-941f-b193ceb216ca-0000225e           Identity Data   \n9   00c6c04a-12df-4dad-941f-b193ceb216ca-0000225e           Identity Data   \n10  00c6c04a-12df-4dad-941f-b193ceb216ca-0000225e           Identity Data   \n11  00c6c04a-12df-4dad-941f-b193ceb216ca-0000225e           Identity Data   \n12  00c6c04a-12df-4dad-941f-b193ceb216ca-0000225e           Identity Data   \n13  00c6c04a-12df-4dad-941f-b193ceb216ca-0000225e           Identity Data   \n14  00c6c04a-12df-4dad-941f-b193ceb216ca-0000225e           Identity Data   \n15  00c6c04a-12df-4dad-941f-b193ceb216ca-0000225e  Materials and Finishes   \n16  00c6c04a-12df-4dad-941f-b193ceb216ca-0000225e  Materials and Finishes   \n17  00c6c04a-12df-4dad-941f-b193ceb216ca-0000225e  Materials and Finishes   \n18  00c6c04a-12df-4dad-941f-b193ceb216ca-0000225e  Materials and Finishes   \n19  00c6c04a-12df-4dad-941f-b193ceb216ca-0000225e  Materials and Finishes   \n\n           display_name                   value  \n0                 Image                          \n1               Keynote                          \n2         Export to IFC                 By Type  \n3      Export to IFC As                          \n4   IFC Predefined Type                          \n5               IfcGUID  00ni1A4jzDhPGViPFEiZIK  \n6                 Model                          \n7          Manufacturer                          \n8              Comments                          \n9                   URL                          \n10          Description                          \n11                 Cost                     0.0  \n12                 Mark                          \n13              Workset               Materials  \n14            Edited by                          \n15                 Name             Phase - New  \n16                Color                 5263440  \n17         Transparency                       0  \n18                 Glow                     0.0  \n19           Smoothness                      50  ",
      "text/html": "<div>\n<style scoped>\n    .dataframe tbody tr th:only-of-type {\n        vertical-align: middle;\n    }\n\n    .dataframe tbody tr th {\n        vertical-align: top;\n    }\n\n    .dataframe thead th {\n        text-align: right;\n    }\n</style>\n<table border=\"1\" class=\"dataframe\">\n  <thead>\n    <tr style=\"text-align: right;\">\n      <th></th>\n      <th>externalId</th>\n      <th>category</th>\n      <th>display_name</th>\n      <th>value</th>\n    </tr>\n  </thead>\n  <tbody>\n    <tr>\n      <th>0</th>\n      <td>00c6c04a-12df-4dad-941f-b193ceb216ca-0000225e</td>\n      <td>Identity Data</td>\n      <td>Image</td>\n      <td></td>\n    </tr>\n    <tr>\n      <th>1</th>\n      <td>00c6c04a-12df-4dad-941f-b193ceb216ca-0000225e</td>\n      <td>Identity Data</td>\n      <td>Keynote</td>\n      <td></td>\n    </tr>\n    <tr>\n      <th>2</th>\n      <td>00c6c04a-12df-4dad-941f-b193ceb216ca-0000225e</td>\n      <td>IFC Parameters</td>\n      <td>Export to IFC</td>\n      <td>By Type</td>\n    </tr>\n    <tr>\n      <th>3</th>\n      <td>00c6c04a-12df-4dad-941f-b193ceb216ca-0000225e</td>\n      <td>IFC Parameters</td>\n      <td>Export to IFC As</td>\n      <td></td>\n    </tr>\n    <tr>\n      <th>4</th>\n      <td>00c6c04a-12df-4dad-941f-b193ceb216ca-0000225e</td>\n      <td>IFC Parameters</td>\n      <td>IFC Predefined Type</td>\n      <td></td>\n    </tr>\n    <tr>\n      <th>5</th>\n      <td>00c6c04a-12df-4dad-941f-b193ceb216ca-0000225e</td>\n      <td>IFC Parameters</td>\n      <td>IfcGUID</td>\n      <td>00ni1A4jzDhPGViPFEiZIK</td>\n    </tr>\n    <tr>\n      <th>6</th>\n      <td>00c6c04a-12df-4dad-941f-b193ceb216ca-0000225e</td>\n      <td>Identity Data</td>\n      <td>Model</td>\n      <td></td>\n    </tr>\n    <tr>\n      <th>7</th>\n      <td>00c6c04a-12df-4dad-941f-b193ceb216ca-0000225e</td>\n      <td>Identity Data</td>\n      <td>Manufacturer</td>\n      <td></td>\n    </tr>\n    <tr>\n      <th>8</th>\n      <td>00c6c04a-12df-4dad-941f-b193ceb216ca-0000225e</td>\n      <td>Identity Data</td>\n      <td>Comments</td>\n      <td></td>\n    </tr>\n    <tr>\n      <th>9</th>\n      <td>00c6c04a-12df-4dad-941f-b193ceb216ca-0000225e</td>\n      <td>Identity Data</td>\n      <td>URL</td>\n      <td></td>\n    </tr>\n    <tr>\n      <th>10</th>\n      <td>00c6c04a-12df-4dad-941f-b193ceb216ca-0000225e</td>\n      <td>Identity Data</td>\n      <td>Description</td>\n      <td></td>\n    </tr>\n    <tr>\n      <th>11</th>\n      <td>00c6c04a-12df-4dad-941f-b193ceb216ca-0000225e</td>\n      <td>Identity Data</td>\n      <td>Cost</td>\n      <td>0.0</td>\n    </tr>\n    <tr>\n      <th>12</th>\n      <td>00c6c04a-12df-4dad-941f-b193ceb216ca-0000225e</td>\n      <td>Identity Data</td>\n      <td>Mark</td>\n      <td></td>\n    </tr>\n    <tr>\n      <th>13</th>\n      <td>00c6c04a-12df-4dad-941f-b193ceb216ca-0000225e</td>\n      <td>Identity Data</td>\n      <td>Workset</td>\n      <td>Materials</td>\n    </tr>\n    <tr>\n      <th>14</th>\n      <td>00c6c04a-12df-4dad-941f-b193ceb216ca-0000225e</td>\n      <td>Identity Data</td>\n      <td>Edited by</td>\n      <td></td>\n    </tr>\n    <tr>\n      <th>15</th>\n      <td>00c6c04a-12df-4dad-941f-b193ceb216ca-0000225e</td>\n      <td>Materials and Finishes</td>\n      <td>Name</td>\n      <td>Phase - New</td>\n    </tr>\n    <tr>\n      <th>16</th>\n      <td>00c6c04a-12df-4dad-941f-b193ceb216ca-0000225e</td>\n      <td>Materials and Finishes</td>\n      <td>Color</td>\n      <td>5263440</td>\n    </tr>\n    <tr>\n      <th>17</th>\n      <td>00c6c04a-12df-4dad-941f-b193ceb216ca-0000225e</td>\n      <td>Materials and Finishes</td>\n      <td>Transparency</td>\n      <td>0</td>\n    </tr>\n    <tr>\n      <th>18</th>\n      <td>00c6c04a-12df-4dad-941f-b193ceb216ca-0000225e</td>\n      <td>Materials and Finishes</td>\n      <td>Glow</td>\n      <td>0.0</td>\n    </tr>\n    <tr>\n      <th>19</th>\n      <td>00c6c04a-12df-4dad-941f-b193ceb216ca-0000225e</td>\n      <td>Materials and Finishes</td>\n      <td>Smoothness</td>\n      <td>50</td>\n    </tr>\n  </tbody>\n</table>\n</div>"
     },
     "execution_count": 16,
     "metadata": {},
     "output_type": "execute_result"
    }
   ],
   "source": [
    "\n",
    "# Define and execute the SQL query with JOIN statements\n",
    "query = \"\"\"\n",
    "SELECT _objects_id.external_id AS externalId, _objects_attr.category AS category,_objects_attr.display_name, _objects_val.value\n",
    "FROM _objects_id\n",
    "JOIN _objects_eav ON _objects_id.id = _objects_eav.entity_id\n",
    "JOIN _objects_attr ON _objects_eav.attribute_id = _objects_attr.id\n",
    "JOIN _objects_val ON _objects_eav.value_id = _objects_val.id\n",
    "WHERE category NOT LIKE '\\_\\_%\\_\\_' ESCAPE '\\\\' \n",
    "ORDER BY externalId;\n",
    "\"\"\"\n",
    "data = db.execute_query(query)\n",
    "data.head(20)"
   ]
  },
  {
   "cell_type": "markdown",
   "id": "3307f9704b22e849",
   "metadata": {
    "collapsed": false
   },
   "source": [
    "### Get All Categories"
   ]
  },
  {
   "cell_type": "code",
   "execution_count": 30,
   "id": "abcc0429f03c97bc",
   "metadata": {
    "ExecuteTime": {
     "end_time": "2024-03-02T14:29:17.544163Z",
     "start_time": "2024-03-02T14:29:17.296261Z"
    },
    "collapsed": false
   },
   "outputs": [
    {
     "data": {
      "text/html": [
       "<div>\n",
       "<style scoped>\n",
       "    .dataframe tbody tr th:only-of-type {\n",
       "        vertical-align: middle;\n",
       "    }\n",
       "\n",
       "    .dataframe tbody tr th {\n",
       "        vertical-align: top;\n",
       "    }\n",
       "\n",
       "    .dataframe thead th {\n",
       "        text-align: right;\n",
       "    }\n",
       "</style>\n",
       "<table border=\"1\" class=\"dataframe\">\n",
       "  <thead>\n",
       "    <tr style=\"text-align: right;\">\n",
       "      <th></th>\n",
       "      <th>category</th>\n",
       "    </tr>\n",
       "  </thead>\n",
       "  <tbody>\n",
       "    <tr>\n",
       "      <th>0</th>\n",
       "      <td></td>\n",
       "    </tr>\n",
       "    <tr>\n",
       "      <th>35</th>\n",
       "      <td>&lt;Sketch&gt;</td>\n",
       "    </tr>\n",
       "    <tr>\n",
       "      <th>53</th>\n",
       "      <td>Air Terminals</td>\n",
       "    </tr>\n",
       "    <tr>\n",
       "      <th>5</th>\n",
       "      <td>Area Schemes</td>\n",
       "    </tr>\n",
       "    <tr>\n",
       "      <th>43</th>\n",
       "      <td>Automatic Sketch Dimensions</td>\n",
       "    </tr>\n",
       "    <tr>\n",
       "      <th>19</th>\n",
       "      <td>Building Type Settings</td>\n",
       "    </tr>\n",
       "    <tr>\n",
       "      <th>14</th>\n",
       "      <td>Cameras</td>\n",
       "    </tr>\n",
       "    <tr>\n",
       "      <th>61</th>\n",
       "      <td>Center Line</td>\n",
       "    </tr>\n",
       "    <tr>\n",
       "      <th>54</th>\n",
       "      <td>Center line</td>\n",
       "    </tr>\n",
       "    <tr>\n",
       "      <th>17</th>\n",
       "      <td>Color Fill Schema</td>\n",
       "    </tr>\n",
       "    <tr>\n",
       "      <th>42</th>\n",
       "      <td>Constraints</td>\n",
       "    </tr>\n",
       "    <tr>\n",
       "      <th>34</th>\n",
       "      <td>Detail Items</td>\n",
       "    </tr>\n",
       "    <tr>\n",
       "      <th>41</th>\n",
       "      <td>Dimensions</td>\n",
       "    </tr>\n",
       "    <tr>\n",
       "      <th>56</th>\n",
       "      <td>Duct Accessories</td>\n",
       "    </tr>\n",
       "    <tr>\n",
       "      <th>55</th>\n",
       "      <td>Duct Fittings</td>\n",
       "    </tr>\n",
       "    <tr>\n",
       "      <th>51</th>\n",
       "      <td>Duct Systems</td>\n",
       "    </tr>\n",
       "    <tr>\n",
       "      <th>52</th>\n",
       "      <td>Ducts</td>\n",
       "    </tr>\n",
       "    <tr>\n",
       "      <th>23</th>\n",
       "      <td>Electrical Demand Factor Definitions</td>\n",
       "    </tr>\n",
       "    <tr>\n",
       "      <th>57</th>\n",
       "      <td>Electrical Equipment</td>\n",
       "    </tr>\n",
       "    <tr>\n",
       "      <th>28</th>\n",
       "      <td>Electrical Load Classification Parameter Element</td>\n",
       "    </tr>\n",
       "    <tr>\n",
       "      <th>24</th>\n",
       "      <td>Electrical Load Classifications</td>\n",
       "    </tr>\n",
       "    <tr>\n",
       "      <th>2</th>\n",
       "      <td>Elevations</td>\n",
       "    </tr>\n",
       "    <tr>\n",
       "      <th>32</th>\n",
       "      <td>Generic Annotations</td>\n",
       "    </tr>\n",
       "    <tr>\n",
       "      <th>45</th>\n",
       "      <td>Grids</td>\n",
       "    </tr>\n",
       "    <tr>\n",
       "      <th>18</th>\n",
       "      <td>HVAC Load Schedules</td>\n",
       "    </tr>\n",
       "    <tr>\n",
       "      <th>16</th>\n",
       "      <td>HVAC Zones</td>\n",
       "    </tr>\n",
       "    <tr>\n",
       "      <th>13</th>\n",
       "      <td>Internal Origin</td>\n",
       "    </tr>\n",
       "    <tr>\n",
       "      <th>31</th>\n",
       "      <td>Legend Components</td>\n",
       "    </tr>\n",
       "    <tr>\n",
       "      <th>33</th>\n",
       "      <td>Lines</td>\n",
       "    </tr>\n",
       "    <tr>\n",
       "      <th>47</th>\n",
       "      <td>Matchline</td>\n",
       "    </tr>\n",
       "    <tr>\n",
       "      <th>29</th>\n",
       "      <td>Material Assets</td>\n",
       "    </tr>\n",
       "    <tr>\n",
       "      <th>1</th>\n",
       "      <td>Materials</td>\n",
       "    </tr>\n",
       "    <tr>\n",
       "      <th>58</th>\n",
       "      <td>Mechanical Equipment</td>\n",
       "    </tr>\n",
       "    <tr>\n",
       "      <th>59</th>\n",
       "      <td>Mechanical Equipment Tags</td>\n",
       "    </tr>\n",
       "    <tr>\n",
       "      <th>25</th>\n",
       "      <td>Panel Schedule Templates - Branch Panel</td>\n",
       "    </tr>\n",
       "    <tr>\n",
       "      <th>26</th>\n",
       "      <td>Panel Schedule Templates - Data Panel</td>\n",
       "    </tr>\n",
       "    <tr>\n",
       "      <th>27</th>\n",
       "      <td>Panel Schedule Templates - Switchboard</td>\n",
       "    </tr>\n",
       "    <tr>\n",
       "      <th>6</th>\n",
       "      <td>Phases</td>\n",
       "    </tr>\n",
       "    <tr>\n",
       "      <th>30</th>\n",
       "      <td>Pipe Segments</td>\n",
       "    </tr>\n",
       "    <tr>\n",
       "      <th>60</th>\n",
       "      <td>Pipes</td>\n",
       "    </tr>\n",
       "    <tr>\n",
       "      <th>62</th>\n",
       "      <td>Piping Systems</td>\n",
       "    </tr>\n",
       "    <tr>\n",
       "      <th>4</th>\n",
       "      <td>Primary Contours</td>\n",
       "    </tr>\n",
       "    <tr>\n",
       "      <th>22</th>\n",
       "      <td>Project Base Point</td>\n",
       "    </tr>\n",
       "    <tr>\n",
       "      <th>10</th>\n",
       "      <td>Project Information</td>\n",
       "    </tr>\n",
       "    <tr>\n",
       "      <th>48</th>\n",
       "      <td>RVT Links</td>\n",
       "    </tr>\n",
       "    <tr>\n",
       "      <th>9</th>\n",
       "      <td>Revision</td>\n",
       "    </tr>\n",
       "    <tr>\n",
       "      <th>44</th>\n",
       "      <td>Revision Numbering Sequences</td>\n",
       "    </tr>\n",
       "    <tr>\n",
       "      <th>50</th>\n",
       "      <td>Room Tags</td>\n",
       "    </tr>\n",
       "    <tr>\n",
       "      <th>36</th>\n",
       "      <td>Rooms</td>\n",
       "    </tr>\n",
       "    <tr>\n",
       "      <th>63</th>\n",
       "      <td>Schedule Graphics</td>\n",
       "    </tr>\n",
       "  </tbody>\n",
       "</table>\n",
       "</div>"
      ],
      "text/plain": [
       "                                            category\n",
       "0                                                   \n",
       "35                                          <Sketch>\n",
       "53                                     Air Terminals\n",
       "5                                       Area Schemes\n",
       "43                       Automatic Sketch Dimensions\n",
       "19                            Building Type Settings\n",
       "14                                           Cameras\n",
       "61                                       Center Line\n",
       "54                                       Center line\n",
       "17                                 Color Fill Schema\n",
       "42                                       Constraints\n",
       "34                                      Detail Items\n",
       "41                                        Dimensions\n",
       "56                                  Duct Accessories\n",
       "55                                     Duct Fittings\n",
       "51                                      Duct Systems\n",
       "52                                             Ducts\n",
       "23              Electrical Demand Factor Definitions\n",
       "57                              Electrical Equipment\n",
       "28  Electrical Load Classification Parameter Element\n",
       "24                   Electrical Load Classifications\n",
       "2                                         Elevations\n",
       "32                               Generic Annotations\n",
       "45                                             Grids\n",
       "18                               HVAC Load Schedules\n",
       "16                                        HVAC Zones\n",
       "13                                   Internal Origin\n",
       "31                                 Legend Components\n",
       "33                                             Lines\n",
       "47                                         Matchline\n",
       "29                                   Material Assets\n",
       "1                                          Materials\n",
       "58                              Mechanical Equipment\n",
       "59                         Mechanical Equipment Tags\n",
       "25           Panel Schedule Templates - Branch Panel\n",
       "26             Panel Schedule Templates - Data Panel\n",
       "27            Panel Schedule Templates - Switchboard\n",
       "6                                             Phases\n",
       "30                                     Pipe Segments\n",
       "60                                             Pipes\n",
       "62                                    Piping Systems\n",
       "4                                   Primary Contours\n",
       "22                                Project Base Point\n",
       "10                               Project Information\n",
       "48                                         RVT Links\n",
       "9                                           Revision\n",
       "44                      Revision Numbering Sequences\n",
       "50                                         Room Tags\n",
       "36                                             Rooms\n",
       "63                                 Schedule Graphics"
      ]
     },
     "execution_count": 30,
     "metadata": {},
     "output_type": "execute_result"
    }
   ],
   "source": [
    "# Define and execute the SQL query with JOIN statements\n",
    "query = \"\"\"\n",
    "SELECT _objects_id.external_id, _objects_attr.category,_objects_attr.display_name, _objects_val.value\n",
    "FROM _objects_id\n",
    "JOIN _objects_eav ON _objects_id.id = _objects_eav.entity_id\n",
    "JOIN _objects_attr ON _objects_eav.attribute_id = _objects_attr.id\n",
    "JOIN _objects_val ON _objects_eav.value_id = _objects_val.id\n",
    "WHERE _objects_attr.name LIKE '_RC';\n",
    "\"\"\"\n",
    "df_categories = pd.read_sql_query(query, conn)\n",
    "# get unique values from the category column\n",
    "categories = df_categories['value'].unique()\n",
    "# create a dataframe for categories\n",
    "df_categories = pd.DataFrame(categories, columns=['category'])\n",
    "df_categories.head(50)\n",
    "df_categories.sort_values(by=['category'], inplace=True)\n",
    "df_categories.head(50)"
   ]
  },
  {
   "cell_type": "code",
   "execution_count": 17,
   "id": "f76405da8eb798b3",
   "metadata": {
    "collapsed": false,
    "ExecuteTime": {
     "end_time": "2024-03-03T03:12:20.632392Z",
     "start_time": "2024-03-03T03:12:20.422246Z"
    }
   },
   "outputs": [
    {
     "data": {
      "text/plain": "array(['', 'Materials', 'Elevations', 'Views', 'Primary Contours',\n       'Area Schemes', 'Phases', 'Shared Site', 'Work Plane Grid',\n       'Revision', 'Project Information', 'Structural Load Cases',\n       'Sun Path', 'Internal Origin', 'Cameras', 'Section Boxes',\n       'HVAC Zones', 'Color Fill Schema', 'HVAC Load Schedules',\n       'Building Type Settings', 'Space Type Settings', 'Survey Point',\n       'Project Base Point', 'Electrical Demand Factor Definitions',\n       'Electrical Load Classifications',\n       'Panel Schedule Templates - Branch Panel',\n       'Panel Schedule Templates - Data Panel',\n       'Panel Schedule Templates - Switchboard',\n       'Electrical Load Classification Parameter Element',\n       'Material Assets', 'Pipe Segments', 'Legend Components',\n       'Generic Annotations', 'Lines', 'Detail Items', '<Sketch>',\n       'Rooms', 'Spaces', 'Title Blocks', 'Schedules', 'Text Notes',\n       'Dimensions', 'Constraints', 'Automatic Sketch Dimensions',\n       'Revision Numbering Sequences', 'Grids', 'Scope Boxes',\n       'Matchline', 'RVT Links', 'Viewports', 'Room Tags', 'Duct Systems',\n       'Ducts', 'Air Terminals', 'Center line', 'Duct Fittings',\n       'Duct Accessories', 'Electrical Equipment', 'Mechanical Equipment',\n       'Mechanical Equipment Tags', 'Pipes', 'Center Line',\n       'Piping Systems', 'Schedule Graphics'], dtype=object)"
     },
     "execution_count": 17,
     "metadata": {},
     "output_type": "execute_result"
    }
   ],
   "source": [
    "conn = sqlite3.connect(db_file)\n",
    "# Define and execute the SQL query with JOIN statements\n",
    "query = \"\"\"\n",
    "SELECT _objects_id.external_id, _objects_attr.category,_objects_attr.display_name, _objects_val.value\n",
    "FROM _objects_id\n",
    "JOIN _objects_eav ON _objects_id.id = _objects_eav.entity_id\n",
    "JOIN _objects_attr ON _objects_eav.attribute_id = _objects_attr.id\n",
    "JOIN _objects_val ON _objects_eav.value_id = _objects_val.id\n",
    "WHERE _objects_attr.name LIKE '_RC';\n",
    "\"\"\"\n",
    "df_categories = db.execute_query(query)\n",
    "# get unique values from the category column\n",
    "categories = df_categories['value'].unique()\n",
    "categories"
   ]
  }
 ],
 "metadata": {
  "kernelspec": {
   "display_name": "Python 3",
   "language": "python",
   "name": "python3"
  },
  "language_info": {
   "codemirror_mode": {
    "name": "ipython",
    "version": 3
   },
   "file_extension": ".py",
   "mimetype": "text/x-python",
   "name": "python",
   "nbconvert_exporter": "python",
   "pygments_lexer": "ipython3",
   "version": "3.11.5"
  }
 },
 "nbformat": 4,
 "nbformat_minor": 5
}
