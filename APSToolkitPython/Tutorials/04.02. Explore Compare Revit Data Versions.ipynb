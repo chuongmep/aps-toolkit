{
 "cells": [
  {
   "cell_type": "markdown",
   "metadata": {},
   "source": [
    "<table align=\"left\">\n",
    "  <td style=\"text-align: center\">\n",
    "    <a href=\"https://colab.research.google.com/github/chuongmep/aps-toolkit/blob/dev/APSToolkitPython/Tutorials/04.02.%20Explore%20Compare%20Revit%20Data%20Versions.ipynb\">\n",
    "      <img src=\"https://cloud.google.com/ml-engine/images/colab-logo-32px.png\" alt=\"Google Colaboratory logo\"><br> Run in Colab\n",
    "    </a>\n",
    "  </td>\n",
    "  <td style=\"text-align: center\">\n",
    "    <a href=\"https://github.com/chuongmep/aps-toolkit/blob/dev/APSToolkitPython/Tutorials/04.02.%20Explore%20Compare%20Revit%20Data%20Versions.ipynb\">\n",
    "      <img src=\"https://cloud.google.com/ml-engine/images/github-logo-32px.png\" alt=\"GitHub logo\"><br> View on GitHub\n",
    "    </a>\n",
    "  </td>\n",
    "</table>"
   ]
  },
  {
   "cell_type": "markdown",
   "metadata": {},
   "source": [
    "| | |\n",
    "|-|-|\n",
    "|Author(s) | [Chuong Ho](https://github.com/chuongmep) |"
   ]
  },
  {
   "cell_type": "code",
   "execution_count": 1,
   "metadata": {},
   "outputs": [
    {
     "name": "stdout",
     "output_type": "stream",
     "text": [
      "Requirement already satisfied: aps-toolkit in c:\\users\\vho2\\appdata\\local\\programs\\python\\python311\\lib\\site-packages (0.1.8)\n",
      "Requirement already satisfied: requests in c:\\users\\vho2\\appdata\\local\\programs\\python\\python311\\lib\\site-packages (from aps-toolkit) (2.31.0)\n",
      "Requirement already satisfied: pandas in c:\\users\\vho2\\appdata\\local\\programs\\python\\python311\\lib\\site-packages (from aps-toolkit) (2.2.0)\n",
      "Requirement already satisfied: numpy<2,>=1.23.2 in c:\\users\\vho2\\appdata\\local\\programs\\python\\python311\\lib\\site-packages (from pandas->aps-toolkit) (1.23.5)\n",
      "Requirement already satisfied: python-dateutil>=2.8.2 in c:\\users\\vho2\\appdata\\local\\programs\\python\\python311\\lib\\site-packages (from pandas->aps-toolkit) (2.8.2)\n",
      "Requirement already satisfied: pytz>=2020.1 in c:\\users\\vho2\\appdata\\local\\programs\\python\\python311\\lib\\site-packages (from pandas->aps-toolkit) (2023.3.post1)\n",
      "Requirement already satisfied: tzdata>=2022.7 in c:\\users\\vho2\\appdata\\local\\programs\\python\\python311\\lib\\site-packages (from pandas->aps-toolkit) (2023.3)\n",
      "Requirement already satisfied: charset-normalizer<4,>=2 in c:\\users\\vho2\\appdata\\local\\programs\\python\\python311\\lib\\site-packages (from requests->aps-toolkit) (3.1.0)\n",
      "Requirement already satisfied: idna<4,>=2.5 in c:\\users\\vho2\\appdata\\local\\programs\\python\\python311\\lib\\site-packages (from requests->aps-toolkit) (3.4)\n",
      "Requirement already satisfied: urllib3<3,>=1.21.1 in c:\\users\\vho2\\appdata\\local\\programs\\python\\python311\\lib\\site-packages (from requests->aps-toolkit) (1.26.18)\n",
      "Requirement already satisfied: certifi>=2017.4.17 in c:\\users\\vho2\\appdata\\local\\programs\\python\\python311\\lib\\site-packages (from requests->aps-toolkit) (2023.5.7)\n",
      "Requirement already satisfied: six>=1.5 in c:\\users\\vho2\\appdata\\local\\programs\\python\\python311\\lib\\site-packages (from python-dateutil>=2.8.2->pandas->aps-toolkit) (1.16.0)\n",
      "Note: you may need to restart the kernel to use updated packages.\n"
     ]
    },
    {
     "name": "stderr",
     "output_type": "stream",
     "text": [
      "\n",
      "[notice] A new release of pip is available: 23.3.2 -> 24.0\n",
      "[notice] To update, run: python.exe -m pip install --upgrade pip\n"
     ]
    }
   ],
   "source": [
    "%pip install aps-toolkit --upgrade"
   ]
  },
  {
   "cell_type": "code",
   "execution_count": 2,
   "metadata": {},
   "outputs": [],
   "source": [
    "from aps_toolkit import Auth\n",
    "import pandas as pd"
   ]
  },
  {
   "cell_type": "code",
   "execution_count": 3,
   "metadata": {},
   "outputs": [],
   "source": [
    "token = Auth().auth2leg()"
   ]
  },
  {
   "cell_type": "code",
   "execution_count": 6,
   "metadata": {},
   "outputs": [],
   "source": [
    "urn_v28 = \"dXJuOmFkc2sud2lwcHJvZDpmcy5maWxlOnZmLk9kOHR4RGJLU1NlbFRvVmcxb2MxVkE_dmVyc2lvbj0yOA\"\n",
    "urn_v27 = \"dXJuOmFkc2sud2lwcHJvZDpmcy5maWxlOnZmLk9kOHR4RGJLU1NlbFRvVmcxb2MxVkE_dmVyc2lvbj0yNw\""
   ]
  },
  {
   "cell_type": "code",
   "execution_count": 7,
   "metadata": {},
   "outputs": [],
   "source": [
    "from aps_toolkit import PropDbReaderRevit\n",
    "prop_reader_v28 = PropDbReaderRevit(urn_v28, token)\n",
    "prop_reader_v27 = PropDbReaderRevit(urn_v27, token)"
   ]
  },
  {
   "cell_type": "code",
   "execution_count": 8,
   "metadata": {},
   "outputs": [],
   "source": [
    "df_furniture_v28 = prop_reader_v28.get_data_by_category(\"Furniture\")\n",
    "df_furniture_v27 = prop_reader_v27.get_data_by_category(\"Furniture\")"
   ]
  },
  {
   "cell_type": "code",
   "execution_count": 9,
   "metadata": {},
   "outputs": [
    {
     "data": {
      "text/plain": [
       "False"
      ]
     },
     "execution_count": 9,
     "metadata": {},
     "output_type": "execute_result"
    }
   ],
   "source": [
    "# compare the two dataframes\n",
    "df_furniture_v28.equals(df_furniture_v27)"
   ]
  },
  {
   "cell_type": "code",
   "execution_count": 10,
   "metadata": {},
   "outputs": [
    {
     "data": {
      "text/html": [
       "<div>\n",
       "<style scoped>\n",
       "    .dataframe tbody tr th:only-of-type {\n",
       "        vertical-align: middle;\n",
       "    }\n",
       "\n",
       "    .dataframe tbody tr th {\n",
       "        vertical-align: top;\n",
       "    }\n",
       "\n",
       "    .dataframe thead tr th {\n",
       "        text-align: left;\n",
       "    }\n",
       "</style>\n",
       "<table border=\"1\" class=\"dataframe\">\n",
       "  <thead>\n",
       "    <tr>\n",
       "      <th></th>\n",
       "      <th colspan=\"2\" halign=\"left\">Comments</th>\n",
       "    </tr>\n",
       "    <tr>\n",
       "      <th></th>\n",
       "      <th>self</th>\n",
       "      <th>other</th>\n",
       "    </tr>\n",
       "  </thead>\n",
       "  <tbody>\n",
       "    <tr>\n",
       "      <th>0</th>\n",
       "      <td>This is a chair 2</td>\n",
       "      <td>This is a chair 1</td>\n",
       "    </tr>\n",
       "  </tbody>\n",
       "</table>\n",
       "</div>"
      ],
      "text/plain": [
       "            Comments                   \n",
       "                self              other\n",
       "0  This is a chair 2  This is a chair 1"
      ]
     },
     "execution_count": 10,
     "metadata": {},
     "output_type": "execute_result"
    }
   ],
   "source": [
    "# see the differences between the two dataframes\n",
    "df_furniture_v28.compare(df_furniture_v27)"
   ]
  },
  {
   "cell_type": "code",
   "execution_count": 11,
   "metadata": {},
   "outputs": [
    {
     "data": {
      "text/html": [
       "<div>\n",
       "<style scoped>\n",
       "    .dataframe tbody tr th:only-of-type {\n",
       "        vertical-align: middle;\n",
       "    }\n",
       "\n",
       "    .dataframe tbody tr th {\n",
       "        vertical-align: top;\n",
       "    }\n",
       "\n",
       "    .dataframe thead th {\n",
       "        text-align: right;\n",
       "    }\n",
       "</style>\n",
       "<table border=\"1\" class=\"dataframe\">\n",
       "  <thead>\n",
       "    <tr style=\"text-align: right;\">\n",
       "      <th></th>\n",
       "      <th>dbId</th>\n",
       "      <th>external_id</th>\n",
       "      <th>ElementId</th>\n",
       "      <th>name</th>\n",
       "      <th>Category</th>\n",
       "      <th>CategoryId</th>\n",
       "      <th>Level</th>\n",
       "      <th>Elevation from Level</th>\n",
       "      <th>Host</th>\n",
       "      <th>Offset from Host</th>\n",
       "      <th>...</th>\n",
       "      <th>Seat Material</th>\n",
       "      <th>Legs Material</th>\n",
       "      <th>Frame Material</th>\n",
       "      <th>Back Material</th>\n",
       "      <th>duzina</th>\n",
       "      <th>sirina</th>\n",
       "      <th>deka</th>\n",
       "      <th>konstrukcija</th>\n",
       "      <th>noge</th>\n",
       "      <th>plahta</th>\n",
       "    </tr>\n",
       "  </thead>\n",
       "  <tbody>\n",
       "  </tbody>\n",
       "</table>\n",
       "<p>0 rows × 62 columns</p>\n",
       "</div>"
      ],
      "text/plain": [
       "Empty DataFrame\n",
       "Columns: [dbId, external_id, ElementId, name, Category, CategoryId, Level, Elevation from Level, Host, Offset from Host, Moves With Nearby Elements, Armrest Left, Armrest Right, Data.Hello.Parquet, Image, Comments, Mark, Workset, Edited by, IFC Predefined Type, Export to IFC As, Export to IFC, IfcGUID, Phase Created, Phase Demolished, Type Name, Room Name, Room Number, Default Elevation, Width, Weight, Height, Depth, URL, Model, Manufacturer, Keynote, Description, Content Author, Assembly Code, Type Image, Type Comments, Cost, Assembly Description, Type Mark, OmniClass Number, OmniClass Title, Code Name, Type IFC Predefined Type, Export Type to IFC As, Export Type to IFC, Type IfcGUID, Seat Material, Legs Material, Frame Material, Back Material, duzina, sirina, deka, konstrukcija, noge, plahta]\n",
       "Index: []\n",
       "\n",
       "[0 rows x 62 columns]"
      ]
     },
     "execution_count": 11,
     "metadata": {},
     "output_type": "execute_result"
    }
   ],
   "source": [
    "# see what is in the first dataframe but not in the second\n",
    "df_furniture_v28[~df_furniture_v28.isin(df_furniture_v27)].dropna()"
   ]
  },
  {
   "cell_type": "code",
   "execution_count": 12,
   "metadata": {},
   "outputs": [
    {
     "data": {
      "text/html": [
       "<div>\n",
       "<style scoped>\n",
       "    .dataframe tbody tr th:only-of-type {\n",
       "        vertical-align: middle;\n",
       "    }\n",
       "\n",
       "    .dataframe tbody tr th {\n",
       "        vertical-align: top;\n",
       "    }\n",
       "\n",
       "    .dataframe thead th {\n",
       "        text-align: right;\n",
       "    }\n",
       "</style>\n",
       "<table border=\"1\" class=\"dataframe\">\n",
       "  <thead>\n",
       "    <tr style=\"text-align: right;\">\n",
       "      <th></th>\n",
       "      <th>dbId</th>\n",
       "      <th>external_id</th>\n",
       "      <th>ElementId</th>\n",
       "      <th>name</th>\n",
       "      <th>Category</th>\n",
       "      <th>CategoryId</th>\n",
       "      <th>Level</th>\n",
       "      <th>Elevation from Level</th>\n",
       "      <th>Host</th>\n",
       "      <th>Offset from Host</th>\n",
       "      <th>...</th>\n",
       "      <th>Seat Material</th>\n",
       "      <th>Legs Material</th>\n",
       "      <th>Frame Material</th>\n",
       "      <th>Back Material</th>\n",
       "      <th>duzina</th>\n",
       "      <th>sirina</th>\n",
       "      <th>deka</th>\n",
       "      <th>konstrukcija</th>\n",
       "      <th>noge</th>\n",
       "      <th>plahta</th>\n",
       "    </tr>\n",
       "  </thead>\n",
       "  <tbody>\n",
       "  </tbody>\n",
       "</table>\n",
       "<p>0 rows × 62 columns</p>\n",
       "</div>"
      ],
      "text/plain": [
       "Empty DataFrame\n",
       "Columns: [dbId, external_id, ElementId, name, Category, CategoryId, Level, Elevation from Level, Host, Offset from Host, Moves With Nearby Elements, Armrest Left, Armrest Right, Data.Hello.Parquet, Image, Comments, Mark, Workset, Edited by, IFC Predefined Type, Export to IFC As, Export to IFC, IfcGUID, Phase Created, Phase Demolished, Type Name, Room Name, Room Number, Default Elevation, Width, Weight, Height, Depth, URL, Model, Manufacturer, Keynote, Description, Content Author, Assembly Code, Type Image, Type Comments, Cost, Assembly Description, Type Mark, OmniClass Number, OmniClass Title, Code Name, Type IFC Predefined Type, Export Type to IFC As, Export Type to IFC, Type IfcGUID, Seat Material, Legs Material, Frame Material, Back Material, duzina, sirina, deka, konstrukcija, noge, plahta]\n",
       "Index: []\n",
       "\n",
       "[0 rows x 62 columns]"
      ]
     },
     "execution_count": 12,
     "metadata": {},
     "output_type": "execute_result"
    }
   ],
   "source": [
    "# see what is in the second dataframe but not in the first\n",
    "df_furniture_v27[~df_furniture_v27.isin(df_furniture_v28)].dropna()"
   ]
  }
 ],
 "metadata": {
  "kernelspec": {
   "display_name": "Python 3",
   "language": "python",
   "name": "python3"
  },
  "language_info": {
   "codemirror_mode": {
    "name": "ipython",
    "version": 3
   },
   "file_extension": ".py",
   "mimetype": "text/x-python",
   "name": "python",
   "nbconvert_exporter": "python",
   "pygments_lexer": "ipython3",
   "version": "3.11.7"
  }
 },
 "nbformat": 4,
 "nbformat_minor": 2
}
