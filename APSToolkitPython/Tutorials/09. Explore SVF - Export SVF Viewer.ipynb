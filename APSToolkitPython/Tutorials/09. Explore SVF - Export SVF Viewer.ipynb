{
 "cells": [
  {
   "cell_type": "markdown",
   "metadata": {},
   "source": [
    "<table align=\"left\">\n",
    "  <td style=\"text-align: center\">\n",
    "    <a href=\"https://colab.research.google.com/github/chuongmep/aps-toolkit/blob/dev/APSToolkitPython/Tutorials/09.%20Explore%20SVF%20-%20Export%20SVF%20Viewer.ipynb\">\n",
    "      <img src=\"https://cloud.google.com/ml-engine/images/colab-logo-32px.png\" alt=\"Google Colaboratory logo\"><br> Run in Colab\n",
    "    </a>\n",
    "  </td>\n",
    "  <td style=\"text-align: center\">\n",
    "    <a href=\"https://github.com/chuongmep/aps-toolkit/blob/dev/APSToolkitPython/Tutorials/09.%20Explore%20SVF%20-%20Export%20SVF%20Viewer.ipynb\">\n",
    "      <img src=\"https://cloud.google.com/ml-engine/images/github-logo-32px.png\" alt=\"GitHub logo\"><br> View on GitHub\n",
    "    </a>\n",
    "  </td>\n",
    "</table>"
   ]
  },
  {
   "cell_type": "markdown",
   "metadata": {},
   "source": [
    "<table align=\"left\">\n",
    "  <tr>\n",
    "    <td>Author(s)</td>\n",
    "    <td><a href=\"https://github.com/chuongmep\" id=\"author-link\">Chuong Ho</a></td>\n",
    "    <!-- <td><a href=\"<your repo>\" id=\"github-link\">YourName</a></td> -->\n",
    "  </tr>\n",
    "</table>"
   ]
  },
  {
   "cell_type": "markdown",
   "metadata": {},
   "source": [
    "### Introduction"
   ]
  },
  {
   "cell_type": "markdown",
   "metadata": {},
   "source": [
    "SVF (Simple Vector Format) is a file format used by Autodesk Forge for displaying 2D and 3D model data. It's a proprietary format developed by Autodesk to optimize the loading and rendering of design data for web and mobile applications. \n",
    "\n",
    "SVF files are typically generated from source design files (like DWG, Revit, or Inventor files) using the Model Derivative API in Autodesk Forge. The SVF file contains a hierarchical structure of the model data, including geometry, materials, and metadata, which can be efficiently streamed to a client application and rendered using the Forge Viewer. \n",
    "\n",
    "This format is designed to be lightweight and fast-loading, making it ideal for web-based viewing of complex design data."
   ]
  },
  {
   "cell_type": "code",
   "execution_count": 1,
   "metadata": {},
   "source": [
    "%pip install aps_toolkit --upgrade"
   ],
   "outputs": []
  },
  {
   "cell_type": "markdown",
   "metadata": {},
   "source": [
    "## Auth"
   ]
  },
  {
   "cell_type": "code",
   "execution_count": 28,
   "metadata": {},
   "source": [
    "from aps_toolkit import Auth\n",
    "import pandas as pd"
   ],
   "outputs": []
  },
  {
   "cell_type": "code",
   "execution_count": 3,
   "metadata": {},
   "source": [
    "token = Auth().auth2leg()"
   ],
   "outputs": []
  },
  {
   "cell_type": "markdown",
   "metadata": {},
   "source": [
    "#### Auth Via Google Colab"
   ]
  },
  {
   "cell_type": "code",
   "execution_count": null,
   "metadata": {},
   "source": [
    "# from google.colab import userdata\n",
    "# client_id = userdata.get('APS_CLIENT_ID')\n",
    "# client_secret = userdata.get('APS_CLIENT_SECRET')\n",
    "# auth = Auth(client_id, client_secret)\n",
    "# token = auth.auth2leg()"
   ],
   "outputs": []
  },
  {
   "cell_type": "markdown",
   "metadata": {},
   "source": [
    "## SVF Reader"
   ]
  },
  {
   "cell_type": "code",
   "execution_count": 4,
   "metadata": {},
   "source": [
    "from aps_toolkit import SVFReader"
   ],
   "outputs": []
  },
  {
   "cell_type": "code",
   "execution_count": 48,
   "metadata": {},
   "source": [
    "urn = \"dXJuOmFkc2sud2lwcHJvZDpmcy5maWxlOnZmLk9kOHR4RGJLU1NlbFRvVmcxb2MxVkE_dmVyc2lvbj0yOA\""
   ],
   "outputs": []
  },
  {
   "cell_type": "markdown",
   "metadata": {},
   "source": [
    "### Read SVF"
   ]
  },
  {
   "cell_type": "code",
   "execution_count": 49,
   "metadata": {},
   "source": [
    "svfReader = SVFReader(urn,token,\"US\")"
   ],
   "outputs": []
  },
  {
   "cell_type": "code",
   "execution_count": 50,
   "metadata": {},
   "source": [
    "manifests = svfReader.read_svf_manifest_items()"
   ],
   "outputs": []
  },
  {
   "cell_type": "code",
   "execution_count": 51,
   "metadata": {},
   "source": [
    "manifests_item = manifests[0]\n",
    "print(manifests_item.guid)\n",
    "print(manifests_item.mime)\n",
    "# print files \n",
    "for file in manifests_item.path_info.files:\n",
    "    print(file)"
   ],
   "outputs": []
  },
  {
   "cell_type": "code",
   "execution_count": 52,
   "metadata": {},
   "source": [
    "contents = svfReader.read_contents(manifests_item)"
   ],
   "outputs": []
  },
  {
   "cell_type": "code",
   "execution_count": 58,
   "metadata": {},
   "source": [
    "import pandas as pd\n",
    "pd.DataFrame(contents[0].fragments).head()"
   ],
   "outputs": []
  },
  {
   "cell_type": "code",
   "execution_count": 54,
   "metadata": {},
   "source": [
    "pd.DataFrame(contents[0].materials).head()"
   ],
   "outputs": []
  },
  {
   "cell_type": "code",
   "execution_count": 55,
   "metadata": {},
   "source": [
    "pd.DataFrame(contents[0].meshpacks).head()"
   ],
   "outputs": []
  },
  {
   "cell_type": "markdown",
   "metadata": {},
   "source": [
    "## Read Propeties"
   ]
  },
  {
   "cell_type": "code",
   "execution_count": 56,
   "metadata": {},
   "source": [
    "props = svfReader.read_properties()"
   ],
   "outputs": []
  },
  {
   "cell_type": "code",
   "execution_count": 57,
   "metadata": {},
   "source": [
    "props.get_properties(1)"
   ],
   "outputs": []
  },
  {
   "cell_type": "markdown",
   "metadata": {},
   "source": [
    "### Download SVF"
   ]
  },
  {
   "cell_type": "code",
   "execution_count": 25,
   "metadata": {},
   "source": [
    "import os\n",
    "dir = \"output\"\n",
    "if not os.path.exists(dir):\n",
    "    os.makedirs(dir)\n",
    "svfReader.download(dir,manifests_item)\n"
   ],
   "outputs": []
  }
 ],
 "metadata": {
  "kernelspec": {
   "display_name": "Python 3",
   "language": "python",
   "name": "python3"
  },
  "language_info": {
   "codemirror_mode": {
    "name": "ipython",
    "version": 3
   },
   "file_extension": ".py",
   "mimetype": "text/x-python",
   "name": "python",
   "nbconvert_exporter": "python",
   "pygments_lexer": "ipython3",
   "version": "3.11.5"
  }
 },
 "nbformat": 4,
 "nbformat_minor": 2
}
