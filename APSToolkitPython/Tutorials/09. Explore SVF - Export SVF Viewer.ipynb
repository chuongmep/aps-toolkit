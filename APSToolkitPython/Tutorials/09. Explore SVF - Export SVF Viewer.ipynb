{
 "cells": [
  {
   "cell_type": "markdown",
   "metadata": {},
   "source": [
    "<table align=\"left\">\n",
    "  <td style=\"text-align: center\">\n",
    "    <a href=\"https://colab.research.google.com/github/chuongmep/aps-toolkit/blob/dev/APSToolkitPython/Tutorials/09.%20Explore%20SVF%20-%20Export%20SVF%20Viewer.ipynb\">\n",
    "      <img src=\"https://cloud.google.com/ml-engine/images/colab-logo-32px.png\" alt=\"Google Colaboratory logo\"><br> Run in Colab\n",
    "    </a>\n",
    "  </td>\n",
    "  <td style=\"text-align: center\">\n",
    "    <a href=\"https://github.com/chuongmep/aps-toolkit/blob/dev/APSToolkitPython/Tutorials/09.%20Explore%20SVF%20-%20Export%20SVF%20Viewer.ipynb\">\n",
    "      <img src=\"https://cloud.google.com/ml-engine/images/github-logo-32px.png\" alt=\"GitHub logo\"><br> View on GitHub\n",
    "    </a>\n",
    "  </td>\n",
    "</table>"
   ]
  },
  {
   "cell_type": "markdown",
   "metadata": {},
   "source": [
    "<table align=\"left\">\n",
    "  <tr>\n",
    "    <td>Author(s)</td>\n",
    "    <td><a href=\"https://github.com/chuongmep\" id=\"author-link\">Chuong Ho</a></td>\n",
    "    <!-- <td><a href=\"<your repo>\" id=\"github-link\">YourName</a></td> -->\n",
    "  </tr>\n",
    "</table>"
   ]
  },
  {
   "cell_type": "markdown",
   "metadata": {},
   "source": [
    "### Introduction"
   ]
  },
  {
   "cell_type": "markdown",
   "metadata": {},
   "source": [
    "SVF (Simple Vector Format) is a file format used by Autodesk Forge for displaying 2D and 3D model data. It's a proprietary format developed by Autodesk to optimize the loading and rendering of design data for web and mobile applications. \n",
    "\n",
    "SVF files are typically generated from source design files (like DWG, Revit, or Inventor files) using the Model Derivative API in Autodesk Forge. The SVF file contains a hierarchical structure of the model data, including geometry, materials, and metadata, which can be efficiently streamed to a client application and rendered using the Forge Viewer. \n",
    "\n",
    "This format is designed to be lightweight and fast-loading, making it ideal for web-based viewing of complex design data."
   ]
  },
  {
   "cell_type": "code",
   "execution_count": 1,
   "metadata": {},
   "outputs": [
    {
     "name": "stdout",
     "output_type": "stream",
     "text": [
      "Requirement already satisfied: aps_toolkit in c:\\python311\\lib\\site-packages (0.3.6)\n",
      "Collecting aps_toolkit\n",
      "  Downloading aps_toolkit-0.3.7-py3-none-any.whl.metadata (2.0 kB)\n",
      "Requirement already satisfied: requests in c:\\python311\\lib\\site-packages (from aps_toolkit) (2.31.0)\n",
      "Requirement already satisfied: pandas in c:\\python311\\lib\\site-packages (from aps_toolkit) (2.2.1)\n",
      "Requirement already satisfied: numpy<2,>=1.23.2 in c:\\python311\\lib\\site-packages (from pandas->aps_toolkit) (1.26.0)\n",
      "Requirement already satisfied: python-dateutil>=2.8.2 in c:\\python311\\lib\\site-packages (from pandas->aps_toolkit) (2.8.2)\n",
      "Requirement already satisfied: pytz>=2020.1 in c:\\python311\\lib\\site-packages (from pandas->aps_toolkit) (2024.1)\n",
      "Requirement already satisfied: tzdata>=2022.7 in c:\\python311\\lib\\site-packages (from pandas->aps_toolkit) (2024.1)\n",
      "Requirement already satisfied: charset-normalizer<4,>=2 in c:\\python311\\lib\\site-packages (from requests->aps_toolkit) (3.2.0)\n",
      "Requirement already satisfied: idna<4,>=2.5 in c:\\python311\\lib\\site-packages (from requests->aps_toolkit) (3.4)\n",
      "Requirement already satisfied: urllib3<3,>=1.21.1 in c:\\python311\\lib\\site-packages (from requests->aps_toolkit) (2.0.4)\n",
      "Requirement already satisfied: certifi>=2017.4.17 in c:\\python311\\lib\\site-packages (from requests->aps_toolkit) (2023.7.22)\n",
      "Requirement already satisfied: six>=1.5 in c:\\python311\\lib\\site-packages (from python-dateutil>=2.8.2->pandas->aps_toolkit) (1.16.0)\n",
      "Downloading aps_toolkit-0.3.7-py3-none-any.whl (45 kB)\n",
      "   ---------------------------------------- 0.0/45.1 kB ? eta -:--:--\n",
      "   ------------------ --------------------- 20.5/45.1 kB 330.3 kB/s eta 0:00:01\n",
      "   ---------------------------------------- 45.1/45.1 kB 446.8 kB/s eta 0:00:00\n",
      "Installing collected packages: aps_toolkit\n",
      "  Attempting uninstall: aps_toolkit\n",
      "    Found existing installation: aps-toolkit 0.3.6\n",
      "    Uninstalling aps-toolkit-0.3.6:\n",
      "      Successfully uninstalled aps-toolkit-0.3.6\n",
      "Successfully installed aps_toolkit-0.3.7\n",
      "Note: you may need to restart the kernel to use updated packages.\n"
     ]
    }
   ],
   "source": [
    "%pip install aps_toolkit --upgrade"
   ]
  },
  {
   "cell_type": "markdown",
   "metadata": {},
   "source": [
    "## Auth"
   ]
  },
  {
   "cell_type": "code",
   "execution_count": 28,
   "metadata": {},
   "outputs": [],
   "source": [
    "from aps_toolkit import Auth\n",
    "import pandas as pd"
   ]
  },
  {
   "cell_type": "code",
   "execution_count": 3,
   "metadata": {},
   "outputs": [],
   "source": [
    "token = Auth().auth2leg()"
   ]
  },
  {
   "cell_type": "markdown",
   "metadata": {},
   "source": [
    "## SVF Reader"
   ]
  },
  {
   "cell_type": "code",
   "execution_count": 4,
   "metadata": {},
   "outputs": [],
   "source": [
    "from aps_toolkit import SVFReader"
   ]
  },
  {
   "cell_type": "code",
   "execution_count": 5,
   "metadata": {},
   "outputs": [],
   "source": [
    "urn = \"dXJuOmFkc2sud2lwcHJvZDpmcy5maWxlOnZmLnRfTFFVUDZoU3l5UXo5bm1sTE1FUHc_dmVyc2lvbj02\""
   ]
  },
  {
   "cell_type": "markdown",
   "metadata": {},
   "source": [
    "### Read SVF"
   ]
  },
  {
   "cell_type": "code",
   "execution_count": 6,
   "metadata": {},
   "outputs": [],
   "source": [
    "svfReader = SVFReader(urn,token,\"US\")"
   ]
  },
  {
   "cell_type": "code",
   "execution_count": 13,
   "metadata": {},
   "outputs": [],
   "source": [
    "manifests = svfReader.read_svf_manifest_items()"
   ]
  },
  {
   "cell_type": "code",
   "execution_count": 38,
   "metadata": {},
   "outputs": [
    {
     "name": "stdout",
     "output_type": "stream",
     "text": [
      "d2ec690f-6c36-33df-081a-59bc7c213c51\n",
      "application/autodesk-svf\n",
      "mats/metal/external.dependency/simple_metal_mtl_break_pattern.jpg\n",
      "mats/metal/external.dependency/simple_metal_mtl_brush_pattern.jpg\n",
      "mats/metal/external.dependency/simple_metal_mtl_checkerplate_pattern.jpg\n",
      "mats/metal/external.dependency/simple_metal_mtl_diamondplate_pattern.jpg\n",
      "3/mats/plastic_course_bump.png\n",
      "1/mats/metals.ornamental metals.aluminum.brushed.random.png\n",
      "3/mats/galvanized_small_anisdir.png\n",
      "3/mats/galvanized_small_color_svf_tex_mod.jpg\n",
      "3/mats/galvanized_small_color.jpg\n",
      "3/mats/galvanized_small_rough.png\n",
      "3/mats/galvanized_small_spec.png\n",
      "3/mats/metals.metal fabrications.metal stairs.galvanized.png\n",
      "../../objects_attrs.json.gz\n",
      "../../objects_vals.json.gz\n",
      "../../objects_ids.json.gz\n",
      "../../objects_viewables.json.gz\n",
      "../../objects_offs.json.gz\n",
      "../../objects_avs.json.gz\n",
      "ProteinMaterials.json.gz\n",
      "CameraDefinitions.bin\n",
      "LightDefinitions.bin\n",
      "0.pf\n",
      "1.pf\n",
      "2.pf\n",
      "3.pf\n",
      "4.pf\n",
      "5.pf\n",
      "6.pf\n",
      "7.pf\n",
      "8.pf\n",
      "9.pf\n",
      "10.pf\n",
      "11.pf\n",
      "12.pf\n",
      "13.pf\n",
      "14.pf\n",
      "15.pf\n",
      "16.pf\n",
      "17.pf\n",
      "18.pf\n",
      "19.pf\n",
      "20.pf\n",
      "GeometryMetadata.pf\n",
      "FragmentList.pack\n",
      "CameraList.bin\n",
      "LightList.bin\n",
      "InstanceTree.bin\n",
      "Set.bin\n",
      "Materials.json.gz\n"
     ]
    }
   ],
   "source": [
    "manifests_item = manifests[0]\n",
    "print(manifests_item.guid)\n",
    "print(manifests_item.mime)\n",
    "# print files \n",
    "for file in manifests_item.path_info.files:\n",
    "    print(file)"
   ]
  },
  {
   "cell_type": "code",
   "execution_count": 16,
   "metadata": {},
   "outputs": [
    {
     "name": "stdout",
     "output_type": "stream",
     "text": [
      "Unsupported material definition: Generic\n",
      "Unsupported material definition: Generic\n",
      "Unsupported material definition: Generic\n",
      "Unsupported material definition: Metal\n",
      "Unsupported material definition: Generic\n",
      "Unsupported material definition: PlasticVinyl\n",
      "Unsupported material definition: Generic\n",
      "Unsupported material definition: PlasticVinyl\n",
      "Unsupported material definition: Generic\n",
      "Unsupported material definition: Generic\n",
      "Unsupported material definition: Generic\n",
      "Unsupported material definition: Generic\n",
      "Unsupported material definition: Glazing\n",
      "Unsupported material definition: Generic\n",
      "Unsupported material definition: Generic\n",
      "Unsupported material definition: Generic\n",
      "Unsupported material definition: Glazing\n",
      "Unsupported material definition: Glazing\n",
      "Unsupported material definition: PlasticVinyl\n",
      "Unsupported material definition: Metal\n",
      "Unsupported material definition: PrismMetal\n",
      "Unsupported material definition: Metal\n",
      "Unsupported material definition: Generic\n",
      "Unsupported material definition: Generic\n",
      "Unsupported material definition: Generic\n",
      "Unsupported material definition: Generic\n",
      "Unsupported material definition: Metal\n",
      "Unsupported material definition: Metal\n"
     ]
    }
   ],
   "source": [
    "contents = svfReader.read_contents(manifests_item)"
   ]
  },
  {
   "cell_type": "code",
   "execution_count": 40,
   "metadata": {},
   "outputs": [
    {
     "data": {
      "text/html": [
       "<div>\n",
       "<style scoped>\n",
       "    .dataframe tbody tr th:only-of-type {\n",
       "        vertical-align: middle;\n",
       "    }\n",
       "\n",
       "    .dataframe tbody tr th {\n",
       "        vertical-align: top;\n",
       "    }\n",
       "\n",
       "    .dataframe thead th {\n",
       "        text-align: right;\n",
       "    }\n",
       "</style>\n",
       "<table border=\"1\" class=\"dataframe\">\n",
       "  <thead>\n",
       "    <tr style=\"text-align: right;\">\n",
       "      <th></th>\n",
       "      <th>0</th>\n",
       "    </tr>\n",
       "  </thead>\n",
       "  <tbody>\n",
       "    <tr>\n",
       "      <th>0</th>\n",
       "      <td>&lt;aps_toolkit.Fragments.Fragments object at 0x0...</td>\n",
       "    </tr>\n",
       "    <tr>\n",
       "      <th>1</th>\n",
       "      <td>&lt;aps_toolkit.Fragments.Fragments object at 0x0...</td>\n",
       "    </tr>\n",
       "    <tr>\n",
       "      <th>2</th>\n",
       "      <td>&lt;aps_toolkit.Fragments.Fragments object at 0x0...</td>\n",
       "    </tr>\n",
       "    <tr>\n",
       "      <th>3</th>\n",
       "      <td>&lt;aps_toolkit.Fragments.Fragments object at 0x0...</td>\n",
       "    </tr>\n",
       "    <tr>\n",
       "      <th>4</th>\n",
       "      <td>&lt;aps_toolkit.Fragments.Fragments object at 0x0...</td>\n",
       "    </tr>\n",
       "    <tr>\n",
       "      <th>...</th>\n",
       "      <td>...</td>\n",
       "    </tr>\n",
       "    <tr>\n",
       "      <th>15195</th>\n",
       "      <td>&lt;aps_toolkit.Fragments.Fragments object at 0x0...</td>\n",
       "    </tr>\n",
       "    <tr>\n",
       "      <th>15196</th>\n",
       "      <td>&lt;aps_toolkit.Fragments.Fragments object at 0x0...</td>\n",
       "    </tr>\n",
       "    <tr>\n",
       "      <th>15197</th>\n",
       "      <td>&lt;aps_toolkit.Fragments.Fragments object at 0x0...</td>\n",
       "    </tr>\n",
       "    <tr>\n",
       "      <th>15198</th>\n",
       "      <td>&lt;aps_toolkit.Fragments.Fragments object at 0x0...</td>\n",
       "    </tr>\n",
       "    <tr>\n",
       "      <th>15199</th>\n",
       "      <td>&lt;aps_toolkit.Fragments.Fragments object at 0x0...</td>\n",
       "    </tr>\n",
       "  </tbody>\n",
       "</table>\n",
       "<p>15200 rows × 1 columns</p>\n",
       "</div>"
      ],
      "text/plain": [
       "                                                       0\n",
       "0      <aps_toolkit.Fragments.Fragments object at 0x0...\n",
       "1      <aps_toolkit.Fragments.Fragments object at 0x0...\n",
       "2      <aps_toolkit.Fragments.Fragments object at 0x0...\n",
       "3      <aps_toolkit.Fragments.Fragments object at 0x0...\n",
       "4      <aps_toolkit.Fragments.Fragments object at 0x0...\n",
       "...                                                  ...\n",
       "15195  <aps_toolkit.Fragments.Fragments object at 0x0...\n",
       "15196  <aps_toolkit.Fragments.Fragments object at 0x0...\n",
       "15197  <aps_toolkit.Fragments.Fragments object at 0x0...\n",
       "15198  <aps_toolkit.Fragments.Fragments object at 0x0...\n",
       "15199  <aps_toolkit.Fragments.Fragments object at 0x0...\n",
       "\n",
       "[15200 rows x 1 columns]"
      ]
     },
     "execution_count": 40,
     "metadata": {},
     "output_type": "execute_result"
    }
   ],
   "source": [
    "import pandas as pd\n",
    "pd.DataFrame(contents[0].fragments)"
   ]
  },
  {
   "cell_type": "code",
   "execution_count": 22,
   "metadata": {},
   "outputs": [
    {
     "data": {
      "text/html": [
       "<div>\n",
       "<style scoped>\n",
       "    .dataframe tbody tr th:only-of-type {\n",
       "        vertical-align: middle;\n",
       "    }\n",
       "\n",
       "    .dataframe tbody tr th {\n",
       "        vertical-align: top;\n",
       "    }\n",
       "\n",
       "    .dataframe thead th {\n",
       "        text-align: right;\n",
       "    }\n",
       "</style>\n",
       "<table border=\"1\" class=\"dataframe\">\n",
       "  <thead>\n",
       "    <tr style=\"text-align: right;\">\n",
       "      <th></th>\n",
       "      <th>0</th>\n",
       "    </tr>\n",
       "  </thead>\n",
       "  <tbody>\n",
       "    <tr>\n",
       "      <th>0</th>\n",
       "      <td>&lt;aps_toolkit.Materials.Materials object at 0x0...</td>\n",
       "    </tr>\n",
       "    <tr>\n",
       "      <th>1</th>\n",
       "      <td>&lt;aps_toolkit.Materials.Materials object at 0x0...</td>\n",
       "    </tr>\n",
       "    <tr>\n",
       "      <th>2</th>\n",
       "      <td>&lt;aps_toolkit.Materials.Materials object at 0x0...</td>\n",
       "    </tr>\n",
       "    <tr>\n",
       "      <th>3</th>\n",
       "      <td>&lt;aps_toolkit.Materials.Materials object at 0x0...</td>\n",
       "    </tr>\n",
       "    <tr>\n",
       "      <th>4</th>\n",
       "      <td>&lt;aps_toolkit.Materials.Materials object at 0x0...</td>\n",
       "    </tr>\n",
       "  </tbody>\n",
       "</table>\n",
       "</div>"
      ],
      "text/plain": [
       "                                                   0\n",
       "0  <aps_toolkit.Materials.Materials object at 0x0...\n",
       "1  <aps_toolkit.Materials.Materials object at 0x0...\n",
       "2  <aps_toolkit.Materials.Materials object at 0x0...\n",
       "3  <aps_toolkit.Materials.Materials object at 0x0...\n",
       "4  <aps_toolkit.Materials.Materials object at 0x0..."
      ]
     },
     "execution_count": 22,
     "metadata": {},
     "output_type": "execute_result"
    }
   ],
   "source": [
    "pd.DataFrame(contents[0].materials).head()"
   ]
  },
  {
   "cell_type": "code",
   "execution_count": 23,
   "metadata": {},
   "outputs": [
    {
     "data": {
      "text/html": [
       "<div>\n",
       "<style scoped>\n",
       "    .dataframe tbody tr th:only-of-type {\n",
       "        vertical-align: middle;\n",
       "    }\n",
       "\n",
       "    .dataframe tbody tr th {\n",
       "        vertical-align: top;\n",
       "    }\n",
       "\n",
       "    .dataframe thead th {\n",
       "        text-align: right;\n",
       "    }\n",
       "</style>\n",
       "<table border=\"1\" class=\"dataframe\">\n",
       "  <thead>\n",
       "    <tr style=\"text-align: right;\">\n",
       "      <th></th>\n",
       "      <th>0</th>\n",
       "    </tr>\n",
       "  </thead>\n",
       "  <tbody>\n",
       "    <tr>\n",
       "      <th>0</th>\n",
       "      <td>&lt;aps_toolkit.SVFMesh.SVFMesh object at 0x00000...</td>\n",
       "    </tr>\n",
       "    <tr>\n",
       "      <th>1</th>\n",
       "      <td>&lt;aps_toolkit.SVFMesh.SVFMesh object at 0x00000...</td>\n",
       "    </tr>\n",
       "    <tr>\n",
       "      <th>2</th>\n",
       "      <td>&lt;aps_toolkit.SVFMesh.SVFMesh object at 0x00000...</td>\n",
       "    </tr>\n",
       "    <tr>\n",
       "      <th>3</th>\n",
       "      <td>&lt;aps_toolkit.SVFMesh.SVFMesh object at 0x00000...</td>\n",
       "    </tr>\n",
       "    <tr>\n",
       "      <th>4</th>\n",
       "      <td>&lt;aps_toolkit.SVFMesh.SVFMesh object at 0x00000...</td>\n",
       "    </tr>\n",
       "  </tbody>\n",
       "</table>\n",
       "</div>"
      ],
      "text/plain": [
       "                                                   0\n",
       "0  <aps_toolkit.SVFMesh.SVFMesh object at 0x00000...\n",
       "1  <aps_toolkit.SVFMesh.SVFMesh object at 0x00000...\n",
       "2  <aps_toolkit.SVFMesh.SVFMesh object at 0x00000...\n",
       "3  <aps_toolkit.SVFMesh.SVFMesh object at 0x00000...\n",
       "4  <aps_toolkit.SVFMesh.SVFMesh object at 0x00000..."
      ]
     },
     "execution_count": 23,
     "metadata": {},
     "output_type": "execute_result"
    }
   ],
   "source": [
    "pd.DataFrame(contents[0].meshpacks).head()"
   ]
  },
  {
   "cell_type": "markdown",
   "metadata": {},
   "source": [
    "### Download SVF"
   ]
  },
  {
   "cell_type": "code",
   "execution_count": 25,
   "metadata": {},
   "outputs": [],
   "source": [
    "import os\n",
    "dir = \"output\"\n",
    "if not os.path.exists(dir):\n",
    "    os.makedirs(dir)\n",
    "svfReader.download(dir,manifests_item)\n"
   ]
  }
 ],
 "metadata": {
  "kernelspec": {
   "display_name": "Python 3",
   "language": "python",
   "name": "python3"
  },
  "language_info": {
   "codemirror_mode": {
    "name": "ipython",
    "version": 3
   },
   "file_extension": ".py",
   "mimetype": "text/x-python",
   "name": "python",
   "nbconvert_exporter": "python",
   "pygments_lexer": "ipython3",
   "version": "3.11.5"
  }
 },
 "nbformat": 4,
 "nbformat_minor": 2
}
