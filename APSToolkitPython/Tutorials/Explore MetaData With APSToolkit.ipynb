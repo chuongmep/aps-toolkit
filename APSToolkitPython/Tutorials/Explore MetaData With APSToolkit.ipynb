{
 "cells": [
  {
   "cell_type": "code",
   "execution_count": 1,
   "metadata": {
    "ExecuteTime": {
     "end_time": "2024-03-02T14:12:22.210102Z",
     "start_time": "2024-03-02T14:12:19.115142Z"
    }
   },
   "outputs": [
    {
     "name": "stdout",
     "output_type": "stream",
     "text": [
      "Requirement already satisfied: aps-toolkit in c:\\python311\\lib\\site-packages (0.0.8)Note: you may need to restart the kernel to use updated packages.\n",
      "\n",
      "Requirement already satisfied: requests in c:\\python311\\lib\\site-packages (from aps-toolkit) (2.31.0)\n",
      "Requirement already satisfied: pandas in c:\\python311\\lib\\site-packages (from aps-toolkit) (2.2.1)\n",
      "Requirement already satisfied: numpy<2,>=1.23.2 in c:\\python311\\lib\\site-packages (from pandas->aps-toolkit) (1.26.0)\n",
      "Requirement already satisfied: python-dateutil>=2.8.2 in c:\\python311\\lib\\site-packages (from pandas->aps-toolkit) (2.8.2)\n",
      "Requirement already satisfied: pytz>=2020.1 in c:\\python311\\lib\\site-packages (from pandas->aps-toolkit) (2024.1)\n",
      "Requirement already satisfied: tzdata>=2022.7 in c:\\python311\\lib\\site-packages (from pandas->aps-toolkit) (2024.1)\n",
      "Requirement already satisfied: charset-normalizer<4,>=2 in c:\\python311\\lib\\site-packages (from requests->aps-toolkit) (3.2.0)\n",
      "Requirement already satisfied: idna<4,>=2.5 in c:\\python311\\lib\\site-packages (from requests->aps-toolkit) (3.4)\n",
      "Requirement already satisfied: urllib3<3,>=1.21.1 in c:\\python311\\lib\\site-packages (from requests->aps-toolkit) (2.0.4)\n",
      "Requirement already satisfied: certifi>=2017.4.17 in c:\\python311\\lib\\site-packages (from requests->aps-toolkit) (2023.7.22)\n",
      "Requirement already satisfied: six>=1.5 in c:\\python311\\lib\\site-packages (from python-dateutil>=2.8.2->pandas->aps-toolkit) (1.16.0)\n"
     ]
    }
   ],
   "source": [
    "%pip install aps-toolkit --upgrade"
   ]
  },
  {
   "cell_type": "code",
   "execution_count": 2,
   "metadata": {
    "ExecuteTime": {
     "end_time": "2024-03-02T14:12:22.214171Z",
     "start_time": "2024-03-02T14:12:22.211115Z"
    }
   },
   "outputs": [],
   "source": [
    "from aps_toolkit import Auth\n",
    "import pandas as pd"
   ]
  },
  {
   "cell_type": "code",
   "execution_count": 3,
   "metadata": {
    "ExecuteTime": {
     "end_time": "2024-03-02T14:12:23.004384Z",
     "start_time": "2024-03-02T14:12:22.215209Z"
    }
   },
   "outputs": [],
   "source": [
    "token = Auth().auth2leg()"
   ]
  },
  {
   "cell_type": "code",
   "execution_count": 4,
   "metadata": {
    "ExecuteTime": {
     "end_time": "2024-03-02T14:12:23.009480Z",
     "start_time": "2024-03-02T14:12:23.005633Z"
    }
   },
   "outputs": [],
   "source": [
    "urn = \"dXJuOmFkc2sud2lwcHJvZDpmcy5maWxlOnZmLjAtYnBtcEpXUWJTRUVNdUFac1VETWc_dmVyc2lvbj0yNQ\""
   ]
  },
  {
   "cell_type": "code",
   "execution_count": 5,
   "metadata": {
    "ExecuteTime": {
     "end_time": "2024-03-02T14:12:31.994676Z",
     "start_time": "2024-03-02T14:12:23.010491Z"
    }
   },
   "outputs": [],
   "source": [
    "from aps_toolkit import PropReader\n",
    "prop_reader = PropReader(urn, token)"
   ]
  },
  {
   "cell_type": "code",
   "execution_count": 12,
   "metadata": {},
   "outputs": [
    {
     "data": {
      "text/plain": [
       "<aps_toolkit.PropReader.Property at 0x15b91e3cc10>"
      ]
     },
     "execution_count": 12,
     "metadata": {},
     "output_type": "execute_result"
    }
   ],
   "source": [
    "props = prop_reader.enumerate_properties(1)\n",
    "props[0]"
   ]
  },
  {
   "cell_type": "code",
   "execution_count": 13,
   "metadata": {},
   "outputs": [
    {
     "data": {
      "text/plain": [
       "{'Organization Name': 'Exyte Group',\n",
       " 'Organization Description': 'Design, Engineering & Construction',\n",
       " 'Building Name': '',\n",
       " 'Author': '',\n",
       " 'IfcSite GUID': '',\n",
       " 'IfcBuilding GUID': '',\n",
       " 'IfcProject GUID': '',\n",
       " 'Project Issue Date': 'Issue Date',\n",
       " 'Project Status': 'Project Status',\n",
       " 'Client Name': 'Owner',\n",
       " 'Project Address': 'Enter address here',\n",
       " 'Project Name': 'Project Name',\n",
       " 'Project Number': 'Project Number',\n",
       " 'Workset': 'Project Info',\n",
       " 'Edited by': '',\n",
       " 'Route Analysis Settings': ''}"
      ]
     },
     "execution_count": 13,
     "metadata": {},
     "output_type": "execute_result"
    }
   ],
   "source": [
    "prop_reader.get_properties(1)    "
   ]
  },
  {
   "cell_type": "code",
   "execution_count": 14,
   "metadata": {},
   "outputs": [
    {
     "data": {
      "text/plain": [
       "{'Identity Data': [('Organization Name', 'Exyte Group'),\n",
       "  ('Organization Description', 'Design, Engineering & Construction'),\n",
       "  ('Building Name', ''),\n",
       "  ('Author', ''),\n",
       "  ('Workset', 'Project Info'),\n",
       "  ('Edited by', '')],\n",
       " 'IFC Parameters': [('IfcSite GUID', ''),\n",
       "  ('IfcBuilding GUID', ''),\n",
       "  ('IfcProject GUID', '')],\n",
       " 'Other': [('Project Issue Date', 'Issue Date'),\n",
       "  ('Project Status', 'Project Status'),\n",
       "  ('Client Name', 'Owner'),\n",
       "  ('Project Address', 'Enter address here'),\n",
       "  ('Project Name', 'Project Name'),\n",
       "  ('Project Number', 'Project Number')],\n",
       " 'Route Analysis': [('Route Analysis Settings', '')]}"
      ]
     },
     "execution_count": 14,
     "metadata": {},
     "output_type": "execute_result"
    }
   ],
   "source": [
    "prop_reader.get_properties_group_by_category(1)"
   ]
  },
  {
   "cell_type": "code",
   "execution_count": 16,
   "metadata": {},
   "outputs": [
    {
     "data": {
      "text/plain": [
       "2"
      ]
     },
     "execution_count": 16,
     "metadata": {},
     "output_type": "execute_result"
    }
   ],
   "source": [
    "childs = prop_reader.get_children(1)\n",
    "childs[0]"
   ]
  },
  {
   "cell_type": "code",
   "execution_count": 17,
   "metadata": {},
   "outputs": [
    {
     "data": {
      "text/plain": [
       "[]"
      ]
     },
     "execution_count": 17,
     "metadata": {},
     "output_type": "execute_result"
    }
   ],
   "source": [
    "prop_reader.get_parent(1)"
   ]
  },
  {
   "cell_type": "code",
   "execution_count": 18,
   "metadata": {},
   "outputs": [
    {
     "data": {
      "text/plain": [
       "[]"
      ]
     },
     "execution_count": 18,
     "metadata": {},
     "output_type": "execute_result"
    }
   ],
   "source": [
    "prop_reader.get_instance(1)"
   ]
  }
 ],
 "metadata": {
  "kernelspec": {
   "display_name": "Python 3",
   "language": "python",
   "name": "python3"
  },
  "language_info": {
   "codemirror_mode": {
    "name": "ipython",
    "version": 3
   },
   "file_extension": ".py",
   "mimetype": "text/x-python",
   "name": "python",
   "nbconvert_exporter": "python",
   "pygments_lexer": "ipython3",
   "version": "3.11.5"
  }
 },
 "nbformat": 4,
 "nbformat_minor": 2
}
